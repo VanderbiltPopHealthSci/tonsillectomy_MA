{
 "cells": [
  {
   "cell_type": "markdown",
   "metadata": {},
   "source": [
    "# Bleeding Meta-analysis"
   ]
  },
  {
   "cell_type": "code",
   "execution_count": 1,
   "metadata": {
    "collapsed": false
   },
   "outputs": [],
   "source": [
    "%matplotlib inline\n",
    "import numpy as np\n",
    "import pandas as pd\n",
    "import matplotlib.pyplot as plt\n",
    "import seaborn as sns\n",
    "sns.set()\n",
    "\n",
    "rseeds = [20090425, 19700903]"
   ]
  },
  {
   "cell_type": "markdown",
   "metadata": {},
   "source": [
    "## Import and clean data"
   ]
  },
  {
   "cell_type": "code",
   "execution_count": 2,
   "metadata": {
    "collapsed": false,
    "scrolled": true
   },
   "outputs": [
    {
     "data": {
      "text/html": [
       "<div>\n",
       "<table border=\"1\" class=\"dataframe\">\n",
       "  <thead>\n",
       "    <tr style=\"text-align: right;\">\n",
       "      <th></th>\n",
       "      <th>Citation</th>\n",
       "      <th>REFID</th>\n",
       "      <th>Child_Paper</th>\n",
       "      <th>Number_of_Arms</th>\n",
       "      <th>Rx_Grouping</th>\n",
       "      <th>Group_Desc</th>\n",
       "      <th>Intervention_category</th>\n",
       "      <th>Dose</th>\n",
       "      <th>Route</th>\n",
       "      <th>Rx_Durn</th>\n",
       "      <th>outcome_cat</th>\n",
       "      <th>outcome_subcat</th>\n",
       "      <th>New_Bleeding_specify</th>\n",
       "      <th>Outcome_timepoint</th>\n",
       "      <th>N</th>\n",
       "      <th>outcome_obs</th>\n",
       "      <th>outcome_pct</th>\n",
       "    </tr>\n",
       "  </thead>\n",
       "  <tbody>\n",
       "    <tr>\n",
       "      <th>0</th>\n",
       "      <td>K. Murto, C. Lamontagne, C. McFaul, J. MacCorm...</td>\n",
       "      <td>109</td>\n",
       "      <td>NaN</td>\n",
       "      <td>2</td>\n",
       "      <td>G1:</td>\n",
       "      <td>Celecoxib</td>\n",
       "      <td>Preoperative and postoperative NSAID</td>\n",
       "      <td>6 mg/kg and 3 mg/kg post-op</td>\n",
       "      <td>Oral</td>\n",
       "      <td>pre-op and post-op 5 days</td>\n",
       "      <td>Harms</td>\n",
       "      <td>Harms: Post-op bleeding</td>\n",
       "      <td>Undefined bleeding</td>\n",
       "      <td>5 mos post-op</td>\n",
       "      <td>141</td>\n",
       "      <td>8.0</td>\n",
       "      <td>5.7</td>\n",
       "    </tr>\n",
       "    <tr>\n",
       "      <th>1</th>\n",
       "      <td>K. Murto, C. Lamontagne, C. McFaul, J. MacCorm...</td>\n",
       "      <td>109</td>\n",
       "      <td>NaN</td>\n",
       "      <td>2</td>\n",
       "      <td>G2:</td>\n",
       "      <td>Placebo</td>\n",
       "      <td>Placebo</td>\n",
       "      <td>6 mg/kg and 3 mg/kg post-op</td>\n",
       "      <td>Oral</td>\n",
       "      <td>pre-op and post-op 5 days</td>\n",
       "      <td>Harms</td>\n",
       "      <td>Harms: Post-op bleeding</td>\n",
       "      <td>Undefined bleeding</td>\n",
       "      <td>5 mos post-op</td>\n",
       "      <td>141</td>\n",
       "      <td>8.0</td>\n",
       "      <td>5.7</td>\n",
       "    </tr>\n",
       "    <tr>\n",
       "      <th>2</th>\n",
       "      <td>K. Murto, C. Lamontagne, C. McFaul, J. MacCorm...</td>\n",
       "      <td>109</td>\n",
       "      <td>NaN</td>\n",
       "      <td>2</td>\n",
       "      <td>G1:</td>\n",
       "      <td>Celecoxib</td>\n",
       "      <td>Preoperative and postoperative NSAID</td>\n",
       "      <td>6 mg/kg and 3 mg/kg post-op</td>\n",
       "      <td>Oral</td>\n",
       "      <td>pre-op and post-op 5 days</td>\n",
       "      <td>Harms</td>\n",
       "      <td>Harms - Hospital visit for bleeding</td>\n",
       "      <td>Revisit/Readmission-bleeding</td>\n",
       "      <td>5 mos post-op</td>\n",
       "      <td>141</td>\n",
       "      <td>8.0</td>\n",
       "      <td>5.7</td>\n",
       "    </tr>\n",
       "    <tr>\n",
       "      <th>3</th>\n",
       "      <td>K. Murto, C. Lamontagne, C. McFaul, J. MacCorm...</td>\n",
       "      <td>109</td>\n",
       "      <td>NaN</td>\n",
       "      <td>2</td>\n",
       "      <td>G2:</td>\n",
       "      <td>Placebo</td>\n",
       "      <td>Placebo</td>\n",
       "      <td>6 mg/kg and 3 mg/kg post-op</td>\n",
       "      <td>Oral</td>\n",
       "      <td>pre-op and post-op 5 days</td>\n",
       "      <td>Harms</td>\n",
       "      <td>Harms - Hospital visit for bleeding</td>\n",
       "      <td>Revisit/Readmission-bleeding</td>\n",
       "      <td>5 mos post-op</td>\n",
       "      <td>141</td>\n",
       "      <td>7.0</td>\n",
       "      <td>5.0</td>\n",
       "    </tr>\n",
       "    <tr>\n",
       "      <th>4</th>\n",
       "      <td>K. Murto, C. Lamontagne, C. McFaul, J. MacCorm...</td>\n",
       "      <td>109</td>\n",
       "      <td>NaN</td>\n",
       "      <td>2</td>\n",
       "      <td>G1:</td>\n",
       "      <td>Celecoxib</td>\n",
       "      <td>Preoperative and postoperative NSAID</td>\n",
       "      <td>6 mg/kg and 3 mg/kg post-op</td>\n",
       "      <td>Oral</td>\n",
       "      <td>pre-op and post-op 5 days</td>\n",
       "      <td>Harms</td>\n",
       "      <td>Harms-Re-operation for bleeding</td>\n",
       "      <td>Reoperation-bleeding</td>\n",
       "      <td>5 mos post-op</td>\n",
       "      <td>141</td>\n",
       "      <td>3.0</td>\n",
       "      <td>2.1</td>\n",
       "    </tr>\n",
       "  </tbody>\n",
       "</table>\n",
       "</div>"
      ],
      "text/plain": [
       "                                            Citation REFID  Child_Paper  \\\n",
       "0  K. Murto, C. Lamontagne, C. McFaul, J. MacCorm...   109          NaN   \n",
       "1  K. Murto, C. Lamontagne, C. McFaul, J. MacCorm...   109          NaN   \n",
       "2  K. Murto, C. Lamontagne, C. McFaul, J. MacCorm...   109          NaN   \n",
       "3  K. Murto, C. Lamontagne, C. McFaul, J. MacCorm...   109          NaN   \n",
       "4  K. Murto, C. Lamontagne, C. McFaul, J. MacCorm...   109          NaN   \n",
       "\n",
       "   Number_of_Arms Rx_Grouping Group_Desc  \\\n",
       "0               2         G1:  Celecoxib   \n",
       "1               2         G2:    Placebo   \n",
       "2               2         G1:  Celecoxib   \n",
       "3               2         G2:    Placebo   \n",
       "4               2         G1:  Celecoxib   \n",
       "\n",
       "                  Intervention_category                         Dose Route  \\\n",
       "0  Preoperative and postoperative NSAID  6 mg/kg and 3 mg/kg post-op  Oral   \n",
       "1                               Placebo  6 mg/kg and 3 mg/kg post-op  Oral   \n",
       "2  Preoperative and postoperative NSAID  6 mg/kg and 3 mg/kg post-op  Oral   \n",
       "3                               Placebo  6 mg/kg and 3 mg/kg post-op  Oral   \n",
       "4  Preoperative and postoperative NSAID  6 mg/kg and 3 mg/kg post-op  Oral   \n",
       "\n",
       "                     Rx_Durn outcome_cat                       outcome_subcat  \\\n",
       "0  pre-op and post-op 5 days       Harms              Harms: Post-op bleeding   \n",
       "1  pre-op and post-op 5 days       Harms              Harms: Post-op bleeding   \n",
       "2  pre-op and post-op 5 days       Harms  Harms - Hospital visit for bleeding   \n",
       "3  pre-op and post-op 5 days       Harms  Harms - Hospital visit for bleeding   \n",
       "4  pre-op and post-op 5 days       Harms      Harms-Re-operation for bleeding   \n",
       "\n",
       "           New_Bleeding_specify Outcome_timepoint    N  outcome_obs  \\\n",
       "0            Undefined bleeding     5 mos post-op  141          8.0   \n",
       "1            Undefined bleeding     5 mos post-op  141          8.0   \n",
       "2  Revisit/Readmission-bleeding     5 mos post-op  141          8.0   \n",
       "3  Revisit/Readmission-bleeding     5 mos post-op  141          7.0   \n",
       "4          Reoperation-bleeding     5 mos post-op  141          3.0   \n",
       "\n",
       "   outcome_pct  \n",
       "0          5.7  \n",
       "1          5.7  \n",
       "2          5.7  \n",
       "3          5.0  \n",
       "4          2.1  "
      ]
     },
     "execution_count": 2,
     "metadata": {},
     "output_type": "execute_result"
    }
   ],
   "source": [
    "data_file = 'data/Tonsillectomy_Master_Bleeding_Data_Comparative_studies_07212016_JKSK.xlsx'\n",
    "\n",
    "raw_data = (pd.read_excel(data_file, sheetname='Bleeding all Outcomes',\n",
    "                         na_values=['null', 'ND', 'NR'])\n",
    "            .rename(columns={'OUTC_Main_CATG':'outcome_cat',\n",
    "                            \"Outc_SUB_CATG\":'outcome_subcat',\n",
    "                            'OUTCOME_SAMPLE_SIZE': 'N',\n",
    "                             'Outcome_count': 'outcome_obs',\n",
    "                            'Outcome_%': 'outcome_pct'}))\n",
    "\n",
    "raw_data.head()"
   ]
  },
  {
   "cell_type": "code",
   "execution_count": 3,
   "metadata": {
    "collapsed": true
   },
   "outputs": [],
   "source": [
    "exclude = 2170,3772,7389"
   ]
  },
  {
   "cell_type": "code",
   "execution_count": 4,
   "metadata": {
    "collapsed": false,
    "scrolled": true
   },
   "outputs": [],
   "source": [
    "raw_data['Intervention_category'] = raw_data.Intervention_category.str.lower().str.strip()[~raw_data.REFID.isin(exclude)]\n",
    "clean_data = (raw_data.replace({'Intervention_category':{'saline':'control',\n",
    "                        'control (no rx)':'control',\n",
    "                        'control (no dexamethasone)':'control',\n",
    "                        'no antibiotics':'control',\n",
    "                        'no steroid':'control',\n",
    "                        'placebo':'control'},\n",
    "                        'REFID':{'11238_2480_2506_3102':'11238_2480_2506', \n",
    "                                  '1843_1437':'1437_1843', \n",
    "                                  '2071_362':'362_2071'}})\n",
    "              .assign(study_id=raw_data.REFID.astype(str)))"
   ]
  },
  {
   "cell_type": "code",
   "execution_count": 5,
   "metadata": {
    "collapsed": false
   },
   "outputs": [],
   "source": [
    "risk_of_bias = (pd.read_excel(data_file, sheetname='ROB_Country_comparative',\n",
    "                         na_values=['null', 'ND'])[['Refid', 'RoB']]\n",
    "                )"
   ]
  },
  {
   "cell_type": "code",
   "execution_count": 6,
   "metadata": {
    "collapsed": false
   },
   "outputs": [
    {
     "data": {
      "text/plain": [
       "array([2170, 3772, 7389, '11238_2480_2506', '1437_1843', '362_2071',\n",
       "       '3641_a + \\n3641_b', '5617_a + 5617_b',\n",
       "       '806_534_359_164_195_120_205_11584'], dtype=object)"
      ]
     },
     "execution_count": 6,
     "metadata": {},
     "output_type": "execute_result"
    }
   ],
   "source": [
    "clean_data.REFID[~clean_data.REFID.astype(str).isin(risk_of_bias.Refid.astype(str).unique())].unique()"
   ]
  },
  {
   "cell_type": "code",
   "execution_count": 7,
   "metadata": {
    "collapsed": false
   },
   "outputs": [],
   "source": [
    "merged_data = clean_data.merge(risk_of_bias.assign(study_id=risk_of_bias.Refid.astype(str)), \n",
    "                               on='study_id')"
   ]
  },
  {
   "cell_type": "markdown",
   "metadata": {},
   "source": [
    "Counts of bleeding outcomes by major category"
   ]
  },
  {
   "cell_type": "code",
   "execution_count": 8,
   "metadata": {
    "collapsed": false
   },
   "outputs": [
    {
     "data": {
      "text/plain": [
       "Reoperation-bleeding            179\n",
       "Revisit/Readmission-bleeding    158\n",
       "Secondary bleeding              127\n",
       "Primary bleeding                126\n",
       "Undefined bleeding              115\n",
       "Unspecified post-op bleeding      5\n",
       "Name: New_Bleeding_specify, dtype: int64"
      ]
     },
     "execution_count": 8,
     "metadata": {},
     "output_type": "execute_result"
    }
   ],
   "source": [
    "merged_data.New_Bleeding_specify.value_counts()"
   ]
  },
  {
   "cell_type": "markdown",
   "metadata": {},
   "source": [
    "Here is the full list of intervention categories. For the purposes of this analysis, I will just use the ones with \"total\" or \"partial\" in the name, and take them to be surgical interventions."
   ]
  },
  {
   "cell_type": "code",
   "execution_count": 9,
   "metadata": {
    "collapsed": false
   },
   "outputs": [
    {
     "data": {
      "text/plain": [
       "total cold                                                132\n",
       "total electrocautery                                      115\n",
       "total coblation                                            68\n",
       "control                                                    58\n",
       "perioperative steroid                                      53\n",
       "partial coblation                                          27\n",
       "total harmonic scalpel                                     27\n",
       "total molecular resonance                                  25\n",
       "perioperative nsaid                                        18\n",
       "partial laser                                              15\n",
       "partial microdebrider                                      15\n",
       "total thermal welding                                      14\n",
       "total laser                                                13\n",
       "partial cold                                               13\n",
       "postoperative analgesic                                    10\n",
       "total tonsillectomy - unspecified                           9\n",
       "postoperative antibiotic                                    8\n",
       "no surgery                                                  5\n",
       "postoperative nsaid                                         5\n",
       "perioperative anesthetic                                    5\n",
       "total tonsillectomy                                         4\n",
       "partial laser adenotonsillectomy                            4\n",
       "postoperative steroid                                       4\n",
       "total adenotonsillectomy - unspecified                      4\n",
       "partial tonsillectomy                                       4\n",
       "control (no antibiotic)                                     4\n",
       "partial microdebrider adenotonsillectomy                    4\n",
       "total electrocautery + total cold                           4\n",
       "perioperative local anesthetic                              4\n",
       "total electrocautery adenotonsillectomy                     4\n",
       "medical treatment                                           4\n",
       "postoperative antibiotic with beta lactamase inhibitor      3\n",
       "perioperative opiate analgesic                              3\n",
       "preoperative and postoperative nsaid                        3\n",
       "total not specified                                         3\n",
       "total microdebrider                                         3\n",
       "perioperative opioid analgesic                              3\n",
       "salvia officinalis oral rinse                               3\n",
       "perioperative analgesic                                     2\n",
       "partial electrocautery                                      2\n",
       "preoperative nsaid                                          2\n",
       "preoperative analgesic                                      2\n",
       "cpap                                                        1\n",
       "total tonsillectomy - coblation                             1\n",
       "Name: Intervention_category, dtype: int64"
      ]
     },
     "execution_count": 9,
     "metadata": {},
     "output_type": "execute_result"
    }
   ],
   "source": [
    "merged_data.Intervention_category.value_counts()"
   ]
  },
  {
   "cell_type": "markdown",
   "metadata": {},
   "source": [
    "Here is the surgery filter:"
   ]
  },
  {
   "cell_type": "code",
   "execution_count": 10,
   "metadata": {
    "collapsed": false
   },
   "outputs": [],
   "source": [
    "surgery_data = merged_data[merged_data.Intervention_category.str.contains('total') \n",
    "                   | merged_data.Intervention_category.str.contains('partial')].dropna(subset=['outcome_obs']).copy()"
   ]
  },
  {
   "cell_type": "markdown",
   "metadata": {},
   "source": [
    "List of interventions after filtering. Note that there were a lot of papers that did not report bleeding outcomes, so the numbers dropped significantly. "
   ]
  },
  {
   "cell_type": "code",
   "execution_count": 11,
   "metadata": {
    "collapsed": false
   },
   "outputs": [
    {
     "data": {
      "text/plain": [
       "total cold                                  81\n",
       "total electrocautery                        66\n",
       "total coblation                             35\n",
       "total harmonic scalpel                      22\n",
       "partial coblation                           15\n",
       "total molecular resonance                   15\n",
       "partial laser                               12\n",
       "total thermal welding                       12\n",
       "total tonsillectomy - unspecified            7\n",
       "partial microdebrider                        6\n",
       "partial cold                                 6\n",
       "total laser                                  6\n",
       "total electrocautery adenotonsillectomy      3\n",
       "partial laser adenotonsillectomy             3\n",
       "partial microdebrider adenotonsillectomy     3\n",
       "total not specified                          2\n",
       "total tonsillectomy                          2\n",
       "partial tonsillectomy                        2\n",
       "total adenotonsillectomy - unspecified       1\n",
       "total electrocautery + total cold            1\n",
       "total tonsillectomy - coblation              1\n",
       "total microdebrider                          1\n",
       "partial electrocautery                       1\n",
       "Name: Intervention_category, dtype: int64"
      ]
     },
     "execution_count": 11,
     "metadata": {},
     "output_type": "execute_result"
    }
   ],
   "source": [
    "surgery_data.Intervention_category.value_counts()"
   ]
  },
  {
   "cell_type": "markdown",
   "metadata": {},
   "source": [
    "Indicator for partial"
   ]
  },
  {
   "cell_type": "code",
   "execution_count": 12,
   "metadata": {
    "collapsed": false
   },
   "outputs": [],
   "source": [
    "surgery_data['partial'] = surgery_data.Intervention_category.str.contains('partial')"
   ]
  },
  {
   "cell_type": "markdown",
   "metadata": {},
   "source": [
    "Generate column for technique"
   ]
  },
  {
   "cell_type": "code",
   "execution_count": 13,
   "metadata": {
    "collapsed": false
   },
   "outputs": [],
   "source": [
    "surgery_data['technique'] = (surgery_data.Intervention_category\n",
    "        .apply(lambda x: ' '.join(x.split(' ')[1:]))\n",
    "        .replace({'tonsillectomy - coblation':'coblation'}))\n",
    "\n",
    "surgery_data = surgery_data[~(surgery_data.technique.str.contains('specified')|\n",
    "                             surgery_data.technique.str.contains('\\+'))]"
   ]
  },
  {
   "cell_type": "code",
   "execution_count": 14,
   "metadata": {
    "collapsed": false,
    "scrolled": true
   },
   "outputs": [
    {
     "data": {
      "text/plain": [
       "cold                                 87\n",
       "electrocautery                       67\n",
       "coblation                            51\n",
       "harmonic scalpel                     22\n",
       "laser                                18\n",
       "molecular resonance                  15\n",
       "thermal welding                      12\n",
       "microdebrider                         7\n",
       "tonsillectomy                         4\n",
       "microdebrider adenotonsillectomy      3\n",
       "laser adenotonsillectomy              3\n",
       "electrocautery adenotonsillectomy     3\n",
       "Name: technique, dtype: int64"
      ]
     },
     "execution_count": 14,
     "metadata": {},
     "output_type": "execute_result"
    }
   ],
   "source": [
    "surgery_data.technique.value_counts()"
   ]
  },
  {
   "cell_type": "markdown",
   "metadata": {},
   "source": [
    "We will analyze the first 7 techniques"
   ]
  },
  {
   "cell_type": "code",
   "execution_count": 15,
   "metadata": {
    "collapsed": false
   },
   "outputs": [],
   "source": [
    "technique_includes = surgery_data.technique.value_counts().index.tolist()[:7]\n",
    "surgery_data = surgery_data[surgery_data.technique.isin(technique_includes)]"
   ]
  },
  {
   "cell_type": "code",
   "execution_count": 16,
   "metadata": {
    "collapsed": false,
    "scrolled": true
   },
   "outputs": [
    {
     "data": {
      "text/plain": [
       "['cold',\n",
       " 'electrocautery',\n",
       " 'coblation',\n",
       " 'harmonic scalpel',\n",
       " 'laser',\n",
       " 'molecular resonance',\n",
       " 'thermal welding']"
      ]
     },
     "execution_count": 16,
     "metadata": {},
     "output_type": "execute_result"
    }
   ],
   "source": [
    "technique_includes"
   ]
  },
  {
   "cell_type": "code",
   "execution_count": 17,
   "metadata": {
    "collapsed": false
   },
   "outputs": [
    {
     "data": {
      "text/plain": [
       "moderate    140\n",
       "low          84\n",
       "high         48\n",
       "Name: RoB, dtype: int64"
      ]
     },
     "execution_count": 17,
     "metadata": {},
     "output_type": "execute_result"
    }
   ],
   "source": [
    "surgery_data.RoB.value_counts()"
   ]
  },
  {
   "cell_type": "code",
   "execution_count": 18,
   "metadata": {
    "collapsed": true
   },
   "outputs": [],
   "source": [
    "surgery_data['high_bias'] = (surgery_data.RoB=='high').astype(int)"
   ]
  },
  {
   "cell_type": "markdown",
   "metadata": {},
   "source": [
    "Subsets of data according to bleeding outcome"
   ]
  },
  {
   "cell_type": "code",
   "execution_count": 19,
   "metadata": {
    "collapsed": false
   },
   "outputs": [],
   "source": [
    "readmission_bleeding_data = surgery_data[surgery_data.New_Bleeding_specify=='Revisit/Readmission-bleeding']\n",
    "reoperation_bleeding_data = surgery_data[surgery_data.New_Bleeding_specify=='Reoperation-bleeding']\n",
    "primary_bleeding_data = surgery_data[surgery_data.New_Bleeding_specify=='Primary bleeding']\n",
    "secondary_bleeding_data = surgery_data[surgery_data.New_Bleeding_specify=='Secondary bleeding']"
   ]
  },
  {
   "cell_type": "code",
   "execution_count": 20,
   "metadata": {
    "collapsed": false
   },
   "outputs": [
    {
     "data": {
      "text/plain": [
       "((30,), (62, 23))"
      ]
     },
     "execution_count": 20,
     "metadata": {},
     "output_type": "execute_result"
    }
   ],
   "source": [
    "secondary_bleeding_data.Refid.unique().shape, secondary_bleeding_data.shape"
   ]
  },
  {
   "cell_type": "code",
   "execution_count": 21,
   "metadata": {
    "collapsed": false
   },
   "outputs": [],
   "source": [
    "partial_vc = (surgery_data.assign(removal_type=surgery_data.partial.replace({True: 'partial',\n",
    "                                                                           False: 'total'}))\n",
    "                  .groupby('REFID').removal_type.value_counts()).copy()"
   ]
  },
  {
   "cell_type": "code",
   "execution_count": 22,
   "metadata": {
    "collapsed": false
   },
   "outputs": [],
   "source": [
    "pd.crosstab(surgery_data.Refid, \n",
    "            surgery_data.assign(removal_type=surgery_data.partial.replace({True: 'partial',\n",
    "                                                                           False: 'total'})).removal_type).to_csv('bleeding_counts.csv')"
   ]
  },
  {
   "cell_type": "markdown",
   "metadata": {},
   "source": [
    "## Model Specification\n",
    "\n",
    "We implemented a mixed-effects, arm-based meta-analysis to assess the influence of different surgical procedures as well as the effect of partial vs. full removal procedures on the occurrence of bleeding outcomes following tonsillectomy. The occurrence of bleeding events in most studies are reported as counts, and can therefore be modeled as a binomial response, with inference derived from estimates of the probability of a bleeding event. \n",
    "\n",
    "$$x_{ki} \\sim \\text{Binomial}(n_i, \\pi_{ki})$$\n",
    "\n",
    "where $\\pi_{ki}$ is the probability of a bleeding event for intervention $k$ for study $i$. This probability is modeled hierarchically as a logit-linear model with treatment effects and a study-specific random effect as follows:\n",
    "\n",
    "$$\\text{logit}(p_{ki}) = \\theta_k + \\beta I(\\text{partial}_k) + \\alpha I(\\text{high RoB}_i) + \\epsilon_i$$\n",
    "\n",
    "here, $\\theta_k$ is a surgery-specific mean and $\\beta$ the effect of a partial removal when $\\text{partial}_k$ is true, while $\\epsilon_i$ and $\\alpha_i$ are a study random effect and a high risk of bias effect, respectively, that  correspond to study $i$.\n",
    "\n",
    "Logit-linear model parameters were given zero-mean normal priors with $\\sigma=5$, which correspond to diffuse information when transformed to the inverse-logit scale. The study random effect was assumed normally distributed with an unknown standard deviation that was estimated from data, with a broad half-Cauchy prior distribution.\n",
    "\n",
    "This model was fit to each of four bleeding outcome data: re-operation bleeding, re-admission bleeding, primary bleeding, and secondary bleeding.\n",
    "\n",
    "The models were fit using the No U-turn Sampler (NUTS, Hoffman and Gelman 2014), a self-tuning, gradient-based Markov chaine Monte Carlo (MCMC) algorithm. Models were checked for convergence using the Gelman-Rubin statistic (Gelman and Rubin 1992) and for goodness of fit using posterior predictive checks (Gelman et al. 2013). None of the models showed evidence for lack of convergence or fit using these critera."
   ]
  },
  {
   "cell_type": "code",
   "execution_count": 23,
   "metadata": {
    "collapsed": false
   },
   "outputs": [],
   "source": [
    "from pymc3 import (NUTS, sample, Model, Deterministic, find_MAP,\n",
    "                  Binomial, Normal, HalfCauchy, advi,\n",
    "                  traceplot, summary, forestplot, invlogit)\n",
    "import theano.tensor as tt"
   ]
  },
  {
   "cell_type": "code",
   "execution_count": 24,
   "metadata": {
    "collapsed": true
   },
   "outputs": [],
   "source": [
    "def specify_model(data):\n",
    "    \n",
    "    N, REFID, events, partial, high_bias = data[['N', 'REFID', 'outcome_obs', 'partial', 'high_bias']].values.T\n",
    "    \n",
    "    refid_list = list(set(REFID))\n",
    "    study_id = data.REFID.apply(lambda i: refid_list.index(i)).values\n",
    "    n_studies = len(refid_list)\n",
    "    \n",
    "    technique = data.technique.apply(lambda i: technique_includes.index(i)).values\n",
    "    n_tech = len(technique_includes)\n",
    "    \n",
    "    assert not np.isnan(N.astype(int)).any()\n",
    "    assert not np.isnan(events.astype(int)).any()\n",
    "    \n",
    "    with Model() as model:\n",
    "        \n",
    "        # Mean for surgery interventions\n",
    "        θ = Normal('θ', 0, sd=5, shape=n_tech, testval=np.ones(n_tech)*-1)\n",
    "        # Effect of partial intervention\n",
    "        β = Normal('β', 0, sd=5, testval=0)\n",
    "        # Effect of high bias\n",
    "        ϕ = Normal('ϕ', 0, sd=5, testval=0)\n",
    "\n",
    "        # Study random effect\n",
    "        σ = HalfCauchy('σ', 5, testval=1)\n",
    "        ϵ = Normal('ϵ', 0, sd=σ, shape=n_studies, testval=np.zeros(n_studies))\n",
    "\n",
    "        # Transform to probability scale\n",
    "        π = invlogit(θ[technique] + β*partial.astype(int) + ϕ*high_bias.astype(int) + ϵ[study_id])\n",
    "\n",
    "        # Mean probabilities\n",
    "        π_total = Deterministic('π_total', invlogit(θ))\n",
    "        π_partial = Deterministic('π_partial', invlogit(θ + β))\n",
    "\n",
    "        # Data likelihood\n",
    "        obs = Binomial('obs', N.astype(int), π, observed=events.astype(int))\n",
    "\n",
    "    return model"
   ]
  },
  {
   "cell_type": "code",
   "execution_count": 25,
   "metadata": {
    "collapsed": false
   },
   "outputs": [
    {
     "name": "stdout",
     "output_type": "stream",
     "text": [
      "Applied log-transform to σ and added transformed σ_log_ to model.\n"
     ]
    }
   ],
   "source": [
    "reoperation_model = specify_model(reoperation_bleeding_data)"
   ]
  },
  {
   "cell_type": "markdown",
   "metadata": {},
   "source": [
    "Model run using Hamiltonian Monte Carlo"
   ]
  },
  {
   "cell_type": "code",
   "execution_count": 26,
   "metadata": {
    "collapsed": false
   },
   "outputs": [
    {
     "name": "stdout",
     "output_type": "stream",
     "text": [
      "Assigned NUTS to θ\n",
      "Assigned NUTS to β\n",
      "Assigned NUTS to ϕ\n",
      "Assigned NUTS to σ_log_\n",
      "Assigned NUTS to ϵ\n",
      " [-----------------100%-----------------] 2000 of 2000 complete in 271.5 sec"
     ]
    }
   ],
   "source": [
    "with reoperation_model:\n",
    "    reoperation_trace = sample(2000, njobs=2, random_seed=rseeds)"
   ]
  },
  {
   "cell_type": "code",
   "execution_count": 27,
   "metadata": {
    "collapsed": false
   },
   "outputs": [
    {
     "name": "stdout",
     "output_type": "stream",
     "text": [
      "Applied log-transform to σ and added transformed σ_log_ to model.\n"
     ]
    }
   ],
   "source": [
    "readmission_model = specify_model(readmission_bleeding_data)"
   ]
  },
  {
   "cell_type": "code",
   "execution_count": 28,
   "metadata": {
    "collapsed": false
   },
   "outputs": [
    {
     "name": "stdout",
     "output_type": "stream",
     "text": [
      "Assigned NUTS to θ\n",
      "Assigned NUTS to β\n",
      "Assigned NUTS to ϕ\n",
      "Assigned NUTS to σ_log_\n",
      "Assigned NUTS to ϵ\n",
      " [-----------------100%-----------------] 2001 of 2000 complete in 242.2 sec"
     ]
    }
   ],
   "source": [
    "with readmission_model:\n",
    "    readmission_trace = sample(2000, njobs=2, random_seed=rseeds)"
   ]
  },
  {
   "cell_type": "code",
   "execution_count": null,
   "metadata": {
    "collapsed": false
   },
   "outputs": [
    {
     "name": "stdout",
     "output_type": "stream",
     "text": [
      "Applied log-transform to σ and added transformed σ_log_ to model.\n"
     ]
    }
   ],
   "source": [
    "primary_model = specify_model(primary_bleeding_data)"
   ]
  },
  {
   "cell_type": "code",
   "execution_count": null,
   "metadata": {
    "collapsed": false
   },
   "outputs": [
    {
     "name": "stdout",
     "output_type": "stream",
     "text": [
      "Assigned NUTS to θ\n",
      "Assigned NUTS to β\n",
      "Assigned NUTS to ϕ\n",
      "Assigned NUTS to σ_log_\n",
      "Assigned NUTS to ϵ\n",
      " [-----            14%                  ] 298 of 2000 complete in 77.7 sec"
     ]
    }
   ],
   "source": [
    "with primary_model:\n",
    "    primary_trace = sample(2000, njobs=2, random_seed=rseeds)"
   ]
  },
  {
   "cell_type": "code",
   "execution_count": null,
   "metadata": {
    "collapsed": false
   },
   "outputs": [],
   "source": [
    "secondary_model = specify_model(secondary_bleeding_data)"
   ]
  },
  {
   "cell_type": "code",
   "execution_count": null,
   "metadata": {
    "collapsed": false
   },
   "outputs": [],
   "source": [
    "with secondary_model:\n",
    "    secondary_trace = sample(2000, njobs=2, random_seed=rseeds)"
   ]
  },
  {
   "cell_type": "markdown",
   "metadata": {},
   "source": [
    "## Reoperation Bleeding Results"
   ]
  },
  {
   "cell_type": "markdown",
   "metadata": {},
   "source": [
    "Posterior traces and histograms of surgical technique bleeding estimates for partial (top plot) and total (bottom plot) removal."
   ]
  },
  {
   "cell_type": "code",
   "execution_count": null,
   "metadata": {
    "collapsed": false
   },
   "outputs": [],
   "source": [
    "forestplot(reoperation_trace[1000:], varnames=['π_partial'], ylabels=technique_includes, \n",
    "           main='Partial removal', xtitle='Probability of re-operation bleeding');"
   ]
  },
  {
   "cell_type": "code",
   "execution_count": null,
   "metadata": {
    "collapsed": false
   },
   "outputs": [],
   "source": [
    "summary(reoperation_trace[1000:], varnames=['π_total', 'π_partial'])"
   ]
  },
  {
   "cell_type": "markdown",
   "metadata": {},
   "source": [
    "Estimate of high risk of bias effect, which includes zero within the high density revion of the posterior distribution, suggesting no systematic influence of papers deemed to have high risk of bias."
   ]
  },
  {
   "cell_type": "code",
   "execution_count": null,
   "metadata": {
    "collapsed": false
   },
   "outputs": [],
   "source": [
    "traceplot(reoperation_trace, varnames=['ϕ'])"
   ]
  },
  {
   "cell_type": "code",
   "execution_count": null,
   "metadata": {
    "collapsed": false
   },
   "outputs": [],
   "source": [
    "summary(reoperation_trace, varnames=['ϕ'])"
   ]
  },
  {
   "cell_type": "markdown",
   "metadata": {},
   "source": [
    "## Readmission Bleeding Results\n",
    "\n",
    "Posterior traces and histograms of surgical technique bleeding estimates for partial (top plot) and total (bottom plot) removal."
   ]
  },
  {
   "cell_type": "code",
   "execution_count": null,
   "metadata": {
    "collapsed": false
   },
   "outputs": [],
   "source": [
    "forestplot(readmission_trace[1000:], varnames=['π_partial'], ylabels=technique_includes, \n",
    "           main='Partial removal', xtitle='Probability of re-admission bleeding');"
   ]
  },
  {
   "cell_type": "code",
   "execution_count": null,
   "metadata": {
    "collapsed": false
   },
   "outputs": [],
   "source": [
    "forestplot(readmission_trace[1000:], varnames=['π_total'], ylabels=technique_includes, \n",
    "           main='Total removal', xtitle='Probability of re-admission bleeding');"
   ]
  },
  {
   "cell_type": "code",
   "execution_count": null,
   "metadata": {
    "collapsed": false
   },
   "outputs": [],
   "source": [
    "summary(readmission_trace[1000:], varnames=['π_total', 'π_partial'])"
   ]
  },
  {
   "cell_type": "markdown",
   "metadata": {},
   "source": [
    "Estimate of high risk of bias effect, which includes zero within the high density revion of the posterior distribution, suggesting no systematic influence of papers deemed to have high risk of bias."
   ]
  },
  {
   "cell_type": "code",
   "execution_count": null,
   "metadata": {
    "collapsed": false
   },
   "outputs": [],
   "source": [
    "traceplot(readmission_trace, varnames=['ϕ'])"
   ]
  },
  {
   "cell_type": "code",
   "execution_count": null,
   "metadata": {
    "collapsed": false
   },
   "outputs": [],
   "source": [
    "summary(readmission_trace, varnames=['ϕ'])"
   ]
  },
  {
   "cell_type": "markdown",
   "metadata": {},
   "source": [
    "## Primary Bleeding Results\n",
    "\n",
    "Posterior traces and histograms of surgical technique bleeding estimates for partial (top plot) and total (bottom plot) removal."
   ]
  },
  {
   "cell_type": "code",
   "execution_count": null,
   "metadata": {
    "collapsed": false
   },
   "outputs": [],
   "source": [
    "forestplot(primary_trace[1000:], varnames=['π_partial'], ylabels=technique_includes, \n",
    "           main='Partial removal', xtitle='Probability of primary bleeding');"
   ]
  },
  {
   "cell_type": "code",
   "execution_count": null,
   "metadata": {
    "collapsed": false
   },
   "outputs": [],
   "source": [
    "forestplot(primary_trace[1000:], varnames=['π_total'], ylabels=technique_includes, \n",
    "           main='Total removal', xtitle='Probability of primary bleeding');"
   ]
  },
  {
   "cell_type": "code",
   "execution_count": null,
   "metadata": {
    "collapsed": false
   },
   "outputs": [],
   "source": [
    "summary(primary_trace[1000:], varnames=['π_total', 'π_partial'])"
   ]
  },
  {
   "cell_type": "markdown",
   "metadata": {},
   "source": [
    "Estimate of high risk of bias effect, which includes zero within the high density revion of the posterior distribution, suggesting no systematic influence of papers deemed to have high risk of bias."
   ]
  },
  {
   "cell_type": "code",
   "execution_count": null,
   "metadata": {
    "collapsed": false
   },
   "outputs": [],
   "source": [
    "traceplot(primary_trace, varnames=['ϕ'])"
   ]
  },
  {
   "cell_type": "code",
   "execution_count": null,
   "metadata": {
    "collapsed": false
   },
   "outputs": [],
   "source": [
    "summary(primary_trace, varnames=['ϕ'])"
   ]
  },
  {
   "cell_type": "markdown",
   "metadata": {},
   "source": [
    "## Secondary Bleeding Results\n",
    "\n",
    "Posterior traces and histograms of surgical technique bleeding estimates for partial (top plot) and total (bottom plot) removal."
   ]
  },
  {
   "cell_type": "code",
   "execution_count": null,
   "metadata": {
    "collapsed": false
   },
   "outputs": [],
   "source": [
    "forestplot(secondary_trace[1000:], varnames=['π_partial'], ylabels=technique_includes, \n",
    "           main='Partial removal', xtitle='Probability of secondary bleeding');"
   ]
  },
  {
   "cell_type": "code",
   "execution_count": null,
   "metadata": {
    "collapsed": false
   },
   "outputs": [],
   "source": [
    "forestplot(secondary_trace[1000:], varnames=['π_total'], ylabels=technique_includes, \n",
    "           main='Total removal', xtitle='Probability of secondary bleeding');"
   ]
  },
  {
   "cell_type": "code",
   "execution_count": null,
   "metadata": {
    "collapsed": false
   },
   "outputs": [],
   "source": [
    "summary(secondary_trace[1000:], varnames=['π_total', 'π_partial'])"
   ]
  },
  {
   "cell_type": "markdown",
   "metadata": {},
   "source": [
    "Estimate of high risk of bias effect, which includes zero within the high density revion of the posterior distribution, suggesting no systematic influence of papers deemed to have high risk of bias."
   ]
  },
  {
   "cell_type": "code",
   "execution_count": null,
   "metadata": {
    "collapsed": false
   },
   "outputs": [],
   "source": [
    "traceplot(secondary_trace, varnames=['ϕ'])"
   ]
  },
  {
   "cell_type": "markdown",
   "metadata": {},
   "source": [
    "Estimate of high bias effect"
   ]
  },
  {
   "cell_type": "code",
   "execution_count": null,
   "metadata": {
    "collapsed": false
   },
   "outputs": [],
   "source": [
    "summary(secondary_trace, varnames=['ϕ'])"
   ]
  },
  {
   "cell_type": "markdown",
   "metadata": {},
   "source": [
    "## Goodness of fit\n",
    "\n",
    "Plots of Bayesian p-values. An excess of very large or very small values may suggest lack of fit."
   ]
  },
  {
   "cell_type": "code",
   "execution_count": null,
   "metadata": {
    "collapsed": false
   },
   "outputs": [],
   "source": [
    "from pymc3 import sample_ppc\n",
    "\n",
    "ppc = [sample_ppc(trace, model=model, samples=500) for trace,model in ([reoperation_trace, reoperation_model],\n",
    "                                                                      [readmission_trace, readmission_model],\n",
    "                                                                      [primary_trace, primary_model],\n",
    "                                                                      [secondary_trace, secondary_model])]"
   ]
  },
  {
   "cell_type": "code",
   "execution_count": null,
   "metadata": {
    "collapsed": true
   },
   "outputs": [],
   "source": [
    "bayes_p = lambda sim, true: [(s > t).mean() for s,t in zip(sim, true)]"
   ]
  },
  {
   "cell_type": "code",
   "execution_count": null,
   "metadata": {
    "collapsed": true
   },
   "outputs": [],
   "source": [
    "obs_sim = [p['obs'] for p in ppc]\n",
    "p_values = [bayes_p(simdata, model.obs.tag.test_value) for simdata,model in zip(obs_sim, \n",
    "                                        [reoperation_model, readmission_model, primary_model, secondary_model])]  "
   ]
  },
  {
   "cell_type": "code",
   "execution_count": null,
   "metadata": {
    "collapsed": false
   },
   "outputs": [],
   "source": [
    "dfp = pd.DataFrame(p_values).T\n",
    "dfp.columns = 'Reoperation', 'Readmission', 'Primary', 'Secondary'\n",
    "dfp.hist(sharex=True, bins=15);"
   ]
  },
  {
   "cell_type": "markdown",
   "metadata": {},
   "source": [
    "# References\n",
    "\n",
    "1.\tHoffman MD, Gelman A. The No-U-turn sampler: adaptively setting path lengths in Hamiltonian Monte Carlo. The Journal of Machine Learning Research. 2014;15(1):1593-1623.\n",
    "2.\tGelman A, Rubin DB. Inference from iterative simulation using multiple sequences. Statist Sci. 1992:457-472.\n",
    "3.\tGelman A, Carlin JB, Stern HS, Dunson DB, Vehtari A, Rubin DB. Bayesian Data Analysis, Third Edition. CRC Press; 2013."
   ]
  }
 ],
 "metadata": {
  "anaconda-cloud": {},
  "kernelspec": {
   "display_name": "Python 3",
   "language": "python",
   "name": "python3"
  },
  "language_info": {
   "codemirror_mode": {
    "name": "ipython",
    "version": 3
   },
   "file_extension": ".py",
   "mimetype": "text/x-python",
   "name": "python",
   "nbconvert_exporter": "python",
   "pygments_lexer": "ipython3",
   "version": "3.5.2"
  },
  "nav_menu": {},
  "toc": {
   "navigate_menu": true,
   "number_sections": true,
   "sideBar": true,
   "threshold": 6,
   "toc_cell": false,
   "toc_section_display": "block",
   "toc_window_display": false
  }
 },
 "nbformat": 4,
 "nbformat_minor": 1
}
