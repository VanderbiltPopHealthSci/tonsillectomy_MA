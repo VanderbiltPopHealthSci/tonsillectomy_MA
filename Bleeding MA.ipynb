{
 "cells": [
  {
   "cell_type": "code",
   "execution_count": 20,
   "metadata": {
    "collapsed": true
   },
   "outputs": [],
   "source": [
    "%matplotlib inline\n",
    "import numpy as np\n",
    "import pandas as pd\n",
    "import matplotlib.pyplot as plt\n",
    "import seaborn as sns\n",
    "sns.set()\n",
    "\n",
    "rseed = 20090425"
   ]
  },
  {
   "cell_type": "markdown",
   "metadata": {},
   "source": [
    "## Import and clean data"
   ]
  },
  {
   "cell_type": "code",
   "execution_count": 2,
   "metadata": {
    "collapsed": false
   },
   "outputs": [
    {
     "data": {
      "text/html": [
       "<div>\n",
       "<table border=\"1\" class=\"dataframe\">\n",
       "  <thead>\n",
       "    <tr style=\"text-align: right;\">\n",
       "      <th></th>\n",
       "      <th>Citation</th>\n",
       "      <th>REFID</th>\n",
       "      <th>Child Paper</th>\n",
       "      <th>Number of \n",
       "Arms</th>\n",
       "      <th>Rx Grouping</th>\n",
       "      <th>Group_Desc</th>\n",
       "      <th>Intervention_category</th>\n",
       "      <th>Dose</th>\n",
       "      <th>Route</th>\n",
       "      <th>Rx_Durn</th>\n",
       "      <th>...</th>\n",
       "      <th>outcome_mean</th>\n",
       "      <th>outcome_sd</th>\n",
       "      <th>outcome_se</th>\n",
       "      <th>outcome_med</th>\n",
       "      <th>outcome_q1</th>\n",
       "      <th>outcome_q3</th>\n",
       "      <th>outcome_min</th>\n",
       "      <th>outcome_max</th>\n",
       "      <th>outcome_lo_95</th>\n",
       "      <th>outcome_hi_95</th>\n",
       "    </tr>\n",
       "  </thead>\n",
       "  <tbody>\n",
       "    <tr>\n",
       "      <th>0</th>\n",
       "      <td>K. Murto, C. Lamontagne, C. McFaul, J. MacCorm...</td>\n",
       "      <td>109</td>\n",
       "      <td>NaN</td>\n",
       "      <td>2</td>\n",
       "      <td>G1:</td>\n",
       "      <td>Celecoxib</td>\n",
       "      <td>Preoperative and postoperative NSAID</td>\n",
       "      <td>6 mg/kg and 3 mg/kg post-op</td>\n",
       "      <td>Oral</td>\n",
       "      <td>pre-op and post-op 5 days</td>\n",
       "      <td>...</td>\n",
       "      <td>NaN</td>\n",
       "      <td>NaN</td>\n",
       "      <td>NaN</td>\n",
       "      <td>NaN</td>\n",
       "      <td>NaN</td>\n",
       "      <td>NaN</td>\n",
       "      <td>NaN</td>\n",
       "      <td>NaN</td>\n",
       "      <td>-7.0</td>\n",
       "      <td>8.0</td>\n",
       "    </tr>\n",
       "    <tr>\n",
       "      <th>1</th>\n",
       "      <td>K. Murto, C. Lamontagne, C. McFaul, J. MacCorm...</td>\n",
       "      <td>109</td>\n",
       "      <td>NaN</td>\n",
       "      <td>2</td>\n",
       "      <td>G2:</td>\n",
       "      <td>Placebo</td>\n",
       "      <td>Placebo</td>\n",
       "      <td>6 mg/kg and 3 mg/kg post-op</td>\n",
       "      <td>Oral</td>\n",
       "      <td>pre-op and post-op 5 days</td>\n",
       "      <td>...</td>\n",
       "      <td>NaN</td>\n",
       "      <td>NaN</td>\n",
       "      <td>NaN</td>\n",
       "      <td>NaN</td>\n",
       "      <td>NaN</td>\n",
       "      <td>NaN</td>\n",
       "      <td>NaN</td>\n",
       "      <td>NaN</td>\n",
       "      <td>NaN</td>\n",
       "      <td>NaN</td>\n",
       "    </tr>\n",
       "    <tr>\n",
       "      <th>2</th>\n",
       "      <td>K. Murto, C. Lamontagne, C. McFaul, J. MacCorm...</td>\n",
       "      <td>109</td>\n",
       "      <td>NaN</td>\n",
       "      <td>2</td>\n",
       "      <td>G1:</td>\n",
       "      <td>Celecoxib</td>\n",
       "      <td>Preoperative and postoperative NSAID</td>\n",
       "      <td>6 mg/kg and 3 mg/kg post-op</td>\n",
       "      <td>Oral</td>\n",
       "      <td>pre-op and post-op 5 days</td>\n",
       "      <td>...</td>\n",
       "      <td>NaN</td>\n",
       "      <td>NaN</td>\n",
       "      <td>NaN</td>\n",
       "      <td>NaN</td>\n",
       "      <td>NaN</td>\n",
       "      <td>NaN</td>\n",
       "      <td>NaN</td>\n",
       "      <td>NaN</td>\n",
       "      <td>-4.0</td>\n",
       "      <td>6.0</td>\n",
       "    </tr>\n",
       "    <tr>\n",
       "      <th>3</th>\n",
       "      <td>K. Murto, C. Lamontagne, C. McFaul, J. MacCorm...</td>\n",
       "      <td>109</td>\n",
       "      <td>NaN</td>\n",
       "      <td>2</td>\n",
       "      <td>G2:</td>\n",
       "      <td>Placebo</td>\n",
       "      <td>Placebo</td>\n",
       "      <td>6 mg/kg and 3 mg/kg post-op</td>\n",
       "      <td>Oral</td>\n",
       "      <td>pre-op and post-op 5 days</td>\n",
       "      <td>...</td>\n",
       "      <td>NaN</td>\n",
       "      <td>NaN</td>\n",
       "      <td>NaN</td>\n",
       "      <td>NaN</td>\n",
       "      <td>NaN</td>\n",
       "      <td>NaN</td>\n",
       "      <td>NaN</td>\n",
       "      <td>NaN</td>\n",
       "      <td>NaN</td>\n",
       "      <td>NaN</td>\n",
       "    </tr>\n",
       "    <tr>\n",
       "      <th>4</th>\n",
       "      <td>H. S. Abdel-Ghaffar, H. G. Abdel-Azeem and M. ...</td>\n",
       "      <td>253</td>\n",
       "      <td>NaN</td>\n",
       "      <td>2</td>\n",
       "      <td>G1a:</td>\n",
       "      <td>Lornoxicam in one tonsil</td>\n",
       "      <td>perioperative NSAID</td>\n",
       "      <td>8 mg</td>\n",
       "      <td>Instillation/infiltration</td>\n",
       "      <td>NaN</td>\n",
       "      <td>...</td>\n",
       "      <td>NaN</td>\n",
       "      <td>NaN</td>\n",
       "      <td>NaN</td>\n",
       "      <td>NaN</td>\n",
       "      <td>NaN</td>\n",
       "      <td>NaN</td>\n",
       "      <td>NaN</td>\n",
       "      <td>NaN</td>\n",
       "      <td>NaN</td>\n",
       "      <td>NaN</td>\n",
       "    </tr>\n",
       "  </tbody>\n",
       "</table>\n",
       "<p>5 rows × 29 columns</p>\n",
       "</div>"
      ],
      "text/plain": [
       "                                            Citation REFID  Child Paper  \\\n",
       "0  K. Murto, C. Lamontagne, C. McFaul, J. MacCorm...   109          NaN   \n",
       "1  K. Murto, C. Lamontagne, C. McFaul, J. MacCorm...   109          NaN   \n",
       "2  K. Murto, C. Lamontagne, C. McFaul, J. MacCorm...   109          NaN   \n",
       "3  K. Murto, C. Lamontagne, C. McFaul, J. MacCorm...   109          NaN   \n",
       "4  H. S. Abdel-Ghaffar, H. G. Abdel-Azeem and M. ...   253          NaN   \n",
       "\n",
       "   Number of \\nArms Rx Grouping                 Group_Desc  \\\n",
       "0                 2         G1:                  Celecoxib   \n",
       "1                 2         G2:                    Placebo   \n",
       "2                 2         G1:                  Celecoxib   \n",
       "3                 2         G2:                    Placebo   \n",
       "4                 2        G1a:  Lornoxicam in one tonsil    \n",
       "\n",
       "                  Intervention_category                         Dose  \\\n",
       "0  Preoperative and postoperative NSAID  6 mg/kg and 3 mg/kg post-op   \n",
       "1                               Placebo  6 mg/kg and 3 mg/kg post-op   \n",
       "2  Preoperative and postoperative NSAID  6 mg/kg and 3 mg/kg post-op   \n",
       "3                               Placebo  6 mg/kg and 3 mg/kg post-op   \n",
       "4                   perioperative NSAID                         8 mg   \n",
       "\n",
       "                       Route                    Rx_Durn      ...        \\\n",
       "0                       Oral  pre-op and post-op 5 days      ...         \n",
       "1                       Oral  pre-op and post-op 5 days      ...         \n",
       "2                       Oral  pre-op and post-op 5 days      ...         \n",
       "3                       Oral  pre-op and post-op 5 days      ...         \n",
       "4  Instillation/infiltration                        NaN      ...         \n",
       "\n",
       "  outcome_mean outcome_sd outcome_se outcome_med outcome_q1 outcome_q3  \\\n",
       "0          NaN        NaN        NaN         NaN        NaN        NaN   \n",
       "1          NaN        NaN        NaN         NaN        NaN        NaN   \n",
       "2          NaN        NaN        NaN         NaN        NaN        NaN   \n",
       "3          NaN        NaN        NaN         NaN        NaN        NaN   \n",
       "4          NaN        NaN        NaN         NaN        NaN        NaN   \n",
       "\n",
       "   outcome_min  outcome_max  outcome_lo_95  outcome_hi_95  \n",
       "0          NaN          NaN           -7.0            8.0  \n",
       "1          NaN          NaN            NaN            NaN  \n",
       "2          NaN          NaN           -4.0            6.0  \n",
       "3          NaN          NaN            NaN            NaN  \n",
       "4          NaN          NaN            NaN            NaN  \n",
       "\n",
       "[5 rows x 29 columns]"
      ]
     },
     "execution_count": 2,
     "metadata": {},
     "output_type": "execute_result"
    }
   ],
   "source": [
    "data_file = 'data/Bleeding_Dataonly_For Chris_04152016.xlsx'\n",
    "\n",
    "raw_data = (pd.read_excel(data_file, sheetname='Bleeding_Outcomes_AllKQs',\n",
    "                         na_values=['null', 'ND'])\n",
    "            .drop(['Comments', 'Other stats \\nName','Other Stats','Results','Comments 2',\n",
    "                   'Presentation \\nlocation','Last Assesment tmpt for the study','Followup duration category'], \n",
    "                  axis=1)\n",
    "            .rename(columns={'Outcome timepoint (when was this outcome measured, e.g., in PACU, 12 months post─op, immediately post─op──would need a row for each outcome at each timepoint of interest)': 'outcome_time',\n",
    "                             'OUTC_Main_\\nCATG':'outcome_cat',\n",
    "                            \"Outc_SUB_\\nCATG\":'outcome_subcat',\n",
    "                            'OUTCOME SAMPLE SIZE': 'N',\n",
    "                             'Outcome\\ncount': 'outcome_obs',\n",
    "                            'Outcome  \\n%': 'outcome_pct',\n",
    "                            \"Outcome\\n Mean\": 'outcome_mean',\n",
    "                            \"Outcome \\nSD\": 'outcome_sd',\n",
    "                             'Outcome \\n SE': 'outcome_se',\n",
    "                             'Outcome\\n _Q1': 'outcome_q1', \n",
    "                             'Outcome \\n_Q3': 'outcome_q3',\n",
    "                            \"Outcome \\n Median\": 'outcome_med',\n",
    "                            \"Outcome \\n 95% L\": 'outcome_lo_95',\n",
    "                            \"Outcome \\n 95% H\": 'outcome_hi_95',\n",
    "                            \"Outcome\\n  Min\": 'outcome_min', \n",
    "                             'Outcome \\n Max': 'outcome_max'}))\n",
    "\n",
    "raw_data.head()"
   ]
  },
  {
   "cell_type": "code",
   "execution_count": 3,
   "metadata": {
    "collapsed": false
   },
   "outputs": [],
   "source": [
    "raw_data['Intervention_category'] = raw_data.Intervention_category.str.lower().str.strip()\n",
    "clean_data = raw_data.replace({'Intervention_category':{'saline':'control',\n",
    "                        'control (no rx)':'control',\n",
    "                        'control (no dexamethasone)':'control',\n",
    "                        'no antibiotics':'control',\n",
    "                        'no steroid':'control',\n",
    "                        'placebo':'control'}})"
   ]
  },
  {
   "cell_type": "markdown",
   "metadata": {},
   "source": [
    "Counts of bleeding outcomes by major category"
   ]
  },
  {
   "cell_type": "code",
   "execution_count": 4,
   "metadata": {
    "collapsed": false
   },
   "outputs": [
    {
     "data": {
      "text/plain": [
       "Reoperation-bleeding            162\n",
       "Revisit/Readmission-bleeding    150\n",
       "Undefined bleeding              121\n",
       "Secondary bleeding              113\n",
       "Primary bleeding                110\n",
       "Name: New_Bleeding_specify, dtype: int64"
      ]
     },
     "execution_count": 4,
     "metadata": {},
     "output_type": "execute_result"
    }
   ],
   "source": [
    "clean_data.New_Bleeding_specify.value_counts()"
   ]
  },
  {
   "cell_type": "markdown",
   "metadata": {},
   "source": [
    "Here is the full list of intervention categories. For the purposes of this analysis, I will just use the ones with \"total\" or \"partial\" in the name, and take them to be surgical interventions."
   ]
  },
  {
   "cell_type": "code",
   "execution_count": 5,
   "metadata": {
    "collapsed": false
   },
   "outputs": [
    {
     "data": {
      "text/plain": [
       "total cold                                                127\n",
       "total electrocautery                                      124\n",
       "total coblation                                            69\n",
       "control                                                    48\n",
       "perioperative steroid                                      47\n",
       "total harmonic scalpel                                     28\n",
       "partial coblation                                          25\n",
       "total molecular resonance                                  20\n",
       "perioperative nsaid                                        17\n",
       "partial microdebrider                                      15\n",
       "partial laser                                              15\n",
       "total laser                                                13\n",
       "partial cold                                               13\n",
       "total thermal welding                                      12\n",
       "postoperative analgesic                                     9\n",
       "total tonsillectomy - unspecified                           6\n",
       "perioperative anesthetic                                    5\n",
       "medical treatment                                           4\n",
       "total adenotonsillectomy - unspecified                      4\n",
       "total adenotonsillectomy - unspecified + no surgery         4\n",
       "total electrocautery + total cold                           4\n",
       "perioperative local anesthetic                              4\n",
       "postoperative nsaid                                         4\n",
       "salvia officinalis oral rinse                               3\n",
       "total microdebrider                                         3\n",
       "perioperative opiate analgesic                              3\n",
       "total argon plasma                                          3\n",
       "total plasmaknife                                           3\n",
       "postoperative steroid                                       3\n",
       "perioperative opioid analgesic                              3\n",
       "no surgery                                                  2\n",
       "preoperative analgesic                                      2\n",
       "perioperative analgesic                                     2\n",
       "preoperative and postoperative nsaid                        2\n",
       "postoperative antibiotic with beta lactamase inhibitor      2\n",
       "total not specified                                         2\n",
       "partial electrocautery                                      2\n",
       "preoperative nsaid                                          2\n",
       "total tonsillectomy - coblation                             1\n",
       "cpap                                                        1\n",
       "Name: Intervention_category, dtype: int64"
      ]
     },
     "execution_count": 5,
     "metadata": {},
     "output_type": "execute_result"
    }
   ],
   "source": [
    "clean_data.Intervention_category.value_counts()"
   ]
  },
  {
   "cell_type": "markdown",
   "metadata": {},
   "source": [
    "Here is the surgery filter:"
   ]
  },
  {
   "cell_type": "code",
   "execution_count": 6,
   "metadata": {
    "collapsed": false
   },
   "outputs": [],
   "source": [
    "surgery_data = clean_data[clean_data.Intervention_category.str.contains('total') \n",
    "                   | clean_data.Intervention_category.str.contains('partial')].dropna(subset=['outcome_obs']).copy()"
   ]
  },
  {
   "cell_type": "markdown",
   "metadata": {},
   "source": [
    "List of interventions after filtering. Note that there were a lot of papers that did not report bleeding outcomes, so the numbers dropped significantly. "
   ]
  },
  {
   "cell_type": "code",
   "execution_count": 7,
   "metadata": {
    "collapsed": false
   },
   "outputs": [
    {
     "data": {
      "text/plain": [
       "total cold                                             74\n",
       "total electrocautery                                   71\n",
       "total coblation                                        34\n",
       "total harmonic scalpel                                 22\n",
       "total molecular resonance                              13\n",
       "partial coblation                                      13\n",
       "partial laser                                          12\n",
       "total thermal welding                                  10\n",
       "partial cold                                            7\n",
       "partial microdebrider                                   6\n",
       "total laser                                             6\n",
       "total tonsillectomy - unspecified                       5\n",
       "total argon plasma                                      3\n",
       "total adenotonsillectomy - unspecified + no surgery     3\n",
       "total adenotonsillectomy - unspecified                  1\n",
       "total not specified                                     1\n",
       "total microdebrider                                     1\n",
       "total tonsillectomy - coblation                         1\n",
       "partial electrocautery                                  1\n",
       "total plasmaknife                                       1\n",
       "total electrocautery + total cold                       1\n",
       "Name: Intervention_category, dtype: int64"
      ]
     },
     "execution_count": 7,
     "metadata": {},
     "output_type": "execute_result"
    }
   ],
   "source": [
    "surgery_data.Intervention_category.value_counts()"
   ]
  },
  {
   "cell_type": "markdown",
   "metadata": {},
   "source": [
    "Indicator for partial"
   ]
  },
  {
   "cell_type": "code",
   "execution_count": 8,
   "metadata": {
    "collapsed": true
   },
   "outputs": [],
   "source": [
    "surgery_data['partial'] = surgery_data.Intervention_category.str.contains('partial')"
   ]
  },
  {
   "cell_type": "markdown",
   "metadata": {},
   "source": [
    "Generate column for technique"
   ]
  },
  {
   "cell_type": "code",
   "execution_count": 9,
   "metadata": {
    "collapsed": false
   },
   "outputs": [],
   "source": [
    "surgery_data['technique'] = (surgery_data.Intervention_category\n",
    "        .apply(lambda x: ' '.join(x.split(' ')[1:]))\n",
    "        .replace({'tonsillectomy - coblation':'coblation'}))\n",
    "\n",
    "surgery_data = surgery_data[~(surgery_data.technique.str.contains('specified')|\n",
    "                             surgery_data.technique.str.contains('\\+'))]"
   ]
  },
  {
   "cell_type": "code",
   "execution_count": 10,
   "metadata": {
    "collapsed": false,
    "scrolled": true
   },
   "outputs": [
    {
     "data": {
      "text/plain": [
       "cold                   81\n",
       "electrocautery         72\n",
       "coblation              48\n",
       "harmonic scalpel       22\n",
       "laser                  18\n",
       "molecular resonance    13\n",
       "thermal welding        10\n",
       "microdebrider           7\n",
       "argon plasma            3\n",
       "plasmaknife             1\n",
       "Name: technique, dtype: int64"
      ]
     },
     "execution_count": 10,
     "metadata": {},
     "output_type": "execute_result"
    }
   ],
   "source": [
    "surgery_data.technique.value_counts()"
   ]
  },
  {
   "cell_type": "markdown",
   "metadata": {},
   "source": [
    "I will drop microdebrider, argon plasma and plasma knife due to lack of information."
   ]
  },
  {
   "cell_type": "code",
   "execution_count": 11,
   "metadata": {
    "collapsed": false
   },
   "outputs": [],
   "source": [
    "technique_includes = surgery_data.technique.value_counts().index[:-3].tolist()\n",
    "surgery_data = surgery_data[surgery_data.technique.isin(technique_includes)]"
   ]
  },
  {
   "cell_type": "code",
   "execution_count": 12,
   "metadata": {
    "collapsed": false
   },
   "outputs": [
    {
     "data": {
      "text/plain": [
       "['cold',\n",
       " 'electrocautery',\n",
       " 'coblation',\n",
       " 'harmonic scalpel',\n",
       " 'laser',\n",
       " 'molecular resonance',\n",
       " 'thermal welding']"
      ]
     },
     "execution_count": 12,
     "metadata": {},
     "output_type": "execute_result"
    }
   ],
   "source": [
    "technique_includes"
   ]
  },
  {
   "cell_type": "markdown",
   "metadata": {},
   "source": [
    "Subsets of data according to bleeding outcome"
   ]
  },
  {
   "cell_type": "code",
   "execution_count": 13,
   "metadata": {
    "collapsed": false
   },
   "outputs": [],
   "source": [
    "readmission_bleeding_data = surgery_data[surgery_data.New_Bleeding_specify=='Revisit/Readmission-bleeding']\n",
    "reoperation_bleeding_data = surgery_data[surgery_data.New_Bleeding_specify=='Reoperation-bleeding']\n",
    "primary_bleeding_data = surgery_data[surgery_data.New_Bleeding_specify=='Primary bleeding']\n",
    "secondary_bleeding_data = surgery_data[surgery_data.New_Bleeding_specify=='Secondary bleeding']"
   ]
  },
  {
   "cell_type": "markdown",
   "metadata": {},
   "source": [
    "## Model Specification"
   ]
  },
  {
   "cell_type": "code",
   "execution_count": 14,
   "metadata": {
    "collapsed": true
   },
   "outputs": [],
   "source": [
    "from pymc3 import (NUTS, sample, Model, Deterministic, find_MAP,\n",
    "                  Binomial, Normal, HalfCauchy, advi,\n",
    "                  traceplot, summary, forestplot)\n",
    "import theano.tensor as tt\n",
    "\n",
    "def tinvlogit(x):\n",
    "    return tt.exp(x) / (1 + tt.exp(x))"
   ]
  },
  {
   "cell_type": "code",
   "execution_count": 17,
   "metadata": {
    "collapsed": true
   },
   "outputs": [],
   "source": [
    "def specify_model(model, data):\n",
    "    \n",
    "    N, REFID, events, partial = data[['N', 'REFID', 'outcome_obs', 'partial']].values.T\n",
    "    \n",
    "    refid_list = list(set(REFID))\n",
    "    study_id = data.REFID.apply(lambda i: refid_list.index(i)).values\n",
    "    n_studies = len(refid_list)\n",
    "    \n",
    "    technique = data.technique.apply(lambda i: technique_includes.index(i)).values\n",
    "    n_tech = len(technique_includes)\n",
    "    \n",
    "    assert not np.isnan(N.astype(int)).any()\n",
    "    assert not np.isnan(events.astype(int)).any()\n",
    "    \n",
    "    with model:\n",
    "        \n",
    "        # Mean for surgery interventions\n",
    "        θ = Normal('θ', 0, sd=5, shape=n_tech, testval=np.ones(n_tech)*-1)\n",
    "        # Effect of partial intervention\n",
    "        β = Normal('β', 0, sd=5, testval=0)\n",
    "\n",
    "        # Study random effect\n",
    "        σ = HalfCauchy('σ', 5, testval=1)\n",
    "        ϵ = Normal('ϵ', 0, sd=σ, shape=n_studies, testval=np.zeros(n_studies))\n",
    "\n",
    "        # Transform to probability scale\n",
    "        π = tinvlogit(θ[technique] + β*partial.astype(int) + ϵ[study_id])\n",
    "\n",
    "        # Mean probabilities\n",
    "        π_total = Deterministic('π_total', tinvlogit(θ))\n",
    "        π_partial = Deterministic('π_partial', tinvlogit(θ + β))\n",
    "\n",
    "        # Data likelihood\n",
    "        obs = Binomial('obs', N.astype(int), π, observed=events.astype(int))\n",
    "\n",
    "    return model"
   ]
  },
  {
   "cell_type": "code",
   "execution_count": 18,
   "metadata": {
    "collapsed": false
   },
   "outputs": [
    {
     "name": "stdout",
     "output_type": "stream",
     "text": [
      "Applied log-transform to σ and added transformed σ_log to model.\n"
     ]
    }
   ],
   "source": [
    "reoperation_model = specify_model(Model(), reoperation_bleeding_data)"
   ]
  },
  {
   "cell_type": "markdown",
   "metadata": {},
   "source": [
    "Model run using Hamiltonian Monte Carlo"
   ]
  },
  {
   "cell_type": "code",
   "execution_count": 19,
   "metadata": {
    "collapsed": false
   },
   "outputs": [
    {
     "name": "stdout",
     "output_type": "stream",
     "text": [
      "Assigned NUTS to θ\n",
      "Assigned NUTS to β\n",
      "Assigned NUTS to σ_log\n",
      "Assigned NUTS to ϵ\n",
      " [-----------------100%-----------------] 2000 of 2000 complete in 122.3 sec"
     ]
    }
   ],
   "source": [
    "with reoperation_model:\n",
    "    reoperation_trace = sample(2000, random_seed=rseed)"
   ]
  },
  {
   "cell_type": "code",
   "execution_count": 32,
   "metadata": {
    "collapsed": false
   },
   "outputs": [
    {
     "name": "stdout",
     "output_type": "stream",
     "text": [
      "Applied log-transform to σ and added transformed σ_log to model.\n"
     ]
    }
   ],
   "source": [
    "readmission_model = specify_model(Model(), readmission_bleeding_data)"
   ]
  },
  {
   "cell_type": "code",
   "execution_count": 33,
   "metadata": {
    "collapsed": false
   },
   "outputs": [
    {
     "name": "stdout",
     "output_type": "stream",
     "text": [
      "Assigned NUTS to θ\n",
      "Assigned NUTS to β\n",
      "Assigned NUTS to σ_log\n",
      "Assigned NUTS to ϵ\n",
      " [-----------------100%-----------------] 2000 of 2000 complete in 131.3 sec"
     ]
    }
   ],
   "source": [
    "with readmission_model:\n",
    "    readmission_trace = sample(2000, random_seed=rseed)"
   ]
  },
  {
   "cell_type": "code",
   "execution_count": 34,
   "metadata": {
    "collapsed": false
   },
   "outputs": [
    {
     "name": "stdout",
     "output_type": "stream",
     "text": [
      "Applied log-transform to σ and added transformed σ_log to model.\n"
     ]
    }
   ],
   "source": [
    "primary_model = specify_model(Model(), primary_bleeding_data)"
   ]
  },
  {
   "cell_type": "code",
   "execution_count": 35,
   "metadata": {
    "collapsed": false
   },
   "outputs": [
    {
     "name": "stdout",
     "output_type": "stream",
     "text": [
      "Assigned NUTS to θ\n",
      "Assigned NUTS to β\n",
      "Assigned NUTS to σ_log\n",
      "Assigned NUTS to ϵ\n",
      " [-----------------100%-----------------] 2000 of 2000 complete in 189.9 sec"
     ]
    }
   ],
   "source": [
    "with primary_model:\n",
    "    primary_trace = sample(2000, random_seed=rseed)"
   ]
  },
  {
   "cell_type": "code",
   "execution_count": 36,
   "metadata": {
    "collapsed": false
   },
   "outputs": [
    {
     "name": "stdout",
     "output_type": "stream",
     "text": [
      "Applied log-transform to σ and added transformed σ_log to model.\n"
     ]
    }
   ],
   "source": [
    "secondary_model = specify_model(Model(), secondary_bleeding_data)"
   ]
  },
  {
   "cell_type": "code",
   "execution_count": 37,
   "metadata": {
    "collapsed": false
   },
   "outputs": [
    {
     "name": "stdout",
     "output_type": "stream",
     "text": [
      "Assigned NUTS to θ\n",
      "Assigned NUTS to β\n",
      "Assigned NUTS to σ_log\n",
      "Assigned NUTS to ϵ\n",
      " [-----------------100%-----------------] 2001 of 2000 complete in 114.4 sec"
     ]
    }
   ],
   "source": [
    "with secondary_model:\n",
    "    secondary_trace = sample(2000, random_seed=rseed)"
   ]
  },
  {
   "cell_type": "markdown",
   "metadata": {},
   "source": [
    "## Reoperation Bleeding Results"
   ]
  },
  {
   "cell_type": "markdown",
   "metadata": {},
   "source": [
    "Posterior traces and histograms of surgical technique bleeding estimates for partial (top plot) and total (bottom plot) removal."
   ]
  },
  {
   "cell_type": "code",
   "execution_count": 37,
   "metadata": {
    "collapsed": false
   },
   "outputs": [
    {
     "data": {
      "image/png": "[encoded data removed]",
      "text/plain": [
       "<matplotlib.figure.Figure at 0x120291e80>"
      ]
     },
     "metadata": {},
     "output_type": "display_data"
    }
   ],
   "source": [
    "forestplot(reoperation_trace[1000:], varnames=['π_partial'], ylabels=technique_includes, \n",
    "           main='Partial removal', xtitle='Probability of re-operation bleeding');"
   ]
  },
  {
   "cell_type": "code",
   "execution_count": 38,
   "metadata": {
    "collapsed": false
   },
   "outputs": [
    {
     "data": {
      "image/png": "[encoded data removed]",
      "text/plain": [
       "<matplotlib.figure.Figure at 0x12028fb00>"
      ]
     },
     "metadata": {},
     "output_type": "display_data"
    }
   ],
   "source": [
    "forestplot(reoperation_trace[1000:], varnames=['π_total'], ylabels=technique_includes, \n",
    "           main='Total removal', xtitle='Probability of re-operation bleeding');"
   ]
  },
  {
   "cell_type": "code",
   "execution_count": 39,
   "metadata": {
    "collapsed": false
   },
   "outputs": [
    {
     "name": "stdout",
     "output_type": "stream",
     "text": [
      "\n",
      "π_total:\n",
      "\n",
      "  Mean             SD               MC Error         95% HPD interval\n",
      "  -------------------------------------------------------------------\n",
      "  \n",
      "  0.012            0.005            0.000            [0.003, 0.021]\n",
      "  0.011            0.004            0.000            [0.003, 0.019]\n",
      "  0.012            0.006            0.000            [0.003, 0.024]\n",
      "  0.039            0.014            0.001            [0.015, 0.066]\n",
      "  0.057            0.053            0.002            [0.002, 0.171]\n",
      "  0.008            0.010            0.000            [0.000, 0.027]\n",
      "  0.003            0.007            0.000            [0.000, 0.014]\n",
      "\n",
      "  Posterior quantiles:\n",
      "  2.5            25             50             75             97.5\n",
      "  |--------------|==============|==============|--------------|\n",
      "  \n",
      "  0.004          0.008          0.011          0.014          0.023\n",
      "  0.004          0.008          0.010          0.013          0.021\n",
      "  0.004          0.008          0.011          0.015          0.027\n",
      "  0.017          0.029          0.037          0.046          0.071\n",
      "  0.007          0.022          0.039          0.071          0.214\n",
      "  0.000          0.002          0.005          0.010          0.034\n",
      "  0.000          0.000          0.001          0.003          0.020\n",
      "\n",
      "\n",
      "π_partial:\n",
      "\n",
      "  Mean             SD               MC Error         95% HPD interval\n",
      "  -------------------------------------------------------------------\n",
      "  \n",
      "  0.005            0.005            0.000            [0.000, 0.013]\n",
      "  0.005            0.005            0.000            [0.000, 0.013]\n",
      "  0.005            0.004            0.000            [0.000, 0.013]\n",
      "  0.016            0.015            0.000            [0.000, 0.045]\n",
      "  0.020            0.024            0.001            [0.000, 0.065]\n",
      "  0.003            0.006            0.000            [0.000, 0.013]\n",
      "  0.001            0.004            0.000            [0.000, 0.006]\n",
      "\n",
      "  Posterior quantiles:\n",
      "  2.5            25             50             75             97.5\n",
      "  |--------------|==============|==============|--------------|\n",
      "  \n",
      "  0.000          0.002          0.003          0.006          0.016\n",
      "  0.000          0.002          0.003          0.006          0.017\n",
      "  0.000          0.002          0.003          0.006          0.016\n",
      "  0.001          0.006          0.011          0.021          0.057\n",
      "  0.001          0.005          0.013          0.026          0.083\n",
      "  0.000          0.001          0.001          0.003          0.018\n",
      "  0.000          0.000          0.000          0.001          0.010\n",
      "\n"
     ]
    },
    {
     "name": "stderr",
     "output_type": "stream",
     "text": [
      "/Users/fonnescj/anaconda3/lib/python3.5/site-packages/numpy/core/fromnumeric.py:225: VisibleDeprecationWarning: using a non-integer number instead of an integer will result in an error in the future\n",
      "  return reshape(newshape, order=order)\n"
     ]
    }
   ],
   "source": [
    "summary(reoperation_trace[1000:], varnames=['π_total', 'π_partial'])"
   ]
  },
  {
   "cell_type": "markdown",
   "metadata": {},
   "source": [
    "## Readmission Bleeding Results\n",
    "\n",
    "Posterior traces and histograms of surgical technique bleeding estimates for partial (top plot) and total (bottom plot) removal."
   ]
  },
  {
   "cell_type": "code",
   "execution_count": 40,
   "metadata": {
    "collapsed": false
   },
   "outputs": [
    {
     "data": {
      "image/png": "[encoded data removed]",
      "text/plain": [
       "<matplotlib.figure.Figure at 0x120fbaa58>"
      ]
     },
     "metadata": {},
     "output_type": "display_data"
    }
   ],
   "source": [
    "forestplot(readmission_trace[1000:], varnames=['π_partial'], ylabels=technique_includes, \n",
    "           main='Partial removal', xtitle='Probability of re-admission bleeding');"
   ]
  },
  {
   "cell_type": "code",
   "execution_count": 41,
   "metadata": {
    "collapsed": false
   },
   "outputs": [
    {
     "data": {
      "image/png": "[encoded data removed]",
      "text/plain": [
       "<matplotlib.figure.Figure at 0x12119b9b0>"
      ]
     },
     "metadata": {},
     "output_type": "display_data"
    }
   ],
   "source": [
    "forestplot(readmission_trace[1000:], varnames=['π_total'], ylabels=technique_includes, \n",
    "           main='Total removal', xtitle='Probability of re-admission bleeding');"
   ]
  },
  {
   "cell_type": "code",
   "execution_count": 42,
   "metadata": {
    "collapsed": false
   },
   "outputs": [
    {
     "name": "stdout",
     "output_type": "stream",
     "text": [
      "\n",
      "π_total:\n",
      "\n",
      "  Mean             SD               MC Error         95% HPD interval\n",
      "  -------------------------------------------------------------------\n",
      "  \n",
      "  0.028            0.012            0.001            [0.008, 0.053]\n",
      "  0.027            0.012            0.001            [0.006, 0.052]\n",
      "  0.014            0.012            0.000            [0.001, 0.036]\n",
      "  0.015            0.008            0.000            [0.003, 0.030]\n",
      "  0.060            0.042            0.001            [0.008, 0.140]\n",
      "  0.000            0.001            0.000            [0.000, 0.002]\n",
      "  0.027            0.067            0.002            [0.000, 0.141]\n",
      "\n",
      "  Posterior quantiles:\n",
      "  2.5            25             50             75             97.5\n",
      "  |--------------|==============|==============|--------------|\n",
      "  \n",
      "  0.010          0.019          0.027          0.035          0.058\n",
      "  0.009          0.018          0.026          0.035          0.058\n",
      "  0.002          0.006          0.011          0.018          0.047\n",
      "  0.004          0.009          0.014          0.019          0.034\n",
      "  0.012          0.032          0.050          0.076          0.162\n",
      "  0.000          0.000          0.000          0.001          0.003\n",
      "  0.000          0.000          0.004          0.021          0.221\n",
      "\n",
      "\n",
      "π_partial:\n",
      "\n",
      "  Mean             SD               MC Error         95% HPD interval\n",
      "  -------------------------------------------------------------------\n",
      "  \n",
      "  0.041            0.042            0.001            [0.001, 0.124]\n",
      "  0.040            0.042            0.001            [0.001, 0.122]\n",
      "  0.014            0.009            0.000            [0.001, 0.032]\n",
      "  0.022            0.026            0.001            [0.000, 0.067]\n",
      "  0.076            0.075            0.003            [0.001, 0.235]\n",
      "  0.001            0.002            0.000            [0.000, 0.003]\n",
      "  0.036            0.093            0.003            [0.000, 0.192]\n",
      "\n",
      "  Posterior quantiles:\n",
      "  2.5            25             50             75             97.5\n",
      "  |--------------|==============|==============|--------------|\n",
      "  \n",
      "  0.004          0.014          0.028          0.050          0.162\n",
      "  0.004          0.013          0.027          0.050          0.165\n",
      "  0.003          0.007          0.012          0.018          0.040\n",
      "  0.002          0.007          0.014          0.027          0.090\n",
      "  0.008          0.028          0.052          0.096          0.292\n",
      "  0.000          0.000          0.000          0.001          0.005\n",
      "  0.000          0.000          0.004          0.024          0.316\n",
      "\n"
     ]
    },
    {
     "name": "stderr",
     "output_type": "stream",
     "text": [
      "/Users/fonnescj/anaconda3/lib/python3.5/site-packages/numpy/core/fromnumeric.py:225: VisibleDeprecationWarning: using a non-integer number instead of an integer will result in an error in the future\n",
      "  return reshape(newshape, order=order)\n"
     ]
    }
   ],
   "source": [
    "summary(readmission_trace[1000:], varnames=['π_total', 'π_partial'])"
   ]
  },
  {
   "cell_type": "markdown",
   "metadata": {},
   "source": [
    "## Primary Bleeding Results\n",
    "\n",
    "Posterior traces and histograms of surgical technique bleeding estimates for partial (top plot) and total (bottom plot) removal."
   ]
  },
  {
   "cell_type": "code",
   "execution_count": 43,
   "metadata": {
    "collapsed": false
   },
   "outputs": [
    {
     "data": {
      "image/png": "[encoded data removed]",
      "text/plain": [
       "<matplotlib.figure.Figure at 0x12151c978>"
      ]
     },
     "metadata": {},
     "output_type": "display_data"
    }
   ],
   "source": [
    "forestplot(primary_trace[1000:], varnames=['π_partial'], ylabels=technique_includes, \n",
    "           main='Partial removal', xtitle='Probability of primary bleeding');"
   ]
  },
  {
   "cell_type": "code",
   "execution_count": 44,
   "metadata": {
    "collapsed": false
   },
   "outputs": [
    {
     "data": {
      "image/png": "[encoded data removed]",
      "text/plain": [
       "<matplotlib.figure.Figure at 0x1216b9a58>"
      ]
     },
     "metadata": {},
     "output_type": "display_data"
    }
   ],
   "source": [
    "forestplot(primary_trace[1000:], varnames=['π_total'], ylabels=technique_includes, \n",
    "           main='Total removal', xtitle='Probability of primary bleeding');"
   ]
  },
  {
   "cell_type": "code",
   "execution_count": 45,
   "metadata": {
    "collapsed": false
   },
   "outputs": [
    {
     "name": "stdout",
     "output_type": "stream",
     "text": [
      "\n",
      "π_total:\n",
      "\n",
      "  Mean             SD               MC Error         95% HPD interval\n",
      "  -------------------------------------------------------------------\n",
      "  \n",
      "  0.007            0.004            0.000            [0.002, 0.015]\n",
      "  0.005            0.003            0.000            [0.001, 0.011]\n",
      "  0.013            0.009            0.000            [0.001, 0.031]\n",
      "  0.009            0.009            0.000            [0.000, 0.026]\n",
      "  0.011            0.036            0.001            [0.000, 0.053]\n",
      "  0.004            0.011            0.000            [0.000, 0.016]\n",
      "  0.005            0.018            0.000            [0.000, 0.020]\n",
      "\n",
      "  Posterior quantiles:\n",
      "  2.5            25             50             75             97.5\n",
      "  |--------------|==============|==============|--------------|\n",
      "  \n",
      "  0.002          0.005          0.007          0.009          0.017\n",
      "  0.001          0.003          0.005          0.007          0.012\n",
      "  0.002          0.007          0.011          0.017          0.036\n",
      "  0.001          0.004          0.007          0.013          0.031\n",
      "  0.000          0.000          0.001          0.007          0.086\n",
      "  0.000          0.000          0.001          0.003          0.028\n",
      "  0.000          0.000          0.001          0.004          0.031\n",
      "\n",
      "\n",
      "π_partial:\n",
      "\n",
      "  Mean             SD               MC Error         95% HPD interval\n",
      "  -------------------------------------------------------------------\n",
      "  \n",
      "  0.016            0.018            0.001            [0.001, 0.051]\n",
      "  0.012            0.016            0.001            [0.000, 0.041]\n",
      "  0.021            0.017            0.000            [0.001, 0.053]\n",
      "  0.022            0.034            0.001            [0.000, 0.082]\n",
      "  0.014            0.045            0.001            [0.000, 0.067]\n",
      "  0.009            0.028            0.001            [0.000, 0.036]\n",
      "  0.011            0.039            0.001            [0.000, 0.043]\n",
      "\n",
      "  Posterior quantiles:\n",
      "  2.5            25             50             75             97.5\n",
      "  |--------------|==============|==============|--------------|\n",
      "  \n",
      "  0.001          0.005          0.010          0.020          0.064\n",
      "  0.001          0.003          0.007          0.015          0.054\n",
      "  0.003          0.010          0.017          0.028          0.064\n",
      "  0.001          0.004          0.010          0.024          0.120\n",
      "  0.000          0.000          0.002          0.010          0.091\n",
      "  0.000          0.000          0.001          0.006          0.066\n",
      "  0.000          0.000          0.001          0.007          0.082\n",
      "\n"
     ]
    },
    {
     "name": "stderr",
     "output_type": "stream",
     "text": [
      "/Users/fonnescj/anaconda3/lib/python3.5/site-packages/numpy/core/fromnumeric.py:225: VisibleDeprecationWarning: using a non-integer number instead of an integer will result in an error in the future\n",
      "  return reshape(newshape, order=order)\n"
     ]
    }
   ],
   "source": [
    "summary(primary_trace[1000:], varnames=['π_total', 'π_partial'])"
   ]
  },
  {
   "cell_type": "markdown",
   "metadata": {},
   "source": [
    "## Secondary Bleeding Results\n",
    "\n",
    "Posterior traces and histograms of surgical technique bleeding estimates for partial (top plot) and total (bottom plot) removal."
   ]
  },
  {
   "cell_type": "code",
   "execution_count": 46,
   "metadata": {
    "collapsed": false
   },
   "outputs": [
    {
     "data": {
      "image/png": "[encoded data removed]",
      "text/plain": [
       "<matplotlib.figure.Figure at 0x121c1f6d8>"
      ]
     },
     "metadata": {},
     "output_type": "display_data"
    }
   ],
   "source": [
    "forestplot(secondary_trace[1000:], varnames=['π_partial'], ylabels=technique_includes, \n",
    "           main='Partial removal', xtitle='Probability of secondary bleeding');"
   ]
  },
  {
   "cell_type": "code",
   "execution_count": 47,
   "metadata": {
    "collapsed": false
   },
   "outputs": [
    {
     "data": {
      "image/png": "[encoded data removed]",
      "text/plain": [
       "<matplotlib.figure.Figure at 0x120afe048>"
      ]
     },
     "metadata": {},
     "output_type": "display_data"
    }
   ],
   "source": [
    "forestplot(secondary_trace[1000:], varnames=['π_total'], ylabels=technique_includes, \n",
    "           main='Total removal', xtitle='Probability of secondary bleeding');"
   ]
  },
  {
   "cell_type": "code",
   "execution_count": 48,
   "metadata": {
    "collapsed": false
   },
   "outputs": [
    {
     "name": "stdout",
     "output_type": "stream",
     "text": [
      "\n",
      "π_total:\n",
      "\n",
      "  Mean             SD               MC Error         95% HPD interval\n",
      "  -------------------------------------------------------------------\n",
      "  \n",
      "  0.032            0.008            0.000            [0.019, 0.047]\n",
      "  0.036            0.009            0.000            [0.020, 0.054]\n",
      "  0.019            0.008            0.000            [0.006, 0.034]\n",
      "  0.032            0.012            0.000            [0.012, 0.057]\n",
      "  0.012            0.012            0.000            [0.000, 0.035]\n",
      "  0.006            0.004            0.000            [0.000, 0.014]\n",
      "  0.037            0.021            0.001            [0.008, 0.079]\n",
      "\n",
      "  Posterior quantiles:\n",
      "  2.5            25             50             75             97.5\n",
      "  |--------------|==============|==============|--------------|\n",
      "  \n",
      "  0.019          0.026          0.031          0.036          0.049\n",
      "  0.021          0.030          0.035          0.041          0.056\n",
      "  0.007          0.013          0.018          0.023          0.038\n",
      "  0.013          0.023          0.031          0.039          0.060\n",
      "  0.001          0.004          0.008          0.016          0.047\n",
      "  0.001          0.003          0.005          0.008          0.017\n",
      "  0.011          0.022          0.032          0.047          0.093\n",
      "\n",
      "\n",
      "π_partial:\n",
      "\n",
      "  Mean             SD               MC Error         95% HPD interval\n",
      "  -------------------------------------------------------------------\n",
      "  \n",
      "  0.008            0.010            0.000            [0.000, 0.028]\n",
      "  0.010            0.012            0.001            [0.000, 0.032]\n",
      "  0.004            0.005            0.000            [0.000, 0.013]\n",
      "  0.008            0.010            0.000            [0.000, 0.030]\n",
      "  0.003            0.005            0.000            [0.000, 0.012]\n",
      "  0.002            0.003            0.000            [0.000, 0.006]\n",
      "  0.010            0.013            0.001            [0.000, 0.036]\n",
      "\n",
      "  Posterior quantiles:\n",
      "  2.5            25             50             75             97.5\n",
      "  |--------------|==============|==============|--------------|\n",
      "  \n",
      "  0.000          0.002          0.005          0.011          0.037\n",
      "  0.000          0.003          0.006          0.012          0.046\n",
      "  0.000          0.001          0.003          0.006          0.017\n",
      "  0.000          0.002          0.005          0.010          0.039\n",
      "  0.000          0.000          0.001          0.003          0.016\n",
      "  0.000          0.000          0.001          0.002          0.008\n",
      "  0.000          0.002          0.005          0.012          0.049\n",
      "\n"
     ]
    },
    {
     "name": "stderr",
     "output_type": "stream",
     "text": [
      "/Users/fonnescj/anaconda3/lib/python3.5/site-packages/numpy/core/fromnumeric.py:225: VisibleDeprecationWarning: using a non-integer number instead of an integer will result in an error in the future\n",
      "  return reshape(newshape, order=order)\n"
     ]
    }
   ],
   "source": [
    "summary(secondary_trace[1000:], varnames=['π_total', 'π_partial'])"
   ]
  },
  {
   "cell_type": "markdown",
   "metadata": {},
   "source": [
    "## Goodness of fit\n",
    "\n",
    "Plots of Bayesian p-values. An excess of very large or very small values may suggest lack of fit."
   ]
  },
  {
   "cell_type": "code",
   "execution_count": 53,
   "metadata": {
    "collapsed": false
   },
   "outputs": [],
   "source": [
    "from pymc3 import sample_ppc\n",
    "\n",
    "ppc = [sample_ppc(trace, model=model, samples=500) for trace,model in ([reoperation_trace, reoperation_model],\n",
    "                                                                      [readmission_trace, readmission_model],\n",
    "                                                                      [primary_trace, primary_model],\n",
    "                                                                      [secondary_trace, secondary_model])]"
   ]
  },
  {
   "cell_type": "code",
   "execution_count": 94,
   "metadata": {
    "collapsed": true
   },
   "outputs": [],
   "source": [
    "bayes_p = lambda sim, true: [(s > t).mean() for s,t in zip(sim, true)]"
   ]
  },
  {
   "cell_type": "code",
   "execution_count": 95,
   "metadata": {
    "collapsed": true
   },
   "outputs": [],
   "source": [
    "obs_sim = [p['obs'] for p in ppc]\n",
    "p_values = [bayes_p(simdata, model.obs.tag.test_value) for simdata,model in zip(obs_sim, \n",
    "                                        [reoperation_model, readmission_model, primary_model, secondary_model])]  "
   ]
  },
  {
   "cell_type": "code",
   "execution_count": 103,
   "metadata": {
    "collapsed": false
   },
   "outputs": [
    {
     "data": {
      "image/png": "[encoded data removed]",
      "text/plain": [
       "<matplotlib.figure.Figure at 0x123dd72b0>"
      ]
     },
     "metadata": {},
     "output_type": "display_data"
    }
   ],
   "source": [
    "dfp = pd.DataFrame(p_values).T\n",
    "dfp.columns = 'Reoperation', 'Readmission', 'Primary', 'Secondary'\n",
    "dfp.hist(sharex=True, bins=15);"
   ]
  }
 ],
 "metadata": {
  "kernelspec": {
   "display_name": "Python 3",
   "language": "python",
   "name": "python3"
  },
  "language_info": {
   "codemirror_mode": {
    "name": "ipython",
    "version": 3
   },
   "file_extension": ".py",
   "mimetype": "text/x-python",
   "name": "python",
   "nbconvert_exporter": "python",
   "pygments_lexer": "ipython3",
   "version": "3.5.1"
  }
 },
 "nbformat": 4,
 "nbformat_minor": 1
}
