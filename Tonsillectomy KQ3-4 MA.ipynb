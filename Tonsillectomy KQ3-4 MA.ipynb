{
 "cells": [
  {
   "cell_type": "code",
   "execution_count": 1,
   "metadata": {
    "collapsed": true
   },
   "outputs": [],
   "source": [
    "%matplotlib inline\n",
    "import numpy as np\n",
    "import pandas as pd\n",
    "import matplotlib.pyplot as plt\n",
    "import seaborn as sns\n",
    "sns.set()"
   ]
  },
  {
   "cell_type": "markdown",
   "metadata": {},
   "source": [
    "# Meta-analyses of Benefits and Harms by Surgical Intervention\n",
    "\n",
    "## Key Question 4\n",
    "**Do benefits and harms differ by surgical technique?**\n",
    "\n",
    "The approach to estimating the relative effects of surgical techniques on benefits (*i.e.* utilization) and harms mirror that for pharmacological interventions. That is, modeling count outcomes (*e.g.* occurrences of harms) as Poisson or binomial random variables and continuous outcomes as normal random variables, and estimating the effect sizes associated with each procedure.\n",
    "\n",
    "The effect size model should include and indicator for indication (Obstructive sleep apnea (OSA), tonsillectomy, or mixed), as this is anticipated to influence outcomes. Relevant outcomes include time to return to normal diet, use of post-operative medications, and bleeding outcomes (primary, secondary, readmission due to bleeding, re-operation due to bleeding).\n",
    "\n",
    "\n",
    "## Key Question 3 \n",
    "\n",
    "**Do benefits and harms differ between partial tonsillectomy and total tonsillectomy?**\n",
    "\n",
    "The relative effect of full compared to partial tonsillectomy may be evaluated using an indicator variable for full tonsillectomy relative to a baseline effect of partial tonsillectomy (or the reverse, depending on the prevalence of each intervention in the available data). Depending on whether counts of harms or continuous differences in diet return times are being modeled as the response, this effect can be modeled as:\n",
    "\n",
    "$$\\theta_{ki} = g(\\beta_0 + \\beta_1 I(x^{(full)}_{ki}))$$\n",
    "\n",
    "where $I$ is the indicator function that evaluates to one if $x^{(full)}_{ki}$ is true (indicating full tonsillectomy) and zero otherwise, and $g$ is an appropriate transformation, depending on the type of outcome (*e.g.* inverse-logit if we are modeling binomial counts of harms). As with KQ4, indication should also be included as a covariate. As with KQ 3, outcomes of interest include time to return to normal diet, use of post-operative medications, and bleeding outcomes (primary, secondary, readmission due to bleeding, re-operation due to bleeding).\n",
    "\n",
    "An efficient approach to addressing this question may be to use a common model for KQ 3 and 4, with partial vs total removal simply included as a covariate in the KQ 3 model. Potentially, this would allow for comparisons of surgical technique within the partial/total subpopulation, using explicit interaction effects in the model."
   ]
  },
  {
   "cell_type": "markdown",
   "metadata": {},
   "source": [
    "## Import and Clean Data"
   ]
  },
  {
   "cell_type": "code",
   "execution_count": 95,
   "metadata": {
    "collapsed": false
   },
   "outputs": [],
   "source": [
    "outcomes = pd.read_excel('data/Tonsillectomy_Master_Outcome_data_Comparative_studies_04112016.xlsx', \n",
    "              sheetname='All_outcomes_KQ3-6', \n",
    "              na_values=['null', 'ND', 'NR'])"
   ]
  },
  {
   "cell_type": "code",
   "execution_count": 96,
   "metadata": {
    "collapsed": false
   },
   "outputs": [
    {
     "data": {
      "text/html": [
       "<div>\n",
       "<table border=\"1\" class=\"dataframe\">\n",
       "  <thead>\n",
       "    <tr style=\"text-align: right;\">\n",
       "      <th></th>\n",
       "      <th>Citation</th>\n",
       "      <th>REFID</th>\n",
       "      <th>Child Paper</th>\n",
       "      <th>Number of \n",
       "Arms</th>\n",
       "      <th>Rx Grouping</th>\n",
       "      <th>Group_Desc</th>\n",
       "      <th>Intervention_Category</th>\n",
       "      <th>Dose</th>\n",
       "      <th>Route</th>\n",
       "      <th>Rx_Durn</th>\n",
       "      <th>...</th>\n",
       "      <th>Outcome \n",
       "_Q3</th>\n",
       "      <th>Outcome\n",
       "  Min</th>\n",
       "      <th>Outcome \n",
       " Max</th>\n",
       "      <th>Outcome \n",
       " 95% L</th>\n",
       "      <th>Outcome \n",
       " 95% H</th>\n",
       "      <th>Other stats \n",
       "Name</th>\n",
       "      <th>Other Stats</th>\n",
       "      <th>Results</th>\n",
       "      <th>Comments</th>\n",
       "      <th>Comments 2</th>\n",
       "    </tr>\n",
       "  </thead>\n",
       "  <tbody>\n",
       "    <tr>\n",
       "      <th>0</th>\n",
       "      <td>K. W. Chang.  Intracapsular versus subcapsular...</td>\n",
       "      <td>2428</td>\n",
       "      <td>NaN</td>\n",
       "      <td>2</td>\n",
       "      <td>G1:</td>\n",
       "      <td>Intracapsular coblation tonsillectomy</td>\n",
       "      <td>partial coblation</td>\n",
       "      <td>NaN</td>\n",
       "      <td>NaN</td>\n",
       "      <td>NaN</td>\n",
       "      <td>...</td>\n",
       "      <td>NaN</td>\n",
       "      <td>NaN</td>\n",
       "      <td>NaN</td>\n",
       "      <td>NaN</td>\n",
       "      <td>NaN</td>\n",
       "      <td>Outcome Mean %</td>\n",
       "      <td>56</td>\n",
       "      <td>G1 vs. G2, p = 0.0549</td>\n",
       "      <td>return to normal diet data presented as \"mean ...</td>\n",
       "      <td>NaN</td>\n",
       "    </tr>\n",
       "    <tr>\n",
       "      <th>1</th>\n",
       "      <td>K. W. Chang.  Intracapsular versus subcapsular...</td>\n",
       "      <td>2428</td>\n",
       "      <td>NaN</td>\n",
       "      <td>2</td>\n",
       "      <td>G2:</td>\n",
       "      <td>Subcapsular coblation tonsillectomy</td>\n",
       "      <td>total coblation</td>\n",
       "      <td>NaN</td>\n",
       "      <td>NaN</td>\n",
       "      <td>NaN</td>\n",
       "      <td>...</td>\n",
       "      <td>NaN</td>\n",
       "      <td>NaN</td>\n",
       "      <td>NaN</td>\n",
       "      <td>NaN</td>\n",
       "      <td>NaN</td>\n",
       "      <td>Outcome Mean %</td>\n",
       "      <td>42</td>\n",
       "      <td>NaN</td>\n",
       "      <td>NaN</td>\n",
       "      <td>NaN</td>\n",
       "    </tr>\n",
       "    <tr>\n",
       "      <th>2</th>\n",
       "      <td>K. W. Chang.  Intracapsular versus subcapsular...</td>\n",
       "      <td>2428</td>\n",
       "      <td>NaN</td>\n",
       "      <td>2</td>\n",
       "      <td>G1:</td>\n",
       "      <td>Intracapsular coblation tonsillectomy</td>\n",
       "      <td>partial coblation</td>\n",
       "      <td>NaN</td>\n",
       "      <td>NaN</td>\n",
       "      <td>NaN</td>\n",
       "      <td>...</td>\n",
       "      <td>NaN</td>\n",
       "      <td>NaN</td>\n",
       "      <td>NaN</td>\n",
       "      <td>NaN</td>\n",
       "      <td>NaN</td>\n",
       "      <td>Outcome Mean %</td>\n",
       "      <td>73</td>\n",
       "      <td>G1 vs. G2, p &lt; 0.05</td>\n",
       "      <td>return to normal activity reported as \"mean pe...</td>\n",
       "      <td>NaN</td>\n",
       "    </tr>\n",
       "  </tbody>\n",
       "</table>\n",
       "<p>3 rows × 37 columns</p>\n",
       "</div>"
      ],
      "text/plain": [
       "                                            Citation REFID  Child Paper  \\\n",
       "0  K. W. Chang.  Intracapsular versus subcapsular...  2428          NaN   \n",
       "1  K. W. Chang.  Intracapsular versus subcapsular...  2428          NaN   \n",
       "2  K. W. Chang.  Intracapsular versus subcapsular...  2428          NaN   \n",
       "\n",
       "   Number of \\nArms Rx Grouping                             Group_Desc  \\\n",
       "0                 2         G1:  Intracapsular coblation tonsillectomy   \n",
       "1                 2         G2:    Subcapsular coblation tonsillectomy   \n",
       "2                 2         G1:  Intracapsular coblation tonsillectomy   \n",
       "\n",
       "  Intervention_Category Dose Route Rx_Durn     ...     Outcome \\n_Q3  \\\n",
       "0     partial coblation  NaN   NaN     NaN     ...               NaN   \n",
       "1       total coblation  NaN   NaN     NaN     ...               NaN   \n",
       "2     partial coblation  NaN   NaN     NaN     ...               NaN   \n",
       "\n",
       "  Outcome\\n  Min Outcome \\n Max Outcome \\n 95% L Outcome \\n 95% H  \\\n",
       "0            NaN            NaN              NaN              NaN   \n",
       "1            NaN            NaN              NaN              NaN   \n",
       "2            NaN            NaN              NaN              NaN   \n",
       "\n",
       "  Other stats \\nName Other Stats                Results  \\\n",
       "0     Outcome Mean %          56  G1 vs. G2, p = 0.0549   \n",
       "1     Outcome Mean %          42                    NaN   \n",
       "2     Outcome Mean %          73    G1 vs. G2, p < 0.05   \n",
       "\n",
       "                                            Comments  Comments 2  \n",
       "0  return to normal diet data presented as \"mean ...         NaN  \n",
       "1                                                NaN         NaN  \n",
       "2  return to normal activity reported as \"mean pe...         NaN  \n",
       "\n",
       "[3 rows x 37 columns]"
      ]
     },
     "execution_count": 96,
     "metadata": {},
     "output_type": "execute_result"
    }
   ],
   "source": [
    "outcomes.head(3)"
   ]
  },
  {
   "cell_type": "code",
   "execution_count": 97,
   "metadata": {
    "collapsed": true
   },
   "outputs": [],
   "source": [
    "study_info = pd.read_excel('data/Tonsillectomy_Master_Outcome_data_Comparative_studies_04112016.xlsx', \n",
    "              sheetname='BASIC_Charact', \n",
    "              na_values=['null', 'ND'])"
   ]
  },
  {
   "cell_type": "code",
   "execution_count": 98,
   "metadata": {
    "collapsed": false
   },
   "outputs": [
    {
     "data": {
      "text/html": [
       "<div>\n",
       "<table border=\"1\" class=\"dataframe\">\n",
       "  <thead>\n",
       "    <tr style=\"text-align: right;\">\n",
       "      <th></th>\n",
       "      <th>REFID</th>\n",
       "      <th>Child_ID</th>\n",
       "      <th>Population_Catg</th>\n",
       "      <th>Diagnostic Method</th>\n",
       "      <th>Population\n",
       " specify</th>\n",
       "      <th>Trial name</th>\n",
       "      <th>Study Design</th>\n",
       "      <th>Rx setting</th>\n",
       "      <th>Intervention TMPT</th>\n",
       "      <th>Rx Durn</th>\n",
       "      <th>...</th>\n",
       "      <th>N_Rx_Completed</th>\n",
       "      <th>N1</th>\n",
       "      <th>N2</th>\n",
       "      <th>N3</th>\n",
       "      <th>N4</th>\n",
       "      <th>N5</th>\n",
       "      <th>Age(years) \n",
       "Mean ±SD/ range</th>\n",
       "      <th>Antibiotics given \n",
       "at any time</th>\n",
       "      <th>Comments</th>\n",
       "      <th>Comments 2</th>\n",
       "    </tr>\n",
       "  </thead>\n",
       "  <tbody>\n",
       "    <tr>\n",
       "      <th>0</th>\n",
       "      <td>806 _534_359_164_195_120</td>\n",
       "      <td>NaN</td>\n",
       "      <td>OSDB</td>\n",
       "      <td>PSG</td>\n",
       "      <td>obstructive sleep apnea syndrome without prolo...</td>\n",
       "      <td>CHAT</td>\n",
       "      <td>RCT</td>\n",
       "      <td>Sleep centers</td>\n",
       "      <td>surgery</td>\n",
       "      <td>NaN</td>\n",
       "      <td>...</td>\n",
       "      <td>397</td>\n",
       "      <td>194.0</td>\n",
       "      <td>203.0</td>\n",
       "      <td>NaN</td>\n",
       "      <td>NaN</td>\n",
       "      <td>NaN</td>\n",
       "      <td>5 to 9.9</td>\n",
       "      <td>No</td>\n",
       "      <td>subgroup analysis by race, obesity</td>\n",
       "      <td>NaN</td>\n",
       "    </tr>\n",
       "    <tr>\n",
       "      <th>1</th>\n",
       "      <td>3241</td>\n",
       "      <td>NaN</td>\n",
       "      <td>OSDB</td>\n",
       "      <td>PSG</td>\n",
       "      <td>Children with OSA</td>\n",
       "      <td>NaN</td>\n",
       "      <td>RCT</td>\n",
       "      <td>Pediatric otolaryngology private office and cl...</td>\n",
       "      <td>surgery</td>\n",
       "      <td>NaN</td>\n",
       "      <td>...</td>\n",
       "      <td>41</td>\n",
       "      <td>21.0</td>\n",
       "      <td>11.0</td>\n",
       "      <td>9.0</td>\n",
       "      <td>NaN</td>\n",
       "      <td>NaN</td>\n",
       "      <td>2 to 14</td>\n",
       "      <td>No</td>\n",
       "      <td>Mean age of the children who completed the pro...</td>\n",
       "      <td>NaN</td>\n",
       "    </tr>\n",
       "    <tr>\n",
       "      <th>2</th>\n",
       "      <td>546</td>\n",
       "      <td>NaN</td>\n",
       "      <td>OSDB</td>\n",
       "      <td>PSG</td>\n",
       "      <td>Children with clinically suspected SDB and hea...</td>\n",
       "      <td>NaN</td>\n",
       "      <td>Prospective cohort</td>\n",
       "      <td>recruited from previous SDB study on blood pre...</td>\n",
       "      <td>surgery</td>\n",
       "      <td>NaN</td>\n",
       "      <td>...</td>\n",
       "      <td>38</td>\n",
       "      <td>12.0</td>\n",
       "      <td>26.0</td>\n",
       "      <td>NaN</td>\n",
       "      <td>NaN</td>\n",
       "      <td>NaN</td>\n",
       "      <td>7 to 12</td>\n",
       "      <td>No</td>\n",
       "      <td>Did not extract data for control arm in the ou...</td>\n",
       "      <td>NaN</td>\n",
       "    </tr>\n",
       "    <tr>\n",
       "      <th>3</th>\n",
       "      <td>2294</td>\n",
       "      <td>NaN</td>\n",
       "      <td>OSDB</td>\n",
       "      <td>videonasopharyngoscopic study with pharyngeal ...</td>\n",
       "      <td>Pediatric patients with pharyngeal and palatin...</td>\n",
       "      <td>NaN</td>\n",
       "      <td>Prospective cohort</td>\n",
       "      <td>Otorhinolaryngology public service</td>\n",
       "      <td>surgery</td>\n",
       "      <td>NaN</td>\n",
       "      <td>...</td>\n",
       "      <td>22</td>\n",
       "      <td>12.0</td>\n",
       "      <td>10.0</td>\n",
       "      <td>NaN</td>\n",
       "      <td>NaN</td>\n",
       "      <td>NaN</td>\n",
       "      <td>3y4m to 10y3m</td>\n",
       "      <td>No</td>\n",
       "      <td>G1: 3 years 4 month to 9 years 8 month; G2: 4 ...</td>\n",
       "      <td>NaN</td>\n",
       "    </tr>\n",
       "    <tr>\n",
       "      <th>4</th>\n",
       "      <td>1729</td>\n",
       "      <td>NaN</td>\n",
       "      <td>OSDB</td>\n",
       "      <td>PSG</td>\n",
       "      <td>Children with PSG-proven OSA</td>\n",
       "      <td>NaN</td>\n",
       "      <td>Prospective cohort</td>\n",
       "      <td>Sleep-wake disorder unit</td>\n",
       "      <td>surgery</td>\n",
       "      <td>NaN</td>\n",
       "      <td>...</td>\n",
       "      <td>20</td>\n",
       "      <td>14.0</td>\n",
       "      <td>6.0</td>\n",
       "      <td>NaN</td>\n",
       "      <td>NaN</td>\n",
       "      <td>NaN</td>\n",
       "      <td>G1: 6.4±2.5 G2: 5.4±2.3</td>\n",
       "      <td>No</td>\n",
       "      <td>NaN</td>\n",
       "      <td>NaN</td>\n",
       "    </tr>\n",
       "  </tbody>\n",
       "</table>\n",
       "<p>5 rows × 31 columns</p>\n",
       "</div>"
      ],
      "text/plain": [
       "                      REFID  Child_ID Population_Catg  \\\n",
       "0  806 _534_359_164_195_120       NaN            OSDB   \n",
       "1                      3241       NaN            OSDB   \n",
       "2                       546       NaN            OSDB   \n",
       "3                      2294       NaN            OSDB   \n",
       "4                      1729       NaN            OSDB   \n",
       "\n",
       "                                   Diagnostic Method  \\\n",
       "0                                                PSG   \n",
       "1                                                PSG   \n",
       "2                                                PSG   \n",
       "3  videonasopharyngoscopic study with pharyngeal ...   \n",
       "4                                                PSG   \n",
       "\n",
       "                                Population\\n specify Trial name  \\\n",
       "0  obstructive sleep apnea syndrome without prolo...       CHAT   \n",
       "1                                  Children with OSA        NaN   \n",
       "2  Children with clinically suspected SDB and hea...        NaN   \n",
       "3  Pediatric patients with pharyngeal and palatin...        NaN   \n",
       "4                       Children with PSG-proven OSA        NaN   \n",
       "\n",
       "         Study Design                                       Rx setting\\n  \\\n",
       "0                 RCT                                      Sleep centers   \n",
       "1                 RCT  Pediatric otolaryngology private office and cl...   \n",
       "2  Prospective cohort  recruited from previous SDB study on blood pre...   \n",
       "3  Prospective cohort                 Otorhinolaryngology public service   \n",
       "4  Prospective cohort                           Sleep-wake disorder unit   \n",
       "\n",
       "  Intervention TMPT Rx Durn    ...     N_Rx_Completed     N1     N2   N3  N4  \\\n",
       "0           surgery     NaN    ...                397  194.0  203.0  NaN NaN   \n",
       "1           surgery     NaN    ...                 41   21.0   11.0  9.0 NaN   \n",
       "2           surgery     NaN    ...                 38   12.0   26.0  NaN NaN   \n",
       "3           surgery     NaN    ...                 22   12.0   10.0  NaN NaN   \n",
       "4           surgery     NaN    ...                 20   14.0    6.0  NaN NaN   \n",
       "\n",
       "    N5 Age(years) \\nMean ±SD/ range Antibiotics given \\nat any time  \\\n",
       "0  NaN                     5 to 9.9                              No   \n",
       "1  NaN                      2 to 14                              No   \n",
       "2  NaN                      7 to 12                              No   \n",
       "3  NaN                3y4m to 10y3m                              No   \n",
       "4  NaN      G1: 6.4±2.5 G2: 5.4±2.3                              No   \n",
       "\n",
       "                                            Comments Comments 2  \n",
       "0                 subgroup analysis by race, obesity        NaN  \n",
       "1  Mean age of the children who completed the pro...        NaN  \n",
       "2  Did not extract data for control arm in the ou...        NaN  \n",
       "3  G1: 3 years 4 month to 9 years 8 month; G2: 4 ...        NaN  \n",
       "4                                                NaN        NaN  \n",
       "\n",
       "[5 rows x 31 columns]"
      ]
     },
     "execution_count": 98,
     "metadata": {},
     "output_type": "execute_result"
    }
   ],
   "source": [
    "study_info.head()"
   ]
  },
  {
   "cell_type": "code",
   "execution_count": 99,
   "metadata": {
    "collapsed": false
   },
   "outputs": [
    {
     "data": {
      "text/plain": [
       "Index(['Citation', 'REFID', 'Child Paper', 'Number of \\nArms', 'Rx Grouping',\n",
       "       'Group_Desc', 'Intervention_Category', 'Dose', 'Route', 'Rx_Durn',\n",
       "       'Last Assesment tmpt for the study', 'Followup duration category',\n",
       "       'OUTC_Main_\\nCATG', 'Outc_SUB_\\nCATG', 'Outcome_specify',\n",
       "       'Presentation \\nlocation', 'Outc_Unit', 'Outc_Tool',\n",
       "       'Outcome timepoint (when was this outcome measured, e.g., in PACU, 12 months post-op, immediately post-op--would need a row for each outcome at each timepoint of interest)',\n",
       "       'Outcome sample size', 'Outcome\\ncount', 'Outcome  \\n%',\n",
       "       'Outcome\\n Mean', 'Outcome \\nSD', 'Outcome \\n SE', 'Outcome \\n Median',\n",
       "       'Outcome\\n _Q1', 'Outcome \\n_Q3', 'Outcome\\n  Min', 'Outcome \\n Max',\n",
       "       'Outcome \\n 95% L', 'Outcome \\n 95% H', 'Other stats \\nName',\n",
       "       'Other Stats', 'Results', 'Comments', 'Comments 2'],\n",
       "      dtype='object')"
      ]
     },
     "execution_count": 99,
     "metadata": {},
     "output_type": "execute_result"
    }
   ],
   "source": [
    "outcomes.columns"
   ]
  },
  {
   "cell_type": "code",
   "execution_count": 139,
   "metadata": {
    "collapsed": false
   },
   "outputs": [
    {
     "data": {
      "text/html": [
       "<div>\n",
       "<table border=\"1\" class=\"dataframe\">\n",
       "  <thead>\n",
       "    <tr style=\"text-align: right;\">\n",
       "      <th></th>\n",
       "      <th>REFID</th>\n",
       "      <th>Intervention_Category</th>\n",
       "      <th>Outcome_cat</th>\n",
       "      <th>Outcome_subcat</th>\n",
       "      <th>Outcome_specify</th>\n",
       "      <th>Study Design</th>\n",
       "      <th>Population_Catg</th>\n",
       "      <th>Outcome_n</th>\n",
       "      <th>Outcome_count</th>\n",
       "      <th>Outcome_mean</th>\n",
       "      <th>Outcome_sd</th>\n",
       "      <th>Outc_Unit</th>\n",
       "    </tr>\n",
       "  </thead>\n",
       "  <tbody>\n",
       "    <tr>\n",
       "      <th>0</th>\n",
       "      <td>2428</td>\n",
       "      <td>partial coblation</td>\n",
       "      <td>Return to normal diet</td>\n",
       "      <td>Time to Return to normal diet</td>\n",
       "      <td>return to normal diet (mean % of diet resumed)</td>\n",
       "      <td>RCT</td>\n",
       "      <td>OSDB</td>\n",
       "      <td>34.0</td>\n",
       "      <td>NaN</td>\n",
       "      <td>NaN</td>\n",
       "      <td>NaN</td>\n",
       "      <td>NaN</td>\n",
       "    </tr>\n",
       "    <tr>\n",
       "      <th>1</th>\n",
       "      <td>2428</td>\n",
       "      <td>total coblation</td>\n",
       "      <td>Return to normal diet</td>\n",
       "      <td>Time to Return to normal diet</td>\n",
       "      <td>return to normal diet (mean % of diet resumed)</td>\n",
       "      <td>RCT</td>\n",
       "      <td>OSDB</td>\n",
       "      <td>35.0</td>\n",
       "      <td>NaN</td>\n",
       "      <td>NaN</td>\n",
       "      <td>NaN</td>\n",
       "      <td>NaN</td>\n",
       "    </tr>\n",
       "    <tr>\n",
       "      <th>2</th>\n",
       "      <td>2428</td>\n",
       "      <td>partial coblation</td>\n",
       "      <td>Return to normal diet</td>\n",
       "      <td>Time to Return to normal diet</td>\n",
       "      <td>return to normal diet (mean % of diet resumed)</td>\n",
       "      <td>RCT</td>\n",
       "      <td>OSDB</td>\n",
       "      <td>34.0</td>\n",
       "      <td>NaN</td>\n",
       "      <td>NaN</td>\n",
       "      <td>NaN</td>\n",
       "      <td>NaN</td>\n",
       "    </tr>\n",
       "    <tr>\n",
       "      <th>3</th>\n",
       "      <td>2428</td>\n",
       "      <td>total coblation</td>\n",
       "      <td>Return to normal diet</td>\n",
       "      <td>Time to Return to normal diet</td>\n",
       "      <td>return to normal diet (mean % of diet resumed)</td>\n",
       "      <td>RCT</td>\n",
       "      <td>OSDB</td>\n",
       "      <td>35.0</td>\n",
       "      <td>NaN</td>\n",
       "      <td>NaN</td>\n",
       "      <td>NaN</td>\n",
       "      <td>NaN</td>\n",
       "    </tr>\n",
       "    <tr>\n",
       "      <th>4</th>\n",
       "      <td>2428</td>\n",
       "      <td>partial coblation</td>\n",
       "      <td>Return to normal activity</td>\n",
       "      <td>Time to Return to normal activity</td>\n",
       "      <td>return to normal activity (mean % of activity ...</td>\n",
       "      <td>RCT</td>\n",
       "      <td>OSDB</td>\n",
       "      <td>34.0</td>\n",
       "      <td>NaN</td>\n",
       "      <td>NaN</td>\n",
       "      <td>NaN</td>\n",
       "      <td>NaN</td>\n",
       "    </tr>\n",
       "  </tbody>\n",
       "</table>\n",
       "</div>"
      ],
      "text/plain": [
       "  REFID Intervention_Category                Outcome_cat  \\\n",
       "0  2428     partial coblation      Return to normal diet   \n",
       "1  2428       total coblation      Return to normal diet   \n",
       "2  2428     partial coblation      Return to normal diet   \n",
       "3  2428       total coblation      Return to normal diet   \n",
       "4  2428     partial coblation  Return to normal activity   \n",
       "\n",
       "                      Outcome_subcat  \\\n",
       "0     Time to Return to normal diet    \n",
       "1     Time to Return to normal diet    \n",
       "2     Time to Return to normal diet    \n",
       "3     Time to Return to normal diet    \n",
       "4  Time to Return to normal activity   \n",
       "\n",
       "                                     Outcome_specify Study Design  \\\n",
       "0     return to normal diet (mean % of diet resumed)          RCT   \n",
       "1     return to normal diet (mean % of diet resumed)          RCT   \n",
       "2     return to normal diet (mean % of diet resumed)          RCT   \n",
       "3     return to normal diet (mean % of diet resumed)          RCT   \n",
       "4  return to normal activity (mean % of activity ...          RCT   \n",
       "\n",
       "  Population_Catg  Outcome_n  Outcome_count  Outcome_mean  Outcome_sd  \\\n",
       "0            OSDB       34.0            NaN           NaN         NaN   \n",
       "1            OSDB       35.0            NaN           NaN         NaN   \n",
       "2            OSDB       34.0            NaN           NaN         NaN   \n",
       "3            OSDB       35.0            NaN           NaN         NaN   \n",
       "4            OSDB       34.0            NaN           NaN         NaN   \n",
       "\n",
       "  Outc_Unit  \n",
       "0       NaN  \n",
       "1       NaN  \n",
       "2       NaN  \n",
       "3       NaN  \n",
       "4       NaN  "
      ]
     },
     "execution_count": 139,
     "metadata": {},
     "output_type": "execute_result"
    }
   ],
   "source": [
    "data_merged = (outcomes.merge(study_info, on='REFID')[['REFID', \n",
    "                                                      'Intervention_Category', \n",
    "                                                      'OUTC_Main_\\nCATG', \n",
    "                                                      'Outc_SUB_\\nCATG',\n",
    "                                                      'Outcome_specify',\n",
    "                                                      'Study Design', \n",
    "                                                      'Population_Catg', \n",
    "                                                      'Outcome sample size',\n",
    "                                                      'Outcome\\ncount',\n",
    "                                                      'Outcome\\n Mean', \n",
    "                                                      'Outcome \\nSD',\n",
    "                                                      'Outc_Unit']]\n",
    "               .rename(columns={'OUTC_Main_\\nCATG':'Outcome_cat', \n",
    "                                'Outc_SUB_\\nCATG':'Outcome_subcat',\n",
    "                                'Outcome\\ncount':'Outcome_count',\n",
    "                                'Outcome\\n Mean':'Outcome_mean',\n",
    "                                'Outcome \\nSD':'Outcome_sd',\n",
    "                                'Outcome sample size':'Outcome_n'}))\n",
    "data_merged.head()"
   ]
  },
  {
   "cell_type": "code",
   "execution_count": 143,
   "metadata": {
    "collapsed": false
   },
   "outputs": [
    {
     "data": {
      "text/plain": [
       "Study Design          Intervention_Category                                 \n",
       "Non-randomized trial  partial coblation                                          838\n",
       "                      perioperative steroid                                      248\n",
       "                      placebo                                                    232\n",
       "                      postoperative analgesic                                    450\n",
       "                      postoperative nsaid                                        230\n",
       "                      total bilateral                                             90\n",
       "                      total coblation                                             42\n",
       "                      total cold                                                1998\n",
       "                      total electrocautery                                      1272\n",
       "                      total thermal welding                                      416\n",
       "                      total unilateral                                            75\n",
       "Prospective cohort    total cold                                                  84\n",
       "                      total electrocautery                                        87\n",
       "RCT                   control (no dexamethasone)                                 653\n",
       "                      control (no rx)                                             70\n",
       "                      no antibiotics                                             153\n",
       "                      no steroid                                                 207\n",
       "                      orogastric suction                                          30\n",
       "                      partial coblation                                         1134\n",
       "                      partial cold                                               471\n",
       "                      partial electrocautery                                      87\n",
       "                      partial laser                                              160\n",
       "                      partial microdebrider                                      880\n",
       "                      perioperative analgesic                                    110\n",
       "                      perioperative anesthetic                                   435\n",
       "                      perioperative anti-convulsant                               30\n",
       "                      perioperative antiemetic                                  1642\n",
       "                      perioperative local anesthetic                             120\n",
       "                      perioperative nsaid                                       1395\n",
       "                      perioperative opiate analgesic                             182\n",
       "                      perioperative opioid analgesic                              30\n",
       "                      perioperative steroid                                     5598\n",
       "                      placebo                                                   3938\n",
       "                      postoperative analgesic                                   1068\n",
       "                      postoperative antibiotic with beta lactamase inhibitor     162\n",
       "                      postoperative nsaid                                        880\n",
       "                      postoperative steroid                                      389\n",
       "                      preoperative analgesic                                      26\n",
       "                      preoperative and postoperative nsaid                       484\n",
       "                      preoperative nsaid                                          24\n",
       "                      salvia officinalis oral rinse                              140\n",
       "                      total coblation                                           3216\n",
       "                      total cold                                                7573\n",
       "                      total electrocautery                                      7031\n",
       "                      total electrocautery + total cold                          100\n",
       "                      total harmonic scalpel                                    2424\n",
       "                      total laser                                                616\n",
       "                      total microdebrider                                        147\n",
       "                      total molecular resonance                                 3016\n",
       "                      total not specified                                         97\n",
       "                      total thermal welding                                      386\n",
       "Name: Outcome_n, dtype: int64"
      ]
     },
     "execution_count": 143,
     "metadata": {},
     "output_type": "execute_result"
    }
   ],
   "source": [
    "data_merged.groupby(['Study Design', 'Intervention_Category'])['Outcome_n'].sum().astype(int)"
   ]
  },
  {
   "cell_type": "code",
   "execution_count": 144,
   "metadata": {
    "collapsed": false
   },
   "outputs": [],
   "source": [
    "data_merged['Intervention_Category'] = data_merged.Intervention_Category.str.lower().str.strip()\n",
    "clean_data = data_merged.replace({'Intervention_Category':{'saline':'control',\n",
    "                        'control (no rx)':'control',\n",
    "                        'control (no dexamethasone)':'control',\n",
    "                        'no antibiotics':'control',\n",
    "                        'no steroid':'control',\n",
    "                        'placebo':'control'}})"
   ]
  },
  {
   "cell_type": "code",
   "execution_count": 145,
   "metadata": {
    "collapsed": false
   },
   "outputs": [],
   "source": [
    "surgery_data = clean_data[clean_data.Intervention_Category.str.contains('total') \n",
    "                   | clean_data.Intervention_Category.str.contains('partial')].copy()"
   ]
  },
  {
   "cell_type": "markdown",
   "metadata": {},
   "source": [
    "Indicator variable for partial tonsillectomy"
   ]
  },
  {
   "cell_type": "code",
   "execution_count": 146,
   "metadata": {
    "collapsed": false
   },
   "outputs": [],
   "source": [
    "surgery_data['partial'] = surgery_data.Intervention_Category.str.contains('partial')"
   ]
  },
  {
   "cell_type": "markdown",
   "metadata": {},
   "source": [
    "Surgical technique"
   ]
  },
  {
   "cell_type": "code",
   "execution_count": 147,
   "metadata": {
    "collapsed": true
   },
   "outputs": [],
   "source": [
    "surgery_data['technique'] = (surgery_data.Intervention_Category\n",
    "        .apply(lambda x: ' '.join(x.split(' ')[1:]))\n",
    "        .replace({'tonsillectomy - coblation':'coblation'}))\n",
    "\n",
    "surgery_data = surgery_data[~(surgery_data.technique.str.contains('specified')|\n",
    "                             surgery_data.technique.str.contains('\\+'))]"
   ]
  },
  {
   "cell_type": "code",
   "execution_count": 148,
   "metadata": {
    "collapsed": false
   },
   "outputs": [
    {
     "data": {
      "text/plain": [
       "cold                   135\n",
       "electrocautery         134\n",
       "coblation              113\n",
       "harmonic scalpel        30\n",
       "laser                   21\n",
       "molecular resonance     19\n",
       "microdebrider           16\n",
       "thermal welding         13\n",
       "bilateral                1\n",
       "unilateral               1\n",
       "Name: technique, dtype: int64"
      ]
     },
     "execution_count": 148,
     "metadata": {},
     "output_type": "execute_result"
    }
   ],
   "source": [
    "surgery_data.technique.value_counts()"
   ]
  },
  {
   "cell_type": "markdown",
   "metadata": {},
   "source": [
    "Drop poorly-represented methods"
   ]
  },
  {
   "cell_type": "code",
   "execution_count": 149,
   "metadata": {
    "collapsed": true
   },
   "outputs": [],
   "source": [
    "technique_includes = surgery_data.technique.value_counts().index[:-2].tolist()\n",
    "surgery_data = surgery_data[surgery_data.technique.isin(technique_includes)]"
   ]
  },
  {
   "cell_type": "code",
   "execution_count": 150,
   "metadata": {
    "collapsed": false
   },
   "outputs": [
    {
     "data": {
      "text/plain": [
       "['cold',\n",
       " 'electrocautery',\n",
       " 'coblation',\n",
       " 'harmonic scalpel',\n",
       " 'laser',\n",
       " 'molecular resonance',\n",
       " 'microdebrider',\n",
       " 'thermal welding']"
      ]
     },
     "execution_count": 150,
     "metadata": {},
     "output_type": "execute_result"
    }
   ],
   "source": [
    "technique_includes"
   ]
  },
  {
   "cell_type": "code",
   "execution_count": 151,
   "metadata": {
    "collapsed": false
   },
   "outputs": [
    {
     "data": {
      "text/plain": [
       "Harms                        306\n",
       "Return to normal diet         74\n",
       "Return to normal activity     50\n",
       "Throat infection              10\n",
       "Health                        10\n",
       "Tonsillar regrowth             8\n",
       "Sleep                          8\n",
       "Pain management                7\n",
       "Return to School               4\n",
       "Cognitive                      2\n",
       "QOL                            2\n",
       "Name: Outcome_cat, dtype: int64"
      ]
     },
     "execution_count": 151,
     "metadata": {},
     "output_type": "execute_result"
    }
   ],
   "source": [
    "surgery_data.Outcome_cat.value_counts()"
   ]
  },
  {
   "cell_type": "markdown",
   "metadata": {},
   "source": [
    "Pool throat infection with harms"
   ]
  },
  {
   "cell_type": "code",
   "execution_count": 152,
   "metadata": {
    "collapsed": false
   },
   "outputs": [],
   "source": [
    "surgery_data = surgery_data.replace({'Outcome_cat':{'Throat infection':'Harms'}})"
   ]
  },
  {
   "cell_type": "code",
   "execution_count": 153,
   "metadata": {
    "collapsed": false
   },
   "outputs": [
    {
     "data": {
      "text/plain": [
       "Harms: Post-op bleeding                150\n",
       "Harms-Re-operation for bleeding         49\n",
       "Harms- readmission for dehydration      34\n",
       "Harms- readmission for bleeding         27\n",
       "Harms- readmission for PONV             11\n",
       "Harms-Death-30 day                      10\n",
       "Throat infection-number                  8\n",
       "Harms- readmission for post-op pain      6\n",
       "Harms-other                              6\n",
       "Harms- ER visit for post-op pain         3\n",
       "Harms- ER visit-Unspecified              2\n",
       "Harms- ER visit for bleeding             2\n",
       "Throat infection-# strep infections      2\n",
       "Harms-Hospital admission                 2\n",
       "Harms-Velopharyngeal insufficiency       2\n",
       "Harms - readmission for dehydration      2\n",
       "Name: Outcome_subcat, dtype: int64"
      ]
     },
     "execution_count": 153,
     "metadata": {},
     "output_type": "execute_result"
    }
   ],
   "source": [
    "surgery_data[surgery_data.Outcome_cat=='Harms'].Outcome_subcat.value_counts()"
   ]
  },
  {
   "cell_type": "markdown",
   "metadata": {},
   "source": [
    "Subset of return to normal diet/activity"
   ]
  },
  {
   "cell_type": "code",
   "execution_count": 154,
   "metadata": {
    "collapsed": true
   },
   "outputs": [],
   "source": [
    "return_subset = surgery_data[surgery_data.Outcome_cat.str.startswith('Return to normal') &\n",
    "                            (surgery_data.Outc_Unit=='days')]"
   ]
  },
  {
   "cell_type": "code",
   "execution_count": 155,
   "metadata": {
    "collapsed": false
   },
   "outputs": [],
   "source": [
    "dummies = pd.get_dummies(return_subset.Outcome_cat).T\n",
    "outcome_means = (dummies * return_subset.Outcome_mean).T\n",
    "outcome_means.columns = 'activity_mean', 'diet_mean'\n",
    "outcome_sds = (dummies * return_subset.Outcome_sd).T.dropna()\n",
    "outcome_sds.columns = 'activity_sd', 'diet_sd'"
   ]
  },
  {
   "cell_type": "code",
   "execution_count": 166,
   "metadata": {
    "collapsed": false
   },
   "outputs": [],
   "source": [
    "return_outcomes = pd.merge(outcome_means, outcome_sds, left_index=True, right_index=True)"
   ]
  },
  {
   "cell_type": "code",
   "execution_count": 167,
   "metadata": {
    "collapsed": true
   },
   "outputs": [],
   "source": [
    "merged_data = surgery_data.merge(return_outcomes, left_index=True, right_index=True)"
   ]
  },
  {
   "cell_type": "markdown",
   "metadata": {},
   "source": [
    "Summary of data by technique"
   ]
  },
  {
   "cell_type": "code",
   "execution_count": 178,
   "metadata": {
    "collapsed": true
   },
   "outputs": [],
   "source": [
    "np.mean?"
   ]
  },
  {
   "cell_type": "code",
   "execution_count": 179,
   "metadata": {
    "collapsed": false
   },
   "outputs": [
    {
     "data": {
      "text/html": [
       "<div>\n",
       "<table border=\"1\" class=\"dataframe\">\n",
       "  <thead>\n",
       "    <tr style=\"text-align: right;\">\n",
       "      <th></th>\n",
       "      <th></th>\n",
       "      <th>Outcome_n</th>\n",
       "      <th>diet_mean</th>\n",
       "      <th>activity_mean</th>\n",
       "    </tr>\n",
       "    <tr>\n",
       "      <th>REFID</th>\n",
       "      <th>technique</th>\n",
       "      <th></th>\n",
       "      <th></th>\n",
       "      <th></th>\n",
       "    </tr>\n",
       "  </thead>\n",
       "  <tbody>\n",
       "    <tr>\n",
       "      <th>953</th>\n",
       "      <th>cold</th>\n",
       "      <td>101.0</td>\n",
       "      <td>5.4</td>\n",
       "      <td>0.0</td>\n",
       "    </tr>\n",
       "    <tr>\n",
       "      <th rowspan=\"3\" valign=\"top\">1372</th>\n",
       "      <th>cold</th>\n",
       "      <td>99.0</td>\n",
       "      <td>7.0</td>\n",
       "      <td>0.0</td>\n",
       "    </tr>\n",
       "    <tr>\n",
       "      <th>electrocautery</th>\n",
       "      <td>102.0</td>\n",
       "      <td>9.3</td>\n",
       "      <td>0.0</td>\n",
       "    </tr>\n",
       "    <tr>\n",
       "      <th>thermal welding</th>\n",
       "      <td>104.0</td>\n",
       "      <td>7.3</td>\n",
       "      <td>0.0</td>\n",
       "    </tr>\n",
       "    <tr>\n",
       "      <th rowspan=\"3\" valign=\"top\">2198</th>\n",
       "      <th>coblation</th>\n",
       "      <td>92.0</td>\n",
       "      <td>2.4</td>\n",
       "      <td>2.4</td>\n",
       "    </tr>\n",
       "    <tr>\n",
       "      <th>electrocautery</th>\n",
       "      <td>94.0</td>\n",
       "      <td>3.2</td>\n",
       "      <td>3.3</td>\n",
       "    </tr>\n",
       "    <tr>\n",
       "      <th>microdebrider</th>\n",
       "      <td>98.0</td>\n",
       "      <td>2.3</td>\n",
       "      <td>2.3</td>\n",
       "    </tr>\n",
       "    <tr>\n",
       "      <th rowspan=\"2\" valign=\"top\">2891</th>\n",
       "      <th>electrocautery</th>\n",
       "      <td>76.0</td>\n",
       "      <td>2.2</td>\n",
       "      <td>1.9</td>\n",
       "    </tr>\n",
       "    <tr>\n",
       "      <th>microdebrider</th>\n",
       "      <td>72.0</td>\n",
       "      <td>1.4</td>\n",
       "      <td>1.2</td>\n",
       "    </tr>\n",
       "    <tr>\n",
       "      <th rowspan=\"2\" valign=\"top\">3002</th>\n",
       "      <th>cold</th>\n",
       "      <td>8.0</td>\n",
       "      <td>2.8</td>\n",
       "      <td>0.0</td>\n",
       "    </tr>\n",
       "    <tr>\n",
       "      <th>electrocautery</th>\n",
       "      <td>23.0</td>\n",
       "      <td>2.6</td>\n",
       "      <td>0.0</td>\n",
       "    </tr>\n",
       "    <tr>\n",
       "      <th rowspan=\"2\" valign=\"top\">3253</th>\n",
       "      <th>coblation</th>\n",
       "      <td>88.0</td>\n",
       "      <td>2.3</td>\n",
       "      <td>3.7</td>\n",
       "    </tr>\n",
       "    <tr>\n",
       "      <th>electrocautery</th>\n",
       "      <td>90.0</td>\n",
       "      <td>2.6</td>\n",
       "      <td>3.4</td>\n",
       "    </tr>\n",
       "    <tr>\n",
       "      <th rowspan=\"2\" valign=\"top\">6317</th>\n",
       "      <th>coblation</th>\n",
       "      <td>94.0</td>\n",
       "      <td>3.1</td>\n",
       "      <td>3.8</td>\n",
       "    </tr>\n",
       "    <tr>\n",
       "      <th>cold</th>\n",
       "      <td>94.0</td>\n",
       "      <td>4.6</td>\n",
       "      <td>5.8</td>\n",
       "    </tr>\n",
       "  </tbody>\n",
       "</table>\n",
       "</div>"
      ],
      "text/plain": [
       "                       Outcome_n  diet_mean  activity_mean\n",
       "REFID technique                                           \n",
       "953   cold                 101.0        5.4            0.0\n",
       "1372  cold                  99.0        7.0            0.0\n",
       "      electrocautery       102.0        9.3            0.0\n",
       "      thermal welding      104.0        7.3            0.0\n",
       "2198  coblation             92.0        2.4            2.4\n",
       "      electrocautery        94.0        3.2            3.3\n",
       "      microdebrider         98.0        2.3            2.3\n",
       "2891  electrocautery        76.0        2.2            1.9\n",
       "      microdebrider         72.0        1.4            1.2\n",
       "3002  cold                   8.0        2.8            0.0\n",
       "      electrocautery        23.0        2.6            0.0\n",
       "3253  coblation             88.0        2.3            3.7\n",
       "      electrocautery        90.0        2.6            3.4\n",
       "6317  coblation             94.0        3.1            3.8\n",
       "      cold                  94.0        4.6            5.8"
      ]
     },
     "execution_count": 179,
     "metadata": {},
     "output_type": "execute_result"
    }
   ],
   "source": [
    "(merged_data\n",
    "         .groupby(['REFID', 'technique'])\n",
    "        .agg({'Outcome_n': lambda x: int(sum(x)), \n",
    "              'activity_mean': lambda x: np.round(np.mean(x), 1), \n",
    "              'diet_mean': lambda x: np.round(np.mean(x), 1)}))"
   ]
  },
  {
   "cell_type": "markdown",
   "metadata": {},
   "source": [
    "Summary of data by partial vs total removal"
   ]
  },
  {
   "cell_type": "code",
   "execution_count": 180,
   "metadata": {
    "collapsed": false
   },
   "outputs": [
    {
     "data": {
      "text/html": [
       "<div>\n",
       "<table border=\"1\" class=\"dataframe\">\n",
       "  <thead>\n",
       "    <tr style=\"text-align: right;\">\n",
       "      <th></th>\n",
       "      <th></th>\n",
       "      <th>Outcome_n</th>\n",
       "      <th>diet_mean</th>\n",
       "      <th>activity_mean</th>\n",
       "    </tr>\n",
       "    <tr>\n",
       "      <th>REFID</th>\n",
       "      <th>partial</th>\n",
       "      <th></th>\n",
       "      <th></th>\n",
       "      <th></th>\n",
       "    </tr>\n",
       "  </thead>\n",
       "  <tbody>\n",
       "    <tr>\n",
       "      <th rowspan=\"2\" valign=\"top\">953</th>\n",
       "      <th>False</th>\n",
       "      <td>51.0</td>\n",
       "      <td>7.1</td>\n",
       "      <td>0.0</td>\n",
       "    </tr>\n",
       "    <tr>\n",
       "      <th>True</th>\n",
       "      <td>50.0</td>\n",
       "      <td>3.8</td>\n",
       "      <td>0.0</td>\n",
       "    </tr>\n",
       "    <tr>\n",
       "      <th>1372</th>\n",
       "      <th>False</th>\n",
       "      <td>305.0</td>\n",
       "      <td>7.9</td>\n",
       "      <td>0.0</td>\n",
       "    </tr>\n",
       "    <tr>\n",
       "      <th>2198</th>\n",
       "      <th>False</th>\n",
       "      <td>284.0</td>\n",
       "      <td>2.6</td>\n",
       "      <td>2.6</td>\n",
       "    </tr>\n",
       "    <tr>\n",
       "      <th rowspan=\"2\" valign=\"top\">2891</th>\n",
       "      <th>False</th>\n",
       "      <td>76.0</td>\n",
       "      <td>2.2</td>\n",
       "      <td>1.9</td>\n",
       "    </tr>\n",
       "    <tr>\n",
       "      <th>True</th>\n",
       "      <td>72.0</td>\n",
       "      <td>1.4</td>\n",
       "      <td>1.2</td>\n",
       "    </tr>\n",
       "    <tr>\n",
       "      <th>3002</th>\n",
       "      <th>False</th>\n",
       "      <td>31.0</td>\n",
       "      <td>2.7</td>\n",
       "      <td>0.0</td>\n",
       "    </tr>\n",
       "    <tr>\n",
       "      <th>3253</th>\n",
       "      <th>False</th>\n",
       "      <td>178.0</td>\n",
       "      <td>2.4</td>\n",
       "      <td>3.5</td>\n",
       "    </tr>\n",
       "    <tr>\n",
       "      <th>6317</th>\n",
       "      <th>False</th>\n",
       "      <td>188.0</td>\n",
       "      <td>3.9</td>\n",
       "      <td>4.8</td>\n",
       "    </tr>\n",
       "  </tbody>\n",
       "</table>\n",
       "</div>"
      ],
      "text/plain": [
       "               Outcome_n  diet_mean  activity_mean\n",
       "REFID partial                                     \n",
       "953   False         51.0        7.1            0.0\n",
       "      True          50.0        3.8            0.0\n",
       "1372  False        305.0        7.9            0.0\n",
       "2198  False        284.0        2.6            2.6\n",
       "2891  False         76.0        2.2            1.9\n",
       "      True          72.0        1.4            1.2\n",
       "3002  False         31.0        2.7            0.0\n",
       "3253  False        178.0        2.4            3.5\n",
       "6317  False        188.0        3.9            4.8"
      ]
     },
     "execution_count": 180,
     "metadata": {},
     "output_type": "execute_result"
    }
   ],
   "source": [
    "(merged_data\n",
    "         .groupby(['REFID', 'partial'])\n",
    "        .agg({'Outcome_n': lambda x: int(sum(x)), \n",
    "              'activity_mean': lambda x: np.round(np.mean(x), 1), \n",
    "              'diet_mean': lambda x: np.round(np.mean(x), 1)}))"
   ]
  },
  {
   "cell_type": "markdown",
   "metadata": {},
   "source": [
    "### Model Specification"
   ]
  },
  {
   "cell_type": "code",
   "execution_count": 17,
   "metadata": {
    "collapsed": false
   },
   "outputs": [
    {
     "name": "stdout",
     "output_type": "stream",
     "text": [
      "Couldn't import dot_parser, loading of dot files will not be possible.\n"
     ]
    }
   ],
   "source": [
    "from pymc3 import (NUTS, sample, Model, Deterministic, find_MAP,\n",
    "                  Binomial, Normal, HalfCauchy, advi,\n",
    "                  traceplot, summary, forestplot)\n",
    "import theano.tensor as tt\n",
    "\n",
    "def tinvlogit(x):\n",
    "    return tt.exp(x) / (1 + tt.exp(x))"
   ]
  },
  {
   "cell_type": "code",
   "execution_count": null,
   "metadata": {
    "collapsed": true
   },
   "outputs": [],
   "source": []
  }
 ],
 "metadata": {
  "kernelspec": {
   "display_name": "Python 3",
   "language": "python",
   "name": "python3"
  },
  "language_info": {
   "codemirror_mode": {
    "name": "ipython",
    "version": 3
   },
   "file_extension": ".py",
   "mimetype": "text/x-python",
   "name": "python",
   "nbconvert_exporter": "python",
   "pygments_lexer": "ipython3",
   "version": "3.5.1"
  },
  "widgets": {
   "state": {},
   "version": "1.0.0"
  }
 },
 "nbformat": 4,
 "nbformat_minor": 0
}
