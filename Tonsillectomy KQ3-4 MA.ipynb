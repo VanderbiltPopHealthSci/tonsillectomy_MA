{
 "cells": [
  {
   "cell_type": "code",
   "execution_count": 1,
   "metadata": {
    "collapsed": true
   },
   "outputs": [],
   "source": [
    "%matplotlib inline\n",
    "import numpy as np\n",
    "import pandas as pd\n",
    "import matplotlib.pyplot as plt\n",
    "import seaborn as sns\n",
    "sns.set()"
   ]
  },
  {
   "cell_type": "markdown",
   "metadata": {},
   "source": [
    "## KQ 3"
   ]
  },
  {
   "cell_type": "code",
   "execution_count": 5,
   "metadata": {
    "collapsed": false
   },
   "outputs": [],
   "source": [
    "outcomes = pd.read_excel('data/Tonsillectomy_OUTCOME_Data_KQ3_Master.xlsx', \n",
    "              sheetname='Outcome data', \n",
    "              na_values=['null', 'ND'])"
   ]
  },
  {
   "cell_type": "code",
   "execution_count": 8,
   "metadata": {
    "collapsed": false
   },
   "outputs": [
    {
     "data": {
      "text/html": [
       "<div>\n",
       "<table border=\"1\" class=\"dataframe\">\n",
       "  <thead>\n",
       "    <tr style=\"text-align: right;\">\n",
       "      <th></th>\n",
       "      <th>Citation</th>\n",
       "      <th>Family</th>\n",
       "      <th>Refid</th>\n",
       "      <th>Number of \n",
       "Arms</th>\n",
       "      <th>Rx Grouping</th>\n",
       "      <th>Group_Desc</th>\n",
       "      <th>Surgical_Category_MA</th>\n",
       "      <th>Last Assesment tmpt for the study</th>\n",
       "      <th>Followup duration category</th>\n",
       "      <th>OUTC_Main_\n",
       "CATG</th>\n",
       "      <th>...</th>\n",
       "      <th>Unnamed: 46</th>\n",
       "      <th>Unnamed: 47</th>\n",
       "      <th>Unnamed: 48</th>\n",
       "      <th>Unnamed: 49</th>\n",
       "      <th>Unnamed: 50</th>\n",
       "      <th>Unnamed: 51</th>\n",
       "      <th>Unnamed: 52</th>\n",
       "      <th>Unnamed: 53</th>\n",
       "      <th>Unnamed: 54</th>\n",
       "      <th>Comments_2</th>\n",
       "    </tr>\n",
       "  </thead>\n",
       "  <tbody>\n",
       "    <tr>\n",
       "      <th>0</th>\n",
       "      <td>K. W. Chang.  Intracapsular versus subcapsular...</td>\n",
       "      <td>NaN</td>\n",
       "      <td>2428</td>\n",
       "      <td>2</td>\n",
       "      <td>G1:</td>\n",
       "      <td>Intracapsular coblation tonsillectomy</td>\n",
       "      <td>partial coblation</td>\n",
       "      <td>5-6 days post op</td>\n",
       "      <td>NaN</td>\n",
       "      <td>Return to normal diet</td>\n",
       "      <td>...</td>\n",
       "      <td>NaN</td>\n",
       "      <td>NaN</td>\n",
       "      <td>NaN</td>\n",
       "      <td>NaN</td>\n",
       "      <td>NaN</td>\n",
       "      <td>NaN</td>\n",
       "      <td>NaN</td>\n",
       "      <td>NaN</td>\n",
       "      <td>NaN</td>\n",
       "      <td>NaN</td>\n",
       "    </tr>\n",
       "    <tr>\n",
       "      <th>1</th>\n",
       "      <td>K. W. Chang.  Intracapsular versus subcapsular...</td>\n",
       "      <td>NaN</td>\n",
       "      <td>2428</td>\n",
       "      <td>2</td>\n",
       "      <td>G2:</td>\n",
       "      <td>Subcapsular coblation tonsillectomy</td>\n",
       "      <td>total coblation</td>\n",
       "      <td>5-6 days post op</td>\n",
       "      <td>NaN</td>\n",
       "      <td>Return to normal diet</td>\n",
       "      <td>...</td>\n",
       "      <td>NaN</td>\n",
       "      <td>NaN</td>\n",
       "      <td>NaN</td>\n",
       "      <td>NaN</td>\n",
       "      <td>NaN</td>\n",
       "      <td>NaN</td>\n",
       "      <td>NaN</td>\n",
       "      <td>NaN</td>\n",
       "      <td>NaN</td>\n",
       "      <td>NaN</td>\n",
       "    </tr>\n",
       "    <tr>\n",
       "      <th>2</th>\n",
       "      <td>K. W. Chang.  Intracapsular versus subcapsular...</td>\n",
       "      <td>NaN</td>\n",
       "      <td>2428</td>\n",
       "      <td>2</td>\n",
       "      <td>G1:</td>\n",
       "      <td>Intracapsular coblation tonsillectomy</td>\n",
       "      <td>partial coblation</td>\n",
       "      <td>5-6 days post op</td>\n",
       "      <td>NaN</td>\n",
       "      <td>Return to normal diet</td>\n",
       "      <td>...</td>\n",
       "      <td>NaN</td>\n",
       "      <td>NaN</td>\n",
       "      <td>NaN</td>\n",
       "      <td>NaN</td>\n",
       "      <td>NaN</td>\n",
       "      <td>NaN</td>\n",
       "      <td>NaN</td>\n",
       "      <td>NaN</td>\n",
       "      <td>NaN</td>\n",
       "      <td>NaN</td>\n",
       "    </tr>\n",
       "  </tbody>\n",
       "</table>\n",
       "<p>3 rows × 56 columns</p>\n",
       "</div>"
      ],
      "text/plain": [
       "                                            Citation Family  Refid  \\\n",
       "0  K. W. Chang.  Intracapsular versus subcapsular...    NaN   2428   \n",
       "1  K. W. Chang.  Intracapsular versus subcapsular...    NaN   2428   \n",
       "2  K. W. Chang.  Intracapsular versus subcapsular...    NaN   2428   \n",
       "\n",
       "   Number of \\nArms Rx Grouping                             Group_Desc  \\\n",
       "0                 2         G1:  Intracapsular coblation tonsillectomy   \n",
       "1                 2         G2:    Subcapsular coblation tonsillectomy   \n",
       "2                 2         G1:  Intracapsular coblation tonsillectomy   \n",
       "\n",
       "  Surgical_Category_MA Last Assesment tmpt for the study  \\\n",
       "0    partial coblation                  5-6 days post op   \n",
       "1      total coblation                  5-6 days post op   \n",
       "2    partial coblation                  5-6 days post op   \n",
       "\n",
       "  Followup duration category       OUTC_Main_\\nCATG     ...     Unnamed: 46  \\\n",
       "0                        NaN  Return to normal diet     ...             NaN   \n",
       "1                        NaN  Return to normal diet     ...             NaN   \n",
       "2                        NaN  Return to normal diet     ...             NaN   \n",
       "\n",
       "  Unnamed: 47 Unnamed: 48 Unnamed: 49 Unnamed: 50  Unnamed: 51  Unnamed: 52  \\\n",
       "0         NaN         NaN         NaN         NaN          NaN          NaN   \n",
       "1         NaN         NaN         NaN         NaN          NaN          NaN   \n",
       "2         NaN         NaN         NaN         NaN          NaN          NaN   \n",
       "\n",
       "   Unnamed: 53  Unnamed: 54  Comments_2  \n",
       "0          NaN          NaN         NaN  \n",
       "1          NaN          NaN         NaN  \n",
       "2          NaN          NaN         NaN  \n",
       "\n",
       "[3 rows x 56 columns]"
      ]
     },
     "execution_count": 8,
     "metadata": {},
     "output_type": "execute_result"
    }
   ],
   "source": [
    "outcomes.head(3)"
   ]
  },
  {
   "cell_type": "code",
   "execution_count": 6,
   "metadata": {
    "collapsed": true
   },
   "outputs": [],
   "source": [
    "study_info = pd.read_excel('data/Tonsillectomy_OUTCOME_Data_KQ3_Master.xlsx', \n",
    "              sheetname='Basic_N', \n",
    "              na_values=['null', 'ND'])"
   ]
  },
  {
   "cell_type": "code",
   "execution_count": 17,
   "metadata": {
    "collapsed": false
   },
   "outputs": [
    {
     "data": {
      "text/html": [
       "<div>\n",
       "<table border=\"1\" class=\"dataframe\">\n",
       "  <thead>\n",
       "    <tr style=\"text-align: right;\">\n",
       "      <th></th>\n",
       "      <th>Refid</th>\n",
       "      <th>Surgical_Category_MA</th>\n",
       "      <th>Study Design</th>\n",
       "      <th>Population_Catg</th>\n",
       "      <th>Outcome sample size</th>\n",
       "    </tr>\n",
       "  </thead>\n",
       "  <tbody>\n",
       "    <tr>\n",
       "      <th>0</th>\n",
       "      <td>2428</td>\n",
       "      <td>partial coblation</td>\n",
       "      <td>RCT</td>\n",
       "      <td>OSDB</td>\n",
       "      <td>34</td>\n",
       "    </tr>\n",
       "    <tr>\n",
       "      <th>1</th>\n",
       "      <td>2428</td>\n",
       "      <td>total coblation</td>\n",
       "      <td>RCT</td>\n",
       "      <td>OSDB</td>\n",
       "      <td>35</td>\n",
       "    </tr>\n",
       "    <tr>\n",
       "      <th>2</th>\n",
       "      <td>2428</td>\n",
       "      <td>partial coblation</td>\n",
       "      <td>RCT</td>\n",
       "      <td>OSDB</td>\n",
       "      <td>34</td>\n",
       "    </tr>\n",
       "    <tr>\n",
       "      <th>3</th>\n",
       "      <td>2428</td>\n",
       "      <td>total coblation</td>\n",
       "      <td>RCT</td>\n",
       "      <td>OSDB</td>\n",
       "      <td>35</td>\n",
       "    </tr>\n",
       "    <tr>\n",
       "      <th>4</th>\n",
       "      <td>2428</td>\n",
       "      <td>partial coblation</td>\n",
       "      <td>RCT</td>\n",
       "      <td>OSDB</td>\n",
       "      <td>34</td>\n",
       "    </tr>\n",
       "  </tbody>\n",
       "</table>\n",
       "</div>"
      ],
      "text/plain": [
       "   Refid Surgical_Category_MA Study Design Population_Catg  \\\n",
       "0   2428    partial coblation          RCT            OSDB   \n",
       "1   2428      total coblation          RCT            OSDB   \n",
       "2   2428    partial coblation          RCT            OSDB   \n",
       "3   2428      total coblation          RCT            OSDB   \n",
       "4   2428    partial coblation          RCT            OSDB   \n",
       "\n",
       "   Outcome sample size  \n",
       "0                   34  \n",
       "1                   35  \n",
       "2                   34  \n",
       "3                   35  \n",
       "4                   34  "
      ]
     },
     "execution_count": 17,
     "metadata": {},
     "output_type": "execute_result"
    }
   ],
   "source": [
    "data_merged = outcomes.merge(study_info, on='Refid')[['Refid', 'Surgical_Category_MA', 'Study Design', \n",
    "                                                      'Population_Catg', 'Outcome sample size']]\n",
    "data_merged.head()"
   ]
  },
  {
   "cell_type": "code",
   "execution_count": 18,
   "metadata": {
    "collapsed": false
   },
   "outputs": [
    {
     "data": {
      "text/plain": [
       "Study Design          Surgical_Category_MA   Population_Catg\n",
       "Non-randomized trial  partial coblation      OSDB                838\n",
       "                      total cold             OSDB               1560\n",
       "RCT                   partial coblation      Both                860\n",
       "                                             OSDB                810\n",
       "                                             Other               108\n",
       "                      partial cold           OSDB                464\n",
       "                                             Other                57\n",
       "                      partial microdebrider  Both                 40\n",
       "                                             OSDB                 25\n",
       "                                             Other                20\n",
       "                      total coblation        OSDB                315\n",
       "                      total cold             Both                894\n",
       "                                             OSDB                583\n",
       "                                             Other                20\n",
       "                      total electrocautery   OSDB                368\n",
       "                                             Other               175\n",
       "Name: Outcome sample size, dtype: int64"
      ]
     },
     "execution_count": 18,
     "metadata": {},
     "output_type": "execute_result"
    }
   ],
   "source": [
    "data_merged.groupby(['Study Design', 'Surgical_Category_MA', 'Population_Catg'])['Outcome sample size'].sum()"
   ]
  },
  {
   "cell_type": "markdown",
   "metadata": {},
   "source": [
    "## KQ 4"
   ]
  },
  {
   "cell_type": "code",
   "execution_count": 19,
   "metadata": {
    "collapsed": true
   },
   "outputs": [],
   "source": [
    "outcomes = pd.read_excel('data/Tonsillectomy_OUTCOME_Data_KQ4_Master_Updates.xlsx', \n",
    "              sheetname='Outcome data', \n",
    "              na_values=['null', 'ND'])"
   ]
  },
  {
   "cell_type": "code",
   "execution_count": 21,
   "metadata": {
    "collapsed": false
   },
   "outputs": [],
   "source": [
    "study_info = pd.read_excel('data/Tonsillectomy_OUTCOME_Data_KQ4_Master_Updates.xlsx', \n",
    "              sheetname='Basic_N', \n",
    "              na_values=['null', 'ND'])"
   ]
  },
  {
   "cell_type": "code",
   "execution_count": 22,
   "metadata": {
    "collapsed": false
   },
   "outputs": [
    {
     "data": {
      "text/html": [
       "<div>\n",
       "<table border=\"1\" class=\"dataframe\">\n",
       "  <thead>\n",
       "    <tr style=\"text-align: right;\">\n",
       "      <th></th>\n",
       "      <th>Refid</th>\n",
       "      <th>Surgical_Category_MA</th>\n",
       "      <th>Study Design</th>\n",
       "      <th>Population_Catg</th>\n",
       "      <th>Outcome sample size</th>\n",
       "    </tr>\n",
       "  </thead>\n",
       "  <tbody>\n",
       "    <tr>\n",
       "      <th>0</th>\n",
       "      <td>2520</td>\n",
       "      <td>total electrocautery + total cold</td>\n",
       "      <td>RCT</td>\n",
       "      <td>Other</td>\n",
       "      <td>100</td>\n",
       "    </tr>\n",
       "    <tr>\n",
       "      <th>1</th>\n",
       "      <td>2608</td>\n",
       "      <td>total laser</td>\n",
       "      <td>RCT</td>\n",
       "      <td>Recurrent Throat infection</td>\n",
       "      <td>40</td>\n",
       "    </tr>\n",
       "    <tr>\n",
       "      <th>2</th>\n",
       "      <td>2608</td>\n",
       "      <td>total coblation</td>\n",
       "      <td>RCT</td>\n",
       "      <td>Recurrent Throat infection</td>\n",
       "      <td>40</td>\n",
       "    </tr>\n",
       "    <tr>\n",
       "      <th>3</th>\n",
       "      <td>2608</td>\n",
       "      <td>total laser</td>\n",
       "      <td>RCT</td>\n",
       "      <td>Recurrent Throat infection</td>\n",
       "      <td>40</td>\n",
       "    </tr>\n",
       "    <tr>\n",
       "      <th>4</th>\n",
       "      <td>2608</td>\n",
       "      <td>total coblation</td>\n",
       "      <td>RCT</td>\n",
       "      <td>Recurrent Throat infection</td>\n",
       "      <td>40</td>\n",
       "    </tr>\n",
       "  </tbody>\n",
       "</table>\n",
       "</div>"
      ],
      "text/plain": [
       "  Refid               Surgical_Category_MA Study Design  \\\n",
       "0  2520  total electrocautery + total cold          RCT   \n",
       "1  2608                        total laser          RCT   \n",
       "2  2608                    total coblation          RCT   \n",
       "3  2608                        total laser          RCT   \n",
       "4  2608                    total coblation          RCT   \n",
       "\n",
       "              Population_Catg  Outcome sample size  \n",
       "0                       Other                  100  \n",
       "1  Recurrent Throat infection                   40  \n",
       "2  Recurrent Throat infection                   40  \n",
       "3  Recurrent Throat infection                   40  \n",
       "4  Recurrent Throat infection                   40  "
      ]
     },
     "execution_count": 22,
     "metadata": {},
     "output_type": "execute_result"
    }
   ],
   "source": [
    "data_merged = outcomes.merge(study_info, on='Refid')[['Refid', 'Surgical_Category_MA', 'Study Design', \n",
    "                                                      'Population_Catg', 'Outcome sample size']]\n",
    "data_merged.head()"
   ]
  },
  {
   "cell_type": "code",
   "execution_count": 23,
   "metadata": {
    "collapsed": false
   },
   "outputs": [
    {
     "data": {
      "text/plain": [
       "Study Design          Surgical_Category_MA                Population_Catg           \n",
       "Non-randomized trial  total coblation                     Recurrent Throat infection      42\n",
       "                      total cold                          Both                           396\n",
       "                                                          Recurrent Throat infection      42\n",
       "                      total electrocautery                Both                           408\n",
       "                                                          Recurrent Throat infection     444\n",
       "                      total thermal welding               Both                           416\n",
       "RCT                   NR                                  Recurrent Throat infection     104\n",
       "                      partial coblation                   OSDB                            52\n",
       "                      partial laser                       OSDB                            42\n",
       "                      partial microdebrider               Other                          672\n",
       "                      total argon plasma                  Both                           218\n",
       "                                                          Recurrent Throat infection     144\n",
       "                      total coblation                     Both                          1290\n",
       "                                                          OSDB                           396\n",
       "                                                          Other                          103\n",
       "                                                          Recurrent Throat infection     421\n",
       "                      total cold                          Both                            64\n",
       "                                                          OSDB                           200\n",
       "                                                          Other                          142\n",
       "                                                          Recurrent Throat infection     280\n",
       "                      total cold                          Both                          1799\n",
       "                                                          OSDB                           160\n",
       "                                                          Other                         1173\n",
       "                                                          Recurrent Throat infection     594\n",
       "                      total electrocautery                Both                          2195\n",
       "                                                          OSDB                           140\n",
       "                                                          Other                         3648\n",
       "                                                          Recurrent Throat infection     419\n",
       "                      total electrocautery + total cold   Other                          100\n",
       "                      total electrocautery or total cold  Other                         1600\n",
       "                      total harmonic scalpel              Both                           873\n",
       "                                                          Other                          122\n",
       "                                                          Recurrent Throat infection     736\n",
       "                      total laser                         Both                            90\n",
       "                                                          Other                          366\n",
       "                                                          Recurrent Throat infection     160\n",
       "                      total molecular resonance           Both                           866\n",
       "                                                          OSDB                           296\n",
       "                                                          Other                          997\n",
       "                      total not specified                 Other                           97\n",
       "                      total plasmaknife                   Both                           141\n",
       "                      total thermal welding               Both                            30\n",
       "                                                          OSDB                           160\n",
       "                                                          Recurrent Throat infection      25\n",
       "Name: Outcome sample size, dtype: int64"
      ]
     },
     "execution_count": 23,
     "metadata": {},
     "output_type": "execute_result"
    }
   ],
   "source": [
    "data_merged.groupby(['Study Design', 'Surgical_Category_MA', 'Population_Catg'])['Outcome sample size'].sum()"
   ]
  },
  {
   "cell_type": "code",
   "execution_count": null,
   "metadata": {
    "collapsed": true
   },
   "outputs": [],
   "source": []
  }
 ],
 "metadata": {
  "kernelspec": {
   "display_name": "Python 3",
   "language": "python",
   "name": "python3"
  },
  "language_info": {
   "codemirror_mode": {
    "name": "ipython",
    "version": 3
   },
   "file_extension": ".py",
   "mimetype": "text/x-python",
   "name": "python",
   "nbconvert_exporter": "python",
   "pygments_lexer": "ipython3",
   "version": "3.5.1"
  }
 },
 "nbformat": 4,
 "nbformat_minor": 0
}
