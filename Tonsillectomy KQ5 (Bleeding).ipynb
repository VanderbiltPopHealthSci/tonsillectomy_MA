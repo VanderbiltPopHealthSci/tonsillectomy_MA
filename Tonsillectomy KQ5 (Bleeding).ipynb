{
 "cells": [
  {
   "cell_type": "markdown",
   "metadata": {},
   "source": [
    "# Key Question 1: Bleeding"
   ]
  },
  {
   "cell_type": "code",
   "execution_count": 1,
   "metadata": {
    "collapsed": true
   },
   "outputs": [],
   "source": [
    "%matplotlib inline\n",
    "import numpy as np\n",
    "import pandas as pd\n",
    "import matplotlib.pyplot as plt\n",
    "import seaborn as sns\n",
    "sns.set()\n",
    "\n",
    "rseeds = [20090425, 19700903]"
   ]
  },
  {
   "cell_type": "code",
   "execution_count": 2,
   "metadata": {
    "collapsed": false
   },
   "outputs": [
    {
     "data": {
      "text/plain": [
       "(48, 16)"
      ]
     },
     "execution_count": 2,
     "metadata": {},
     "output_type": "execute_result"
    }
   ],
   "source": [
    "data_file = 'data/Tonsillectomy_KQ5_Bleeding_Data_07202016.xlsx'\n",
    "\n",
    "raw_data = (pd.read_excel(data_file, \n",
    "              sheetname='Bleeding_Dexa vs Placebo_KQ5', \n",
    "              na_values=['null', 'ND']))\n",
    "raw_data.shape"
   ]
  },
  {
   "cell_type": "code",
   "execution_count": 3,
   "metadata": {
    "collapsed": false
   },
   "outputs": [
    {
     "data": {
      "text/html": [
       "<div>\n",
       "<table border=\"1\" class=\"dataframe\">\n",
       "  <thead>\n",
       "    <tr style=\"text-align: right;\">\n",
       "      <th></th>\n",
       "      <th>Citation</th>\n",
       "      <th>REFID</th>\n",
       "      <th>Number_ of_Arms</th>\n",
       "      <th>Rx_Grouping</th>\n",
       "      <th>Group_Desc</th>\n",
       "      <th>Intervention_category</th>\n",
       "      <th>Dose</th>\n",
       "      <th>Route</th>\n",
       "      <th>Rx_Durn</th>\n",
       "      <th>OUTC_Main_\n",
       "CATG</th>\n",
       "      <th>Outc_SUB_\n",
       "CATG</th>\n",
       "      <th>New_Bleeding_specify</th>\n",
       "      <th>Outcome_timepoint</th>\n",
       "      <th>OUTCOME_SAMPLE_SIZE</th>\n",
       "      <th>Outcome_count</th>\n",
       "      <th>Outcome_%</th>\n",
       "    </tr>\n",
       "  </thead>\n",
       "  <tbody>\n",
       "    <tr>\n",
       "      <th>0</th>\n",
       "      <td>T. Q. Gallagher, C. Hill, S. Ojha, E. Ference,...</td>\n",
       "      <td>1039</td>\n",
       "      <td>2</td>\n",
       "      <td>G1:</td>\n",
       "      <td>dexamethasone</td>\n",
       "      <td>perioperative steroid</td>\n",
       "      <td>0.5 mg/kg</td>\n",
       "      <td>Injection</td>\n",
       "      <td>NaN</td>\n",
       "      <td>Harms</td>\n",
       "      <td>Harms: Post-op bleeding</td>\n",
       "      <td>Primary bleeding</td>\n",
       "      <td>POD5</td>\n",
       "      <td>154</td>\n",
       "      <td>2</td>\n",
       "      <td>1.0</td>\n",
       "    </tr>\n",
       "    <tr>\n",
       "      <th>1</th>\n",
       "      <td>T. Q. Gallagher, C. Hill, S. Ojha, E. Ference,...</td>\n",
       "      <td>1039</td>\n",
       "      <td>2</td>\n",
       "      <td>G2:</td>\n",
       "      <td>placebo (saline)</td>\n",
       "      <td>placebo</td>\n",
       "      <td>0.5 mg/kg</td>\n",
       "      <td>Injection</td>\n",
       "      <td>NaN</td>\n",
       "      <td>Harms</td>\n",
       "      <td>Harms: Post-op bleeding</td>\n",
       "      <td>Primary bleeding</td>\n",
       "      <td>POD5</td>\n",
       "      <td>151</td>\n",
       "      <td>2</td>\n",
       "      <td>1.0</td>\n",
       "    </tr>\n",
       "    <tr>\n",
       "      <th>2</th>\n",
       "      <td>T. Q. Gallagher, C. Hill, S. Ojha, E. Ference,...</td>\n",
       "      <td>1039</td>\n",
       "      <td>2</td>\n",
       "      <td>G1:</td>\n",
       "      <td>dexamethasone</td>\n",
       "      <td>perioperative steroid</td>\n",
       "      <td>0.5 mg/kg</td>\n",
       "      <td>Injection</td>\n",
       "      <td>NaN</td>\n",
       "      <td>Harms</td>\n",
       "      <td>Harms: Post-op bleeding</td>\n",
       "      <td>Undefined bleeding</td>\n",
       "      <td>POD5</td>\n",
       "      <td>154</td>\n",
       "      <td>15</td>\n",
       "      <td>9.7</td>\n",
       "    </tr>\n",
       "    <tr>\n",
       "      <th>3</th>\n",
       "      <td>T. Q. Gallagher, C. Hill, S. Ojha, E. Ference,...</td>\n",
       "      <td>1039</td>\n",
       "      <td>2</td>\n",
       "      <td>G2:</td>\n",
       "      <td>placebo (saline)</td>\n",
       "      <td>placebo</td>\n",
       "      <td>0.5 mg/kg</td>\n",
       "      <td>Injection</td>\n",
       "      <td>NaN</td>\n",
       "      <td>Harms</td>\n",
       "      <td>Harms: Post-op bleeding</td>\n",
       "      <td>Undefined bleeding</td>\n",
       "      <td>POD5</td>\n",
       "      <td>151</td>\n",
       "      <td>11</td>\n",
       "      <td>7.3</td>\n",
       "    </tr>\n",
       "    <tr>\n",
       "      <th>4</th>\n",
       "      <td>T. Q. Gallagher, C. Hill, S. Ojha, E. Ference,...</td>\n",
       "      <td>1039</td>\n",
       "      <td>2</td>\n",
       "      <td>G1:</td>\n",
       "      <td>dexamethasone</td>\n",
       "      <td>perioperative steroid</td>\n",
       "      <td>0.5 mg/kg</td>\n",
       "      <td>Injection</td>\n",
       "      <td>NaN</td>\n",
       "      <td>Harms</td>\n",
       "      <td>Harms: Post-op bleeding</td>\n",
       "      <td>Revisit/Readmission-bleeding</td>\n",
       "      <td>POD5</td>\n",
       "      <td>154</td>\n",
       "      <td>3</td>\n",
       "      <td>1.9</td>\n",
       "    </tr>\n",
       "  </tbody>\n",
       "</table>\n",
       "</div>"
      ],
      "text/plain": [
       "                                            Citation  REFID  Number_ of_Arms  \\\n",
       "0  T. Q. Gallagher, C. Hill, S. Ojha, E. Ference,...   1039                2   \n",
       "1  T. Q. Gallagher, C. Hill, S. Ojha, E. Ference,...   1039                2   \n",
       "2  T. Q. Gallagher, C. Hill, S. Ojha, E. Ference,...   1039                2   \n",
       "3  T. Q. Gallagher, C. Hill, S. Ojha, E. Ference,...   1039                2   \n",
       "4  T. Q. Gallagher, C. Hill, S. Ojha, E. Ference,...   1039                2   \n",
       "\n",
       "  Rx_Grouping        Group_Desc  Intervention_category       Dose       Route  \\\n",
       "0         G1:     dexamethasone  perioperative steroid  0.5 mg/kg  Injection    \n",
       "1         G2:  placebo (saline)                placebo  0.5 mg/kg  Injection    \n",
       "2         G1:     dexamethasone  perioperative steroid  0.5 mg/kg  Injection    \n",
       "3         G2:  placebo (saline)                placebo  0.5 mg/kg  Injection    \n",
       "4         G1:     dexamethasone  perioperative steroid  0.5 mg/kg  Injection    \n",
       "\n",
       "   Rx_Durn OUTC_Main_\\nCATG          Outc_SUB_\\nCATG  \\\n",
       "0      NaN            Harms  Harms: Post-op bleeding   \n",
       "1      NaN            Harms  Harms: Post-op bleeding   \n",
       "2      NaN            Harms  Harms: Post-op bleeding   \n",
       "3      NaN            Harms  Harms: Post-op bleeding   \n",
       "4      NaN            Harms  Harms: Post-op bleeding   \n",
       "\n",
       "           New_Bleeding_specify Outcome_timepoint   OUTCOME_SAMPLE_SIZE  \\\n",
       "0              Primary bleeding               POD5                  154   \n",
       "1              Primary bleeding               POD5                  151   \n",
       "2            Undefined bleeding               POD5                  154   \n",
       "3            Undefined bleeding               POD5                  151   \n",
       "4  Revisit/Readmission-bleeding               POD5                  154   \n",
       "\n",
       "   Outcome_count  Outcome_%  \n",
       "0              2        1.0  \n",
       "1              2        1.0  \n",
       "2             15        9.7  \n",
       "3             11        7.3  \n",
       "4              3        1.9  "
      ]
     },
     "execution_count": 3,
     "metadata": {},
     "output_type": "execute_result"
    }
   ],
   "source": [
    "raw_data.head()"
   ]
  },
  {
   "cell_type": "markdown",
   "metadata": {},
   "source": [
    "Unique study IDs"
   ]
  },
  {
   "cell_type": "code",
   "execution_count": 4,
   "metadata": {
    "collapsed": false
   },
   "outputs": [
    {
     "data": {
      "text/plain": [
       "array([ 1039,  1085,  2213,  3031,  3213,  3498,  6452,  6586, 12791])"
      ]
     },
     "execution_count": 4,
     "metadata": {},
     "output_type": "execute_result"
    }
   ],
   "source": [
    "raw_data.REFID.unique()"
   ]
  },
  {
   "cell_type": "markdown",
   "metadata": {},
   "source": [
    "IDs of high risk of bias studies"
   ]
  },
  {
   "cell_type": "code",
   "execution_count": 5,
   "metadata": {
    "collapsed": true
   },
   "outputs": [],
   "source": [
    "high_ROB = 6586, 12791"
   ]
  },
  {
   "cell_type": "markdown",
   "metadata": {},
   "source": [
    "Counts of intervention arms"
   ]
  },
  {
   "cell_type": "code",
   "execution_count": 6,
   "metadata": {
    "collapsed": false
   },
   "outputs": [
    {
     "data": {
      "text/plain": [
       "perioperative steroid    27\n",
       "placebo                  21\n",
       "Name: Intervention_category, dtype: int64"
      ]
     },
     "execution_count": 6,
     "metadata": {},
     "output_type": "execute_result"
    }
   ],
   "source": [
    "raw_data.Intervention_category.value_counts()"
   ]
  },
  {
   "cell_type": "markdown",
   "metadata": {},
   "source": [
    "We will estimate bleeding rates using a binomial model. We will assume bleeding type-specific baseline rates of bleeding, and optionally bleeding-type specific intervention effects, which can be pooled if desired. Additionally, we include study random effects to account for correlation among arms in the same study. "
   ]
  },
  {
   "cell_type": "code",
   "execution_count": 7,
   "metadata": {
    "collapsed": false
   },
   "outputs": [],
   "source": [
    "from pymc3 import Model, sample, traceplot, forestplot, summary, waic\n",
    "from pymc3 import Normal, Binomial, invlogit, HalfCauchy, Deterministic, exp\n",
    "\n",
    "def create_model(_data, bleeding_specific=False):\n",
    "    \n",
    "    data = _data.copy()\n",
    "    \n",
    "    unique_studies = data.REFID.unique()\n",
    "    n_studies = len(unique_studies)\n",
    "    \n",
    "    bleeding = data.New_Bleeding_specify.unique()\n",
    "    n_bleeding = len(bleeding)\n",
    "    \n",
    "    data['study_id'] = data.REFID.replace(dict(zip(unique_studies, range(n_studies))))\n",
    "    data['bleeding_type'] = (data.New_Bleeding_specify\n",
    "                             .replace(dict(zip(bleeding, range(n_bleeding)))))\n",
    "    \n",
    "    data['treatment'] = (data.Intervention_category=='perioperative steroid').astype(int)\n",
    "    \n",
    "    b, t, i, n, y = data[['bleeding_type', 'treatment', \n",
    "                          'study_id', 'OUTCOME_SAMPLE_SIZE', 'Outcome_count']].T.values\n",
    "    \n",
    "    with Model() as model:\n",
    "\n",
    "        # Study random effect\n",
    "        σ = HalfCauchy('σ', 5)\n",
    "        ϵ = Normal('ϵ', 0, sd=σ, shape=n_studies)\n",
    "        \n",
    "        # Bleeding type means\n",
    "        μ = Normal('μ', 0, sd=100, shape=n_bleeding)\n",
    "\n",
    "        if bleeding_specific:\n",
    "            # Perioperative steroid effect\n",
    "            δ = Normal('δ', 0, sd=100, shape=n_bleeding)\n",
    "\n",
    "            θ = invlogit(μ[b] + δ[b]*t + ϵ[i])\n",
    "        else:\n",
    "            # Perioperative steroid effect\n",
    "            δ = Normal('δ', 0, sd=100)\n",
    "\n",
    "            θ = invlogit(μ[b] + δ*t + ϵ[i])\n",
    "        \n",
    "        data_likelhood = Binomial('data_likelihood', n=n, p=θ, observed=y)\n",
    "        \n",
    "        odds = Deterministic('odds', exp(δ))\n",
    "        \n",
    "    return model"
   ]
  },
  {
   "cell_type": "markdown",
   "metadata": {},
   "source": [
    "### Pooled effect size, all studies"
   ]
  },
  {
   "cell_type": "code",
   "execution_count": 8,
   "metadata": {
    "collapsed": false
   },
   "outputs": [
    {
     "name": "stdout",
     "output_type": "stream",
     "text": [
      "Applied log-transform to σ and added transformed σ_log_ to model.\n"
     ]
    }
   ],
   "source": [
    "pooled_model = create_model(raw_data)"
   ]
  },
  {
   "cell_type": "code",
   "execution_count": 9,
   "metadata": {
    "collapsed": false
   },
   "outputs": [
    {
     "name": "stdout",
     "output_type": "stream",
     "text": [
      "Assigned NUTS to σ_log_\n",
      "Assigned NUTS to ϵ\n",
      "Assigned NUTS to μ\n",
      "Assigned NUTS to δ\n",
      " [-----------------100%-----------------] 2000 of 2000 complete in 59.5 sec"
     ]
    }
   ],
   "source": [
    "with pooled_model:\n",
    "    \n",
    "    pooled_trace = sample(2000, njobs=2, random_seed=rseeds)"
   ]
  },
  {
   "cell_type": "markdown",
   "metadata": {},
   "source": [
    "Intervention odds ratio of the pooled model"
   ]
  },
  {
   "cell_type": "code",
   "execution_count": 10,
   "metadata": {
    "collapsed": false
   },
   "outputs": [
    {
     "data": {
      "text/plain": [
       "array([[<matplotlib.axes._subplots.AxesSubplot object at 0x1245869b0>,\n",
       "        <matplotlib.axes._subplots.AxesSubplot object at 0x125370940>]], dtype=object)"
      ]
     },
     "execution_count": 10,
     "metadata": {},
     "output_type": "execute_result"
    },
    {
     "data": {
      "image/png": "[encoded data removed]",
      "text/plain": [
       "<matplotlib.figure.Figure at 0x1215647f0>"
      ]
     },
     "metadata": {},
     "output_type": "display_data"
    }
   ],
   "source": [
    "traceplot(pooled_trace, varnames=['odds'])"
   ]
  },
  {
   "cell_type": "code",
   "execution_count": 11,
   "metadata": {
    "collapsed": false
   },
   "outputs": [
    {
     "name": "stdout",
     "output_type": "stream",
     "text": [
      "\n",
      "odds:\n",
      "\n",
      "  Mean             SD               MC Error         95% HPD interval\n",
      "  -------------------------------------------------------------------\n",
      "  \n",
      "  1.183            0.286            0.006            [0.700, 1.783]\n",
      "\n",
      "  Posterior quantiles:\n",
      "  2.5            25             50             75             97.5\n",
      "  |--------------|==============|==============|--------------|\n",
      "  \n",
      "  0.719          0.985          1.155          1.342          1.843\n",
      "\n"
     ]
    }
   ],
   "source": [
    "summary(pooled_trace, varnames=['odds'])"
   ]
  },
  {
   "cell_type": "code",
   "execution_count": 12,
   "metadata": {
    "collapsed": false
   },
   "outputs": [
    {
     "data": {
      "text/plain": [
       "435.59452469113387"
      ]
     },
     "execution_count": 12,
     "metadata": {},
     "output_type": "execute_result"
    }
   ],
   "source": [
    "waic(pooled_trace, model=pooled_model)"
   ]
  },
  {
   "cell_type": "markdown",
   "metadata": {},
   "source": [
    "### Pooled effect size, exclude high ROB studies\n",
    "\n",
    "Here we exclude study arms from the high risk of bias studies."
   ]
  },
  {
   "cell_type": "code",
   "execution_count": 13,
   "metadata": {
    "collapsed": false
   },
   "outputs": [
    {
     "name": "stdout",
     "output_type": "stream",
     "text": [
      "Applied log-transform to σ and added transformed σ_log_ to model.\n"
     ]
    }
   ],
   "source": [
    "low_rob_model = create_model(raw_data[~raw_data.REFID.isin(high_ROB)])"
   ]
  },
  {
   "cell_type": "code",
   "execution_count": 14,
   "metadata": {
    "collapsed": false
   },
   "outputs": [
    {
     "name": "stdout",
     "output_type": "stream",
     "text": [
      "Assigned NUTS to σ_log_\n",
      "Assigned NUTS to ϵ\n",
      "Assigned NUTS to μ\n",
      "Assigned NUTS to δ\n",
      " [-----------------100%-----------------] 2000 of 2000 complete in 60.8 sec"
     ]
    }
   ],
   "source": [
    "with low_rob_model:\n",
    "    \n",
    "    low_rob_trace = sample(2000, njobs=2, random_seed=rseeds)"
   ]
  },
  {
   "cell_type": "markdown",
   "metadata": {},
   "source": [
    "The odds ratio is not very different from the full model."
   ]
  },
  {
   "cell_type": "code",
   "execution_count": 15,
   "metadata": {
    "collapsed": false
   },
   "outputs": [
    {
     "name": "stdout",
     "output_type": "stream",
     "text": [
      "\n",
      "odds:\n",
      "\n",
      "  Mean             SD               MC Error         95% HPD interval\n",
      "  -------------------------------------------------------------------\n",
      "  \n",
      "  1.220            0.296            0.005            [0.667, 1.792]\n",
      "\n",
      "  Posterior quantiles:\n",
      "  2.5            25             50             75             97.5\n",
      "  |--------------|==============|==============|--------------|\n",
      "  \n",
      "  0.742          1.016          1.188          1.387          1.898\n",
      "\n"
     ]
    }
   ],
   "source": [
    "summary(low_rob_trace, varnames=['odds'])"
   ]
  },
  {
   "cell_type": "code",
   "execution_count": 16,
   "metadata": {
    "collapsed": false
   },
   "outputs": [
    {
     "data": {
      "text/plain": [
       "322.60856772998176"
      ]
     },
     "execution_count": 16,
     "metadata": {},
     "output_type": "execute_result"
    }
   ],
   "source": [
    "waic(low_rob_trace, model=low_rob_model)"
   ]
  },
  {
   "cell_type": "markdown",
   "metadata": {},
   "source": [
    "## Bleeding-specific effects, all studies\n",
    "\n",
    "This model is generalized to allow the intervention to be bleeding-type specific. We are using the full dataset."
   ]
  },
  {
   "cell_type": "code",
   "execution_count": 17,
   "metadata": {
    "collapsed": false
   },
   "outputs": [
    {
     "name": "stdout",
     "output_type": "stream",
     "text": [
      "Applied log-transform to σ and added transformed σ_log_ to model.\n"
     ]
    }
   ],
   "source": [
    "full_model = create_model(raw_data, bleeding_specific=True)"
   ]
  },
  {
   "cell_type": "code",
   "execution_count": 18,
   "metadata": {
    "collapsed": false
   },
   "outputs": [
    {
     "name": "stdout",
     "output_type": "stream",
     "text": [
      "Assigned NUTS to σ_log_\n",
      "Assigned NUTS to ϵ\n",
      "Assigned NUTS to μ\n",
      "Assigned NUTS to δ\n",
      " [-----------------100%-----------------] 2000 of 2000 complete in 81.2 sec"
     ]
    }
   ],
   "source": [
    "with full_model:\n",
    "    \n",
    "    full_trace = sample(2000, njobs=2, random_seed=rseeds)"
   ]
  },
  {
   "cell_type": "code",
   "execution_count": 19,
   "metadata": {
    "collapsed": false
   },
   "outputs": [
    {
     "data": {
      "text/plain": [
       "<matplotlib.gridspec.GridSpec at 0x12ed17780>"
      ]
     },
     "execution_count": 19,
     "metadata": {},
     "output_type": "execute_result"
    },
    {
     "data": {
      "image/png": "[encoded data removed]",
      "text/plain": [
       "<matplotlib.figure.Figure at 0x12ed23b00>"
      ]
     },
     "metadata": {},
     "output_type": "display_data"
    }
   ],
   "source": [
    "forestplot(full_trace, varnames=['odds'], ylabels=raw_data.New_Bleeding_specify.unique())"
   ]
  },
  {
   "cell_type": "code",
   "execution_count": 20,
   "metadata": {
    "collapsed": false,
    "scrolled": true
   },
   "outputs": [
    {
     "name": "stdout",
     "output_type": "stream",
     "text": [
      "\n",
      "odds:\n",
      "\n",
      "  Mean             SD               MC Error         95% HPD interval\n",
      "  -------------------------------------------------------------------\n",
      "  \n",
      "  0.953            1.289            0.031            [0.009, 2.700]\n",
      "  1.683            0.593            0.009            [0.715, 2.857]\n",
      "  0.474            0.316            0.005            [0.043, 1.069]\n",
      "  6.639            9.217            0.273            [0.314, 19.184]\n",
      "  0.465            0.479            0.010            [0.007, 1.321]\n",
      "\n",
      "  Posterior quantiles:\n",
      "  2.5            25             50             75             97.5\n",
      "  |--------------|==============|==============|--------------|\n",
      "  \n",
      "  0.073          0.320          0.601          1.151          3.819\n",
      "  0.834          1.265          1.578          1.984          3.126\n",
      "  0.100          0.256          0.399          0.604          1.291\n",
      "  0.968          2.427          4.164          7.386          27.248\n",
      "  0.038          0.170          0.333          0.587          1.713\n",
      "\n"
     ]
    }
   ],
   "source": [
    "summary(full_trace, varnames=['odds'])"
   ]
  },
  {
   "cell_type": "code",
   "execution_count": 21,
   "metadata": {
    "collapsed": false
   },
   "outputs": [
    {
     "data": {
      "text/plain": [
       "391.25973015219506"
      ]
     },
     "execution_count": 21,
     "metadata": {},
     "output_type": "execute_result"
    }
   ],
   "source": [
    "waic(full_trace, model=full_model)"
   ]
  },
  {
   "cell_type": "markdown",
   "metadata": {},
   "source": [
    "## Goodness of fit\n",
    "\n",
    "To check the internal validity of the estimates, we calculate posterior predictive checks on the data, relative to data simulated from the model."
   ]
  },
  {
   "cell_type": "code",
   "execution_count": 22,
   "metadata": {
    "collapsed": false
   },
   "outputs": [],
   "source": [
    "from pymc3 import sample_ppc\n",
    "\n",
    "full_ppc = sample_ppc(full_trace, model=full_model, samples=500)"
   ]
  },
  {
   "cell_type": "code",
   "execution_count": 23,
   "metadata": {
    "collapsed": false
   },
   "outputs": [
    {
     "data": {
      "text/plain": [
       "(500, 48)"
      ]
     },
     "execution_count": 23,
     "metadata": {},
     "output_type": "execute_result"
    }
   ],
   "source": [
    "bayes_p = lambda sim, true: [(s > t).mean() for s,t in zip(sim, true)]\n",
    "\n",
    "sim_days = full_ppc['data_likelihood']\n",
    "sim_days.shape"
   ]
  },
  {
   "cell_type": "code",
   "execution_count": 24,
   "metadata": {
    "collapsed": false
   },
   "outputs": [
    {
     "data": {
      "text/plain": [
       "array([ 0.622,  0.39 ,  0.55 ,  0.708,  0.502,  0.274,  0.286,  0.386,\n",
       "        0.   ,  0.   ,  0.618,  0.   ,  0.   ,  0.944,  0.38 ,  0.018,\n",
       "        0.96 ,  0.11 ,  0.698,  0.186,  0.888,  0.   ,  0.   ,  0.   ,\n",
       "        0.   ,  0.454,  0.   ,  0.52 ,  0.   ,  0.848,  0.   ,  0.61 ,\n",
       "        0.   ,  0.   ,  0.   ,  0.678,  0.   ,  0.79 ,  0.   ,  0.   ,\n",
       "        0.846,  0.558,  0.   ,  0.   ,  0.   ,  0.852,  0.   ,  0.   ])"
      ]
     },
     "execution_count": 24,
     "metadata": {},
     "output_type": "execute_result"
    }
   ],
   "source": [
    "(sim_days < raw_data.Outcome_count.values).mean(0)"
   ]
  },
  {
   "cell_type": "markdown",
   "metadata": {},
   "source": [
    "The fit of this model is very poor, as evidenced by the zeros."
   ]
  },
  {
   "cell_type": "markdown",
   "metadata": {},
   "source": [
    "## Mixture model\n",
    "\n",
    "The issues from the model above is the prevalence of zeros in the bleeding counts. There appears to be a mixture of outcomes, one of which never results in bleeding, and the other which may (according to the binomial model). The model below, a **zero-inflated binomial** model, accounts for this."
   ]
  },
  {
   "cell_type": "code",
   "execution_count": 25,
   "metadata": {
    "collapsed": true
   },
   "outputs": [],
   "source": [
    "from pymc3 import Model, sample, traceplot, forestplot, summary, waic, DensityDist\n",
    "from pymc3 import Normal, Binomial, invlogit, HalfCauchy, Deterministic, exp, Beta, log\n",
    "import theano.tensor as tt\n",
    "\n",
    "def create_zib_model(_data, bleeding_specific=False):\n",
    "    \n",
    "    data = _data.copy()\n",
    "    \n",
    "    unique_studies = data.REFID.unique()\n",
    "    n_studies = len(unique_studies)\n",
    "    \n",
    "    bleeding = data.New_Bleeding_specify.unique()\n",
    "    n_bleeding = len(bleeding)\n",
    "    \n",
    "    data['study_id'] = data.REFID.replace(dict(zip(unique_studies, range(n_studies))))\n",
    "    data['bleeding_type'] = (data.New_Bleeding_specify\n",
    "                             .replace(dict(zip(bleeding, range(n_bleeding)))))\n",
    "    \n",
    "    data['treatment'] = (data.Intervention_category=='perioperative steroid').astype(int)\n",
    "    \n",
    "    b, t, i, n, y = data[['bleeding_type', 'treatment', \n",
    "                          'study_id', 'OUTCOME_SAMPLE_SIZE', 'Outcome_count']].T.values\n",
    "    \n",
    "    with Model() as model:\n",
    "        \n",
    "        # Probability of no bleeding\n",
    "        ψ = Beta('ψ', 1, 1)\n",
    "\n",
    "        # Study random effect\n",
    "        σ = HalfCauchy('σ', 5)\n",
    "        ϵ = Normal('ϵ', 0, sd=σ, shape=n_studies)\n",
    "        \n",
    "        # Bleeding type means\n",
    "        μ = Normal('μ', 0, sd=100, shape=n_bleeding)\n",
    "\n",
    "        if bleeding_specific:\n",
    "            # Perioperative steroid effect\n",
    "            δ = Normal('δ', 0, sd=100, shape=n_bleeding)\n",
    "\n",
    "            θ = invlogit(μ[b] + δ[b]*t + ϵ[i])\n",
    "        else:\n",
    "            # Perioperative steroid effect\n",
    "            δ = Normal('δ', 0, sd=100)\n",
    "\n",
    "            θ = invlogit(μ[b] + δ*t + ϵ[i])\n",
    "            \n",
    "        def zero_inflated_binomial(value):\n",
    "            return tt.switch(value>0, log(ψ) + Binomial.dist(n=n, p=θ).logp(value),\n",
    "                                    log((1-ψ)) * (1-θ)**n).sum()\n",
    "        \n",
    "        data_likelhood = DensityDist('data_likelihood', zero_inflated_binomial, observed=y)\n",
    "        \n",
    "        odds = Deterministic('odds', exp(δ))\n",
    "        \n",
    "    return model"
   ]
  },
  {
   "cell_type": "code",
   "execution_count": 26,
   "metadata": {
    "collapsed": false
   },
   "outputs": [
    {
     "name": "stdout",
     "output_type": "stream",
     "text": [
      "Applied logodds-transform to ψ and added transformed ψ_logodds_ to model.\n",
      "Applied log-transform to σ and added transformed σ_log_ to model.\n"
     ]
    }
   ],
   "source": [
    "full_zib_model = create_zib_model(raw_data, bleeding_specific=True)"
   ]
  },
  {
   "cell_type": "code",
   "execution_count": 27,
   "metadata": {
    "collapsed": false
   },
   "outputs": [
    {
     "name": "stdout",
     "output_type": "stream",
     "text": [
      "Assigned NUTS to ψ_logodds_\n",
      "Assigned NUTS to σ_log_\n",
      "Assigned NUTS to ϵ\n",
      "Assigned NUTS to μ\n",
      "Assigned NUTS to δ\n",
      " [-----------------100%-----------------] 2000 of 2000 complete in 140.9 sec"
     ]
    }
   ],
   "source": [
    "with full_zib_model:\n",
    "    \n",
    "    full_zib_trace = sample(2000)"
   ]
  },
  {
   "cell_type": "markdown",
   "metadata": {},
   "source": [
    "On average, 84% have no chance of bleeding outcome."
   ]
  },
  {
   "cell_type": "code",
   "execution_count": 28,
   "metadata": {
    "collapsed": false
   },
   "outputs": [
    {
     "data": {
      "text/plain": [
       "array([[<matplotlib.axes._subplots.AxesSubplot object at 0x12d82f470>,\n",
       "        <matplotlib.axes._subplots.AxesSubplot object at 0x12cffc2e8>]], dtype=object)"
      ]
     },
     "execution_count": 28,
     "metadata": {},
     "output_type": "execute_result"
    },
    {
     "data": {
      "image/png": "[encoded data removed]",
      "text/plain": [
       "<matplotlib.figure.Figure at 0x12d89fba8>"
      ]
     },
     "metadata": {},
     "output_type": "display_data"
    }
   ],
   "source": [
    "traceplot(full_zib_trace, varnames=['ψ'])"
   ]
  },
  {
   "cell_type": "code",
   "execution_count": 31,
   "metadata": {
    "collapsed": false
   },
   "outputs": [
    {
     "name": "stdout",
     "output_type": "stream",
     "text": [
      "\n",
      "ψ:\n",
      "\n",
      "  Mean             SD               MC Error         95% HPD interval\n",
      "  -------------------------------------------------------------------\n",
      "  \n",
      "  0.841            0.072            0.002            [0.701, 0.962]\n",
      "\n",
      "  Posterior quantiles:\n",
      "  2.5            25             50             75             97.5\n",
      "  |--------------|==============|==============|--------------|\n",
      "  \n",
      "  0.685          0.798          0.850          0.894          0.952\n",
      "\n"
     ]
    }
   ],
   "source": [
    "summary(full_zib_trace, varnames=['ψ'])"
   ]
  },
  {
   "cell_type": "markdown",
   "metadata": {},
   "source": [
    "Conditional on the potential for bleeding, here are the bleeding-specific effect sizes of the steroid intervention."
   ]
  },
  {
   "cell_type": "code",
   "execution_count": 29,
   "metadata": {
    "collapsed": false
   },
   "outputs": [
    {
     "data": {
      "text/plain": [
       "<matplotlib.gridspec.GridSpec at 0x12d89f780>"
      ]
     },
     "execution_count": 29,
     "metadata": {},
     "output_type": "execute_result"
    },
    {
     "data": {
      "image/png": "[encoded data removed]",
      "text/plain": [
       "<matplotlib.figure.Figure at 0x12d89f7f0>"
      ]
     },
     "metadata": {},
     "output_type": "display_data"
    }
   ],
   "source": [
    "forestplot(full_zib_trace, varnames=['odds'], \n",
    "           ylabels=raw_data.New_Bleeding_specify.unique(), vline=1)"
   ]
  },
  {
   "cell_type": "code",
   "execution_count": 30,
   "metadata": {
    "collapsed": false
   },
   "outputs": [
    {
     "name": "stdout",
     "output_type": "stream",
     "text": [
      "\n",
      "odds:\n",
      "\n",
      "  Mean             SD               MC Error         95% HPD interval\n",
      "  -------------------------------------------------------------------\n",
      "  \n",
      "  1.856            2.397            0.090            [0.050, 5.309]\n",
      "  2.080            0.728            0.023            [0.989, 3.688]\n",
      "  0.878            0.523            0.018            [0.145, 1.968]\n",
      "  3.019            3.250            0.150            [0.356, 7.687]\n",
      "  1.218            0.942            0.025            [0.095, 2.895]\n",
      "\n",
      "  Posterior quantiles:\n",
      "  2.5            25             50             75             97.5\n",
      "  |--------------|==============|==============|--------------|\n",
      "  \n",
      "  0.186          0.716          1.251          2.214          6.760\n",
      "  1.063          1.559          1.944          2.441          3.915\n",
      "  0.224          0.503          0.761          1.110          2.274\n",
      "  0.687          1.419          2.109          3.513          10.887\n",
      "  0.232          0.615          0.972          1.538          3.555\n",
      "\n"
     ]
    }
   ],
   "source": [
    "summary(full_zib_trace, varnames=['odds'])"
   ]
  }
 ],
 "metadata": {
  "_draft": {
   "nbviewer_url": "https://gist.github.com/9b48d306ef3bbc11fab2edeee85ebe9f"
  },
  "anaconda-cloud": {},
  "gist": {
   "data": {
    "description": "KQ5 Bleeding.ipynb",
    "public": true
   },
   "id": "9b48d306ef3bbc11fab2edeee85ebe9f"
  },
  "kernelspec": {
   "display_name": "Python 3",
   "language": "python",
   "name": "python3"
  },
  "language_info": {
   "codemirror_mode": {
    "name": "ipython",
    "version": 3
   },
   "file_extension": ".py",
   "mimetype": "text/x-python",
   "name": "python",
   "nbconvert_exporter": "python",
   "pygments_lexer": "ipython3",
   "version": "3.5.2"
  },
  "nav_menu": {},
  "toc": {
   "navigate_menu": true,
   "number_sections": true,
   "sideBar": true,
   "threshold": 6,
   "toc_cell": false,
   "toc_section_display": "block",
   "toc_window_display": false
  }
 },
 "nbformat": 4,
 "nbformat_minor": 1
}
