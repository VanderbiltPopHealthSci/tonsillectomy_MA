{
 "cells": [
  {
   "cell_type": "code",
   "execution_count": 1,
   "metadata": {
    "collapsed": true
   },
   "outputs": [],
   "source": [
    "%matplotlib inline\n",
    "import numpy as np\n",
    "import pandas as pd\n",
    "import matplotlib.pyplot as plt\n",
    "import seaborn as sns\n",
    "sns.set()\n",
    "\n",
    "rseeds = [20090425, 19700903]"
   ]
  },
  {
   "cell_type": "code",
   "execution_count": 2,
   "metadata": {
    "collapsed": false
   },
   "outputs": [
    {
     "data": {
      "text/plain": [
       "(48, 16)"
      ]
     },
     "execution_count": 2,
     "metadata": {},
     "output_type": "execute_result"
    }
   ],
   "source": [
    "data_file = 'data/Tonsillectomy_KQ5_Bleeding_Data_07202016.xlsx'\n",
    "\n",
    "raw_data = (pd.read_excel(data_file, \n",
    "              sheetname='Bleeding_Dexa vs Placebo_KQ5', \n",
    "              na_values=['null', 'ND']))\n",
    "raw_data.shape"
   ]
  },
  {
   "cell_type": "code",
   "execution_count": 3,
   "metadata": {
    "collapsed": false
   },
   "outputs": [
    {
     "data": {
      "text/html": [
       "<div>\n",
       "<table border=\"1\" class=\"dataframe\">\n",
       "  <thead>\n",
       "    <tr style=\"text-align: right;\">\n",
       "      <th></th>\n",
       "      <th>Citation</th>\n",
       "      <th>REFID</th>\n",
       "      <th>Number_ of_Arms</th>\n",
       "      <th>Rx_Grouping</th>\n",
       "      <th>Group_Desc</th>\n",
       "      <th>Intervention_category</th>\n",
       "      <th>Dose</th>\n",
       "      <th>Route</th>\n",
       "      <th>Rx_Durn</th>\n",
       "      <th>OUTC_Main_\n",
       "CATG</th>\n",
       "      <th>Outc_SUB_\n",
       "CATG</th>\n",
       "      <th>New_Bleeding_specify</th>\n",
       "      <th>Outcome_timepoint</th>\n",
       "      <th>OUTCOME_SAMPLE_SIZE</th>\n",
       "      <th>Outcome_count</th>\n",
       "      <th>Outcome_%</th>\n",
       "    </tr>\n",
       "  </thead>\n",
       "  <tbody>\n",
       "    <tr>\n",
       "      <th>0</th>\n",
       "      <td>T. Q. Gallagher, C. Hill, S. Ojha, E. Ference,...</td>\n",
       "      <td>1039</td>\n",
       "      <td>2</td>\n",
       "      <td>G1:</td>\n",
       "      <td>dexamethasone</td>\n",
       "      <td>perioperative steroid</td>\n",
       "      <td>0.5 mg/kg</td>\n",
       "      <td>Injection</td>\n",
       "      <td>NaN</td>\n",
       "      <td>Harms</td>\n",
       "      <td>Harms: Post-op bleeding</td>\n",
       "      <td>Primary bleeding</td>\n",
       "      <td>POD5</td>\n",
       "      <td>154</td>\n",
       "      <td>2</td>\n",
       "      <td>1.0</td>\n",
       "    </tr>\n",
       "    <tr>\n",
       "      <th>1</th>\n",
       "      <td>T. Q. Gallagher, C. Hill, S. Ojha, E. Ference,...</td>\n",
       "      <td>1039</td>\n",
       "      <td>2</td>\n",
       "      <td>G2:</td>\n",
       "      <td>placebo (saline)</td>\n",
       "      <td>placebo</td>\n",
       "      <td>0.5 mg/kg</td>\n",
       "      <td>Injection</td>\n",
       "      <td>NaN</td>\n",
       "      <td>Harms</td>\n",
       "      <td>Harms: Post-op bleeding</td>\n",
       "      <td>Primary bleeding</td>\n",
       "      <td>POD5</td>\n",
       "      <td>151</td>\n",
       "      <td>2</td>\n",
       "      <td>1.0</td>\n",
       "    </tr>\n",
       "    <tr>\n",
       "      <th>2</th>\n",
       "      <td>T. Q. Gallagher, C. Hill, S. Ojha, E. Ference,...</td>\n",
       "      <td>1039</td>\n",
       "      <td>2</td>\n",
       "      <td>G1:</td>\n",
       "      <td>dexamethasone</td>\n",
       "      <td>perioperative steroid</td>\n",
       "      <td>0.5 mg/kg</td>\n",
       "      <td>Injection</td>\n",
       "      <td>NaN</td>\n",
       "      <td>Harms</td>\n",
       "      <td>Harms: Post-op bleeding</td>\n",
       "      <td>Undefined bleeding</td>\n",
       "      <td>POD5</td>\n",
       "      <td>154</td>\n",
       "      <td>15</td>\n",
       "      <td>9.7</td>\n",
       "    </tr>\n",
       "    <tr>\n",
       "      <th>3</th>\n",
       "      <td>T. Q. Gallagher, C. Hill, S. Ojha, E. Ference,...</td>\n",
       "      <td>1039</td>\n",
       "      <td>2</td>\n",
       "      <td>G2:</td>\n",
       "      <td>placebo (saline)</td>\n",
       "      <td>placebo</td>\n",
       "      <td>0.5 mg/kg</td>\n",
       "      <td>Injection</td>\n",
       "      <td>NaN</td>\n",
       "      <td>Harms</td>\n",
       "      <td>Harms: Post-op bleeding</td>\n",
       "      <td>Undefined bleeding</td>\n",
       "      <td>POD5</td>\n",
       "      <td>151</td>\n",
       "      <td>11</td>\n",
       "      <td>7.3</td>\n",
       "    </tr>\n",
       "    <tr>\n",
       "      <th>4</th>\n",
       "      <td>T. Q. Gallagher, C. Hill, S. Ojha, E. Ference,...</td>\n",
       "      <td>1039</td>\n",
       "      <td>2</td>\n",
       "      <td>G1:</td>\n",
       "      <td>dexamethasone</td>\n",
       "      <td>perioperative steroid</td>\n",
       "      <td>0.5 mg/kg</td>\n",
       "      <td>Injection</td>\n",
       "      <td>NaN</td>\n",
       "      <td>Harms</td>\n",
       "      <td>Harms: Post-op bleeding</td>\n",
       "      <td>Revisit/Readmission-bleeding</td>\n",
       "      <td>POD5</td>\n",
       "      <td>154</td>\n",
       "      <td>3</td>\n",
       "      <td>1.9</td>\n",
       "    </tr>\n",
       "  </tbody>\n",
       "</table>\n",
       "</div>"
      ],
      "text/plain": [
       "                                            Citation  REFID  Number_ of_Arms  \\\n",
       "0  T. Q. Gallagher, C. Hill, S. Ojha, E. Ference,...   1039                2   \n",
       "1  T. Q. Gallagher, C. Hill, S. Ojha, E. Ference,...   1039                2   \n",
       "2  T. Q. Gallagher, C. Hill, S. Ojha, E. Ference,...   1039                2   \n",
       "3  T. Q. Gallagher, C. Hill, S. Ojha, E. Ference,...   1039                2   \n",
       "4  T. Q. Gallagher, C. Hill, S. Ojha, E. Ference,...   1039                2   \n",
       "\n",
       "  Rx_Grouping        Group_Desc  Intervention_category       Dose       Route  \\\n",
       "0         G1:     dexamethasone  perioperative steroid  0.5 mg/kg  Injection    \n",
       "1         G2:  placebo (saline)                placebo  0.5 mg/kg  Injection    \n",
       "2         G1:     dexamethasone  perioperative steroid  0.5 mg/kg  Injection    \n",
       "3         G2:  placebo (saline)                placebo  0.5 mg/kg  Injection    \n",
       "4         G1:     dexamethasone  perioperative steroid  0.5 mg/kg  Injection    \n",
       "\n",
       "   Rx_Durn OUTC_Main_\\nCATG          Outc_SUB_\\nCATG  \\\n",
       "0      NaN            Harms  Harms: Post-op bleeding   \n",
       "1      NaN            Harms  Harms: Post-op bleeding   \n",
       "2      NaN            Harms  Harms: Post-op bleeding   \n",
       "3      NaN            Harms  Harms: Post-op bleeding   \n",
       "4      NaN            Harms  Harms: Post-op bleeding   \n",
       "\n",
       "           New_Bleeding_specify Outcome_timepoint   OUTCOME_SAMPLE_SIZE  \\\n",
       "0              Primary bleeding               POD5                  154   \n",
       "1              Primary bleeding               POD5                  151   \n",
       "2            Undefined bleeding               POD5                  154   \n",
       "3            Undefined bleeding               POD5                  151   \n",
       "4  Revisit/Readmission-bleeding               POD5                  154   \n",
       "\n",
       "   Outcome_count  Outcome_%  \n",
       "0              2        1.0  \n",
       "1              2        1.0  \n",
       "2             15        9.7  \n",
       "3             11        7.3  \n",
       "4              3        1.9  "
      ]
     },
     "execution_count": 3,
     "metadata": {},
     "output_type": "execute_result"
    }
   ],
   "source": [
    "raw_data.head()"
   ]
  },
  {
   "cell_type": "code",
   "execution_count": 4,
   "metadata": {
    "collapsed": false
   },
   "outputs": [
    {
     "data": {
      "text/plain": [
       "array([ 1039,  1085,  2213,  3031,  3213,  3498,  6452,  6586, 12791])"
      ]
     },
     "execution_count": 4,
     "metadata": {},
     "output_type": "execute_result"
    }
   ],
   "source": [
    "raw_data.REFID.unique()"
   ]
  },
  {
   "cell_type": "code",
   "execution_count": 5,
   "metadata": {
    "collapsed": true
   },
   "outputs": [],
   "source": [
    "high_ROB = 6586, 12791"
   ]
  },
  {
   "cell_type": "code",
   "execution_count": 6,
   "metadata": {
    "collapsed": false
   },
   "outputs": [
    {
     "data": {
      "text/plain": [
       "(5,)"
      ]
     },
     "execution_count": 6,
     "metadata": {},
     "output_type": "execute_result"
    }
   ],
   "source": [
    "raw_data.New_Bleeding_specify.value_counts().shape"
   ]
  },
  {
   "cell_type": "code",
   "execution_count": 7,
   "metadata": {
    "collapsed": false
   },
   "outputs": [
    {
     "data": {
      "text/plain": [
       "perioperative steroid    27\n",
       "placebo                  21\n",
       "Name: Intervention_category, dtype: int64"
      ]
     },
     "execution_count": 7,
     "metadata": {},
     "output_type": "execute_result"
    }
   ],
   "source": [
    "raw_data.Intervention_category.value_counts()"
   ]
  },
  {
   "cell_type": "code",
   "execution_count": 19,
   "metadata": {
    "collapsed": false
   },
   "outputs": [],
   "source": [
    "from pymc3 import Model, sample, traceplot, forestplot, summary, waic\n",
    "from pymc3 import Normal, Binomial, invlogit, HalfCauchy, Deterministic, exp\n",
    "\n",
    "def create_model(_data, bleeding_specific=False):\n",
    "    \n",
    "    data = _data.copy()\n",
    "    \n",
    "    unique_studies = data.REFID.unique()\n",
    "    n_studies = len(unique_studies)\n",
    "    \n",
    "    bleeding = data.New_Bleeding_specify.unique()\n",
    "    n_bleeding = len(bleeding)\n",
    "    \n",
    "    data['study_id'] = data.REFID.replace(dict(zip(unique_studies, range(n_studies))))\n",
    "    data['bleeding_type'] = (data.New_Bleeding_specify\n",
    "                             .replace(dict(zip(bleeding, range(n_bleeding)))))\n",
    "    \n",
    "    data['treatment'] = (data.Intervention_category=='perioperative steroid').astype(int)\n",
    "    \n",
    "    b, t, i, n, y = data[['bleeding_type', 'treatment', \n",
    "                          'study_id', 'OUTCOME_SAMPLE_SIZE', 'Outcome_count']].T.values\n",
    "    \n",
    "    with Model() as model:\n",
    "\n",
    "        # Study random effect\n",
    "        σ = HalfCauchy('σ', 5)\n",
    "        ϵ = Normal('ϵ', 0, sd=σ, shape=n_studies)\n",
    "        \n",
    "        # Bleeding type means\n",
    "        μ = Normal('μ', 0, sd=100, shape=n_bleeding)\n",
    "\n",
    "        if bleeding_specific:\n",
    "            # Perioperative steroid effect\n",
    "            δ = Normal('δ', 0, sd=100, shape=n_bleeding)\n",
    "\n",
    "            θ = invlogit(μ[b] + δ[b]*t + ϵ[i])\n",
    "        else:\n",
    "            # Perioperative steroid effect\n",
    "            δ = Normal('δ', 0, sd=100)\n",
    "\n",
    "            θ = invlogit(μ[b] + δ*t + ϵ[i])\n",
    "        \n",
    "        data_likelhood = Binomial('data_likelihood', n=n, p=θ, observed=y)\n",
    "        \n",
    "        odds = Deterministic('odds', exp(δ))\n",
    "        \n",
    "    return model"
   ]
  },
  {
   "cell_type": "markdown",
   "metadata": {},
   "source": [
    "### Pooled effect size, all studies"
   ]
  },
  {
   "cell_type": "code",
   "execution_count": 25,
   "metadata": {
    "collapsed": false
   },
   "outputs": [
    {
     "name": "stdout",
     "output_type": "stream",
     "text": [
      "Applied log-transform to σ and added transformed σ_log_ to model.\n"
     ]
    }
   ],
   "source": [
    "pooled_model = create_model(raw_data)"
   ]
  },
  {
   "cell_type": "code",
   "execution_count": 26,
   "metadata": {
    "collapsed": false
   },
   "outputs": [
    {
     "name": "stdout",
     "output_type": "stream",
     "text": [
      "Assigned NUTS to σ_log_\n",
      "Assigned NUTS to ϵ\n",
      "Assigned NUTS to μ\n",
      "Assigned NUTS to δ\n",
      " [-----------------100%-----------------] 2000 of 2000 complete in 71.0 sec"
     ]
    }
   ],
   "source": [
    "with pooled_model:\n",
    "    \n",
    "    pooled_trace = sample(2000, njobs=2, random_seed=rseeds)"
   ]
  },
  {
   "cell_type": "code",
   "execution_count": 28,
   "metadata": {
    "collapsed": false
   },
   "outputs": [
    {
     "data": {
      "text/plain": [
       "array([[<matplotlib.axes._subplots.AxesSubplot object at 0x12503fdd8>,\n",
       "        <matplotlib.axes._subplots.AxesSubplot object at 0x1245ac668>]], dtype=object)"
      ]
     },
     "execution_count": 28,
     "metadata": {},
     "output_type": "execute_result"
    },
    {
     "data": {
      "image/png": "[encoded data removed]",
      "text/plain": [
       "<matplotlib.figure.Figure at 0x124edc438>"
      ]
     },
     "metadata": {},
     "output_type": "display_data"
    }
   ],
   "source": [
    "traceplot(pooled_trace, varnames=['odds'])"
   ]
  },
  {
   "cell_type": "code",
   "execution_count": 29,
   "metadata": {
    "collapsed": false
   },
   "outputs": [
    {
     "name": "stdout",
     "output_type": "stream",
     "text": [
      "\n",
      "odds:\n",
      "\n",
      "  Mean             SD               MC Error         95% HPD interval\n",
      "  -------------------------------------------------------------------\n",
      "  \n",
      "  1.181            0.285            0.006            [0.680, 1.755]\n",
      "\n",
      "  Posterior quantiles:\n",
      "  2.5            25             50             75             97.5\n",
      "  |--------------|==============|==============|--------------|\n",
      "  \n",
      "  0.721          0.982          1.150          1.343          1.820\n",
      "\n"
     ]
    }
   ],
   "source": [
    "summary(pooled_trace, varnames=['odds'])"
   ]
  },
  {
   "cell_type": "code",
   "execution_count": 30,
   "metadata": {
    "collapsed": false
   },
   "outputs": [
    {
     "data": {
      "text/plain": [
       "435.35957088771352"
      ]
     },
     "execution_count": 30,
     "metadata": {},
     "output_type": "execute_result"
    }
   ],
   "source": [
    "waic(pooled_trace, model=pooled_model)"
   ]
  },
  {
   "cell_type": "markdown",
   "metadata": {},
   "source": [
    "### Pooled effect size, exclude high ROB studies"
   ]
  },
  {
   "cell_type": "code",
   "execution_count": 9,
   "metadata": {
    "collapsed": false
   },
   "outputs": [
    {
     "name": "stdout",
     "output_type": "stream",
     "text": [
      "Applied log-transform to σ and added transformed σ_log_ to model.\n"
     ]
    }
   ],
   "source": [
    "low_rob_model = create_model(raw_data[~raw_data.REFID.isin(high_ROB)])"
   ]
  },
  {
   "cell_type": "code",
   "execution_count": 10,
   "metadata": {
    "collapsed": false
   },
   "outputs": [
    {
     "name": "stdout",
     "output_type": "stream",
     "text": [
      "Assigned NUTS to σ_log_\n",
      "Assigned NUTS to ϵ\n",
      "Assigned NUTS to μ\n",
      "Assigned NUTS to δ\n",
      " [-----------------100%-----------------] 2000 of 2000 complete in 80.5 sec"
     ]
    }
   ],
   "source": [
    "with low_rob_model:\n",
    "    \n",
    "    low_rob_trace = sample(2000, njobs=2, random_seed=rseeds)"
   ]
  },
  {
   "cell_type": "code",
   "execution_count": 11,
   "metadata": {
    "collapsed": false
   },
   "outputs": [
    {
     "name": "stdout",
     "output_type": "stream",
     "text": [
      "\n",
      "odds:\n",
      "\n",
      "  Mean             SD               MC Error         95% HPD interval\n",
      "  -------------------------------------------------------------------\n",
      "  \n",
      "  1.228            0.304            0.006            [0.685, 1.840]\n",
      "\n",
      "  Posterior quantiles:\n",
      "  2.5            25             50             75             97.5\n",
      "  |--------------|==============|==============|--------------|\n",
      "  \n",
      "  0.731          1.015          1.196          1.410          1.901\n",
      "\n"
     ]
    }
   ],
   "source": [
    "summary(low_rob_trace, varnames=['odds'])"
   ]
  },
  {
   "cell_type": "code",
   "execution_count": 20,
   "metadata": {
    "collapsed": false
   },
   "outputs": [
    {
     "data": {
      "text/plain": [
       "322.29973709316511"
      ]
     },
     "execution_count": 20,
     "metadata": {},
     "output_type": "execute_result"
    }
   ],
   "source": [
    "waic(low_rob_trace, model=low_rob_model)"
   ]
  },
  {
   "cell_type": "markdown",
   "metadata": {},
   "source": [
    "## Bleeding-specific effects, all studies"
   ]
  },
  {
   "cell_type": "code",
   "execution_count": 13,
   "metadata": {
    "collapsed": false
   },
   "outputs": [
    {
     "name": "stdout",
     "output_type": "stream",
     "text": [
      "Applied log-transform to σ and added transformed σ_log_ to model.\n"
     ]
    }
   ],
   "source": [
    "full_model = create_model(raw_data, bleeding_specific=True)"
   ]
  },
  {
   "cell_type": "code",
   "execution_count": 14,
   "metadata": {
    "collapsed": false
   },
   "outputs": [
    {
     "name": "stdout",
     "output_type": "stream",
     "text": [
      "Assigned NUTS to σ_log_\n",
      "Assigned NUTS to ϵ\n",
      "Assigned NUTS to μ\n",
      "Assigned NUTS to δ\n",
      " [-----------------100%-----------------] 2000 of 2000 complete in 111.4 sec"
     ]
    }
   ],
   "source": [
    "with full_model:\n",
    "    \n",
    "    full_trace = sample(2000, njobs=2, random_seed=rseeds)"
   ]
  },
  {
   "cell_type": "code",
   "execution_count": 18,
   "metadata": {
    "collapsed": false
   },
   "outputs": [
    {
     "data": {
      "text/plain": [
       "<matplotlib.gridspec.GridSpec at 0x11bbc2da0>"
      ]
     },
     "execution_count": 18,
     "metadata": {},
     "output_type": "execute_result"
    },
    {
     "data": {
      "image/png": "[encoded data removed]",
      "text/plain": [
       "<matplotlib.figure.Figure at 0x12015bda0>"
      ]
     },
     "metadata": {},
     "output_type": "display_data"
    }
   ],
   "source": [
    "forestplot(full_trace, varnames=['odds'], ylabels=raw_data.New_Bleeding_specify.unique())"
   ]
  },
  {
   "cell_type": "code",
   "execution_count": 16,
   "metadata": {
    "collapsed": false,
    "scrolled": true
   },
   "outputs": [
    {
     "name": "stdout",
     "output_type": "stream",
     "text": [
      "\n",
      "odds:\n",
      "\n",
      "  Mean             SD               MC Error         95% HPD interval\n",
      "  -------------------------------------------------------------------\n",
      "  \n",
      "  0.971            1.293            0.035            [0.008, 2.819]\n",
      "  1.667            0.591            0.009            [0.711, 2.905]\n",
      "  0.474            0.322            0.006            [0.054, 1.081]\n",
      "  7.349            13.011           0.521            [0.134, 21.827]\n",
      "  0.458            0.487            0.009            [0.002, 1.309]\n",
      "\n",
      "  Posterior quantiles:\n",
      "  2.5            25             50             75             97.5\n",
      "  |--------------|==============|==============|--------------|\n",
      "  \n",
      "  0.066          0.313          0.606          1.183          3.761\n",
      "  0.830          1.254          1.552          1.960          3.178\n",
      "  0.108          0.254          0.399          0.600          1.319\n",
      "  1.015          2.450          4.179          7.527          32.291\n",
      "  0.038          0.172          0.324          0.575          1.707\n",
      "\n"
     ]
    }
   ],
   "source": [
    "summary(full_trace, varnames=['odds'])"
   ]
  },
  {
   "cell_type": "code",
   "execution_count": 21,
   "metadata": {
    "collapsed": false
   },
   "outputs": [
    {
     "data": {
      "text/plain": [
       "393.11841730449868"
      ]
     },
     "execution_count": 21,
     "metadata": {},
     "output_type": "execute_result"
    }
   ],
   "source": [
    "waic(full_trace, model=full_model)"
   ]
  },
  {
   "cell_type": "markdown",
   "metadata": {},
   "source": [
    "## Goodness of fit\n",
    "\n",
    "For full model"
   ]
  },
  {
   "cell_type": "code",
   "execution_count": 58,
   "metadata": {
    "collapsed": false
   },
   "outputs": [],
   "source": [
    "from pymc3 import sample_ppc\n",
    "\n",
    "full_ppc = sample_ppc(full_trace, model=full_model, samples=500)"
   ]
  },
  {
   "cell_type": "code",
   "execution_count": 59,
   "metadata": {
    "collapsed": false
   },
   "outputs": [
    {
     "data": {
      "text/plain": [
       "(500, 48)"
      ]
     },
     "execution_count": 59,
     "metadata": {},
     "output_type": "execute_result"
    }
   ],
   "source": [
    "bayes_p = lambda sim, true: [(s > t).mean() for s,t in zip(sim, true)]\n",
    "\n",
    "sim_days = full_ppc['data_likelihood']\n",
    "sim_days.shape"
   ]
  },
  {
   "cell_type": "code",
   "execution_count": 64,
   "metadata": {
    "collapsed": false
   },
   "outputs": [
    {
     "data": {
      "text/plain": [
       "array([ 0.564,  0.422,  0.604,  0.67 ,  0.522,  0.312,  0.258,  0.42 ,\n",
       "        0.   ,  0.   ,  0.588,  0.   ,  0.   ,  0.924,  0.426,  0.022,\n",
       "        0.972,  0.112,  0.726,  0.208,  0.876,  0.   ,  0.   ,  0.   ,\n",
       "        0.   ,  0.43 ,  0.   ,  0.506,  0.   ,  0.848,  0.   ,  0.612,\n",
       "        0.   ,  0.   ,  0.   ,  0.652,  0.   ,  0.78 ,  0.   ,  0.   ,\n",
       "        0.832,  0.568,  0.   ,  0.   ,  0.   ,  0.876,  0.   ,  0.   ])"
      ]
     },
     "execution_count": 64,
     "metadata": {},
     "output_type": "execute_result"
    }
   ],
   "source": [
    "(sim_days < raw_data.Outcome_count.values).mean(0)"
   ]
  },
  {
   "cell_type": "markdown",
   "metadata": {},
   "source": [
    "The fit of this model is very poor, as evidenced by the zeros."
   ]
  },
  {
   "cell_type": "markdown",
   "metadata": {},
   "source": [
    "## Mixture model"
   ]
  },
  {
   "cell_type": "code",
   "execution_count": 68,
   "metadata": {
    "collapsed": true
   },
   "outputs": [],
   "source": [
    "from pymc3 import Model, sample, traceplot, forestplot, summary, waic, DensityDist\n",
    "from pymc3 import Normal, Binomial, invlogit, HalfCauchy, Deterministic, exp, Beta, log\n",
    "import theano.tensor as tt\n",
    "\n",
    "def create_zib_model(_data, bleeding_specific=False):\n",
    "    \n",
    "    data = _data.copy()\n",
    "    \n",
    "    unique_studies = data.REFID.unique()\n",
    "    n_studies = len(unique_studies)\n",
    "    \n",
    "    bleeding = data.New_Bleeding_specify.unique()\n",
    "    n_bleeding = len(bleeding)\n",
    "    \n",
    "    data['study_id'] = data.REFID.replace(dict(zip(unique_studies, range(n_studies))))\n",
    "    data['bleeding_type'] = (data.New_Bleeding_specify\n",
    "                             .replace(dict(zip(bleeding, range(n_bleeding)))))\n",
    "    \n",
    "    data['treatment'] = (data.Intervention_category=='perioperative steroid').astype(int)\n",
    "    \n",
    "    b, t, i, n, y = data[['bleeding_type', 'treatment', \n",
    "                          'study_id', 'OUTCOME_SAMPLE_SIZE', 'Outcome_count']].T.values\n",
    "    \n",
    "    with Model() as model:\n",
    "        \n",
    "        # Probability of no bleeding\n",
    "        ψ = Beta('ψ', 1, 1)\n",
    "\n",
    "        # Study random effect\n",
    "        σ = HalfCauchy('σ', 5)\n",
    "        ϵ = Normal('ϵ', 0, sd=σ, shape=n_studies)\n",
    "        \n",
    "        # Bleeding type means\n",
    "        μ = Normal('μ', 0, sd=100, shape=n_bleeding)\n",
    "\n",
    "        if bleeding_specific:\n",
    "            # Perioperative steroid effect\n",
    "            δ = Normal('δ', 0, sd=100, shape=n_bleeding)\n",
    "\n",
    "            θ = invlogit(μ[b] + δ[b]*t + ϵ[i])\n",
    "        else:\n",
    "            # Perioperative steroid effect\n",
    "            δ = Normal('δ', 0, sd=100)\n",
    "\n",
    "            θ = invlogit(μ[b] + δ*t + ϵ[i])\n",
    "            \n",
    "        def zero_inflated_binomial(value):\n",
    "            return tt.switch(value>0, log(ψ) + Binomial.dist(n=n, p=θ).logp(value),\n",
    "                                    log((1-ψ)) * (1-θ)**n).sum()\n",
    "        \n",
    "        data_likelhood = DensityDist('data_likelihood', zero_inflated_binomial, observed=y)\n",
    "        \n",
    "        odds = Deterministic('odds', exp(δ))\n",
    "        \n",
    "    return model"
   ]
  },
  {
   "cell_type": "code",
   "execution_count": 69,
   "metadata": {
    "collapsed": false
   },
   "outputs": [
    {
     "name": "stdout",
     "output_type": "stream",
     "text": [
      "Applied logodds-transform to ψ and added transformed ψ_logodds_ to model.\n",
      "Applied log-transform to σ and added transformed σ_log_ to model.\n"
     ]
    }
   ],
   "source": [
    "full_zib_model = create_zib_model(raw_data, bleeding_specific=True)"
   ]
  },
  {
   "cell_type": "code",
   "execution_count": 71,
   "metadata": {
    "collapsed": false
   },
   "outputs": [
    {
     "name": "stdout",
     "output_type": "stream",
     "text": [
      "Assigned NUTS to ψ_logodds_\n",
      "Assigned NUTS to σ_log_\n",
      "Assigned NUTS to ϵ\n",
      "Assigned NUTS to μ\n",
      "Assigned NUTS to δ\n",
      " [-----------------100%-----------------] 2000 of 2000 complete in 174.4 sec"
     ]
    }
   ],
   "source": [
    "with full_zib_model:\n",
    "    \n",
    "    full_zib_trace = sample(2000)"
   ]
  },
  {
   "cell_type": "code",
   "execution_count": 72,
   "metadata": {
    "collapsed": false
   },
   "outputs": [
    {
     "data": {
      "text/plain": [
       "array([[<matplotlib.axes._subplots.AxesSubplot object at 0x12ba16f60>,\n",
       "        <matplotlib.axes._subplots.AxesSubplot object at 0x132f11e80>]], dtype=object)"
      ]
     },
     "execution_count": 72,
     "metadata": {},
     "output_type": "execute_result"
    },
    {
     "data": {
      "image/png": "[encoded data removed]",
      "text/plain": [
       "<matplotlib.figure.Figure at 0x12ba16550>"
      ]
     },
     "metadata": {},
     "output_type": "display_data"
    }
   ],
   "source": [
    "traceplot(full_zib_trace, varnames=['ψ'])"
   ]
  },
  {
   "cell_type": "code",
   "execution_count": 76,
   "metadata": {
    "collapsed": false
   },
   "outputs": [
    {
     "data": {
      "text/plain": [
       "<matplotlib.gridspec.GridSpec at 0x134d86dd8>"
      ]
     },
     "execution_count": 76,
     "metadata": {},
     "output_type": "execute_result"
    },
    {
     "data": {
      "image/png": "[encoded data removed]",
      "text/plain": [
       "<matplotlib.figure.Figure at 0x134d86be0>"
      ]
     },
     "metadata": {},
     "output_type": "display_data"
    }
   ],
   "source": [
    "forestplot(full_zib_trace, varnames=['odds'], \n",
    "           ylabels=raw_data.New_Bleeding_specify.unique(), vline=1)"
   ]
  }
 ],
 "metadata": {
  "_draft": {
   "nbviewer_url": "https://gist.github.com/9b48d306ef3bbc11fab2edeee85ebe9f"
  },
  "anaconda-cloud": {},
  "gist": {
   "data": {
    "description": "KQ5 Bleeding.ipynb",
    "public": true
   },
   "id": "9b48d306ef3bbc11fab2edeee85ebe9f"
  },
  "kernelspec": {
   "display_name": "Python 3",
   "language": "python",
   "name": "python3"
  },
  "language_info": {
   "codemirror_mode": {
    "name": "ipython",
    "version": 3
   },
   "file_extension": ".py",
   "mimetype": "text/x-python",
   "name": "python",
   "nbconvert_exporter": "python",
   "pygments_lexer": "ipython3",
   "version": "3.5.2"
  }
 },
 "nbformat": 4,
 "nbformat_minor": 0
}
