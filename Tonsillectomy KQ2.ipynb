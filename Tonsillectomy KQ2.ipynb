{
 "cells": [
  {
   "cell_type": "code",
   "execution_count": 1,
   "metadata": {
    "collapsed": true,
    "nbpresent": {
     "id": "6f2e5818-747e-4299-bd8b-e61b6c2b7570"
    }
   },
   "outputs": [],
   "source": [
    "%matplotlib inline\n",
    "import numpy as np\n",
    "import pandas as pd\n",
    "import matplotlib.pyplot as plt\n",
    "import seaborn as sns\n",
    "import scipy as sp\n",
    "sns.set()"
   ]
  },
  {
   "cell_type": "code",
   "execution_count": 2,
   "metadata": {
    "collapsed": false,
    "nbpresent": {
     "id": "5278bb57-6238-4c83-9323-d2d3d9d5f362"
    }
   },
   "outputs": [
    {
     "data": {
      "text/html": [
       "<div>\n",
       "<table border=\"1\" class=\"dataframe\">\n",
       "  <thead>\n",
       "    <tr style=\"text-align: right;\">\n",
       "      <th></th>\n",
       "      <th>Citation</th>\n",
       "      <th>REFID</th>\n",
       "      <th>Number_of_Arms</th>\n",
       "      <th>Rx_Grouping</th>\n",
       "      <th>Group_Desc</th>\n",
       "      <th>Intervention_category</th>\n",
       "      <th>OUTC_Main_\n",
       "CATG</th>\n",
       "      <th>Outc_SUB_\n",
       "CATG</th>\n",
       "      <th>Outcome_specify</th>\n",
       "      <th>Outc_Unit</th>\n",
       "      <th>...</th>\n",
       "      <th>Outcome_count</th>\n",
       "      <th>Outcome_%</th>\n",
       "      <th>Outcome_Mean</th>\n",
       "      <th>Outcome_SD</th>\n",
       "      <th>Outcome_ Median</th>\n",
       "      <th>Outcome_Min</th>\n",
       "      <th>Outcome_Max</th>\n",
       "      <th>Outcome_95%L</th>\n",
       "      <th>Outcome_95%H</th>\n",
       "      <th>Results</th>\n",
       "    </tr>\n",
       "  </thead>\n",
       "  <tbody>\n",
       "    <tr>\n",
       "      <th>0</th>\n",
       "      <td>L. J. Orvidas, J. L. St Sauver and A. L. Weave...</td>\n",
       "      <td>2746</td>\n",
       "      <td>2</td>\n",
       "      <td>G1:</td>\n",
       "      <td>Tonsillectomy</td>\n",
       "      <td>Total tonsillectomy - unspecified</td>\n",
       "      <td>Throat infection</td>\n",
       "      <td>Throat infection-# strep infections</td>\n",
       "      <td>Group A Beta-strep throat infections/year</td>\n",
       "      <td>number of episodes/year</td>\n",
       "      <td>...</td>\n",
       "      <td>NaN</td>\n",
       "      <td>13.2</td>\n",
       "      <td>NaN</td>\n",
       "      <td>NaN</td>\n",
       "      <td>NaN</td>\n",
       "      <td>NaN</td>\n",
       "      <td>NaN</td>\n",
       "      <td>7.5</td>\n",
       "      <td>18.6</td>\n",
       "      <td>number still at risk=124</td>\n",
       "    </tr>\n",
       "    <tr>\n",
       "      <th>1</th>\n",
       "      <td>L. J. Orvidas, J. L. St Sauver and A. L. Weave...</td>\n",
       "      <td>2746</td>\n",
       "      <td>2</td>\n",
       "      <td>G2:</td>\n",
       "      <td>No surgery</td>\n",
       "      <td>No surgery</td>\n",
       "      <td>Throat infection</td>\n",
       "      <td>Throat infection-# strep infections</td>\n",
       "      <td>Group A Beta-strep throat infections/year</td>\n",
       "      <td>number of episodes/year</td>\n",
       "      <td>...</td>\n",
       "      <td>NaN</td>\n",
       "      <td>39.3</td>\n",
       "      <td>NaN</td>\n",
       "      <td>NaN</td>\n",
       "      <td>NaN</td>\n",
       "      <td>NaN</td>\n",
       "      <td>NaN</td>\n",
       "      <td>30.8</td>\n",
       "      <td>46.8</td>\n",
       "      <td>number still at risk=87</td>\n",
       "    </tr>\n",
       "  </tbody>\n",
       "</table>\n",
       "<p>2 rows × 30 columns</p>\n",
       "</div>"
      ],
      "text/plain": [
       "                                            Citation REFID  Number_of_Arms  \\\n",
       "0  L. J. Orvidas, J. L. St Sauver and A. L. Weave...  2746               2   \n",
       "1  L. J. Orvidas, J. L. St Sauver and A. L. Weave...  2746               2   \n",
       "\n",
       "  Rx_Grouping     Group_Desc              Intervention_category  \\\n",
       "0         G1:  Tonsillectomy  Total tonsillectomy - unspecified   \n",
       "1         G2:     No surgery                         No surgery   \n",
       "\n",
       "   OUTC_Main_\\nCATG                      Outc_SUB_\\nCATG  \\\n",
       "0  Throat infection  Throat infection-# strep infections   \n",
       "1  Throat infection  Throat infection-# strep infections   \n",
       "\n",
       "                             Outcome_specify                Outc_Unit  \\\n",
       "0  Group A Beta-strep throat infections/year  number of episodes/year   \n",
       "1  Group A Beta-strep throat infections/year  number of episodes/year   \n",
       "\n",
       "             ...             Outcome_count Outcome_% Outcome_Mean Outcome_SD  \\\n",
       "0            ...                       NaN      13.2          NaN        NaN   \n",
       "1            ...                       NaN      39.3          NaN        NaN   \n",
       "\n",
       "  Outcome_ Median  Outcome_Min  Outcome_Max  Outcome_95%L Outcome_95%H  \\\n",
       "0             NaN          NaN          NaN           7.5         18.6   \n",
       "1             NaN          NaN          NaN          30.8         46.8   \n",
       "\n",
       "                    Results  \n",
       "0  number still at risk=124  \n",
       "1   number still at risk=87  \n",
       "\n",
       "[2 rows x 30 columns]"
      ]
     },
     "execution_count": 2,
     "metadata": {},
     "output_type": "execute_result"
    }
   ],
   "source": [
    "data_file = 'data/Tonsillectomy_KQ2_data_For_MA_07202016.xlsx'\n",
    "\n",
    "throat_data = (pd.read_excel(data_file, \n",
    "              sheetname='Throat infections_KQ2', \n",
    "              na_values=['null', 'ND'])\n",
    "            .drop(['Comments', 'Comments 2'], \n",
    "                  axis=1))\n",
    "throat_data.head(2)"
   ]
  },
  {
   "cell_type": "code",
   "execution_count": 3,
   "metadata": {
    "collapsed": false,
    "nbpresent": {
     "id": "eb503fde-19c8-4a40-a51e-0af146df0c64"
    },
    "scrolled": true
   },
   "outputs": [
    {
     "data": {
      "text/html": [
       "<div>\n",
       "<table border=\"1\" class=\"dataframe\">\n",
       "  <thead>\n",
       "    <tr style=\"text-align: right;\">\n",
       "      <th></th>\n",
       "      <th>Citation</th>\n",
       "      <th>REFID</th>\n",
       "      <th>Number_of_Arms</th>\n",
       "      <th>Rx_Grouping</th>\n",
       "      <th>Group_Desc</th>\n",
       "      <th>Intervention_category</th>\n",
       "      <th>OUTC_Main_\n",
       "CATG</th>\n",
       "      <th>Outc_SUB_\n",
       "CATG</th>\n",
       "      <th>Outcome_specify</th>\n",
       "      <th>Outc_Unit</th>\n",
       "      <th>...</th>\n",
       "      <th>BL Min</th>\n",
       "      <th>BL Max</th>\n",
       "      <th>BL 95% L</th>\n",
       "      <th>BL 95% H</th>\n",
       "      <th>Outcome_timepoint</th>\n",
       "      <th>OUTCOME_SAMPLE_SIZE</th>\n",
       "      <th>Outcome_count</th>\n",
       "      <th>Outcome_ %</th>\n",
       "      <th>Outcome_ Mean</th>\n",
       "      <th>Outcome_SD</th>\n",
       "    </tr>\n",
       "  </thead>\n",
       "  <tbody>\n",
       "    <tr>\n",
       "      <th>0</th>\n",
       "      <td>C. Lock, J. Wilson, N. Steen, M. Eccles, H. Ma...</td>\n",
       "      <td>1861_1377_1940 nRCT</td>\n",
       "      <td>2</td>\n",
       "      <td>G1:</td>\n",
       "      <td>dissection or bipolar diathermy tonsillectomy</td>\n",
       "      <td>Total tonsillectomy - dissection/bipolar tonsi...</td>\n",
       "      <td>Missed school</td>\n",
       "      <td>Missed school</td>\n",
       "      <td>number of school days missed</td>\n",
       "      <td>days</td>\n",
       "      <td>...</td>\n",
       "      <td>NaN</td>\n",
       "      <td>NaN</td>\n",
       "      <td>NaN</td>\n",
       "      <td>NaN</td>\n",
       "      <td>2 yrs post-op</td>\n",
       "      <td>187</td>\n",
       "      <td>NaN</td>\n",
       "      <td>NaN</td>\n",
       "      <td>11.2</td>\n",
       "      <td>9.0</td>\n",
       "    </tr>\n",
       "  </tbody>\n",
       "</table>\n",
       "<p>1 rows × 30 columns</p>\n",
       "</div>"
      ],
      "text/plain": [
       "                                            Citation                REFID  \\\n",
       "0  C. Lock, J. Wilson, N. Steen, M. Eccles, H. Ma...  1861_1377_1940 nRCT   \n",
       "\n",
       "   Number_of_Arms Rx_Grouping                                      Group_Desc  \\\n",
       "0               2         G1:  dissection or bipolar diathermy tonsillectomy    \n",
       "\n",
       "                               Intervention_category OUTC_Main_\\nCATG  \\\n",
       "0  Total tonsillectomy - dissection/bipolar tonsi...    Missed school   \n",
       "\n",
       "  Outc_SUB_\\nCATG               Outcome_specify Outc_Unit     ...     BL Min  \\\n",
       "0   Missed school  number of school days missed      days     ...        NaN   \n",
       "\n",
       "   BL Max BL 95% L BL 95% H  Outcome_timepoint  OUTCOME_SAMPLE_SIZE  \\\n",
       "0     NaN      NaN      NaN      2 yrs post-op                  187   \n",
       "\n",
       "   Outcome_count  Outcome_ %  Outcome_ Mean  Outcome_SD  \n",
       "0            NaN         NaN           11.2         9.0  \n",
       "\n",
       "[1 rows x 30 columns]"
      ]
     },
     "execution_count": 3,
     "metadata": {},
     "output_type": "execute_result"
    }
   ],
   "source": [
    "school_data = (pd.read_excel(data_file, \n",
    "              sheetname='Missed_School_KQ2', \n",
    "              na_values=['null', 'ND']))\n",
    "school_data.head(1)"
   ]
  },
  {
   "cell_type": "markdown",
   "metadata": {
    "nbpresent": {
     "id": "8f673bd2-c7af-429a-bbf3-7cd69ff9eb93"
    }
   },
   "source": [
    "## Throat infection model\n",
    "\n",
    "We will model the number of infections as a Poisson outcome $y$, scaled by the number of person-years of exposure $n$.\n",
    "\n",
    "$$y_i \\sim Poisson(\\theta_i n_i)$$\n",
    "\n",
    "The number of infections will be back-calculated from the average number of infections:\n",
    "\n",
    "$$y_i = (\\text{average infections})_i (\\text{sample size})_i (\\text{years of study})_i$$\n",
    "\n",
    "The rate parameter will be a function of the treatment arm:\n",
    "\n",
    "$$\\theta_i = \\mu + \\delta x_i$$\n",
    "\n",
    "where $x_i=1$ if the arm is a treatment, or 0 if a control. "
   ]
  },
  {
   "cell_type": "code",
   "execution_count": 4,
   "metadata": {
    "collapsed": false,
    "nbpresent": {
     "id": "dd721c74-d08c-45b7-8e50-d1bc51bfc213"
    }
   },
   "outputs": [],
   "source": [
    "excludes = [2746]\n",
    "\n",
    "throat_data = throat_data[~throat_data.REFID.isin(excludes) \n",
    "                          & (throat_data.Outc_Unit!='days')]"
   ]
  },
  {
   "cell_type": "code",
   "execution_count": 5,
   "metadata": {
    "collapsed": false,
    "nbpresent": {
     "id": "4252f159-e7d3-4c4b-a9b1-0caf858d467e"
    }
   },
   "outputs": [
    {
     "data": {
      "text/plain": [
       "control                                           26\n",
       "adenotonsillectomy                                26\n",
       "tonsillectomy                                     12\n",
       "dissection or bipolar diathermy tonsillectomy      4\n",
       "medical treatment                                  4\n",
       "Name: Group_Desc, dtype: int64"
      ]
     },
     "execution_count": 5,
     "metadata": {},
     "output_type": "execute_result"
    }
   ],
   "source": [
    "throat_data.Group_Desc.str.lower().replace({'no surgery':'control', \n",
    "                                            'watchful waiting':'control'}).value_counts()"
   ]
  },
  {
   "cell_type": "code",
   "execution_count": 6,
   "metadata": {
    "collapsed": false,
    "nbpresent": {
     "id": "2369ff5b-a72b-4a2b-89e7-6b62f0b5e28a"
    }
   },
   "outputs": [
    {
     "data": {
      "text/plain": [
       "0    42\n",
       "1    30\n",
       "Name: treatment, dtype: int64"
      ]
     },
     "execution_count": 6,
     "metadata": {},
     "output_type": "execute_result"
    }
   ],
   "source": [
    "throat_data['treatment'] = throat_data.Group_Desc.str.contains('tonsil').astype(int)\n",
    "throat_data['treatment'].value_counts()"
   ]
  },
  {
   "cell_type": "code",
   "execution_count": 7,
   "metadata": {
    "collapsed": false,
    "nbpresent": {
     "id": "d692d390-4c90-4d61-976f-3a9affd0d5bc"
    }
   },
   "outputs": [
    {
     "data": {
      "text/plain": [
       "array(['11238_2480_2506_3102', '1861_1377_1940 RCT', '1861_1377_1940 nRCT',\n",
       "       '3641_a', '3641_b'], dtype=object)"
      ]
     },
     "execution_count": 7,
     "metadata": {},
     "output_type": "execute_result"
    }
   ],
   "source": [
    "throat_data.REFID.unique()"
   ]
  },
  {
   "cell_type": "code",
   "execution_count": 8,
   "metadata": {
    "collapsed": false
   },
   "outputs": [
    {
     "data": {
      "text/plain": [
       "REFID                  0\n",
       "treatment              0\n",
       "Outcome_timepoint      0\n",
       "Outc_Unit              0\n",
       "OUTCOME_SAMPLE_SIZE    0\n",
       "Outcome_Mean           0\n",
       "dtype: int64"
      ]
     },
     "execution_count": 8,
     "metadata": {},
     "output_type": "execute_result"
    }
   ],
   "source": [
    "throat_analysis_subset = throat_data[['REFID', 'treatment', 'Outcome_timepoint', 'Outc_Unit',\n",
    "                            'OUTCOME_SAMPLE_SIZE', 'Outcome_Mean']].copy()\n",
    "throat_analysis_subset.isnull().sum()"
   ]
  },
  {
   "cell_type": "code",
   "execution_count": 9,
   "metadata": {
    "collapsed": false
   },
   "outputs": [
    {
     "data": {
      "text/plain": [
       "number of episodes/year     64\n",
       "number of episodes/month     8\n",
       "Name: Outc_Unit, dtype: int64"
      ]
     },
     "execution_count": 9,
     "metadata": {},
     "output_type": "execute_result"
    }
   ],
   "source": [
    "throat_analysis_subset.Outc_Unit.value_counts()"
   ]
  },
  {
   "cell_type": "code",
   "execution_count": 10,
   "metadata": {
    "collapsed": false
   },
   "outputs": [],
   "source": [
    "throat_analysis_subset['unit'] = np.array(['year', 'month'])[throat_analysis_subset.Outc_Unit.str.endswith('month').astype(int)]"
   ]
  },
  {
   "cell_type": "code",
   "execution_count": 11,
   "metadata": {
    "collapsed": false
   },
   "outputs": [],
   "source": [
    "throat_analysis_subset['yrs_fup'] = (throat_analysis_subset.Outcome_timepoint\n",
    "                                     .apply(lambda x: int(x.split(' ')[0])))"
   ]
  },
  {
   "cell_type": "code",
   "execution_count": 12,
   "metadata": {
    "collapsed": false
   },
   "outputs": [],
   "source": [
    "throat_analysis_subset['person_years'] = (throat_analysis_subset.yrs_fup \n",
    "                                          * throat_analysis_subset.OUTCOME_SAMPLE_SIZE)"
   ]
  },
  {
   "cell_type": "code",
   "execution_count": 13,
   "metadata": {
    "collapsed": false
   },
   "outputs": [
    {
     "data": {
      "text/html": [
       "<div>\n",
       "<table border=\"1\" class=\"dataframe\">\n",
       "  <thead>\n",
       "    <tr style=\"text-align: right;\">\n",
       "      <th></th>\n",
       "      <th>REFID</th>\n",
       "      <th>treatment</th>\n",
       "      <th>Outcome_timepoint</th>\n",
       "      <th>Outc_Unit</th>\n",
       "      <th>OUTCOME_SAMPLE_SIZE</th>\n",
       "      <th>Outcome_Mean</th>\n",
       "      <th>unit</th>\n",
       "      <th>yrs_fup</th>\n",
       "      <th>person_years</th>\n",
       "    </tr>\n",
       "  </thead>\n",
       "  <tbody>\n",
       "    <tr>\n",
       "      <th>10</th>\n",
       "      <td>11238_2480_2506_3102</td>\n",
       "      <td>1</td>\n",
       "      <td>2 yrs post-op</td>\n",
       "      <td>number of episodes/year</td>\n",
       "      <td>133</td>\n",
       "      <td>2.25</td>\n",
       "      <td>year</td>\n",
       "      <td>2</td>\n",
       "      <td>266</td>\n",
       "    </tr>\n",
       "    <tr>\n",
       "      <th>11</th>\n",
       "      <td>11238_2480_2506_3102</td>\n",
       "      <td>0</td>\n",
       "      <td>2 yrs post-op</td>\n",
       "      <td>number of episodes/year</td>\n",
       "      <td>124</td>\n",
       "      <td>2.85</td>\n",
       "      <td>year</td>\n",
       "      <td>2</td>\n",
       "      <td>248</td>\n",
       "    </tr>\n",
       "    <tr>\n",
       "      <th>12</th>\n",
       "      <td>11238_2480_2506_3102</td>\n",
       "      <td>1</td>\n",
       "      <td>2 yrs post-op</td>\n",
       "      <td>number of episodes/year</td>\n",
       "      <td>133</td>\n",
       "      <td>0.56</td>\n",
       "      <td>year</td>\n",
       "      <td>2</td>\n",
       "      <td>266</td>\n",
       "    </tr>\n",
       "    <tr>\n",
       "      <th>13</th>\n",
       "      <td>11238_2480_2506_3102</td>\n",
       "      <td>0</td>\n",
       "      <td>2 yrs post-op</td>\n",
       "      <td>number of episodes/year</td>\n",
       "      <td>124</td>\n",
       "      <td>0.77</td>\n",
       "      <td>year</td>\n",
       "      <td>2</td>\n",
       "      <td>248</td>\n",
       "    </tr>\n",
       "    <tr>\n",
       "      <th>26</th>\n",
       "      <td>1861_1377_1940 RCT</td>\n",
       "      <td>1</td>\n",
       "      <td>1 yr post-op</td>\n",
       "      <td>number of episodes/month</td>\n",
       "      <td>119</td>\n",
       "      <td>0.50</td>\n",
       "      <td>month</td>\n",
       "      <td>1</td>\n",
       "      <td>119</td>\n",
       "    </tr>\n",
       "  </tbody>\n",
       "</table>\n",
       "</div>"
      ],
      "text/plain": [
       "                   REFID  treatment Outcome_timepoint  \\\n",
       "10  11238_2480_2506_3102          1     2 yrs post-op   \n",
       "11  11238_2480_2506_3102          0     2 yrs post-op   \n",
       "12  11238_2480_2506_3102          1     2 yrs post-op   \n",
       "13  11238_2480_2506_3102          0     2 yrs post-op   \n",
       "26    1861_1377_1940 RCT          1      1 yr post-op   \n",
       "\n",
       "                   Outc_Unit  OUTCOME_SAMPLE_SIZE  Outcome_Mean   unit  \\\n",
       "10   number of episodes/year                  133          2.25   year   \n",
       "11   number of episodes/year                  124          2.85   year   \n",
       "12   number of episodes/year                  133          0.56   year   \n",
       "13   number of episodes/year                  124          0.77   year   \n",
       "26  number of episodes/month                  119          0.50  month   \n",
       "\n",
       "    yrs_fup  person_years  \n",
       "10        2           266  \n",
       "11        2           248  \n",
       "12        2           266  \n",
       "13        2           248  \n",
       "26        1           119  "
      ]
     },
     "execution_count": 13,
     "metadata": {},
     "output_type": "execute_result"
    }
   ],
   "source": [
    "throat_analysis_subset.head()"
   ]
  },
  {
   "cell_type": "code",
   "execution_count": 21,
   "metadata": {
    "collapsed": false
   },
   "outputs": [
    {
     "data": {
      "text/html": [
       "<div>\n",
       "<table border=\"1\" class=\"dataframe\">\n",
       "  <thead>\n",
       "    <tr style=\"text-align: right;\">\n",
       "      <th></th>\n",
       "      <th>Outcome_Mean</th>\n",
       "      <th>person_years</th>\n",
       "      <th>unit</th>\n",
       "    </tr>\n",
       "  </thead>\n",
       "  <tbody>\n",
       "    <tr>\n",
       "      <th>10</th>\n",
       "      <td>2.25</td>\n",
       "      <td>266</td>\n",
       "      <td>year</td>\n",
       "    </tr>\n",
       "    <tr>\n",
       "      <th>11</th>\n",
       "      <td>2.85</td>\n",
       "      <td>248</td>\n",
       "      <td>year</td>\n",
       "    </tr>\n",
       "    <tr>\n",
       "      <th>12</th>\n",
       "      <td>0.56</td>\n",
       "      <td>266</td>\n",
       "      <td>year</td>\n",
       "    </tr>\n",
       "    <tr>\n",
       "      <th>13</th>\n",
       "      <td>0.77</td>\n",
       "      <td>248</td>\n",
       "      <td>year</td>\n",
       "    </tr>\n",
       "    <tr>\n",
       "      <th>26</th>\n",
       "      <td>0.50</td>\n",
       "      <td>119</td>\n",
       "      <td>month</td>\n",
       "    </tr>\n",
       "    <tr>\n",
       "      <th>27</th>\n",
       "      <td>0.64</td>\n",
       "      <td>112</td>\n",
       "      <td>month</td>\n",
       "    </tr>\n",
       "    <tr>\n",
       "      <th>28</th>\n",
       "      <td>0.13</td>\n",
       "      <td>166</td>\n",
       "      <td>month</td>\n",
       "    </tr>\n",
       "    <tr>\n",
       "      <th>29</th>\n",
       "      <td>0.33</td>\n",
       "      <td>148</td>\n",
       "      <td>month</td>\n",
       "    </tr>\n",
       "    <tr>\n",
       "      <th>30</th>\n",
       "      <td>0.71</td>\n",
       "      <td>248</td>\n",
       "      <td>month</td>\n",
       "    </tr>\n",
       "    <tr>\n",
       "      <th>31</th>\n",
       "      <td>0.59</td>\n",
       "      <td>55</td>\n",
       "      <td>month</td>\n",
       "    </tr>\n",
       "    <tr>\n",
       "      <th>32</th>\n",
       "      <td>0.19</td>\n",
       "      <td>222</td>\n",
       "      <td>month</td>\n",
       "    </tr>\n",
       "    <tr>\n",
       "      <th>33</th>\n",
       "      <td>0.38</td>\n",
       "      <td>54</td>\n",
       "      <td>month</td>\n",
       "    </tr>\n",
       "    <tr>\n",
       "      <th>34</th>\n",
       "      <td>0.76</td>\n",
       "      <td>46</td>\n",
       "      <td>year</td>\n",
       "    </tr>\n",
       "    <tr>\n",
       "      <th>35</th>\n",
       "      <td>0.94</td>\n",
       "      <td>47</td>\n",
       "      <td>year</td>\n",
       "    </tr>\n",
       "    <tr>\n",
       "      <th>36</th>\n",
       "      <td>1.78</td>\n",
       "      <td>54</td>\n",
       "      <td>year</td>\n",
       "    </tr>\n",
       "    <tr>\n",
       "      <th>37</th>\n",
       "      <td>0.47</td>\n",
       "      <td>72</td>\n",
       "      <td>year</td>\n",
       "    </tr>\n",
       "    <tr>\n",
       "      <th>38</th>\n",
       "      <td>0.78</td>\n",
       "      <td>82</td>\n",
       "      <td>year</td>\n",
       "    </tr>\n",
       "    <tr>\n",
       "      <th>39</th>\n",
       "      <td>1.70</td>\n",
       "      <td>94</td>\n",
       "      <td>year</td>\n",
       "    </tr>\n",
       "    <tr>\n",
       "      <th>40</th>\n",
       "      <td>0.46</td>\n",
       "      <td>84</td>\n",
       "      <td>year</td>\n",
       "    </tr>\n",
       "    <tr>\n",
       "      <th>41</th>\n",
       "      <td>0.36</td>\n",
       "      <td>108</td>\n",
       "      <td>year</td>\n",
       "    </tr>\n",
       "    <tr>\n",
       "      <th>42</th>\n",
       "      <td>1.33</td>\n",
       "      <td>120</td>\n",
       "      <td>year</td>\n",
       "    </tr>\n",
       "    <tr>\n",
       "      <th>43</th>\n",
       "      <td>1.85</td>\n",
       "      <td>46</td>\n",
       "      <td>year</td>\n",
       "    </tr>\n",
       "    <tr>\n",
       "      <th>44</th>\n",
       "      <td>1.96</td>\n",
       "      <td>47</td>\n",
       "      <td>year</td>\n",
       "    </tr>\n",
       "    <tr>\n",
       "      <th>45</th>\n",
       "      <td>2.78</td>\n",
       "      <td>54</td>\n",
       "      <td>year</td>\n",
       "    </tr>\n",
       "    <tr>\n",
       "      <th>46</th>\n",
       "      <td>1.78</td>\n",
       "      <td>72</td>\n",
       "      <td>year</td>\n",
       "    </tr>\n",
       "    <tr>\n",
       "      <th>47</th>\n",
       "      <td>1.59</td>\n",
       "      <td>82</td>\n",
       "      <td>year</td>\n",
       "    </tr>\n",
       "    <tr>\n",
       "      <th>48</th>\n",
       "      <td>2.85</td>\n",
       "      <td>94</td>\n",
       "      <td>year</td>\n",
       "    </tr>\n",
       "    <tr>\n",
       "      <th>49</th>\n",
       "      <td>1.36</td>\n",
       "      <td>84</td>\n",
       "      <td>year</td>\n",
       "    </tr>\n",
       "    <tr>\n",
       "      <th>50</th>\n",
       "      <td>1.19</td>\n",
       "      <td>108</td>\n",
       "      <td>year</td>\n",
       "    </tr>\n",
       "    <tr>\n",
       "      <th>51</th>\n",
       "      <td>2.25</td>\n",
       "      <td>120</td>\n",
       "      <td>year</td>\n",
       "    </tr>\n",
       "    <tr>\n",
       "      <th>...</th>\n",
       "      <td>...</td>\n",
       "      <td>...</td>\n",
       "      <td>...</td>\n",
       "    </tr>\n",
       "    <tr>\n",
       "      <th>64</th>\n",
       "      <td>0.06</td>\n",
       "      <td>72</td>\n",
       "      <td>year</td>\n",
       "    </tr>\n",
       "    <tr>\n",
       "      <th>65</th>\n",
       "      <td>0.15</td>\n",
       "      <td>82</td>\n",
       "      <td>year</td>\n",
       "    </tr>\n",
       "    <tr>\n",
       "      <th>66</th>\n",
       "      <td>0.38</td>\n",
       "      <td>94</td>\n",
       "      <td>year</td>\n",
       "    </tr>\n",
       "    <tr>\n",
       "      <th>67</th>\n",
       "      <td>0.00</td>\n",
       "      <td>84</td>\n",
       "      <td>year</td>\n",
       "    </tr>\n",
       "    <tr>\n",
       "      <th>68</th>\n",
       "      <td>0.11</td>\n",
       "      <td>108</td>\n",
       "      <td>year</td>\n",
       "    </tr>\n",
       "    <tr>\n",
       "      <th>69</th>\n",
       "      <td>0.28</td>\n",
       "      <td>120</td>\n",
       "      <td>year</td>\n",
       "    </tr>\n",
       "    <tr>\n",
       "      <th>70</th>\n",
       "      <td>1.02</td>\n",
       "      <td>59</td>\n",
       "      <td>year</td>\n",
       "    </tr>\n",
       "    <tr>\n",
       "      <th>71</th>\n",
       "      <td>22.22</td>\n",
       "      <td>67</td>\n",
       "      <td>year</td>\n",
       "    </tr>\n",
       "    <tr>\n",
       "      <th>72</th>\n",
       "      <td>0.72</td>\n",
       "      <td>100</td>\n",
       "      <td>year</td>\n",
       "    </tr>\n",
       "    <tr>\n",
       "      <th>73</th>\n",
       "      <td>1.66</td>\n",
       "      <td>124</td>\n",
       "      <td>year</td>\n",
       "    </tr>\n",
       "    <tr>\n",
       "      <th>74</th>\n",
       "      <td>0.39</td>\n",
       "      <td>132</td>\n",
       "      <td>year</td>\n",
       "    </tr>\n",
       "    <tr>\n",
       "      <th>75</th>\n",
       "      <td>1.29</td>\n",
       "      <td>165</td>\n",
       "      <td>year</td>\n",
       "    </tr>\n",
       "    <tr>\n",
       "      <th>76</th>\n",
       "      <td>1.90</td>\n",
       "      <td>59</td>\n",
       "      <td>year</td>\n",
       "    </tr>\n",
       "    <tr>\n",
       "      <th>77</th>\n",
       "      <td>3.60</td>\n",
       "      <td>67</td>\n",
       "      <td>year</td>\n",
       "    </tr>\n",
       "    <tr>\n",
       "      <th>78</th>\n",
       "      <td>1.74</td>\n",
       "      <td>100</td>\n",
       "      <td>year</td>\n",
       "    </tr>\n",
       "    <tr>\n",
       "      <th>79</th>\n",
       "      <td>2.89</td>\n",
       "      <td>124</td>\n",
       "      <td>year</td>\n",
       "    </tr>\n",
       "    <tr>\n",
       "      <th>80</th>\n",
       "      <td>1.48</td>\n",
       "      <td>132</td>\n",
       "      <td>year</td>\n",
       "    </tr>\n",
       "    <tr>\n",
       "      <th>81</th>\n",
       "      <td>2.38</td>\n",
       "      <td>165</td>\n",
       "      <td>year</td>\n",
       "    </tr>\n",
       "    <tr>\n",
       "      <th>82</th>\n",
       "      <td>0.39</td>\n",
       "      <td>59</td>\n",
       "      <td>year</td>\n",
       "    </tr>\n",
       "    <tr>\n",
       "      <th>83</th>\n",
       "      <td>0.84</td>\n",
       "      <td>67</td>\n",
       "      <td>year</td>\n",
       "    </tr>\n",
       "    <tr>\n",
       "      <th>84</th>\n",
       "      <td>0.36</td>\n",
       "      <td>100</td>\n",
       "      <td>year</td>\n",
       "    </tr>\n",
       "    <tr>\n",
       "      <th>85</th>\n",
       "      <td>0.76</td>\n",
       "      <td>124</td>\n",
       "      <td>year</td>\n",
       "    </tr>\n",
       "    <tr>\n",
       "      <th>86</th>\n",
       "      <td>0.11</td>\n",
       "      <td>132</td>\n",
       "      <td>year</td>\n",
       "    </tr>\n",
       "    <tr>\n",
       "      <th>87</th>\n",
       "      <td>0.71</td>\n",
       "      <td>165</td>\n",
       "      <td>year</td>\n",
       "    </tr>\n",
       "    <tr>\n",
       "      <th>88</th>\n",
       "      <td>0.15</td>\n",
       "      <td>59</td>\n",
       "      <td>year</td>\n",
       "    </tr>\n",
       "    <tr>\n",
       "      <th>89</th>\n",
       "      <td>0.43</td>\n",
       "      <td>67</td>\n",
       "      <td>year</td>\n",
       "    </tr>\n",
       "    <tr>\n",
       "      <th>90</th>\n",
       "      <td>0.06</td>\n",
       "      <td>100</td>\n",
       "      <td>year</td>\n",
       "    </tr>\n",
       "    <tr>\n",
       "      <th>91</th>\n",
       "      <td>0.31</td>\n",
       "      <td>124</td>\n",
       "      <td>year</td>\n",
       "    </tr>\n",
       "    <tr>\n",
       "      <th>92</th>\n",
       "      <td>0.00</td>\n",
       "      <td>132</td>\n",
       "      <td>year</td>\n",
       "    </tr>\n",
       "    <tr>\n",
       "      <th>93</th>\n",
       "      <td>0.16</td>\n",
       "      <td>165</td>\n",
       "      <td>year</td>\n",
       "    </tr>\n",
       "  </tbody>\n",
       "</table>\n",
       "<p>72 rows × 3 columns</p>\n",
       "</div>"
      ],
      "text/plain": [
       "    Outcome_Mean  person_years   unit\n",
       "10          2.25           266   year\n",
       "11          2.85           248   year\n",
       "12          0.56           266   year\n",
       "13          0.77           248   year\n",
       "26          0.50           119  month\n",
       "27          0.64           112  month\n",
       "28          0.13           166  month\n",
       "29          0.33           148  month\n",
       "30          0.71           248  month\n",
       "31          0.59            55  month\n",
       "32          0.19           222  month\n",
       "33          0.38            54  month\n",
       "34          0.76            46   year\n",
       "35          0.94            47   year\n",
       "36          1.78            54   year\n",
       "37          0.47            72   year\n",
       "38          0.78            82   year\n",
       "39          1.70            94   year\n",
       "40          0.46            84   year\n",
       "41          0.36           108   year\n",
       "42          1.33           120   year\n",
       "43          1.85            46   year\n",
       "44          1.96            47   year\n",
       "45          2.78            54   year\n",
       "46          1.78            72   year\n",
       "47          1.59            82   year\n",
       "48          2.85            94   year\n",
       "49          1.36            84   year\n",
       "50          1.19           108   year\n",
       "51          2.25           120   year\n",
       "..           ...           ...    ...\n",
       "64          0.06            72   year\n",
       "65          0.15            82   year\n",
       "66          0.38            94   year\n",
       "67          0.00            84   year\n",
       "68          0.11           108   year\n",
       "69          0.28           120   year\n",
       "70          1.02            59   year\n",
       "71         22.22            67   year\n",
       "72          0.72           100   year\n",
       "73          1.66           124   year\n",
       "74          0.39           132   year\n",
       "75          1.29           165   year\n",
       "76          1.90            59   year\n",
       "77          3.60            67   year\n",
       "78          1.74           100   year\n",
       "79          2.89           124   year\n",
       "80          1.48           132   year\n",
       "81          2.38           165   year\n",
       "82          0.39            59   year\n",
       "83          0.84            67   year\n",
       "84          0.36           100   year\n",
       "85          0.76           124   year\n",
       "86          0.11           132   year\n",
       "87          0.71           165   year\n",
       "88          0.15            59   year\n",
       "89          0.43            67   year\n",
       "90          0.06           100   year\n",
       "91          0.31           124   year\n",
       "92          0.00           132   year\n",
       "93          0.16           165   year\n",
       "\n",
       "[72 rows x 3 columns]"
      ]
     },
     "execution_count": 21,
     "metadata": {},
     "output_type": "execute_result"
    }
   ],
   "source": [
    "throat_analysis_subset[['Outcome_Mean', 'person_years', 'unit']]"
   ]
  },
  {
   "cell_type": "code",
   "execution_count": 18,
   "metadata": {
    "collapsed": false
   },
   "outputs": [
    {
     "name": "stdout",
     "output_type": "stream",
     "text": [
      "> <ipython-input-18-154831191b61>(17)<module>()\n",
      "-> data_likelihood = Poisson('data_likelihood', λ*n, observed=y)\n",
      "(Pdb) p (λ*n).tag.test_value\n",
      "array([ 1330.        ,  1240.        ,  1330.        ,  1240.        ,\n",
      "          49.58333333,    46.66666667,    69.16666667,    61.66666667,\n",
      "         103.33333333,    22.91666667,    92.5       ,    22.5       ,\n",
      "         230.        ,   235.        ,   270.        ,   360.        ,\n",
      "         410.        ,   470.        ,   420.        ,   540.        ,\n",
      "         600.        ,   230.        ,   235.        ,   270.        ,\n",
      "         360.        ,   410.        ,   470.        ,   420.        ,\n",
      "         540.        ,   600.        ,   230.        ,   235.        ,\n",
      "         270.        ,   360.        ,   410.        ,   470.        ,\n",
      "         420.        ,   540.        ,   600.        ,   230.        ,\n",
      "         235.        ,   270.        ,   360.        ,   410.        ,\n",
      "         470.        ,   420.        ,   540.        ,   600.        ,\n",
      "         295.        ,   335.        ,   500.        ,   620.        ,\n",
      "         660.        ,   825.        ,   295.        ,   335.        ,\n",
      "         500.        ,   620.        ,   660.        ,   825.        ,\n",
      "         295.        ,   335.        ,   500.        ,   620.        ,\n",
      "         660.        ,   825.        ,   295.        ,   335.        ,\n",
      "         500.        ,   620.        ,   660.        ,   825.        ])\n",
      "(Pdb) p y\n",
      "array([ 598,  706,  148,  190,   59,   71,   21,   48,  176,   32,   42,\n",
      "         20,   34,   44,   96,   33,   63,  159,   38,   38,  159,   85,\n",
      "         92,  150,  128,  130,  267,  114,  128,  270,   17,   24,   43,\n",
      "         12,   18,   72,   17,   18,   90,    4,    7,   12,    4,   12,\n",
      "         35,    0,   11,   33,   60, 1488,   72,  205,   51,  212,  112,\n",
      "        241,  174,  358,  195,  392,   23,   56,   36,   94,   14,  117,\n",
      "          8,   28,    6,   38,    0,   26])\n",
      "(Pdb) q\n"
     ]
    },
    {
     "ename": "BdbQuit",
     "evalue": "",
     "output_type": "error",
     "traceback": [
      "\u001b[0;31m---------------------------------------------------------------------------\u001b[0m",
      "\u001b[0;31mBdbQuit\u001b[0m                                   Traceback (most recent call last)",
      "\u001b[0;32m<ipython-input-18-154831191b61>\u001b[0m in \u001b[0;36m<module>\u001b[0;34m()\u001b[0m\n\u001b[1;32m     15\u001b[0m \u001b[0;34m\u001b[0m\u001b[0m\n\u001b[1;32m     16\u001b[0m     \u001b[0;32mimport\u001b[0m \u001b[0mpdb\u001b[0m\u001b[0;34m;\u001b[0m\u001b[0mpdb\u001b[0m\u001b[0;34m.\u001b[0m\u001b[0mset_trace\u001b[0m\u001b[0;34m(\u001b[0m\u001b[0;34m)\u001b[0m\u001b[0;34m\u001b[0m\u001b[0m\n\u001b[0;32m---> 17\u001b[0;31m     \u001b[0mdata_likelihood\u001b[0m \u001b[0;34m=\u001b[0m \u001b[0mPoisson\u001b[0m\u001b[0;34m(\u001b[0m\u001b[0;34m'data_likelihood'\u001b[0m\u001b[0;34m,\u001b[0m \u001b[0mλ\u001b[0m\u001b[0;34m*\u001b[0m\u001b[0mn\u001b[0m\u001b[0;34m,\u001b[0m \u001b[0mobserved\u001b[0m\u001b[0;34m=\u001b[0m\u001b[0my\u001b[0m\u001b[0;34m)\u001b[0m\u001b[0;34m\u001b[0m\u001b[0m\n\u001b[0m",
      "\u001b[0;32m<ipython-input-18-154831191b61>\u001b[0m in \u001b[0;36m<module>\u001b[0;34m()\u001b[0m\n\u001b[1;32m     15\u001b[0m \u001b[0;34m\u001b[0m\u001b[0m\n\u001b[1;32m     16\u001b[0m     \u001b[0;32mimport\u001b[0m \u001b[0mpdb\u001b[0m\u001b[0;34m;\u001b[0m\u001b[0mpdb\u001b[0m\u001b[0;34m.\u001b[0m\u001b[0mset_trace\u001b[0m\u001b[0;34m(\u001b[0m\u001b[0;34m)\u001b[0m\u001b[0;34m\u001b[0m\u001b[0m\n\u001b[0;32m---> 17\u001b[0;31m     \u001b[0mdata_likelihood\u001b[0m \u001b[0;34m=\u001b[0m \u001b[0mPoisson\u001b[0m\u001b[0;34m(\u001b[0m\u001b[0;34m'data_likelihood'\u001b[0m\u001b[0;34m,\u001b[0m \u001b[0mλ\u001b[0m\u001b[0;34m*\u001b[0m\u001b[0mn\u001b[0m\u001b[0;34m,\u001b[0m \u001b[0mobserved\u001b[0m\u001b[0;34m=\u001b[0m\u001b[0my\u001b[0m\u001b[0;34m)\u001b[0m\u001b[0;34m\u001b[0m\u001b[0m\n\u001b[0m",
      "\u001b[0;32m/Users/fonnescj/anaconda3/lib/python3.5/bdb.py\u001b[0m in \u001b[0;36mtrace_dispatch\u001b[0;34m(self, frame, event, arg)\u001b[0m\n\u001b[1;32m     46\u001b[0m             \u001b[0;32mreturn\u001b[0m \u001b[0;31m# None\u001b[0m\u001b[0;34m\u001b[0m\u001b[0m\n\u001b[1;32m     47\u001b[0m         \u001b[0;32mif\u001b[0m \u001b[0mevent\u001b[0m \u001b[0;34m==\u001b[0m \u001b[0;34m'line'\u001b[0m\u001b[0;34m:\u001b[0m\u001b[0;34m\u001b[0m\u001b[0m\n\u001b[0;32m---> 48\u001b[0;31m             \u001b[0;32mreturn\u001b[0m \u001b[0mself\u001b[0m\u001b[0;34m.\u001b[0m\u001b[0mdispatch_line\u001b[0m\u001b[0;34m(\u001b[0m\u001b[0mframe\u001b[0m\u001b[0;34m)\u001b[0m\u001b[0;34m\u001b[0m\u001b[0m\n\u001b[0m\u001b[1;32m     49\u001b[0m         \u001b[0;32mif\u001b[0m \u001b[0mevent\u001b[0m \u001b[0;34m==\u001b[0m \u001b[0;34m'call'\u001b[0m\u001b[0;34m:\u001b[0m\u001b[0;34m\u001b[0m\u001b[0m\n\u001b[1;32m     50\u001b[0m             \u001b[0;32mreturn\u001b[0m \u001b[0mself\u001b[0m\u001b[0;34m.\u001b[0m\u001b[0mdispatch_call\u001b[0m\u001b[0;34m(\u001b[0m\u001b[0mframe\u001b[0m\u001b[0;34m,\u001b[0m \u001b[0marg\u001b[0m\u001b[0;34m)\u001b[0m\u001b[0;34m\u001b[0m\u001b[0m\n",
      "\u001b[0;32m/Users/fonnescj/anaconda3/lib/python3.5/bdb.py\u001b[0m in \u001b[0;36mdispatch_line\u001b[0;34m(self, frame)\u001b[0m\n\u001b[1;32m     65\u001b[0m         \u001b[0;32mif\u001b[0m \u001b[0mself\u001b[0m\u001b[0;34m.\u001b[0m\u001b[0mstop_here\u001b[0m\u001b[0;34m(\u001b[0m\u001b[0mframe\u001b[0m\u001b[0;34m)\u001b[0m \u001b[0;32mor\u001b[0m \u001b[0mself\u001b[0m\u001b[0;34m.\u001b[0m\u001b[0mbreak_here\u001b[0m\u001b[0;34m(\u001b[0m\u001b[0mframe\u001b[0m\u001b[0;34m)\u001b[0m\u001b[0;34m:\u001b[0m\u001b[0;34m\u001b[0m\u001b[0m\n\u001b[1;32m     66\u001b[0m             \u001b[0mself\u001b[0m\u001b[0;34m.\u001b[0m\u001b[0muser_line\u001b[0m\u001b[0;34m(\u001b[0m\u001b[0mframe\u001b[0m\u001b[0;34m)\u001b[0m\u001b[0;34m\u001b[0m\u001b[0m\n\u001b[0;32m---> 67\u001b[0;31m             \u001b[0;32mif\u001b[0m \u001b[0mself\u001b[0m\u001b[0;34m.\u001b[0m\u001b[0mquitting\u001b[0m\u001b[0;34m:\u001b[0m \u001b[0;32mraise\u001b[0m \u001b[0mBdbQuit\u001b[0m\u001b[0;34m\u001b[0m\u001b[0m\n\u001b[0m\u001b[1;32m     68\u001b[0m         \u001b[0;32mreturn\u001b[0m \u001b[0mself\u001b[0m\u001b[0;34m.\u001b[0m\u001b[0mtrace_dispatch\u001b[0m\u001b[0;34m\u001b[0m\u001b[0m\n\u001b[1;32m     69\u001b[0m \u001b[0;34m\u001b[0m\u001b[0m\n",
      "\u001b[0;31mBdbQuit\u001b[0m: "
     ]
    }
   ],
   "source": [
    "from pymc3 import (Model, Normal, Poisson, sample, forestplot, traceplot, \n",
    "                   summary, sample_ppc, find_MAP)\n",
    "\n",
    "with Model() as throat_model:\n",
    "        \n",
    "    μ = Normal('μ', 0, sd=100, testval=5)\n",
    "    δ = Normal('δ', 0, sd=100)\n",
    "    \n",
    "    λ = μ + δ*throat_analysis_subset.treatment.values\n",
    "    \n",
    "    y = throat_analysis_subset[['Outcome_Mean', 'person_years']].prod(1).values.astype(int)\n",
    "    \n",
    "    n = (throat_analysis_subset.person_years.values \n",
    "         * np.array([1, 1/12])[(throat_analysis_subset.unit=='month').astype(int)])\n",
    "    \n",
    "    import pdb;pdb.set_trace()\n",
    "    data_likelihood = Poisson('data_likelihood', λ*n, observed=y)"
   ]
  },
  {
   "cell_type": "code",
   "execution_count": 16,
   "metadata": {
    "collapsed": false
   },
   "outputs": [
    {
     "ename": "ValueError",
     "evalue": "Optimization error: max, logp or dlogp at max have non-finite values. Some values may be outside of distribution support. max: {'μ': array(-6321.666666666666), 'δ': array(-2350.9166666666665)} logp: array(-inf) dlogp: array([ 0.63216667,  0.23509167])Check that 1) you don't have hierarchical parameters, these will lead to points with infinite density. 2) your distribution logp's are properly specified. Specific issues: \n",
     "output_type": "error",
     "traceback": [
      "\u001b[0;31m---------------------------------------------------------------------------\u001b[0m",
      "\u001b[0;31mValueError\u001b[0m                                Traceback (most recent call last)",
      "\u001b[0;32m<ipython-input-16-5a196685f0a5>\u001b[0m in \u001b[0;36m<module>\u001b[0;34m()\u001b[0m\n\u001b[1;32m      1\u001b[0m \u001b[0;32mwith\u001b[0m \u001b[0mthroat_model\u001b[0m\u001b[0;34m:\u001b[0m\u001b[0;34m\u001b[0m\u001b[0m\n\u001b[0;32m----> 2\u001b[0;31m     \u001b[0mstart\u001b[0m \u001b[0;34m=\u001b[0m \u001b[0mfind_MAP\u001b[0m\u001b[0;34m(\u001b[0m\u001b[0;34m)\u001b[0m\u001b[0;34m\u001b[0m\u001b[0m\n\u001b[0m\u001b[1;32m      3\u001b[0m     \u001b[0mthroat_trace\u001b[0m \u001b[0;34m=\u001b[0m \u001b[0msample\u001b[0m\u001b[0;34m(\u001b[0m\u001b[0;36m2000\u001b[0m\u001b[0;34m,\u001b[0m \u001b[0mstart\u001b[0m\u001b[0;34m=\u001b[0m\u001b[0mstart\u001b[0m\u001b[0;34m,\u001b[0m \u001b[0mnjobs\u001b[0m\u001b[0;34m=\u001b[0m\u001b[0;36m2\u001b[0m\u001b[0;34m)\u001b[0m\u001b[0;34m\u001b[0m\u001b[0m\n",
      "\u001b[0;32m/Users/fonnescj/Repositories/pymc3/pymc3/tuning/starting.py\u001b[0m in \u001b[0;36mfind_MAP\u001b[0;34m(start, vars, fmin, return_raw, model, *args, **kwargs)\u001b[0m\n\u001b[1;32m    127\u001b[0m                          \u001b[0;34m\"density. 2) your distribution logp's are \"\u001b[0m \u001b[0;34m+\u001b[0m\u001b[0;34m\u001b[0m\u001b[0m\n\u001b[1;32m    128\u001b[0m                          \u001b[0;34m\"properly specified. Specific issues: \\n\"\u001b[0m \u001b[0;34m+\u001b[0m\u001b[0;34m\u001b[0m\u001b[0m\n\u001b[0;32m--> 129\u001b[0;31m                          specific_errors)\n\u001b[0m\u001b[1;32m    130\u001b[0m     \u001b[0mmx\u001b[0m \u001b[0;34m=\u001b[0m \u001b[0;34m{\u001b[0m\u001b[0mv\u001b[0m\u001b[0;34m.\u001b[0m\u001b[0mname\u001b[0m\u001b[0;34m:\u001b[0m \u001b[0mmx\u001b[0m\u001b[0;34m[\u001b[0m\u001b[0mv\u001b[0m\u001b[0;34m.\u001b[0m\u001b[0mname\u001b[0m\u001b[0;34m]\u001b[0m\u001b[0;34m.\u001b[0m\u001b[0mastype\u001b[0m\u001b[0;34m(\u001b[0m\u001b[0mv\u001b[0m\u001b[0;34m.\u001b[0m\u001b[0mdtype\u001b[0m\u001b[0;34m)\u001b[0m \u001b[0;32mfor\u001b[0m \u001b[0mv\u001b[0m \u001b[0;32min\u001b[0m \u001b[0mmodel\u001b[0m\u001b[0;34m.\u001b[0m\u001b[0mvars\u001b[0m\u001b[0;34m}\u001b[0m\u001b[0;34m\u001b[0m\u001b[0m\n\u001b[1;32m    131\u001b[0m \u001b[0;34m\u001b[0m\u001b[0m\n",
      "\u001b[0;31mValueError\u001b[0m: Optimization error: max, logp or dlogp at max have non-finite values. Some values may be outside of distribution support. max: {'μ': array(-6321.666666666666), 'δ': array(-2350.9166666666665)} logp: array(-inf) dlogp: array([ 0.63216667,  0.23509167])Check that 1) you don't have hierarchical parameters, these will lead to points with infinite density. 2) your distribution logp's are properly specified. Specific issues: \n"
     ]
    }
   ],
   "source": [
    "with throat_model:\n",
    "    throat_trace = sample(2000, njobs=2)"
   ]
  },
  {
   "cell_type": "markdown",
   "metadata": {
    "nbpresent": {
     "id": "9bb69a11-10a4-4cef-b832-c723e0b55a25"
    }
   },
   "source": [
    "## School days model"
   ]
  },
  {
   "cell_type": "code",
   "execution_count": 10,
   "metadata": {
    "collapsed": false,
    "nbpresent": {
     "id": "593f5617-9be6-4712-833d-532c6c04e485"
    }
   },
   "outputs": [
    {
     "data": {
      "text/plain": [
       "Adenotonsillectomy                                6\n",
       "No Surgery                                        6\n",
       "Tonsillectomy                                     3\n",
       "medical treatment                                 1\n",
       "dissection or bipolar diathermy tonsillectomy     1\n",
       "Name: Group_Desc, dtype: int64"
      ]
     },
     "execution_count": 10,
     "metadata": {},
     "output_type": "execute_result"
    }
   ],
   "source": [
    "school_data.Group_Desc.value_counts()"
   ]
  },
  {
   "cell_type": "markdown",
   "metadata": {
    "nbpresent": {
     "id": "62967524-d83e-42eb-ba67-189b1b406bed"
    }
   },
   "source": [
    "Treatment group includes all surgical interventions, otherwise control"
   ]
  },
  {
   "cell_type": "code",
   "execution_count": 16,
   "metadata": {
    "collapsed": true,
    "nbpresent": {
     "id": "b01ee340-8527-4e0e-8e8d-3f63388bdac4"
    }
   },
   "outputs": [],
   "source": [
    "school_data['treatment'] = school_data.Group_Desc.str.contains('tonsil').astype(int)"
   ]
  },
  {
   "cell_type": "markdown",
   "metadata": {
    "nbpresent": {
     "id": "60ccb1af-0f16-45a3-b522-48537633032a"
    }
   },
   "source": [
    "Only three studies"
   ]
  },
  {
   "cell_type": "code",
   "execution_count": 18,
   "metadata": {
    "collapsed": false,
    "nbpresent": {
     "id": "fc51cd31-a06a-43ec-9919-f8532df6bc60"
    }
   },
   "outputs": [
    {
     "data": {
      "text/plain": [
       "array(['1861_1377_1940 nRCT', '3641_a', '3641_b'], dtype=object)"
      ]
     },
     "execution_count": 18,
     "metadata": {},
     "output_type": "execute_result"
    }
   ],
   "source": [
    "school_data.REFID.unique()"
   ]
  },
  {
   "cell_type": "code",
   "execution_count": 23,
   "metadata": {
    "collapsed": false,
    "nbpresent": {
     "id": "a2d1a70e-31c0-4e0e-a445-929b48283e8a"
    }
   },
   "outputs": [
    {
     "data": {
      "text/plain": [
       "REFID                  0\n",
       "treatment              0\n",
       "OUTCOME_SAMPLE_SIZE    0\n",
       "Outcome_ Mean          0\n",
       "Outcome_SD             0\n",
       "dtype: int64"
      ]
     },
     "execution_count": 23,
     "metadata": {},
     "output_type": "execute_result"
    }
   ],
   "source": [
    "school_analysis_subset = school_data[['REFID', 'treatment', \n",
    "                            'OUTCOME_SAMPLE_SIZE', 'Outcome_ Mean', 'Outcome_SD']]\n",
    "school_analysis_subset.isnull().sum()"
   ]
  },
  {
   "cell_type": "code",
   "execution_count": 26,
   "metadata": {
    "collapsed": false,
    "nbpresent": {
     "id": "689857dc-b0bf-4d53-936b-3fe43f958cff"
    }
   },
   "outputs": [],
   "source": [
    "from pymc3 import Model, Normal, sample, forestplot, traceplot, summary, sample_ppc\n",
    "\n",
    "with Model() as school_days_model:\n",
    "    \n",
    "    x, y, s = school_analysis_subset[['treatment', 'Outcome_ Mean', 'Outcome_SD']].T.values\n",
    "    \n",
    "    μ = Normal('μ', 0, sd=100)\n",
    "    δ = Normal('δ', 0, sd=100)\n",
    "    \n",
    "    θ = μ + δ*x\n",
    "    \n",
    "    data_likelihood = Normal('data_likelihood', θ, sd=s, observed=y)"
   ]
  },
  {
   "cell_type": "code",
   "execution_count": 27,
   "metadata": {
    "collapsed": false,
    "nbpresent": {
     "id": "68bc9eae-9875-4360-bf64-37506912a02b"
    }
   },
   "outputs": [
    {
     "name": "stdout",
     "output_type": "stream",
     "text": [
      "Assigned NUTS to μ\n",
      "Assigned NUTS to δ\n",
      " [-----------------100%-----------------] 2000 of 2000 complete in 1.9 sec"
     ]
    }
   ],
   "source": [
    "with school_days_model:\n",
    "    \n",
    "    school_trace = sample(2000, njobs=2)"
   ]
  },
  {
   "cell_type": "code",
   "execution_count": 28,
   "metadata": {
    "collapsed": false,
    "nbpresent": {
     "id": "f5d3648c-2441-40d4-b922-cdb508cde354"
    }
   },
   "outputs": [
    {
     "data": {
      "text/plain": [
       "array([[<matplotlib.axes._subplots.AxesSubplot object at 0x11a35d5f8>,\n",
       "        <matplotlib.axes._subplots.AxesSubplot object at 0x1197ce240>],\n",
       "       [<matplotlib.axes._subplots.AxesSubplot object at 0x1196f9828>,\n",
       "        <matplotlib.axes._subplots.AxesSubplot object at 0x11a365b70>]], dtype=object)"
      ]
     },
     "execution_count": 28,
     "metadata": {},
     "output_type": "execute_result"
    },
    {
     "data": {
      "image/png": "[encoded data removed]",
      "text/plain": [
       "<matplotlib.figure.Figure at 0x11a299f60>"
      ]
     },
     "metadata": {},
     "output_type": "display_data"
    }
   ],
   "source": [
    "traceplot(school_trace[1000:], varnames=['μ', 'δ'])"
   ]
  },
  {
   "cell_type": "markdown",
   "metadata": {
    "nbpresent": {
     "id": "3ff7e0dc-1d2c-4243-8d26-54ce7da28bd5"
    }
   },
   "source": [
    "Treatment effect on school days missed"
   ]
  },
  {
   "cell_type": "code",
   "execution_count": 29,
   "metadata": {
    "collapsed": false,
    "nbpresent": {
     "id": "d8b89e79-d096-4a40-87ea-2d9303db0be6"
    }
   },
   "outputs": [
    {
     "name": "stdout",
     "output_type": "stream",
     "text": [
      "\n",
      "δ:\n",
      "\n",
      "  Mean             SD               MC Error         95% HPD interval\n",
      "  -------------------------------------------------------------------\n",
      "  \n",
      "  -0.655           1.999            0.080            [-4.425, 3.274]\n",
      "\n",
      "  Posterior quantiles:\n",
      "  2.5            25             50             75             97.5\n",
      "  |--------------|==============|==============|--------------|\n",
      "  \n",
      "  -4.575         -2.007         -0.621         0.677          3.167\n",
      "\n"
     ]
    }
   ],
   "source": [
    "summary(school_trace[1000:], varnames=['δ'])"
   ]
  },
  {
   "cell_type": "markdown",
   "metadata": {
    "nbpresent": {
     "id": "0db2f047-aa5c-422f-bde7-3ebba0bd950a"
    }
   },
   "source": [
    "### Goodness of fit"
   ]
  },
  {
   "cell_type": "code",
   "execution_count": 33,
   "metadata": {
    "collapsed": false,
    "nbpresent": {
     "id": "70ca5e76-f002-4663-87ac-d55d3f8ee03b"
    }
   },
   "outputs": [],
   "source": [
    "school_ppc = sample_ppc(school_trace, model=school_days_model, samples=500)"
   ]
  },
  {
   "cell_type": "code",
   "execution_count": 37,
   "metadata": {
    "collapsed": false,
    "nbpresent": {
     "id": "22f7a344-7891-4631-b04c-9ae20844d52b"
    }
   },
   "outputs": [
    {
     "data": {
      "text/plain": [
       "(500, 17)"
      ]
     },
     "execution_count": 37,
     "metadata": {},
     "output_type": "execute_result"
    }
   ],
   "source": [
    "bayes_p = lambda sim, true: [(s > t).mean() for s,t in zip(sim, true)]\n",
    "\n",
    "sim_days = school_ppc['data_likelihood']\n",
    "sim_days.shape"
   ]
  },
  {
   "cell_type": "markdown",
   "metadata": {
    "nbpresent": {
     "id": "eacf56d3-4f2a-4670-aae5-b81decf163ab"
    }
   },
   "source": [
    "Bayesian p-values for posterior predictive checks"
   ]
  },
  {
   "cell_type": "code",
   "execution_count": 44,
   "metadata": {
    "collapsed": false,
    "nbpresent": {
     "id": "5c8c5853-9df6-469b-96d2-0476de54f9c8"
    }
   },
   "outputs": [
    {
     "data": {
      "text/plain": [
       "array([ 0.81 ,  0.616,  0.548,  0.446,  0.606,  0.532,  0.656,  0.378,\n",
       "        0.42 ,  0.548,  0.518,  0.58 ,  0.442,  0.334,  0.462,  0.404,\n",
       "        0.52 ])"
      ]
     },
     "execution_count": 44,
     "metadata": {},
     "output_type": "execute_result"
    }
   ],
   "source": [
    "(sim_days < y).mean(0)"
   ]
  }
 ],
 "metadata": {
  "_draft": {
   "nbviewer_url": "https://gist.github.com/f0460f303f2378a2e78a1f612026ae3e"
  },
  "anaconda-cloud": {},
  "gist": {
   "data": {
    "description": "Tonsillectomy KQ2.ipynb",
    "public": true
   },
   "id": "f0460f303f2378a2e78a1f612026ae3e"
  },
  "kernelspec": {
   "display_name": "Python 3",
   "language": "python",
   "name": "python3"
  },
  "language_info": {
   "codemirror_mode": {
    "name": "ipython",
    "version": 3
   },
   "file_extension": ".py",
   "mimetype": "text/x-python",
   "name": "python",
   "nbconvert_exporter": "python",
   "pygments_lexer": "ipython3",
   "version": "3.5.2"
  },
  "nbpresent": {
   "slides": {
    "156128c9-3507-4e7f-bf99-e5aac407ae86": {
     "id": "156128c9-3507-4e7f-bf99-e5aac407ae86",
     "prev": "fbf7648e-9619-4231-99ad-f163f5093856",
     "regions": {
      "aec38053-eb66-4a3c-ac1d-38ca3c854c7d": {
       "attrs": {
        "height": 0.8,
        "width": 0.8,
        "x": 0.1,
        "y": 0.1
       },
       "content": {
        "cell": "4252f159-e7d3-4c4b-a9b1-0caf858d467e",
        "part": "whole"
       },
       "id": "aec38053-eb66-4a3c-ac1d-38ca3c854c7d"
      }
     }
    },
    "1ab41884-1fb0-4617-8f4f-36d8602ff3cb": {
     "id": "1ab41884-1fb0-4617-8f4f-36d8602ff3cb",
     "prev": "8bda3f93-4348-4b41-af33-8201a4915080",
     "regions": {
      "fa8038e6-e985-4ef9-9d86-7b131ffaafa7": {
       "attrs": {
        "height": 0.8,
        "width": 0.8,
        "x": 0.1,
        "y": 0.1
       },
       "content": {
        "cell": "eacf56d3-4f2a-4670-aae5-b81decf163ab",
        "part": "whole"
       },
       "id": "fa8038e6-e985-4ef9-9d86-7b131ffaafa7"
      }
     }
    },
    "1e1fdb49-773f-416d-81e7-b8a6d31d43fa": {
     "id": "1e1fdb49-773f-416d-81e7-b8a6d31d43fa",
     "prev": "345c674e-7f30-40d3-b13f-2bfbe3ea077f",
     "regions": {
      "a4e8145b-e6ec-48be-9acf-0d1e46dc4e20": {
       "attrs": {
        "height": 0.8,
        "width": 0.8,
        "x": 0.1,
        "y": 0.1
       },
       "content": {
        "cell": "eb503fde-19c8-4a40-a51e-0af146df0c64",
        "part": "whole"
       },
       "id": "a4e8145b-e6ec-48be-9acf-0d1e46dc4e20"
      }
     }
    },
    "2170d300-e77d-4446-9133-bc6231f5dc66": {
     "id": "2170d300-e77d-4446-9133-bc6231f5dc66",
     "prev": null,
     "regions": {
      "a8928c03-10c4-4cc0-b35f-6efb664ed2b6": {
       "attrs": {
        "height": 0.8,
        "width": 0.8,
        "x": 0.1,
        "y": 0.1
       },
       "content": {
        "cell": "6f2e5818-747e-4299-bd8b-e61b6c2b7570",
        "part": "whole"
       },
       "id": "a8928c03-10c4-4cc0-b35f-6efb664ed2b6"
      }
     }
    },
    "345c674e-7f30-40d3-b13f-2bfbe3ea077f": {
     "id": "345c674e-7f30-40d3-b13f-2bfbe3ea077f",
     "prev": "2170d300-e77d-4446-9133-bc6231f5dc66",
     "regions": {
      "2ad0d0b3-847a-439f-99ff-3293106a0225": {
       "attrs": {
        "height": 0.8,
        "width": 0.8,
        "x": 0.1,
        "y": 0.1
       },
       "content": {
        "cell": "5278bb57-6238-4c83-9323-d2d3d9d5f362",
        "part": "whole"
       },
       "id": "2ad0d0b3-847a-439f-99ff-3293106a0225"
      }
     }
    },
    "35546f45-a1d6-415c-b15a-4b3fc254d6fd": {
     "id": "35546f45-a1d6-415c-b15a-4b3fc254d6fd",
     "prev": "47a36cb2-5f62-46aa-9117-93e9c07e4fcf",
     "regions": {
      "9dd30178-c7ec-45f8-8c5d-6d720f233a9b": {
       "attrs": {
        "height": 0.8,
        "width": 0.8,
        "x": 0.1,
        "y": 0.1
       },
       "content": {
        "cell": "1ef278af-a97a-467a-928d-49fdb7e873d9",
        "part": "whole"
       },
       "id": "9dd30178-c7ec-45f8-8c5d-6d720f233a9b"
      }
     }
    },
    "47a36cb2-5f62-46aa-9117-93e9c07e4fcf": {
     "id": "47a36cb2-5f62-46aa-9117-93e9c07e4fcf",
     "prev": "4b421c39-72f2-4741-a8ea-25e3a09a552c",
     "regions": {
      "53844c5a-3b97-4309-ab48-f05af5d38c14": {
       "attrs": {
        "height": 0.8,
        "width": 0.8,
        "x": 0.1,
        "y": 0.1
       },
       "content": {
        "cell": "fc51cd31-a06a-43ec-9919-f8532df6bc60",
        "part": "whole"
       },
       "id": "53844c5a-3b97-4309-ab48-f05af5d38c14"
      }
     }
    },
    "4b421c39-72f2-4741-a8ea-25e3a09a552c": {
     "id": "4b421c39-72f2-4741-a8ea-25e3a09a552c",
     "prev": "ecbdd6d8-9879-448d-8297-c546c58250e2",
     "regions": {
      "fef60fdc-b190-41d7-aa88-82fd8a266e38": {
       "attrs": {
        "height": 0.8,
        "width": 0.8,
        "x": 0.1,
        "y": 0.1
       },
       "content": {
        "cell": "60ccb1af-0f16-45a3-b522-48537633032a",
        "part": "whole"
       },
       "id": "fef60fdc-b190-41d7-aa88-82fd8a266e38"
      }
     }
    },
    "4eb0b62f-696c-41a8-8757-28b3d57c2659": {
     "id": "4eb0b62f-696c-41a8-8757-28b3d57c2659",
     "prev": "965c00e0-b360-49ed-a12f-07b0562cdb08",
     "regions": {
      "8600fff2-a536-4b0a-9502-669b0d5b1562": {
       "attrs": {
        "height": 0.8,
        "width": 0.8,
        "x": 0.1,
        "y": 0.1
       },
       "content": {
        "cell": "d692d390-4c90-4d61-976f-3a9affd0d5bc",
        "part": "whole"
       },
       "id": "8600fff2-a536-4b0a-9502-669b0d5b1562"
      }
     }
    },
    "4f329808-b973-4071-9e76-c3eea554c1e9": {
     "id": "4f329808-b973-4071-9e76-c3eea554c1e9",
     "prev": "1ab41884-1fb0-4617-8f4f-36d8602ff3cb",
     "regions": {
      "33b7d812-a739-4235-81bb-bacbdfc19b8f": {
       "attrs": {
        "height": 0.8,
        "width": 0.8,
        "x": 0.1,
        "y": 0.1
       },
       "content": {
        "cell": "5c8c5853-9df6-469b-96d2-0476de54f9c8",
        "part": "whole"
       },
       "id": "33b7d812-a739-4235-81bb-bacbdfc19b8f"
      }
     }
    },
    "647b2adf-907d-4ac4-92c1-7b5f12f7b64b": {
     "id": "647b2adf-907d-4ac4-92c1-7b5f12f7b64b",
     "prev": "918503f0-1ec1-4e75-b416-f301a9037fd6",
     "regions": {
      "c7630b54-9a1d-45cc-9e98-2c2ecf40dfed": {
       "attrs": {
        "height": 0.8,
        "width": 0.8,
        "x": 0.1,
        "y": 0.1
       },
       "content": {
        "cell": "3ff7e0dc-1d2c-4243-8d26-54ce7da28bd5",
        "part": "whole"
       },
       "id": "c7630b54-9a1d-45cc-9e98-2c2ecf40dfed"
      }
     }
    },
    "6c411812-ed6e-4ce6-b617-dc77cf3866ea": {
     "id": "6c411812-ed6e-4ce6-b617-dc77cf3866ea",
     "prev": "4eb0b62f-696c-41a8-8757-28b3d57c2659",
     "regions": {
      "152d7f4a-2933-44ec-ba15-eba6c0541f3a": {
       "attrs": {
        "height": 0.8,
        "width": 0.8,
        "x": 0.1,
        "y": 0.1
       },
       "content": {
        "cell": "9bb69a11-10a4-4cef-b832-c723e0b55a25",
        "part": "whole"
       },
       "id": "152d7f4a-2933-44ec-ba15-eba6c0541f3a"
      }
     }
    },
    "71f0fc8b-bd84-4597-b0bb-bdf73afadd1c": {
     "id": "71f0fc8b-bd84-4597-b0bb-bdf73afadd1c",
     "prev": "ff538f0e-d8c2-4deb-bbe0-849c15180897",
     "regions": {
      "323c7ab3-b8c6-4c45-93b4-ab60e339e924": {
       "attrs": {
        "height": 0.8,
        "width": 0.8,
        "x": 0.1,
        "y": 0.1
       },
       "content": {
        "cell": "70ca5e76-f002-4663-87ac-d55d3f8ee03b",
        "part": "whole"
       },
       "id": "323c7ab3-b8c6-4c45-93b4-ab60e339e924"
      }
     }
    },
    "8bda3f93-4348-4b41-af33-8201a4915080": {
     "id": "8bda3f93-4348-4b41-af33-8201a4915080",
     "prev": "71f0fc8b-bd84-4597-b0bb-bdf73afadd1c",
     "regions": {
      "45f45a91-2bba-4ca1-8311-fa7fdf79443a": {
       "attrs": {
        "height": 0.8,
        "width": 0.8,
        "x": 0.1,
        "y": 0.1
       },
       "content": {
        "cell": "22f7a344-7891-4631-b04c-9ae20844d52b",
        "part": "whole"
       },
       "id": "45f45a91-2bba-4ca1-8311-fa7fdf79443a"
      }
     }
    },
    "918503f0-1ec1-4e75-b416-f301a9037fd6": {
     "id": "918503f0-1ec1-4e75-b416-f301a9037fd6",
     "prev": "a6310787-2d48-48ae-aab5-fe1043c8dab9",
     "regions": {
      "da8bbbc8-ef0f-4321-b2e3-05736854a101": {
       "attrs": {
        "height": 0.8,
        "width": 0.8,
        "x": 0.1,
        "y": 0.1
       },
       "content": {
        "cell": "f5d3648c-2441-40d4-b922-cdb508cde354",
        "part": "whole"
       },
       "id": "da8bbbc8-ef0f-4321-b2e3-05736854a101"
      }
     }
    },
    "965c00e0-b360-49ed-a12f-07b0562cdb08": {
     "id": "965c00e0-b360-49ed-a12f-07b0562cdb08",
     "prev": "156128c9-3507-4e7f-bf99-e5aac407ae86",
     "regions": {
      "8a8e3300-4c45-49b5-81be-47d67ca3d5b2": {
       "attrs": {
        "height": 0.8,
        "width": 0.8,
        "x": 0.1,
        "y": 0.1
       },
       "content": {
        "cell": "2369ff5b-a72b-4a2b-89e7-6b62f0b5e28a",
        "part": "whole"
       },
       "id": "8a8e3300-4c45-49b5-81be-47d67ca3d5b2"
      }
     }
    },
    "972d403c-c146-4411-bb5c-9129d07a202b": {
     "id": "972d403c-c146-4411-bb5c-9129d07a202b",
     "prev": "6c411812-ed6e-4ce6-b617-dc77cf3866ea",
     "regions": {
      "cde945c9-aa3e-4305-a778-a0a516fe31ae": {
       "attrs": {
        "height": 0.8,
        "width": 0.8,
        "x": 0.1,
        "y": 0.1
       },
       "content": {
        "cell": "593f5617-9be6-4712-833d-532c6c04e485",
        "part": "whole"
       },
       "id": "cde945c9-aa3e-4305-a778-a0a516fe31ae"
      }
     }
    },
    "a6310787-2d48-48ae-aab5-fe1043c8dab9": {
     "id": "a6310787-2d48-48ae-aab5-fe1043c8dab9",
     "prev": "b7c88be5-8287-4cbe-81e7-88c48e42c656",
     "regions": {
      "c50d1e3c-7e16-4ab0-a999-686407c1fd89": {
       "attrs": {
        "height": 0.8,
        "width": 0.8,
        "x": 0.1,
        "y": 0.1
       },
       "content": {
        "cell": "68bc9eae-9875-4360-bf64-37506912a02b",
        "part": "whole"
       },
       "id": "c50d1e3c-7e16-4ab0-a999-686407c1fd89"
      }
     }
    },
    "b585999c-28bd-4cf3-b3bc-19aba933a095": {
     "id": "b585999c-28bd-4cf3-b3bc-19aba933a095",
     "prev": "35546f45-a1d6-415c-b15a-4b3fc254d6fd",
     "regions": {
      "98c2cb95-e45d-4e97-a840-2601f0a306bd": {
       "attrs": {
        "height": 0.8,
        "width": 0.8,
        "x": 0.1,
        "y": 0.1
       },
       "content": {
        "cell": "a2d1a70e-31c0-4e0e-a445-929b48283e8a",
        "part": "whole"
       },
       "id": "98c2cb95-e45d-4e97-a840-2601f0a306bd"
      }
     }
    },
    "b7c88be5-8287-4cbe-81e7-88c48e42c656": {
     "id": "b7c88be5-8287-4cbe-81e7-88c48e42c656",
     "prev": "b585999c-28bd-4cf3-b3bc-19aba933a095",
     "regions": {
      "f54bdd4d-6707-403f-aedc-098c40c67426": {
       "attrs": {
        "height": 0.8,
        "width": 0.8,
        "x": 0.1,
        "y": 0.1
       },
       "content": {
        "cell": "689857dc-b0bf-4d53-936b-3fe43f958cff",
        "part": "whole"
       },
       "id": "f54bdd4d-6707-403f-aedc-098c40c67426"
      }
     }
    },
    "d1c914fa-fe87-41ad-a19e-dc17c92fa58d": {
     "id": "d1c914fa-fe87-41ad-a19e-dc17c92fa58d",
     "prev": "1e1fdb49-773f-416d-81e7-b8a6d31d43fa",
     "regions": {
      "3fc58a3b-22c8-471e-802d-591637e1aa31": {
       "attrs": {
        "height": 0.8,
        "width": 0.8,
        "x": 0.1,
        "y": 0.1
       },
       "content": {
        "cell": "8f673bd2-c7af-429a-bbf3-7cd69ff9eb93",
        "part": "whole"
       },
       "id": "3fc58a3b-22c8-471e-802d-591637e1aa31"
      }
     }
    },
    "d7b2678f-2367-4893-8b64-f4ad2bbaff96": {
     "id": "d7b2678f-2367-4893-8b64-f4ad2bbaff96",
     "prev": "972d403c-c146-4411-bb5c-9129d07a202b",
     "regions": {
      "e95c2e85-ad9b-4e10-a4c6-d47a1fbb0206": {
       "attrs": {
        "height": 0.8,
        "width": 0.8,
        "x": 0.1,
        "y": 0.1
       },
       "content": {
        "cell": "62967524-d83e-42eb-ba67-189b1b406bed",
        "part": "whole"
       },
       "id": "e95c2e85-ad9b-4e10-a4c6-d47a1fbb0206"
      }
     }
    },
    "ecbdd6d8-9879-448d-8297-c546c58250e2": {
     "id": "ecbdd6d8-9879-448d-8297-c546c58250e2",
     "prev": "d7b2678f-2367-4893-8b64-f4ad2bbaff96",
     "regions": {
      "a441997e-f0a3-4253-8bb8-b13678b46923": {
       "attrs": {
        "height": 0.8,
        "width": 0.8,
        "x": 0.1,
        "y": 0.1
       },
       "content": {
        "cell": "b01ee340-8527-4e0e-8e8d-3f63388bdac4",
        "part": "whole"
       },
       "id": "a441997e-f0a3-4253-8bb8-b13678b46923"
      }
     }
    },
    "f373d6a6-8571-4719-b537-285e04acf02d": {
     "id": "f373d6a6-8571-4719-b537-285e04acf02d",
     "prev": "647b2adf-907d-4ac4-92c1-7b5f12f7b64b",
     "regions": {
      "733a203e-f858-462f-9cce-d297bfd4f908": {
       "attrs": {
        "height": 0.8,
        "width": 0.8,
        "x": 0.1,
        "y": 0.1
       },
       "content": {
        "cell": "d8b89e79-d096-4a40-87ea-2d9303db0be6",
        "part": "whole"
       },
       "id": "733a203e-f858-462f-9cce-d297bfd4f908"
      }
     }
    },
    "fbf7648e-9619-4231-99ad-f163f5093856": {
     "id": "fbf7648e-9619-4231-99ad-f163f5093856",
     "prev": "d1c914fa-fe87-41ad-a19e-dc17c92fa58d",
     "regions": {
      "8889b4e2-baba-4384-94b7-a468b77b3223": {
       "attrs": {
        "height": 0.8,
        "width": 0.8,
        "x": 0.1,
        "y": 0.1
       },
       "content": {
        "cell": "dd721c74-d08c-45b7-8e50-d1bc51bfc213",
        "part": "whole"
       },
       "id": "8889b4e2-baba-4384-94b7-a468b77b3223"
      }
     }
    },
    "ff538f0e-d8c2-4deb-bbe0-849c15180897": {
     "id": "ff538f0e-d8c2-4deb-bbe0-849c15180897",
     "prev": "f373d6a6-8571-4719-b537-285e04acf02d",
     "regions": {
      "a7ef44a8-aaa8-40ff-ac7c-93e1b622c48c": {
       "attrs": {
        "height": 0.8,
        "width": 0.8,
        "x": 0.1,
        "y": 0.1
       },
       "content": {
        "cell": "0db2f047-aa5c-422f-bde7-3ebba0bd950a",
        "part": "whole"
       },
       "id": "a7ef44a8-aaa8-40ff-ac7c-93e1b622c48c"
      }
     }
    }
   },
   "themes": {}
  }
 },
 "nbformat": 4,
 "nbformat_minor": 0
}
