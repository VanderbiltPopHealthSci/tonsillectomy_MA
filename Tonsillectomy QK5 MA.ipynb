{
 "cells": [
  {
   "cell_type": "code",
   "execution_count": 2,
   "metadata": {
    "collapsed": true
   },
   "outputs": [],
   "source": [
    "%matplotlib inline\n",
    "import numpy as np\n",
    "import pandas as pd\n",
    "import matplotlib.pyplot as plt\n",
    "import seaborn as sns\n",
    "sns.set()\n",
    "\n",
    "import re"
   ]
  },
  {
   "cell_type": "markdown",
   "metadata": {},
   "source": [
    "### Meeting notes\n",
    "\n",
    "Outcomes of interest\n",
    "\n",
    "- medication use\n",
    "- time to normal diet\n",
    "- harms\n",
    "\n",
    "Can use study-specific random effect to account for differneces in baseline dosages among study sites.\n"
   ]
  },
  {
   "cell_type": "markdown",
   "metadata": {},
   "source": [
    "Import outcome data and rename columns"
   ]
  },
  {
   "cell_type": "code",
   "execution_count": 4,
   "metadata": {
    "collapsed": false
   },
   "outputs": [
    {
     "data": {
      "text/plain": [
       "(404, 44)"
      ]
     },
     "execution_count": 4,
     "metadata": {},
     "output_type": "execute_result"
    }
   ],
   "source": [
    "raw_data = (pd.read_excel('data/Tonsillectomy_OUTCOME_Data_KQ5_Master.xlsx', \n",
    "              sheetname='Outcome data', \n",
    "              na_values=['null', 'ND'])\n",
    "            .drop(['Comments', 'Other stats \\nName','Other Stats','Results'], \n",
    "                  axis=1)\n",
    "            .rename(columns={'OUTC_Main_\\nCATG':'outcome_cat',\n",
    "                            \"Outc_SUB_\\nCATG\":'outcome_subcat',\n",
    "                            'Outcome\\nN': 'N',\n",
    "                            'Outcome  \\n%': 'outcome_pct',\n",
    "                            \"Outcome\\n Mean\": 'outcome_mean',\n",
    "                            \"Outcome \\nSD\": 'outcome_sd',\n",
    "                            \"Outcome \\n Median\": 'outcome_med',\n",
    "                            \"Outcome \\n 95% L\": 'outcome_lo_95',\n",
    "                            \"Outcome \\n 95% H\": 'outcome_hi_95'}))\n",
    "raw_data.shape"
   ]
  },
  {
   "cell_type": "code",
   "execution_count": 6,
   "metadata": {
    "collapsed": false
   },
   "outputs": [
    {
     "data": {
      "text/plain": [
       "array([ 192,  253,  319,  382,  470,  493,  676,  800,  876, 1039, 1085,\n",
       "       1108, 1202, 1898, 1991, 2171, 2213, 2550, 3326, 3583, 3857, 3865,\n",
       "       4033, 2629, 2853, 3031, 3086, 3155, 3213, 3218, 3243, 3287, 3498,\n",
       "       3558, 3669, 3686, 3836, 3997, 6217, 6295, 6432, 6439, 6452, 6529,\n",
       "       6586, 6728, 7078, 7097, 7170, 7241])"
      ]
     },
     "execution_count": 6,
     "metadata": {},
     "output_type": "execute_result"
    }
   ],
   "source": [
    "raw_data.Refid.unique()"
   ]
  },
  {
   "cell_type": "markdown",
   "metadata": {},
   "source": [
    "Import sample size information for each study"
   ]
  },
  {
   "cell_type": "code",
   "execution_count": 8,
   "metadata": {
    "collapsed": true
   },
   "outputs": [],
   "source": [
    "baseline_data = pd.read_excel('data/Tonsillectomy_OUTCOME_Data_KQ5_Master.xlsx', \n",
    "              sheetname='Basic_N', na_values=['null', 'ND', 'NA'])"
   ]
  },
  {
   "cell_type": "markdown",
   "metadata": {},
   "source": [
    "Attempting to aggregate groups"
   ]
  },
  {
   "cell_type": "code",
   "execution_count": 9,
   "metadata": {
    "collapsed": false
   },
   "outputs": [],
   "source": [
    "# Lower case\n",
    "groups = raw_data.Group_Desc.str.lower()\n",
    "# Strip information after commas\n",
    "groups = groups.str.split(',').apply(lambda s: s[0])\n",
    "# Remove chunks with numeric characters or 'kg', as these are dosages\n",
    "groups = groups.str.split(' ').apply(lambda s: \n",
    "                        ' '.join([si for si in s \n",
    "                                  if not re.compile('[\\d()/]').search(si)]))\n",
    "# Combine saline, control and placebo, assume groups starting with 'no' means placebo\n",
    "groups = groups.replace({'saline':'placebo',\n",
    "                        'control':'placebo'}).apply(lambda s: 'placebo'*s.startswith('no ') or s)"
   ]
  },
  {
   "cell_type": "markdown",
   "metadata": {},
   "source": [
    "Groupings of interventions\n",
    "\n",
    "- all -trons\n",
    "- dexamethasone\n",
    "- ibuprofen, pracetamol, etc."
   ]
  },
  {
   "cell_type": "code",
   "execution_count": 10,
   "metadata": {
    "collapsed": false,
    "scrolled": false
   },
   "outputs": [
    {
     "data": {
      "text/plain": [
       "placebo                                                                     91\n",
       "dexamethasone                                                               87\n",
       "ramosetron                                                                  27\n",
       "granisetron                                                                  9\n",
       "ibuprofen                                                                    9\n",
       "ondansetron                                                                  9\n",
       "tropisetron                                                                  7\n",
       "metoclopramide                                                               7\n",
       "dolasetron                                                                   6\n",
       "preoperative ketoprofen + saline                                             6\n",
       "intravenous dexamethasone                                                    6\n",
       "dexamethasone sodium phosphate                                               6\n",
       "levobupivacaine with epinephrine                                             6\n",
       "postoperative ketoprofen + saline                                            6\n",
       "droperidol                                                                   6\n",
       "diclofenac                                                                   6\n",
       "placebo saline solution                                                      5\n",
       "local anaesthetic infiltration                                               5\n",
       "rectal diclofenac                                                            5\n",
       "tropisetron + dexamethasone                                                  5\n",
       "local infiltration dexamethasone                                             4\n",
       "ketorolac                                                                    4\n",
       "paracetamol syrup                                                            4\n",
       "methylprednisolone                                                           4\n",
       "ropivacaine                                                                  3\n",
       "cold tonsillectomy+placebo                                                   3\n",
       "ropivacaine with dexamethasone                                               3\n",
       "infiltration dexemethasone and levobupivacaine                               3\n",
       "diclofenac sodium                                                            3\n",
       "pethidine                                                                    3\n",
       "                                                                            ..\n",
       "hot tonsillectomy+dexamethasone                                              3\n",
       "bilateral peritonsillar saline                                               3\n",
       "mg lornoxicam in one tonsil and peritonsillar saline in other tonsil         3\n",
       "sodium diclofenac                                                            2\n",
       "iv lornoxicam + infiltration lornoxicam + placebo                            2\n",
       "propacetamol                                                                 2\n",
       "lidocaine                                                                    2\n",
       "dexamethasone and ketamine                                                   2\n",
       "tramadol                                                                     2\n",
       "ketoprofen                                                                   2\n",
       "viscous lignocaine                                                           2\n",
       "intravenous aceaminophen                                                     2\n",
       "bupivacaine                                                                  2\n",
       "ketamine                                                                     2\n",
       "orogastric suction                                                           1\n",
       "iv lornoxicam                                                                1\n",
       "gabapentin                                                                   1\n",
       "benzydamine hydrochloride oral rinse                                         1\n",
       "fentanyl                                                                     1\n",
       "ketoroloc                                                                    1\n",
       "infiltration lornoxicam                                                      1\n",
       "oral gabapentin                                                              1\n",
       "gabapentin and dexamethasone                                                 1\n",
       "odansetron                                                                   1\n",
       "dexamethasone sodium phosphate + levobupicaine with epinephrine + saline     1\n",
       "paracetamol syrup + mefenamic syrup                                          1\n",
       "tropisetron and propofol                                                     1\n",
       "placebo and dexamethasone                                                    1\n",
       "paracetamol syrup + ibuprofen syrup                                          1\n",
       "salvia officinalis oral rinse                                                1\n",
       "dtype: int64"
      ]
     },
     "execution_count": 10,
     "metadata": {},
     "output_type": "execute_result"
    }
   ],
   "source": [
    "groups.value_counts()"
   ]
  },
  {
   "cell_type": "markdown",
   "metadata": {},
   "source": [
    "Merge three data tables"
   ]
  },
  {
   "cell_type": "code",
   "execution_count": 44,
   "metadata": {
    "collapsed": false
   },
   "outputs": [],
   "source": [
    "data_merged = raw_data.merge(baseline_data, on='Refid').dropna(subset=['Drug Class'])"
   ]
  },
  {
   "cell_type": "markdown",
   "metadata": {},
   "source": [
    "Strip whitespace"
   ]
  },
  {
   "cell_type": "code",
   "execution_count": 45,
   "metadata": {
    "collapsed": false
   },
   "outputs": [],
   "source": [
    "data_merged['Drug Class'] = data_merged['Drug Class'].str.strip()"
   ]
  },
  {
   "cell_type": "code",
   "execution_count": 46,
   "metadata": {
    "collapsed": false
   },
   "outputs": [
    {
     "data": {
      "text/plain": [
       "array(['perioperative steroid', 'control', 'perioperative NSAID',\n",
       "       'perioperative saline', 'perioperative steroid + placebo',\n",
       "       'perioperative analgesic',\n",
       "       'perioperative analgesic + perioperative steroid',\n",
       "       'perioperative local anesthetic', 'local anesthetic', 'placebo',\n",
       "       'perioperative anesthetic', 'perioperative steroid and anesthetic',\n",
       "       'perioperative antiemetic',\n",
       "       'perioperative antiemetic and anesthetic',\n",
       "       'postoperative antiemetic', 'antifibrinolytic',\n",
       "       'perioperative antiemetic and steroid', 'postoperative analgesic',\n",
       "       'perioperative opiate analgesic', 'postoperative NSAID',\n",
       "       'preoperative NSAID + saline', 'postperative NSAID + saline',\n",
       "       'perioperative NSAID + placebo', 'preoperative NSAID',\n",
       "       'preoperative analgesic', 'perioperative analgesic + analgesic',\n",
       "       'Orogastric suction'], dtype=object)"
      ]
     },
     "execution_count": 46,
     "metadata": {},
     "output_type": "execute_result"
    }
   ],
   "source": [
    "data_merged.replace({'Drug Class':{'Control (no dexamethasone)': 'control',\n",
    "                                  'No Rx': 'control',\n",
    "                                  'no dexamethasone': 'control',\n",
    "                                  'saline': 'control',\n",
    "                                  'salvia officinalis oral rinse': 'control',\n",
    "                                  'paerioperative analgesic': 'perioperative analgesic'}})['Drug Class'].unique()"
   ]
  },
  {
   "cell_type": "code",
   "execution_count": 54,
   "metadata": {
    "collapsed": false,
    "scrolled": false
   },
   "outputs": [
    {
     "data": {
      "text/html": [
       "<div>\n",
       "<table border=\"1\" class=\"dataframe\">\n",
       "  <thead>\n",
       "    <tr style=\"text-align: right;\">\n",
       "      <th></th>\n",
       "      <th>Citation</th>\n",
       "      <th>Refid</th>\n",
       "      <th>Drug Class</th>\n",
       "    </tr>\n",
       "  </thead>\n",
       "  <tbody>\n",
       "    <tr>\n",
       "      <th>153</th>\n",
       "      <td>Y. Fujii and H. Tanaka.  Results of a prospect...</td>\n",
       "      <td>3326</td>\n",
       "      <td>postoperative antiemetic</td>\n",
       "    </tr>\n",
       "    <tr>\n",
       "      <th>290</th>\n",
       "      <td>S. Lalicevic and I. Djordjevic.  Comparison of...</td>\n",
       "      <td>3243</td>\n",
       "      <td>postoperative analgesic</td>\n",
       "    </tr>\n",
       "    <tr>\n",
       "      <th>300</th>\n",
       "      <td>S. Oztekin, H. Hepaguslar, A. A. Kar, D. Ozzey...</td>\n",
       "      <td>3558</td>\n",
       "      <td>postoperative NSAID</td>\n",
       "    </tr>\n",
       "    <tr>\n",
       "      <th>319</th>\n",
       "      <td>H. Kokki and A. Salonen.  Comparison of pre- a...</td>\n",
       "      <td>3686</td>\n",
       "      <td>postperative NSAID + saline</td>\n",
       "    </tr>\n",
       "    <tr>\n",
       "      <th>389</th>\n",
       "      <td>I. H. Lee, C. Y. Sung, J. I. Han, C. H. Kim an...</td>\n",
       "      <td>6728</td>\n",
       "      <td>postoperative NSAID</td>\n",
       "    </tr>\n",
       "    <tr>\n",
       "      <th>390</th>\n",
       "      <td>I. H. Lee, C. Y. Sung, J. I. Han, C. H. Kim an...</td>\n",
       "      <td>6728</td>\n",
       "      <td>postoperative analgesic</td>\n",
       "    </tr>\n",
       "  </tbody>\n",
       "</table>\n",
       "</div>"
      ],
      "text/plain": [
       "                                              Citation  Refid  \\\n",
       "153  Y. Fujii and H. Tanaka.  Results of a prospect...   3326   \n",
       "290  S. Lalicevic and I. Djordjevic.  Comparison of...   3243   \n",
       "300  S. Oztekin, H. Hepaguslar, A. A. Kar, D. Ozzey...   3558   \n",
       "319  H. Kokki and A. Salonen.  Comparison of pre- a...   3686   \n",
       "389  I. H. Lee, C. Y. Sung, J. I. Han, C. H. Kim an...   6728   \n",
       "390  I. H. Lee, C. Y. Sung, J. I. Han, C. H. Kim an...   6728   \n",
       "\n",
       "                      Drug Class  \n",
       "153     postoperative antiemetic  \n",
       "290      postoperative analgesic  \n",
       "300          postoperative NSAID  \n",
       "319  postperative NSAID + saline  \n",
       "389          postoperative NSAID  \n",
       "390      postoperative analgesic  "
      ]
     },
     "execution_count": 54,
     "metadata": {},
     "output_type": "execute_result"
    }
   ],
   "source": [
    "data_merged.loc[data_merged['Drug Class'].str.startswith('post'), ['Citation', 'Refid', 'Drug Class']].drop_duplicates()"
   ]
  },
  {
   "cell_type": "code",
   "execution_count": 30,
   "metadata": {
    "collapsed": false
   },
   "outputs": [
    {
     "data": {
      "text/plain": [
       "Index(['Citation', 'Family', 'Refid', 'Number of \\nArms', 'Rx Grouping',\n",
       "       'Group_Desc', 'Drug Class', 'Dose', 'Route', 'Rx_Durn',\n",
       "       'Last Assesment tmpt for the study', 'Followup duration category',\n",
       "       'outcome_cat', 'outcome_subcat', 'Outcome_specify',\n",
       "       'Outcome sample size', 'Presentation \\nlocation', 'Outc_Unit',\n",
       "       'Outc_Tool', 'BL_N', 'BL %', 'BL Mean', 'BL SD', 'BL SE', 'BL_Median',\n",
       "       'BL_Q1', 'BL_Q3', 'BL Min', 'BL Max', 'BL 95% L', 'BL 95% H',\n",
       "       'Outcome timepoint (when was this outcome measured, e.g., in PACU, 12 months post-op, immediately post-op--would need a row for each outcome at each timepoint of interest)',\n",
       "       'Outcome\\ncount', 'outcome_pct', 'outcome_mean', 'outcome_sd',\n",
       "       'Outcome \\n SE', 'outcome_med', 'Outcome\\n _Q1', 'Outcome \\n_Q3',\n",
       "       'Outcome\\n  Min', 'Outcome \\n Max', 'outcome_lo_95', 'outcome_hi_95',\n",
       "       'Population_Catg', 'Diagnostic Method', 'Population\\n specify',\n",
       "       'Trial name', 'Study Design', 'Rx setting\\n', 'Intervention TMPT',\n",
       "       'Rx Durn', 'Last FUP \\nTMPT', 'KQ', 'ArmsN', 'Intervention\\nspecify',\n",
       "       'Major Medical Category', 'Comparator 1\\nspecify',\n",
       "       'Comparator 2\\nspecify', 'Comparator 3\\nspecify',\n",
       "       'Comparator 4\\nspecify', 'Rescue Therapy\\nyes/no',\n",
       "       'Rescue meds, dose,durn', 'N Randomized / \\nGiven Rx', 'N_Rx_Completed',\n",
       "       'N1', 'N2', 'N3', 'N4', 'N5', 'Age(years) \\nMean ±SD/ range',\n",
       "       'Antibiotics given \\nat any time', 'Comments', 'Comments 2'],\n",
       "      dtype='object')"
      ]
     },
     "execution_count": 30,
     "metadata": {},
     "output_type": "execute_result"
    }
   ],
   "source": [
    "data_merged.columns"
   ]
  },
  {
   "cell_type": "code",
   "execution_count": 33,
   "metadata": {
    "collapsed": false
   },
   "outputs": [
    {
     "data": {
      "text/plain": [
       "Pain management            181\n",
       "Harms                      130\n",
       "Emesis Management           64\n",
       "Health Care Utilization     17\n",
       "Return to normal diet       12\n",
       "Name: outcome_cat, dtype: int64"
      ]
     },
     "execution_count": 33,
     "metadata": {},
     "output_type": "execute_result"
    }
   ],
   "source": [
    "data_merged.outcome_cat.value_counts()"
   ]
  },
  {
   "cell_type": "code",
   "execution_count": 38,
   "metadata": {
    "collapsed": false
   },
   "outputs": [
    {
     "data": {
      "text/plain": [
       "post-op bleeding                       24\n",
       "Serious adverse events                 14\n",
       "re-operation for bleeding              14\n",
       "readmission for bleeding               12\n",
       "readmission for PONV                    9\n",
       "readmission for dehydration             6\n",
       "secondary bleeding                      4\n",
       "readmission for post-op bleeding        3\n",
       "post-op hemorrhage                      3\n",
       "ER visit for Vomiting/hydration         3\n",
       "hospital admission for vomiting         3\n",
       "adverse events                          3\n",
       "side effects reported                   3\n",
       "postoperative hemorrhage                2\n",
       "post-op tonsillar fossa hemorrhage      2\n",
       "readmission for pain or bleeding        2\n",
       "serious adverse events                  2\n",
       "ER visit -  unspecified                 2\n",
       "re-operation for post-op hemorrhage     2\n",
       "primary post-op bleeding                2\n",
       "death                                   2\n",
       "ER visit for post-op pain               2\n",
       "readmission for pain management         2\n",
       "errhysis                                2\n",
       "readmission for adverse events          2\n",
       "readmission for post-op pain            2\n",
       "ER visit for dehydration                2\n",
       "reoperation for bleeding                1\n",
       "Name: Outcome_specify, dtype: int64"
      ]
     },
     "execution_count": 38,
     "metadata": {},
     "output_type": "execute_result"
    }
   ],
   "source": [
    "data_merged[data_merged.outcome_cat=='Harms'].Outcome_specify.value_counts()"
   ]
  },
  {
   "cell_type": "markdown",
   "metadata": {},
   "source": [
    "Extract top-3 interventions"
   ]
  },
  {
   "cell_type": "code",
   "execution_count": 32,
   "metadata": {
    "collapsed": false
   },
   "outputs": [],
   "source": [
    "interventions_of_interest = data_merged.Maj_catg.value_counts()[:3].index.values"
   ]
  },
  {
   "cell_type": "code",
   "execution_count": 33,
   "metadata": {
    "collapsed": false
   },
   "outputs": [
    {
     "data": {
      "text/plain": [
       "Health Care Utilization    216\n",
       "Harms                      132\n",
       "Pain management             41\n",
       "Return to normal diet       12\n",
       "Name: outcome_cat, dtype: int64"
      ]
     },
     "execution_count": 33,
     "metadata": {},
     "output_type": "execute_result"
    }
   ],
   "source": [
    "data_merged.outcome_cat.value_counts()"
   ]
  },
  {
   "cell_type": "code",
   "execution_count": 23,
   "metadata": {
    "collapsed": false
   },
   "outputs": [
    {
     "data": {
      "text/plain": [
       "HC utilization-Need for Rescue meds         105\n",
       "HC utilization-Additional meds use/ dose     65\n",
       "Pain management                              41\n",
       "Harms: Post-op bleeding                      39\n",
       "HC utilization-Number of Rescue meds         31\n",
       "Harms-other                                  22\n",
       "Harms-Re-operation for bleeding              17\n",
       "HC utilization-# of antibiotics              17\n",
       "Harms- readmission for bleeding              15\n",
       "Time to Return to normal diet                12\n",
       "Harms- readmission for PONV                   9\n",
       "Harms- readmission for dehydration            6\n",
       "Harms- readmission for post-op pain           4\n",
       "Harms-readmission-unspecified                 4\n",
       "Harms- ER visit for PONV                      3\n",
       "Harms-Hospital admission                      3\n",
       "Harms- ER visit-Unspecified                   2\n",
       "Harms- ER visit for dehydration               2\n",
       "Harms- ER visit for post-op pain              2\n",
       "Harms-Death-30 day                            2\n",
       "Name: outcome_subcat, dtype: int64"
      ]
     },
     "execution_count": 23,
     "metadata": {},
     "output_type": "execute_result"
    }
   ],
   "source": [
    "data_merged.outcome_subcat.value_counts()"
   ]
  },
  {
   "cell_type": "markdown",
   "metadata": {},
   "source": [
    "Post-op nausea, vomiting, dehydration (everything but bleeding)\n",
    "- assume \"unspecified\" is NOT bleeding\n",
    "Post-op bleeding\n",
    "\n",
    "Meds/pain management\n",
    "\n",
    "Antibiotics\n",
    "\n",
    "Re-op is only for bleeding."
   ]
  },
  {
   "cell_type": "markdown",
   "metadata": {},
   "source": [
    "Filter readmission data by looking for outcomes with \"admission\" or \"visit\" in the name"
   ]
  },
  {
   "cell_type": "code",
   "execution_count": 24,
   "metadata": {
    "collapsed": false
   },
   "outputs": [],
   "source": [
    "readmission_outcomes = data_merged[data_merged.outcome_subcat.str.contains(r'admission|visit')]"
   ]
  },
  {
   "cell_type": "code",
   "execution_count": 26,
   "metadata": {
    "collapsed": false
   },
   "outputs": [
    {
     "data": {
      "text/html": [
       "<div>\n",
       "<table border=\"1\" class=\"dataframe\">\n",
       "  <thead>\n",
       "    <tr style=\"text-align: right;\">\n",
       "      <th></th>\n",
       "      <th>N</th>\n",
       "      <th>outcome_pct</th>\n",
       "    </tr>\n",
       "  </thead>\n",
       "  <tbody>\n",
       "    <tr>\n",
       "      <th>12</th>\n",
       "      <td>0</td>\n",
       "      <td>0.0</td>\n",
       "    </tr>\n",
       "    <tr>\n",
       "      <th>13</th>\n",
       "      <td>0</td>\n",
       "      <td>0.0</td>\n",
       "    </tr>\n",
       "    <tr>\n",
       "      <th>69</th>\n",
       "      <td>0</td>\n",
       "      <td>0.0</td>\n",
       "    </tr>\n",
       "    <tr>\n",
       "      <th>70</th>\n",
       "      <td>0</td>\n",
       "      <td>0.0</td>\n",
       "    </tr>\n",
       "    <tr>\n",
       "      <th>185</th>\n",
       "      <td>1</td>\n",
       "      <td>2.0</td>\n",
       "    </tr>\n",
       "    <tr>\n",
       "      <th>186</th>\n",
       "      <td>0</td>\n",
       "      <td>0.0</td>\n",
       "    </tr>\n",
       "    <tr>\n",
       "      <th>187</th>\n",
       "      <td>1</td>\n",
       "      <td>2.0</td>\n",
       "    </tr>\n",
       "    <tr>\n",
       "      <th>188</th>\n",
       "      <td>1</td>\n",
       "      <td>2.0</td>\n",
       "    </tr>\n",
       "    <tr>\n",
       "      <th>189</th>\n",
       "      <td>0</td>\n",
       "      <td>0.0</td>\n",
       "    </tr>\n",
       "    <tr>\n",
       "      <th>190</th>\n",
       "      <td>0</td>\n",
       "      <td>0.0</td>\n",
       "    </tr>\n",
       "    <tr>\n",
       "      <th>191</th>\n",
       "      <td>1</td>\n",
       "      <td>2.0</td>\n",
       "    </tr>\n",
       "    <tr>\n",
       "      <th>192</th>\n",
       "      <td>0</td>\n",
       "      <td>0.0</td>\n",
       "    </tr>\n",
       "    <tr>\n",
       "      <th>193</th>\n",
       "      <td>0</td>\n",
       "      <td>0.0</td>\n",
       "    </tr>\n",
       "    <tr>\n",
       "      <th>271</th>\n",
       "      <td>1</td>\n",
       "      <td>2.0</td>\n",
       "    </tr>\n",
       "    <tr>\n",
       "      <th>272</th>\n",
       "      <td>0</td>\n",
       "      <td>0.0</td>\n",
       "    </tr>\n",
       "    <tr>\n",
       "      <th>273</th>\n",
       "      <td>1</td>\n",
       "      <td>2.0</td>\n",
       "    </tr>\n",
       "    <tr>\n",
       "      <th>274</th>\n",
       "      <td>0</td>\n",
       "      <td>0.0</td>\n",
       "    </tr>\n",
       "    <tr>\n",
       "      <th>275</th>\n",
       "      <td>0</td>\n",
       "      <td>0.0</td>\n",
       "    </tr>\n",
       "    <tr>\n",
       "      <th>276</th>\n",
       "      <td>0</td>\n",
       "      <td>0.0</td>\n",
       "    </tr>\n",
       "    <tr>\n",
       "      <th>277</th>\n",
       "      <td>1</td>\n",
       "      <td>2.0</td>\n",
       "    </tr>\n",
       "    <tr>\n",
       "      <th>278</th>\n",
       "      <td>0</td>\n",
       "      <td>0.0</td>\n",
       "    </tr>\n",
       "    <tr>\n",
       "      <th>279</th>\n",
       "      <td>0</td>\n",
       "      <td>0.0</td>\n",
       "    </tr>\n",
       "    <tr>\n",
       "      <th>280</th>\n",
       "      <td>1</td>\n",
       "      <td>2.0</td>\n",
       "    </tr>\n",
       "    <tr>\n",
       "      <th>281</th>\n",
       "      <td>0</td>\n",
       "      <td>0.0</td>\n",
       "    </tr>\n",
       "    <tr>\n",
       "      <th>282</th>\n",
       "      <td>1</td>\n",
       "      <td>2.0</td>\n",
       "    </tr>\n",
       "    <tr>\n",
       "      <th>297</th>\n",
       "      <td>0</td>\n",
       "      <td>0.0</td>\n",
       "    </tr>\n",
       "    <tr>\n",
       "      <th>298</th>\n",
       "      <td>0</td>\n",
       "      <td>0.0</td>\n",
       "    </tr>\n",
       "    <tr>\n",
       "      <th>309</th>\n",
       "      <td>1</td>\n",
       "      <td>4.0</td>\n",
       "    </tr>\n",
       "    <tr>\n",
       "      <th>310</th>\n",
       "      <td>0</td>\n",
       "      <td>0.0</td>\n",
       "    </tr>\n",
       "    <tr>\n",
       "      <th>311</th>\n",
       "      <td>1</td>\n",
       "      <td>4.0</td>\n",
       "    </tr>\n",
       "    <tr>\n",
       "      <th>312</th>\n",
       "      <td>0</td>\n",
       "      <td>0.0</td>\n",
       "    </tr>\n",
       "    <tr>\n",
       "      <th>330</th>\n",
       "      <td>0</td>\n",
       "      <td>0.0</td>\n",
       "    </tr>\n",
       "    <tr>\n",
       "      <th>331</th>\n",
       "      <td>2</td>\n",
       "      <td>5.0</td>\n",
       "    </tr>\n",
       "    <tr>\n",
       "      <th>332</th>\n",
       "      <td>0</td>\n",
       "      <td>0.0</td>\n",
       "    </tr>\n",
       "    <tr>\n",
       "      <th>333</th>\n",
       "      <td>1</td>\n",
       "      <td>2.0</td>\n",
       "    </tr>\n",
       "    <tr>\n",
       "      <th>334</th>\n",
       "      <td>1</td>\n",
       "      <td>3.0</td>\n",
       "    </tr>\n",
       "    <tr>\n",
       "      <th>335</th>\n",
       "      <td>0</td>\n",
       "      <td>0.0</td>\n",
       "    </tr>\n",
       "    <tr>\n",
       "      <th>336</th>\n",
       "      <td>2</td>\n",
       "      <td>5.0</td>\n",
       "    </tr>\n",
       "    <tr>\n",
       "      <th>337</th>\n",
       "      <td>0</td>\n",
       "      <td>0.0</td>\n",
       "    </tr>\n",
       "    <tr>\n",
       "      <th>338</th>\n",
       "      <td>2</td>\n",
       "      <td>5.0</td>\n",
       "    </tr>\n",
       "    <tr>\n",
       "      <th>341</th>\n",
       "      <td>2</td>\n",
       "      <td>3.0</td>\n",
       "    </tr>\n",
       "    <tr>\n",
       "      <th>342</th>\n",
       "      <td>1</td>\n",
       "      <td>2.0</td>\n",
       "    </tr>\n",
       "    <tr>\n",
       "      <th>343</th>\n",
       "      <td>1</td>\n",
       "      <td>2.0</td>\n",
       "    </tr>\n",
       "    <tr>\n",
       "      <th>344</th>\n",
       "      <td>0</td>\n",
       "      <td>0.0</td>\n",
       "    </tr>\n",
       "    <tr>\n",
       "      <th>372</th>\n",
       "      <td>0</td>\n",
       "      <td>0.0</td>\n",
       "    </tr>\n",
       "    <tr>\n",
       "      <th>373</th>\n",
       "      <td>7</td>\n",
       "      <td>18.4</td>\n",
       "    </tr>\n",
       "    <tr>\n",
       "      <th>378</th>\n",
       "      <td>4</td>\n",
       "      <td>7.0</td>\n",
       "    </tr>\n",
       "    <tr>\n",
       "      <th>379</th>\n",
       "      <td>4</td>\n",
       "      <td>6.0</td>\n",
       "    </tr>\n",
       "    <tr>\n",
       "      <th>380</th>\n",
       "      <td>0</td>\n",
       "      <td>0.0</td>\n",
       "    </tr>\n",
       "    <tr>\n",
       "      <th>381</th>\n",
       "      <td>2</td>\n",
       "      <td>3.0</td>\n",
       "    </tr>\n",
       "  </tbody>\n",
       "</table>\n",
       "</div>"
      ],
      "text/plain": [
       "     N  outcome_pct\n",
       "12   0          0.0\n",
       "13   0          0.0\n",
       "69   0          0.0\n",
       "70   0          0.0\n",
       "185  1          2.0\n",
       "186  0          0.0\n",
       "187  1          2.0\n",
       "188  1          2.0\n",
       "189  0          0.0\n",
       "190  0          0.0\n",
       "191  1          2.0\n",
       "192  0          0.0\n",
       "193  0          0.0\n",
       "271  1          2.0\n",
       "272  0          0.0\n",
       "273  1          2.0\n",
       "274  0          0.0\n",
       "275  0          0.0\n",
       "276  0          0.0\n",
       "277  1          2.0\n",
       "278  0          0.0\n",
       "279  0          0.0\n",
       "280  1          2.0\n",
       "281  0          0.0\n",
       "282  1          2.0\n",
       "297  0          0.0\n",
       "298  0          0.0\n",
       "309  1          4.0\n",
       "310  0          0.0\n",
       "311  1          4.0\n",
       "312  0          0.0\n",
       "330  0          0.0\n",
       "331  2          5.0\n",
       "332  0          0.0\n",
       "333  1          2.0\n",
       "334  1          3.0\n",
       "335  0          0.0\n",
       "336  2          5.0\n",
       "337  0          0.0\n",
       "338  2          5.0\n",
       "341  2          3.0\n",
       "342  1          2.0\n",
       "343  1          2.0\n",
       "344  0          0.0\n",
       "372  0          0.0\n",
       "373  7         18.4\n",
       "378  4          7.0\n",
       "379  4          6.0\n",
       "380  0          0.0\n",
       "381  2          3.0"
      ]
     },
     "execution_count": 26,
     "metadata": {},
     "output_type": "execute_result"
    }
   ],
   "source": [
    "readmission_outcomes[['N', 'outcome_pct']]"
   ]
  }
 ],
 "metadata": {
  "kernelspec": {
   "display_name": "Python 3",
   "language": "python",
   "name": "python3"
  },
  "language_info": {
   "codemirror_mode": {
    "name": "ipython",
    "version": 3
   },
   "file_extension": ".py",
   "mimetype": "text/x-python",
   "name": "python",
   "nbconvert_exporter": "python",
   "pygments_lexer": "ipython3",
   "version": "3.5.1"
  }
 },
 "nbformat": 4,
 "nbformat_minor": 0
}
