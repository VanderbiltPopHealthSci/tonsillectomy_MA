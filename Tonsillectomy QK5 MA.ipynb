{
 "cells": [
  {
   "cell_type": "code",
   "execution_count": 30,
   "metadata": {
    "collapsed": true
   },
   "outputs": [],
   "source": [
    "%matplotlib inline\n",
    "import numpy as np\n",
    "import pandas as pd\n",
    "import matplotlib.pyplot as plt\n",
    "import seaborn as sns\n",
    "sns.set()\n",
    "\n",
    "import re"
   ]
  },
  {
   "cell_type": "code",
   "execution_count": 15,
   "metadata": {
    "collapsed": false
   },
   "outputs": [
    {
     "data": {
      "text/plain": [
       "(401, 42)"
      ]
     },
     "execution_count": 15,
     "metadata": {},
     "output_type": "execute_result"
    }
   ],
   "source": [
    "raw_data = pd.read_excel('data/Tonsillectomy_OUTCOME_Data_KQ5_Master.xlsx', \n",
    "              sheetname='Outcome data', \n",
    "              na_values=['null', 'ND']).drop(['Comments', \n",
    "                                              'Comments 2', \n",
    "                                              'Other stats \\nName',\n",
    "                                             'Other Stats',\n",
    "                                             'Results'], axis=1)\n",
    "raw_data.shape"
   ]
  },
  {
   "cell_type": "code",
   "execution_count": 64,
   "metadata": {
    "collapsed": false
   },
   "outputs": [],
   "source": [
    "# Lower case\n",
    "groups = raw_data.Group_Desc.str.lower()\n",
    "# Strip information after commas\n",
    "groups = groups.str.split(',').apply(lambda s: s[0])\n",
    "# Remove chunks with numeric characters or 'kg', as these are dosages\n",
    "groups = groups.str.split(' ').apply(lambda s: \n",
    "                        ' '.join([si for si in s \n",
    "                                  if not re.compile('[\\d()/]').search(si)]))\n",
    "# Combine saline, control and placebo, assume groups starting with 'no' means placebo\n",
    "groups = groups.replace({'saline':'placebo',\n",
    "                        'control':'placebo'}).apply(lambda s: 'placebo'*s.startswith('no ') or s)"
   ]
  },
  {
   "cell_type": "code",
   "execution_count": 65,
   "metadata": {
    "collapsed": false
   },
   "outputs": [
    {
     "data": {
      "text/plain": [
       "placebo                                                                 90\n",
       "dexamethasone                                                           87\n",
       "ramosetron                                                              27\n",
       "granisetron                                                              9\n",
       "ondansetron                                                              9\n",
       "ibuprofen                                                                8\n",
       "tropisetron                                                              7\n",
       "metoclopramide                                                           7\n",
       "postoperative ketoprofen + saline                                        6\n",
       "levobupivacaine with epinephrine                                         6\n",
       "droperidol                                                               6\n",
       "dexamethasone sodium phosphate                                           6\n",
       "dolasetron                                                               6\n",
       "diclofenac                                                               6\n",
       "preoperative ketoprofen + saline                                         6\n",
       "intravenous dexamethasone                                                6\n",
       "placebo saline solution                                                  5\n",
       "rectal diclofenac                                                        5\n",
       "local anaesthetic infiltration                                           5\n",
       "tropisetron + dexamethasone                                              5\n",
       "methylprednisolone                                                       4\n",
       "ketorolac                                                                4\n",
       "local infiltration dexamethasone                                         4\n",
       "paracetamol syrup                                                        4\n",
       "iv dexamethasone and levobipuvicaine infiltration                        3\n",
       "peritonsillar saline in one tonsil and mg lornoxicam in other tonsil     3\n",
       "cold tonsillectomy+dexamethasone                                         3\n",
       "infiltration dexemethasone and levobupivacaine                           3\n",
       "diclofenac sodium                                                        3\n",
       "bilateral peritonsillar saline                                           3\n",
       "                                                                        ..\n",
       "pethidine                                                                3\n",
       "hot tonsillectomy+dexamethasone                                          3\n",
       "cold tonsillectomy+placebo                                               3\n",
       "hot tonsillectomy+placebo                                                3\n",
       "propacetamol                                                             2\n",
       "iv lornoxicam + infiltration lornoxicam + placebo                        2\n",
       "intravenous aceaminophen                                                 2\n",
       "ketamine                                                                 2\n",
       "tramadol                                                                 2\n",
       "dexamethasone and ketamine                                               2\n",
       "lidocaine                                                                2\n",
       "viscous lignocaine                                                       2\n",
       "sodium diclofenac                                                        2\n",
       "ketoprofen                                                               2\n",
       "bupivacaine                                                              2\n",
       "odansetron                                                               1\n",
       "salvia officinalis oral rinse                                            1\n",
       "gabapentin                                                               1\n",
       "ketoroloc                                                                1\n",
       "tropisetron and propofol                                                 1\n",
       "placebo and dexamethasone                                                1\n",
       "orogastric suction                                                       1\n",
       "fentanyl                                                                 1\n",
       "infiltration lornoxicam                                                  1\n",
       "oral gabapentin                                                          1\n",
       "benzydamine hydrochloride oral rinse                                     1\n",
       "paracetamol syrup + mefenamic syrup                                      1\n",
       "gabapentin and dexamethasone                                             1\n",
       "iv lornoxicam                                                            1\n",
       "paracetamol syrup + ibuprofen syrup                                      1\n",
       "dtype: int64"
      ]
     },
     "execution_count": 65,
     "metadata": {},
     "output_type": "execute_result"
    }
   ],
   "source": [
    "groups.value_counts()"
   ]
  },
  {
   "cell_type": "code",
   "execution_count": null,
   "metadata": {
    "collapsed": true
   },
   "outputs": [],
   "source": []
  }
 ],
 "metadata": {
  "kernelspec": {
   "display_name": "Python 3",
   "language": "python",
   "name": "python3"
  },
  "language_info": {
   "codemirror_mode": {
    "name": "ipython",
    "version": 3
   },
   "file_extension": ".py",
   "mimetype": "text/x-python",
   "name": "python",
   "nbconvert_exporter": "python",
   "pygments_lexer": "ipython3",
   "version": "3.5.1"
  }
 },
 "nbformat": 4,
 "nbformat_minor": 0
}
