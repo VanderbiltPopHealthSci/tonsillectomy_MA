{
 "cells": [
  {
   "cell_type": "code",
   "execution_count": 1,
   "metadata": {
    "collapsed": true
   },
   "outputs": [],
   "source": [
    "%matplotlib inline\n",
    "import numpy as np\n",
    "import pandas as pd\n",
    "import matplotlib.pyplot as plt\n",
    "import seaborn as sns\n",
    "sns.set()\n",
    "\n",
    "import re"
   ]
  },
  {
   "cell_type": "markdown",
   "metadata": {},
   "source": [
    "Import outcome data and rename columns"
   ]
  },
  {
   "cell_type": "code",
   "execution_count": 14,
   "metadata": {
    "collapsed": false
   },
   "outputs": [
    {
     "data": {
      "text/plain": [
       "(401, 42)"
      ]
     },
     "execution_count": 14,
     "metadata": {},
     "output_type": "execute_result"
    }
   ],
   "source": [
    "raw_data = (pd.read_excel('data/Tonsillectomy_OUTCOME_Data_KQ5_Master.xlsx', \n",
    "              sheetname='Outcome data', \n",
    "              na_values=['null', 'ND'])\n",
    "            .drop(['Comments', 'Comments 2', 'Other stats \\nName','Other Stats','Results'], \n",
    "                  axis=1)\n",
    "            .rename(columns={'OUTC_Main_\\nCATG':'outcome_cat',\n",
    "                            \"Outc_SUB_\\nCATG\":'outcome_subcat',\n",
    "                            'Outcome\\nN': 'N',\n",
    "                            'Outcome  \\n%': 'outcome_pct',\n",
    "                            \"Outcome\\n Mean\": 'outcome_mean',\n",
    "                            \"Outcome \\nSD\": 'outcome_sd',\n",
    "                            \"Outcome \\n Median\": 'outcome_med',\n",
    "                            \"Outcome \\n 95% L\": 'outcome_lo_95',\n",
    "                            \"Outcome \\n 95% H\": 'outcome_hi_95'}))\n",
    "raw_data.shape"
   ]
  },
  {
   "cell_type": "markdown",
   "metadata": {},
   "source": [
    "Import intervention categories information"
   ]
  },
  {
   "cell_type": "code",
   "execution_count": 16,
   "metadata": {
    "collapsed": false
   },
   "outputs": [],
   "source": [
    "intervention_cats = pd.read_excel('data/Tonsillectomy_OUTCOME_Data_KQ5_Master.xlsx', \n",
    "              sheetname='KQ5_Relevant_categories')\n",
    "intervention_cats['Maj_catg'] = intervention_cats.Maj_catg.str.strip()"
   ]
  },
  {
   "cell_type": "markdown",
   "metadata": {},
   "source": [
    "Import sample size information for each study"
   ]
  },
  {
   "cell_type": "code",
   "execution_count": 29,
   "metadata": {
    "collapsed": true
   },
   "outputs": [],
   "source": [
    "baseline_data = pd.read_excel('data/Tonsillectomy_OUTCOME_Data_KQ5_Master.xlsx', \n",
    "              sheetname='Basic_N', na_values=['null', 'ND', 'NA'])"
   ]
  },
  {
   "cell_type": "markdown",
   "metadata": {},
   "source": [
    "Attempting to aggregate groups"
   ]
  },
  {
   "cell_type": "code",
   "execution_count": 17,
   "metadata": {
    "collapsed": false
   },
   "outputs": [],
   "source": [
    "# Lower case\n",
    "groups = raw_data.Group_Desc.str.lower()\n",
    "# Strip information after commas\n",
    "groups = groups.str.split(',').apply(lambda s: s[0])\n",
    "# Remove chunks with numeric characters or 'kg', as these are dosages\n",
    "groups = groups.str.split(' ').apply(lambda s: \n",
    "                        ' '.join([si for si in s \n",
    "                                  if not re.compile('[\\d()/]').search(si)]))\n",
    "# Combine saline, control and placebo, assume groups starting with 'no' means placebo\n",
    "groups = groups.replace({'saline':'placebo',\n",
    "                        'control':'placebo'}).apply(lambda s: 'placebo'*s.startswith('no ') or s)"
   ]
  },
  {
   "cell_type": "code",
   "execution_count": 18,
   "metadata": {
    "collapsed": false,
    "scrolled": false
   },
   "outputs": [
    {
     "data": {
      "text/plain": [
       "placebo                                                                 90\n",
       "dexamethasone                                                           87\n",
       "ramosetron                                                              27\n",
       "ondansetron                                                              9\n",
       "granisetron                                                              9\n",
       "ibuprofen                                                                8\n",
       "tropisetron                                                              7\n",
       "metoclopramide                                                           7\n",
       "dexamethasone sodium phosphate                                           6\n",
       "postoperative ketoprofen + saline                                        6\n",
       "dolasetron                                                               6\n",
       "intravenous dexamethasone                                                6\n",
       "levobupivacaine with epinephrine                                         6\n",
       "diclofenac                                                               6\n",
       "preoperative ketoprofen + saline                                         6\n",
       "droperidol                                                               6\n",
       "placebo saline solution                                                  5\n",
       "rectal diclofenac                                                        5\n",
       "local anaesthetic infiltration                                           5\n",
       "tropisetron + dexamethasone                                              5\n",
       "paracetamol syrup                                                        4\n",
       "ketorolac                                                                4\n",
       "local infiltration dexamethasone                                         4\n",
       "methylprednisolone                                                       4\n",
       "infiltration dexemethasone and levobupivacaine                           3\n",
       "diclofenac sodium                                                        3\n",
       "cold tonsillectomy+dexamethasone                                         3\n",
       "ropivacaine                                                              3\n",
       "ropivacaine with dexamethasone                                           3\n",
       "mg lornoxicam in one tonsil and peritonsillar saline in other tonsil     3\n",
       "                                                                        ..\n",
       "iv dexamethasone and levobipuvicaine infiltration                        3\n",
       "cold tonsillectomy+placebo                                               3\n",
       "bilateral peritonsillar saline                                           3\n",
       "hot tonsillectomy+placebo                                                3\n",
       "ketoprofen                                                               2\n",
       "viscous lignocaine                                                       2\n",
       "ketamine                                                                 2\n",
       "dexamethasone and ketamine                                               2\n",
       "intravenous aceaminophen                                                 2\n",
       "propacetamol                                                             2\n",
       "tramadol                                                                 2\n",
       "iv lornoxicam + infiltration lornoxicam + placebo                        2\n",
       "lidocaine                                                                2\n",
       "sodium diclofenac                                                        2\n",
       "bupivacaine                                                              2\n",
       "paracetamol syrup + mefenamic syrup                                      1\n",
       "iv lornoxicam                                                            1\n",
       "odansetron                                                               1\n",
       "infiltration lornoxicam                                                  1\n",
       "tropisetron and propofol                                                 1\n",
       "salvia officinalis oral rinse                                            1\n",
       "benzydamine hydrochloride oral rinse                                     1\n",
       "placebo and dexamethasone                                                1\n",
       "paracetamol syrup + ibuprofen syrup                                      1\n",
       "ketoroloc                                                                1\n",
       "gabapentin                                                               1\n",
       "fentanyl                                                                 1\n",
       "gabapentin and dexamethasone                                             1\n",
       "orogastric suction                                                       1\n",
       "oral gabapentin                                                          1\n",
       "dtype: int64"
      ]
     },
     "execution_count": 18,
     "metadata": {},
     "output_type": "execute_result"
    }
   ],
   "source": [
    "groups.value_counts()"
   ]
  },
  {
   "cell_type": "markdown",
   "metadata": {},
   "source": [
    "Merge three data tables"
   ]
  },
  {
   "cell_type": "code",
   "execution_count": 30,
   "metadata": {
    "collapsed": false
   },
   "outputs": [],
   "source": [
    "data_merged = raw_data.merge(intervention_cats, on='Refid').merge(baseline_data, on='Refid')"
   ]
  },
  {
   "cell_type": "code",
   "execution_count": 31,
   "metadata": {
    "collapsed": false
   },
   "outputs": [
    {
     "data": {
      "text/plain": [
       "perioperative steroid                  208\n",
       "perioperative NSAID                     97\n",
       "perioperative antiemetic                80\n",
       "perioperative antiemetic or steroid     14\n",
       "postoperative analgesic                  2\n",
       "Name: Maj_catg, dtype: int64"
      ]
     },
     "execution_count": 31,
     "metadata": {},
     "output_type": "execute_result"
    }
   ],
   "source": [
    "data_merged.Maj_catg.value_counts()"
   ]
  },
  {
   "cell_type": "markdown",
   "metadata": {},
   "source": [
    "Extract top-3 interventions"
   ]
  },
  {
   "cell_type": "code",
   "execution_count": 32,
   "metadata": {
    "collapsed": false
   },
   "outputs": [],
   "source": [
    "interventions_of_interest = data_merged.Maj_catg.value_counts()[:3].index.values"
   ]
  },
  {
   "cell_type": "code",
   "execution_count": 33,
   "metadata": {
    "collapsed": false
   },
   "outputs": [
    {
     "data": {
      "text/plain": [
       "Health Care Utilization    216\n",
       "Harms                      132\n",
       "Pain management             41\n",
       "Return to normal diet       12\n",
       "Name: outcome_cat, dtype: int64"
      ]
     },
     "execution_count": 33,
     "metadata": {},
     "output_type": "execute_result"
    }
   ],
   "source": [
    "data_merged.outcome_cat.value_counts()"
   ]
  },
  {
   "cell_type": "code",
   "execution_count": 23,
   "metadata": {
    "collapsed": false
   },
   "outputs": [
    {
     "data": {
      "text/plain": [
       "HC utilization-Need for Rescue meds         105\n",
       "HC utilization-Additional meds use/ dose     65\n",
       "Pain management                              41\n",
       "Harms: Post-op bleeding                      39\n",
       "HC utilization-Number of Rescue meds         31\n",
       "Harms-other                                  22\n",
       "Harms-Re-operation for bleeding              17\n",
       "HC utilization-# of antibiotics              17\n",
       "Harms- readmission for bleeding              15\n",
       "Time to Return to normal diet                12\n",
       "Harms- readmission for PONV                   9\n",
       "Harms- readmission for dehydration            6\n",
       "Harms- readmission for post-op pain           4\n",
       "Harms-readmission-unspecified                 4\n",
       "Harms- ER visit for PONV                      3\n",
       "Harms-Hospital admission                      3\n",
       "Harms- ER visit-Unspecified                   2\n",
       "Harms- ER visit for dehydration               2\n",
       "Harms- ER visit for post-op pain              2\n",
       "Harms-Death-30 day                            2\n",
       "Name: outcome_subcat, dtype: int64"
      ]
     },
     "execution_count": 23,
     "metadata": {},
     "output_type": "execute_result"
    }
   ],
   "source": [
    "data_merged.outcome_subcat.value_counts()"
   ]
  },
  {
   "cell_type": "markdown",
   "metadata": {},
   "source": [
    "Filter readmission data by looking for outcomes with \"admission\" or \"visit\" in the name"
   ]
  },
  {
   "cell_type": "code",
   "execution_count": 24,
   "metadata": {
    "collapsed": false
   },
   "outputs": [],
   "source": [
    "readmission_outcomes = data_merged[data_merged.outcome_subcat.str.contains(r'admission|visit')]"
   ]
  },
  {
   "cell_type": "code",
   "execution_count": 26,
   "metadata": {
    "collapsed": false
   },
   "outputs": [
    {
     "data": {
      "text/html": [
       "<div>\n",
       "<table border=\"1\" class=\"dataframe\">\n",
       "  <thead>\n",
       "    <tr style=\"text-align: right;\">\n",
       "      <th></th>\n",
       "      <th>N</th>\n",
       "      <th>outcome_pct</th>\n",
       "    </tr>\n",
       "  </thead>\n",
       "  <tbody>\n",
       "    <tr>\n",
       "      <th>12</th>\n",
       "      <td>0</td>\n",
       "      <td>0.0</td>\n",
       "    </tr>\n",
       "    <tr>\n",
       "      <th>13</th>\n",
       "      <td>0</td>\n",
       "      <td>0.0</td>\n",
       "    </tr>\n",
       "    <tr>\n",
       "      <th>69</th>\n",
       "      <td>0</td>\n",
       "      <td>0.0</td>\n",
       "    </tr>\n",
       "    <tr>\n",
       "      <th>70</th>\n",
       "      <td>0</td>\n",
       "      <td>0.0</td>\n",
       "    </tr>\n",
       "    <tr>\n",
       "      <th>185</th>\n",
       "      <td>1</td>\n",
       "      <td>2.0</td>\n",
       "    </tr>\n",
       "    <tr>\n",
       "      <th>186</th>\n",
       "      <td>0</td>\n",
       "      <td>0.0</td>\n",
       "    </tr>\n",
       "    <tr>\n",
       "      <th>187</th>\n",
       "      <td>1</td>\n",
       "      <td>2.0</td>\n",
       "    </tr>\n",
       "    <tr>\n",
       "      <th>188</th>\n",
       "      <td>1</td>\n",
       "      <td>2.0</td>\n",
       "    </tr>\n",
       "    <tr>\n",
       "      <th>189</th>\n",
       "      <td>0</td>\n",
       "      <td>0.0</td>\n",
       "    </tr>\n",
       "    <tr>\n",
       "      <th>190</th>\n",
       "      <td>0</td>\n",
       "      <td>0.0</td>\n",
       "    </tr>\n",
       "    <tr>\n",
       "      <th>191</th>\n",
       "      <td>1</td>\n",
       "      <td>2.0</td>\n",
       "    </tr>\n",
       "    <tr>\n",
       "      <th>192</th>\n",
       "      <td>0</td>\n",
       "      <td>0.0</td>\n",
       "    </tr>\n",
       "    <tr>\n",
       "      <th>193</th>\n",
       "      <td>0</td>\n",
       "      <td>0.0</td>\n",
       "    </tr>\n",
       "    <tr>\n",
       "      <th>271</th>\n",
       "      <td>1</td>\n",
       "      <td>2.0</td>\n",
       "    </tr>\n",
       "    <tr>\n",
       "      <th>272</th>\n",
       "      <td>0</td>\n",
       "      <td>0.0</td>\n",
       "    </tr>\n",
       "    <tr>\n",
       "      <th>273</th>\n",
       "      <td>1</td>\n",
       "      <td>2.0</td>\n",
       "    </tr>\n",
       "    <tr>\n",
       "      <th>274</th>\n",
       "      <td>0</td>\n",
       "      <td>0.0</td>\n",
       "    </tr>\n",
       "    <tr>\n",
       "      <th>275</th>\n",
       "      <td>0</td>\n",
       "      <td>0.0</td>\n",
       "    </tr>\n",
       "    <tr>\n",
       "      <th>276</th>\n",
       "      <td>0</td>\n",
       "      <td>0.0</td>\n",
       "    </tr>\n",
       "    <tr>\n",
       "      <th>277</th>\n",
       "      <td>1</td>\n",
       "      <td>2.0</td>\n",
       "    </tr>\n",
       "    <tr>\n",
       "      <th>278</th>\n",
       "      <td>0</td>\n",
       "      <td>0.0</td>\n",
       "    </tr>\n",
       "    <tr>\n",
       "      <th>279</th>\n",
       "      <td>0</td>\n",
       "      <td>0.0</td>\n",
       "    </tr>\n",
       "    <tr>\n",
       "      <th>280</th>\n",
       "      <td>1</td>\n",
       "      <td>2.0</td>\n",
       "    </tr>\n",
       "    <tr>\n",
       "      <th>281</th>\n",
       "      <td>0</td>\n",
       "      <td>0.0</td>\n",
       "    </tr>\n",
       "    <tr>\n",
       "      <th>282</th>\n",
       "      <td>1</td>\n",
       "      <td>2.0</td>\n",
       "    </tr>\n",
       "    <tr>\n",
       "      <th>297</th>\n",
       "      <td>0</td>\n",
       "      <td>0.0</td>\n",
       "    </tr>\n",
       "    <tr>\n",
       "      <th>298</th>\n",
       "      <td>0</td>\n",
       "      <td>0.0</td>\n",
       "    </tr>\n",
       "    <tr>\n",
       "      <th>309</th>\n",
       "      <td>1</td>\n",
       "      <td>4.0</td>\n",
       "    </tr>\n",
       "    <tr>\n",
       "      <th>310</th>\n",
       "      <td>0</td>\n",
       "      <td>0.0</td>\n",
       "    </tr>\n",
       "    <tr>\n",
       "      <th>311</th>\n",
       "      <td>1</td>\n",
       "      <td>4.0</td>\n",
       "    </tr>\n",
       "    <tr>\n",
       "      <th>312</th>\n",
       "      <td>0</td>\n",
       "      <td>0.0</td>\n",
       "    </tr>\n",
       "    <tr>\n",
       "      <th>330</th>\n",
       "      <td>0</td>\n",
       "      <td>0.0</td>\n",
       "    </tr>\n",
       "    <tr>\n",
       "      <th>331</th>\n",
       "      <td>2</td>\n",
       "      <td>5.0</td>\n",
       "    </tr>\n",
       "    <tr>\n",
       "      <th>332</th>\n",
       "      <td>0</td>\n",
       "      <td>0.0</td>\n",
       "    </tr>\n",
       "    <tr>\n",
       "      <th>333</th>\n",
       "      <td>1</td>\n",
       "      <td>2.0</td>\n",
       "    </tr>\n",
       "    <tr>\n",
       "      <th>334</th>\n",
       "      <td>1</td>\n",
       "      <td>3.0</td>\n",
       "    </tr>\n",
       "    <tr>\n",
       "      <th>335</th>\n",
       "      <td>0</td>\n",
       "      <td>0.0</td>\n",
       "    </tr>\n",
       "    <tr>\n",
       "      <th>336</th>\n",
       "      <td>2</td>\n",
       "      <td>5.0</td>\n",
       "    </tr>\n",
       "    <tr>\n",
       "      <th>337</th>\n",
       "      <td>0</td>\n",
       "      <td>0.0</td>\n",
       "    </tr>\n",
       "    <tr>\n",
       "      <th>338</th>\n",
       "      <td>2</td>\n",
       "      <td>5.0</td>\n",
       "    </tr>\n",
       "    <tr>\n",
       "      <th>341</th>\n",
       "      <td>2</td>\n",
       "      <td>3.0</td>\n",
       "    </tr>\n",
       "    <tr>\n",
       "      <th>342</th>\n",
       "      <td>1</td>\n",
       "      <td>2.0</td>\n",
       "    </tr>\n",
       "    <tr>\n",
       "      <th>343</th>\n",
       "      <td>1</td>\n",
       "      <td>2.0</td>\n",
       "    </tr>\n",
       "    <tr>\n",
       "      <th>344</th>\n",
       "      <td>0</td>\n",
       "      <td>0.0</td>\n",
       "    </tr>\n",
       "    <tr>\n",
       "      <th>372</th>\n",
       "      <td>0</td>\n",
       "      <td>0.0</td>\n",
       "    </tr>\n",
       "    <tr>\n",
       "      <th>373</th>\n",
       "      <td>7</td>\n",
       "      <td>18.4</td>\n",
       "    </tr>\n",
       "    <tr>\n",
       "      <th>378</th>\n",
       "      <td>4</td>\n",
       "      <td>7.0</td>\n",
       "    </tr>\n",
       "    <tr>\n",
       "      <th>379</th>\n",
       "      <td>4</td>\n",
       "      <td>6.0</td>\n",
       "    </tr>\n",
       "    <tr>\n",
       "      <th>380</th>\n",
       "      <td>0</td>\n",
       "      <td>0.0</td>\n",
       "    </tr>\n",
       "    <tr>\n",
       "      <th>381</th>\n",
       "      <td>2</td>\n",
       "      <td>3.0</td>\n",
       "    </tr>\n",
       "  </tbody>\n",
       "</table>\n",
       "</div>"
      ],
      "text/plain": [
       "     N  outcome_pct\n",
       "12   0          0.0\n",
       "13   0          0.0\n",
       "69   0          0.0\n",
       "70   0          0.0\n",
       "185  1          2.0\n",
       "186  0          0.0\n",
       "187  1          2.0\n",
       "188  1          2.0\n",
       "189  0          0.0\n",
       "190  0          0.0\n",
       "191  1          2.0\n",
       "192  0          0.0\n",
       "193  0          0.0\n",
       "271  1          2.0\n",
       "272  0          0.0\n",
       "273  1          2.0\n",
       "274  0          0.0\n",
       "275  0          0.0\n",
       "276  0          0.0\n",
       "277  1          2.0\n",
       "278  0          0.0\n",
       "279  0          0.0\n",
       "280  1          2.0\n",
       "281  0          0.0\n",
       "282  1          2.0\n",
       "297  0          0.0\n",
       "298  0          0.0\n",
       "309  1          4.0\n",
       "310  0          0.0\n",
       "311  1          4.0\n",
       "312  0          0.0\n",
       "330  0          0.0\n",
       "331  2          5.0\n",
       "332  0          0.0\n",
       "333  1          2.0\n",
       "334  1          3.0\n",
       "335  0          0.0\n",
       "336  2          5.0\n",
       "337  0          0.0\n",
       "338  2          5.0\n",
       "341  2          3.0\n",
       "342  1          2.0\n",
       "343  1          2.0\n",
       "344  0          0.0\n",
       "372  0          0.0\n",
       "373  7         18.4\n",
       "378  4          7.0\n",
       "379  4          6.0\n",
       "380  0          0.0\n",
       "381  2          3.0"
      ]
     },
     "execution_count": 26,
     "metadata": {},
     "output_type": "execute_result"
    }
   ],
   "source": [
    "readmission_outcomes[['N', 'outcome_pct']]"
   ]
  }
 ],
 "metadata": {
  "kernelspec": {
   "display_name": "Python 3",
   "language": "python",
   "name": "python3"
  },
  "language_info": {
   "codemirror_mode": {
    "name": "ipython",
    "version": 3
   },
   "file_extension": ".py",
   "mimetype": "text/x-python",
   "name": "python",
   "nbconvert_exporter": "python",
   "pygments_lexer": "ipython3",
   "version": "3.5.1"
  }
 },
 "nbformat": 4,
 "nbformat_minor": 0
}
