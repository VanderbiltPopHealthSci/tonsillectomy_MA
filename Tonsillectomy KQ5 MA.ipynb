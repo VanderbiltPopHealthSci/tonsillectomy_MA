{
 "cells": [
  {
   "cell_type": "code",
   "execution_count": 1,
   "metadata": {
    "collapsed": true
   },
   "outputs": [],
   "source": [
    "%matplotlib inline\n",
    "import numpy as np\n",
    "import pandas as pd\n",
    "import matplotlib.pyplot as plt\n",
    "import seaborn as sns\n",
    "sns.set()\n",
    "\n",
    "import re"
   ]
  },
  {
   "cell_type": "markdown",
   "metadata": {},
   "source": [
    "### Meeting notes\n",
    "\n",
    "Outcomes of interest\n",
    "\n",
    "- medication use\n",
    "- time to normal diet\n",
    "- harms\n",
    "\n",
    "Can use study-specific random effect to account for differneces in baseline dosages among study sites.\n"
   ]
  },
  {
   "cell_type": "markdown",
   "metadata": {},
   "source": [
    "Post-op nausea, vomiting, dehydration (everything but bleeding)\n",
    "- assume \"unspecified\" is NOT bleeding\n",
    "Post-op bleeding\n",
    "\n",
    "Meds/pain management\n",
    "\n",
    "Antibiotics\n",
    "\n",
    "Re-op is only for bleeding."
   ]
  },
  {
   "cell_type": "markdown",
   "metadata": {},
   "source": [
    "## Data import and cleaning\n",
    "\n",
    "Import outcome data and rename columns"
   ]
  },
  {
   "cell_type": "code",
   "execution_count": 2,
   "metadata": {
    "collapsed": false
   },
   "outputs": [
    {
     "data": {
      "text/plain": [
       "(858, 33)"
      ]
     },
     "execution_count": 2,
     "metadata": {},
     "output_type": "execute_result"
    }
   ],
   "source": [
    "data_file = 'data/Tonsillectomy_Master_Outcome_data_Comparative_studies_04112016.xlsx'\n",
    "\n",
    "raw_data = (pd.read_excel(data_file, \n",
    "              sheetname='All_outcomes_KQ3-6', \n",
    "              na_values=['null', 'ND'])\n",
    "            .drop(['Comments', 'Other stats \\nName','Other Stats','Results'], \n",
    "                  axis=1)\n",
    "            .rename(columns={'OUTC_Main_\\nCATG':'outcome_cat',\n",
    "                            \"Outc_SUB_\\nCATG\":'outcome_subcat',\n",
    "                            'Outcome\\nN': 'N',\n",
    "                            'Outcome  \\n%': 'outcome_pct',\n",
    "                            \"Outcome\\n Mean\": 'outcome_mean',\n",
    "                            \"Outcome \\nSD\": 'outcome_sd',\n",
    "                            \"Outcome \\n Median\": 'outcome_med',\n",
    "                            \"Outcome \\n 95% L\": 'outcome_lo_95',\n",
    "                            \"Outcome \\n 95% H\": 'outcome_hi_95'}))\n",
    "raw_data.shape"
   ]
  },
  {
   "cell_type": "code",
   "execution_count": 3,
   "metadata": {
    "collapsed": false
   },
   "outputs": [
    {
     "data": {
      "text/plain": [
       "array([2428, '2770_2821_3271', 2607, 3119, 3163, 1800, 2365, 2503,\n",
       "       '2071_362', 953, 7109, 6809, 914, 2376, 2520, 2608, 2669, 2870,\n",
       "       2889, 2891, 2935, 2981, 3172, 3351, 3508, 3592, 3651, 3659, 3679,\n",
       "       3745, 3747, 1649, 2046, 2072, '2108_1451', 2240, 2313, 2358, 1414,\n",
       "       1691, 2221, 2570, 3253, 354, 535, 1222, 1235, 1060, 3961, 6261,\n",
       "       6317, 6895, 6917, 6327, '1843_1437', 1095, 7401, 1372, 1505, 2290,\n",
       "       3501, 7142, 7211, 192, 253, 382, 470, 493, 1039, 1085, 1108, 1898,\n",
       "       2213, 2550, 3326, 3857, 3865, 4033, 2629, 2853, 3031, 3086, 3155,\n",
       "       3213, 3287, 3498, 3558, 6295, 6432, 6452, 6529, 6728, 7078, 7170,\n",
       "       109, 290, 1171, 7129, 1170, 5322, 3243, 6210, 3002, 3149, 2949,\n",
       "       6313, 6899, 2955, 3741, 2943, 2936, 2297, 2198, 1501, 1315, 1183,\n",
       "       1991, 6217, 6586, 7241, 1043, 4280], dtype=object)"
      ]
     },
     "execution_count": 3,
     "metadata": {},
     "output_type": "execute_result"
    }
   ],
   "source": [
    "raw_data.REFID.unique()"
   ]
  },
  {
   "cell_type": "markdown",
   "metadata": {},
   "source": [
    "Import sample size information for each study"
   ]
  },
  {
   "cell_type": "code",
   "execution_count": 4,
   "metadata": {
    "collapsed": true
   },
   "outputs": [],
   "source": [
    "baseline_data = pd.read_excel(data_file, \n",
    "              sheetname='BASIC_Charact', na_values=['null', 'ND', 'NA'])"
   ]
  },
  {
   "cell_type": "markdown",
   "metadata": {},
   "source": [
    "Attempting to aggregate groups"
   ]
  },
  {
   "cell_type": "code",
   "execution_count": 24,
   "metadata": {
    "collapsed": false
   },
   "outputs": [],
   "source": [
    "raw_data['Intervention_Category'] = raw_data.Intervention_Category.str.lower().str.strip()\n",
    "raw_data['Outcome_specify'] = raw_data.Outcome_specify.str.lower().str.strip()\n",
    "clean_data = raw_data.replace({'Intervention_Category':{'saline':'control',\n",
    "                        'control (no rx)':'control',\n",
    "                        'control (no dexamethasone)':'control',\n",
    "                        'no antibiotics':'control',\n",
    "                        'no steroid':'control',\n",
    "                        'placebo':'control'}})"
   ]
  },
  {
   "cell_type": "markdown",
   "metadata": {},
   "source": [
    "Merge data tables"
   ]
  },
  {
   "cell_type": "code",
   "execution_count": 25,
   "metadata": {
    "collapsed": false
   },
   "outputs": [],
   "source": [
    "data_merged = clean_data.merge(baseline_data, on='REFID')"
   ]
  },
  {
   "cell_type": "code",
   "execution_count": 26,
   "metadata": {
    "collapsed": false
   },
   "outputs": [
    {
     "data": {
      "text/plain": [
       "Index(['Citation', 'REFID', 'Child Paper', 'Number of \\nArms', 'Rx Grouping',\n",
       "       'Group_Desc', 'Intervention_Category', 'Dose', 'Route', 'Rx_Durn',\n",
       "       'Last Assesment tmpt for the study', 'Followup duration category',\n",
       "       'outcome_cat', 'outcome_subcat', 'Outcome_specify',\n",
       "       'Presentation \\nlocation', 'Outc_Unit', 'Outc_Tool',\n",
       "       'Outcome timepoint (when was this outcome measured, e.g., in PACU, 12 months post-op, immediately post-op--would need a row for each outcome at each timepoint of interest)',\n",
       "       'Outcome sample size', 'Outcome\\ncount', 'outcome_pct', 'outcome_mean',\n",
       "       'outcome_sd', 'Outcome \\n SE', 'outcome_med', 'Outcome\\n _Q1',\n",
       "       'Outcome \\n_Q3', 'Outcome\\n  Min', 'Outcome \\n Max', 'outcome_lo_95',\n",
       "       'outcome_hi_95', 'Comments 2_x', 'Child_ID', 'Population_Catg',\n",
       "       'Diagnostic Method', 'Population\\n specify', 'Trial name',\n",
       "       'Study Design', 'Rx setting\\n', 'Intervention TMPT', 'Rx Durn',\n",
       "       'Last FUP \\nTMPT', 'KQ', 'ArmsN', 'Intervention\\nspecify',\n",
       "       'Comparator 1\\nspecify', 'Comparator 2\\nspecify',\n",
       "       'Comparator 3\\nspecify', 'Comparator 4', 'Rescue Therapy\\nyes/no',\n",
       "       'Rescue meds, dose,durn', 'N Randomized / \\nGiven Rx', 'N_Rx_Completed',\n",
       "       'N1', 'N2', 'N3', 'N4', 'N5', 'Age(years) \\nMean ±SD/ range',\n",
       "       'Antibiotics given \\nat any time', 'Comments', 'Comments 2_y'],\n",
       "      dtype='object')"
      ]
     },
     "execution_count": 26,
     "metadata": {},
     "output_type": "execute_result"
    }
   ],
   "source": [
    "data_merged.columns"
   ]
  },
  {
   "cell_type": "code",
   "execution_count": 27,
   "metadata": {
    "collapsed": false,
    "scrolled": true
   },
   "outputs": [
    {
     "data": {
      "text/plain": [
       "Harms                        435\n",
       "Pain management              159\n",
       "Return to normal diet         90\n",
       "Return to normal activity     52\n",
       "Emesis Management             40\n",
       "Throat infection              12\n",
       "Health                        10\n",
       "Tonsillar regrowth             8\n",
       "Sleep                          8\n",
       "Return to School               4\n",
       "Cognitive                      2\n",
       "QOL                            2\n",
       "Name: outcome_cat, dtype: int64"
      ]
     },
     "execution_count": 27,
     "metadata": {},
     "output_type": "execute_result"
    }
   ],
   "source": [
    "data_merged.outcome_cat.value_counts()"
   ]
  },
  {
   "cell_type": "markdown",
   "metadata": {},
   "source": [
    "Filter readmission data by looking for outcomes with \"admission\" or \"visit\" in the name"
   ]
  },
  {
   "cell_type": "code",
   "execution_count": 122,
   "metadata": {
    "collapsed": true
   },
   "outputs": [],
   "source": [
    "readmission_outcomes = data_merged[data_merged.outcome_subcat.str.contains(r'admission|visit')]"
   ]
  },
  {
   "cell_type": "markdown",
   "metadata": {},
   "source": [
    "Extract top-3 interventions"
   ]
  },
  {
   "cell_type": "code",
   "execution_count": 28,
   "metadata": {
    "collapsed": false
   },
   "outputs": [],
   "source": [
    "interventions_of_interest = data_merged.Intervention_Category.value_counts()[:3].index.values"
   ]
  },
  {
   "cell_type": "code",
   "execution_count": 29,
   "metadata": {
    "collapsed": false
   },
   "outputs": [
    {
     "data": {
      "text/plain": [
       "Harms                        435\n",
       "Pain management              159\n",
       "Return to normal diet         90\n",
       "Return to normal activity     52\n",
       "Emesis Management             40\n",
       "Throat infection              12\n",
       "Health                        10\n",
       "Tonsillar regrowth             8\n",
       "Sleep                          8\n",
       "Return to School               4\n",
       "Cognitive                      2\n",
       "QOL                            2\n",
       "Name: outcome_cat, dtype: int64"
      ]
     },
     "execution_count": 29,
     "metadata": {},
     "output_type": "execute_result"
    }
   ],
   "source": [
    "data_merged.outcome_cat.value_counts()"
   ]
  },
  {
   "cell_type": "code",
   "execution_count": 30,
   "metadata": {
    "collapsed": false
   },
   "outputs": [
    {
     "data": {
      "text/plain": [
       "Harms: Post-op bleeding                194\n",
       "Pain management                        158\n",
       "Time to Return to normal diet           90\n",
       "Harms-Re-operation for bleeding         77\n",
       "Time to Return to normal activity       54\n",
       "Harms- readmission for bleeding         42\n",
       "Emesis Management                       40\n",
       "Harms- readmission for dehydration      38\n",
       "Harms-other                             24\n",
       "Harms- readmission for PONV             18\n",
       "Harms-Death-30 day                      12\n",
       "Throat infection-number                 10\n",
       "Harms- readmission for post-op pain      9\n",
       "Health-Growth                            8\n",
       "Tonsillar regrowth                       8\n",
       "Harms-readmission-unspecified            4\n",
       "Sleep-Quality-OSA-18                     4\n",
       "Harms- ER visit-Unspecified              4\n",
       "Harms- ER visit for post-op pain         3\n",
       "Harms- ER visit for bleeding             2\n",
       "Harms-Velopharyngeal insufficiency       2\n",
       "Throat infection-# strep infections      2\n",
       "Health-Enuresis                          2\n",
       "Harms - Hospital visit for bleeding      2\n",
       "Harms-Hospital admission                 2\n",
       "Cognitive -Attention                     2\n",
       "Missed school                            2\n",
       "Sleep-OSDB persistence                   2\n",
       "Harms - readmission for dehydration      2\n",
       "QOL measures                             2\n",
       "Sleep-Other                              2\n",
       "pain management                          1\n",
       "Name: outcome_subcat, dtype: int64"
      ]
     },
     "execution_count": 30,
     "metadata": {},
     "output_type": "execute_result"
    }
   ],
   "source": [
    "data_merged.outcome_subcat.value_counts()"
   ]
  },
  {
   "cell_type": "markdown",
   "metadata": {},
   "source": [
    "### Time to return to normal diet"
   ]
  },
  {
   "cell_type": "code",
   "execution_count": 31,
   "metadata": {
    "collapsed": false
   },
   "outputs": [
    {
     "data": {
      "text/plain": [
       "(90, 63)"
      ]
     },
     "execution_count": 31,
     "metadata": {},
     "output_type": "execute_result"
    }
   ],
   "source": [
    "ttr_data = data_merged[data_merged.outcome_cat=='Return to normal diet']\n",
    "ttr_data.shape"
   ]
  },
  {
   "cell_type": "code",
   "execution_count": 32,
   "metadata": {
    "collapsed": false
   },
   "outputs": [
    {
     "data": {
      "text/plain": [
       "total electrocautery                                      25\n",
       "total cold                                                16\n",
       "total coblation                                           14\n",
       "partial coblation                                          8\n",
       "control                                                    5\n",
       "perioperative steroid                                      5\n",
       "partial microdebrider                                      2\n",
       "perioperative nsaid                                        2\n",
       "total laser                                                2\n",
       "total harmonic scalpel                                     2\n",
       "perioperative anesthetic                                   2\n",
       "total microdebrider                                        1\n",
       "postoperative antibiotic with beta lactamase inhibitor     1\n",
       "total thermal welding                                      1\n",
       "partial electrocautery                                     1\n",
       "postoperative steroid                                      1\n",
       "partial laser                                              1\n",
       "partial cold                                               1\n",
       "Name: Intervention_Category, dtype: int64"
      ]
     },
     "execution_count": 32,
     "metadata": {},
     "output_type": "execute_result"
    }
   ],
   "source": [
    "ttr_data.Intervention_Category.value_counts()"
   ]
  },
  {
   "cell_type": "markdown",
   "metadata": {},
   "source": [
    "There do not appear to be sufficient data to analyze time to return to normal diet for pharmacologic interventions."
   ]
  },
  {
   "cell_type": "markdown",
   "metadata": {},
   "source": [
    "### Pain Management"
   ]
  },
  {
   "cell_type": "code",
   "execution_count": 33,
   "metadata": {
    "collapsed": false
   },
   "outputs": [
    {
     "data": {
      "text/plain": [
       "(109, 63)"
      ]
     },
     "execution_count": 33,
     "metadata": {},
     "output_type": "execute_result"
    }
   ],
   "source": [
    "pm_data = data_merged[(data_merged.outcome_cat=='Pain management') \n",
    "                      & (data_merged.Intervention_Category.str.startswith('perioperative'))]\n",
    "pm_data.shape"
   ]
  },
  {
   "cell_type": "code",
   "execution_count": 34,
   "metadata": {
    "collapsed": false
   },
   "outputs": [
    {
     "data": {
      "text/plain": [
       "perioperative steroid             49\n",
       "perioperative antiemetic          24\n",
       "perioperative nsaid               20\n",
       "perioperative local anesthetic     5\n",
       "perioperative anesthetic           5\n",
       "perioperative opiate analgesic     3\n",
       "perioperative opioid analgesic     1\n",
       "perioperative anti-convulsant      1\n",
       "perioperative analgesic            1\n",
       "Name: Intervention_Category, dtype: int64"
      ]
     },
     "execution_count": 34,
     "metadata": {},
     "output_type": "execute_result"
    }
   ],
   "source": [
    "pm_data.Intervention_Category.value_counts()"
   ]
  },
  {
   "cell_type": "code",
   "execution_count": 35,
   "metadata": {
    "collapsed": false
   },
   "outputs": [
    {
     "data": {
      "text/plain": [
       "patients needing analgesics for mild pain (acetaminophen)         6\n",
       "patients needing analgesics for severe pain (pentazocine)         6\n",
       "number of rescue analgesia (morphine) needed, 5-24 hrs            5\n",
       "number of rescue analgesia (morphine) needed, 51 mins-5 hrs       5\n",
       "number of rescue analgesia (morphine) needed, 0-50 minutes        5\n",
       "patients needing paracetamol for pain                             4\n",
       "patients needing morphine in pacu                                 3\n",
       "patients needing ibuprofen                                        3\n",
       "analgesics for mild pain (acetaminophen)                          3\n",
       "analgesics for severe pain (pentazocine)                          3\n",
       "number of analgesic interventions (paracetamol) - day 3           2\n",
       "doses of pethidine for post-op pain (0.5 hrs post-op)             2\n",
       "doses of pethidine for post-op pain (12 hrs post-op)              2\n",
       "number of analgesic interventions (paracetamol) - day 2           2\n",
       "patients needing pentazocine for severe pain                      2\n",
       "doses of meperidine required                                      2\n",
       "doses of post-op codeine                                          2\n",
       "number of analgesic interventions (paracetamol) - day 0           2\n",
       "number of patients needing 3 doses of rescue diclofenac           2\n",
       "number of analgesic interventions (paracetamol) - day 7           2\n",
       "total doses of diclofenac                                         2\n",
       "doses of pethidine for post-op pain (2 hrs post-op)               2\n",
       "total doses of rescue analgesic (paracetamol)                     2\n",
       "patients needing 2nd dose of rescue paracetamol                   2\n",
       "number of analgesic interventions (paracetamol) - day 1           2\n",
       "patients needing single dose of morphine for post-op pain         2\n",
       "number of patients needing 2nd injection of fentanyl              2\n",
       "doses of pethidine for post-op pain (24 hrs post-op)              2\n",
       "patients needing mepridine for post-op pain                       2\n",
       "patients requesting fentanyl for post-op pain                     2\n",
       "patients needing rescue analgesics (tramadol)                     2\n",
       "number of paracetamol doses                                       2\n",
       "patients needing rescue analgesics (morphine)                     2\n",
       "doses of paracetamol for post-op pain                             2\n",
       "total doses of fentanyl                                           2\n",
       "patients needing acetaminophen for mild pain                      2\n",
       "patients needing for rescue analgesia (pethidine or ketorolac)    2\n",
       "patients needing rescue analgesics (profinal                      1\n",
       "patients needing analgesic meperidine                             1\n",
       "additional doses of fentanyl for post-op pain                     1\n",
       "need for immediate analgesia (acetaminophen)                      1\n",
       "< = 1 dose additional fentanyl for post-op pain                   1\n",
       "doses of pethidine                                                1\n",
       "> 1 dose additional fentanyl for post-op pain                     1\n",
       "doses of rescue fentanyl for post-op pain                         1\n",
       "patients receiving rescue fentanyl                                1\n",
       "patients needing analgesic (morphine)                             1\n",
       "total morphine consumption                                        1\n",
       "need for late analgesia (acetaminophen)                           1\n",
       "Name: Outcome_specify, dtype: int64"
      ]
     },
     "execution_count": 35,
     "metadata": {},
     "output_type": "execute_result"
    }
   ],
   "source": [
    "pm_data.Outcome_specify.value_counts()"
   ]
  },
  {
   "cell_type": "markdown",
   "metadata": {},
   "source": [
    "## Harms"
   ]
  },
  {
   "cell_type": "code",
   "execution_count": 106,
   "metadata": {
    "collapsed": false
   },
   "outputs": [
    {
     "data": {
      "text/plain": [
       "(58, 63)"
      ]
     },
     "execution_count": 106,
     "metadata": {},
     "output_type": "execute_result"
    }
   ],
   "source": [
    "harms_data = data_merged[(data_merged.outcome_cat=='Harms') \n",
    "                      & (data_merged.Intervention_Category.str.startswith('perioperative'))\n",
    "                      & (~data_merged.Group_Desc.str.contains('tonsillectomy'))]\n",
    "harms_data.shape"
   ]
  },
  {
   "cell_type": "markdown",
   "metadata": {},
   "source": [
    "Just looking at perioperative steroid, antiemetic, NSAID"
   ]
  },
  {
   "cell_type": "code",
   "execution_count": 107,
   "metadata": {
    "collapsed": false
   },
   "outputs": [
    {
     "data": {
      "text/plain": [
       "perioperative steroid             31\n",
       "perioperative antiemetic          11\n",
       "perioperative nsaid               10\n",
       "perioperative anesthetic           2\n",
       "perioperative opiate analgesic     1\n",
       "perioperative opioid analgesic     1\n",
       "perioperative local anesthetic     1\n",
       "perioperative analgesic            1\n",
       "Name: Intervention_Category, dtype: int64"
      ]
     },
     "execution_count": 107,
     "metadata": {},
     "output_type": "execute_result"
    }
   ],
   "source": [
    "harms_data.Intervention_Category.value_counts()"
   ]
  },
  {
   "cell_type": "code",
   "execution_count": 108,
   "metadata": {
    "collapsed": false
   },
   "outputs": [
    {
     "data": {
      "text/plain": [
       "array(['perioperative steroid', 'perioperative antiemetic',\n",
       "       'perioperative nsaid'], dtype=object)"
      ]
     },
     "execution_count": 108,
     "metadata": {},
     "output_type": "execute_result"
    }
   ],
   "source": [
    "interventions_list = harms_data.Intervention_Category.value_counts().index[:3].values\n",
    "interventions_list"
   ]
  },
  {
   "cell_type": "markdown",
   "metadata": {},
   "source": [
    "Restricting outcomes to serious harms, e.g. bleeding or death"
   ]
  },
  {
   "cell_type": "code",
   "execution_count": 118,
   "metadata": {
    "collapsed": false
   },
   "outputs": [
    {
     "data": {
      "text/plain": [
       "serious adverse events                 11\n",
       "post-op bleeding                       10\n",
       "re-operation for bleeding               9\n",
       "readmission for bleeding                4\n",
       "secondary bleeding                      2\n",
       "re-operation for post-op hemorrhage     1\n",
       "post-op tonsillar fossa hemorrhage      1\n",
       "post-op hemorrhage                      1\n",
       "death                                   1\n",
       "primary post-op bleeding                1\n",
       "reoperation for post-op bleeding        1\n",
       "Name: Outcome_specify, dtype: int64"
      ]
     },
     "execution_count": 118,
     "metadata": {},
     "output_type": "execute_result"
    }
   ],
   "source": [
    "outcomes_list = ['readmission for bleeding',\n",
    "       're-operation for bleeding', 'post-op hemorrhage',\n",
    "       'post-op tonsillar fossa hemorrhage',\n",
    "       're-operation for post-op hemorrhage', 'post-op bleeding',\n",
    "       'primary post-op bleeding', 'death', 'serious adverse events',\n",
    "       'reoperation for post-op bleeding', 'secondary bleeding']\n",
    "excluded_outcomes = ['adverse events', 'readmission for ponv', 'side effects reported', \n",
    "                     'readmission for post-op pain', 'readmission for adverse events', 'er visit -  unspecified']\n",
    "\n",
    "pharm_harms = harms_data[harms_data.Intervention_Category.isin(interventions_list)\n",
    "                        & harms_data.Outcome_specify.isin(outcomes_list)].copy()\n",
    "pharm_harms.Outcome_specify.value_counts()"
   ]
  },
  {
   "cell_type": "code",
   "execution_count": 136,
   "metadata": {
    "collapsed": true
   },
   "outputs": [],
   "source": [
    "STEROID, ANTIEMETIC, NSAID = 0, 1, 2\n",
    "\n",
    "pharm_harms['intervention'] = pharm_harms.Intervention_Category.replace({'perioperative steroid':STEROID, \n",
    "                                                                         'perioperative antiemetic':ANTIEMETIC,\n",
    "                                                                         'perioperative nsaid':NSAID})\n",
    "\n"
   ]
  },
  {
   "cell_type": "markdown",
   "metadata": {},
   "source": [
    "Convert to common dosage"
   ]
  },
  {
   "cell_type": "code",
   "execution_count": 137,
   "metadata": {
    "collapsed": false
   },
   "outputs": [],
   "source": [
    "dose_clean = (pharm_harms.Dose\n",
    "         .str.replace('kg-1', 'kg')\n",
    "         .str.replace('mg/kg', ' mg')\n",
    "         .str.replace('µg/kg', ' µg')\n",
    "         .str.replace('ug/kg', 'µg')\n",
    "         .str.split())"
   ]
  },
  {
   "cell_type": "code",
   "execution_count": 138,
   "metadata": {
    "collapsed": false
   },
   "outputs": [],
   "source": [
    "pharm_harms['dose_mg'] = dose_clean.apply(lambda x: x[0] if x[1]=='mg' else (float(x[0]))/1000).astype(float)"
   ]
  },
  {
   "cell_type": "markdown",
   "metadata": {},
   "source": [
    "Re-map pharmacological intervention to clean up names."
   ]
  },
  {
   "cell_type": "code",
   "execution_count": 139,
   "metadata": {
    "collapsed": false
   },
   "outputs": [],
   "source": [
    "pharm_harms['drug'] = pharm_harms.Group_Desc.replace({'Dexamethasone':'dexamethasone',\n",
    "                                                'Dexamethasone, 0.05 mg/kg':'dexamethasone',\n",
    "                                                'Dexamethasone, 0.15 mg/kg':'dexamethasone',\n",
    "                                                'Dexamethasone, 0.2 mg/kg':'dexamethasone',\n",
    "                                                'Dexamethasone, 0.5 mg/kg':'dexamethasone',\n",
    "                                                'Dexamethasone, 0.7 mg/kg':'dexamethasone',\n",
    "                                                'Diclofenac':'diclofenac',\n",
    "                                                'Granisetron':'granisetron',\n",
    "                                                'Ketorolac, perioperative':'ketorolac',\n",
    "                                                'Ketoroloc':'ketorolac',\n",
    "                                                'Methylprednisolone':'methylprednisolone',\n",
    "                                                'Ramosetron':'ramosetron',\n",
    "                                                'dexamethasone sodium phosphate':'dexamethasone',\n",
    "                                                'intravenous dexamethasone (DEX-IV)':'dexamethasone',\n",
    "                                                'local infiltration dexamethasone (DEX-INF)':'dexamethasone',\n",
    "                                                'lornoxicam (8 mg) unilateral ':'lornoxicam',\n",
    "                                                'ramosetron 12µg/kg':'ramosetron',\n",
    "                                                'ramosetron 3µg/kg':'ramosetron',\n",
    "                                                'ramosetron 6µg/kg':'ramosetron'})"
   ]
  },
  {
   "cell_type": "code",
   "execution_count": 199,
   "metadata": {
    "collapsed": false
   },
   "outputs": [],
   "source": [
    "outcome_cols = pharm_harms.columns[pharm_harms.columns.str.startswith('Outcome')]"
   ]
  },
  {
   "cell_type": "code",
   "execution_count": 145,
   "metadata": {
    "collapsed": false
   },
   "outputs": [],
   "source": [
    "analysis_cols = ['REFID', 'Outcome sample size', 'Outcome\\ncount', 'drug', 'dose_mg', 'intervention']\n",
    "pharm_analysis_subset = pharm_harms[analysis_cols]\n",
    "\n",
    "REFID, N, events, drug, dose, intervention = pharm_analysis_subset.values.T"
   ]
  },
  {
   "cell_type": "code",
   "execution_count": 150,
   "metadata": {
    "collapsed": false
   },
   "outputs": [],
   "source": [
    "assert pharm_analysis_subset.notnull().sum().all()"
   ]
  },
  {
   "cell_type": "code",
   "execution_count": 148,
   "metadata": {
    "collapsed": false
   },
   "outputs": [
    {
     "data": {
      "text/html": [
       "<div>\n",
       "<table border=\"1\" class=\"dataframe\">\n",
       "  <thead>\n",
       "    <tr style=\"text-align: right;\">\n",
       "      <th></th>\n",
       "      <th>REFID</th>\n",
       "      <th>Outcome sample size</th>\n",
       "      <th>Outcome\n",
       "count</th>\n",
       "      <th>drug</th>\n",
       "      <th>dose_mg</th>\n",
       "      <th>intervention</th>\n",
       "    </tr>\n",
       "  </thead>\n",
       "  <tbody>\n",
       "    <tr>\n",
       "      <th>432</th>\n",
       "      <td>253</td>\n",
       "      <td>34.0</td>\n",
       "      <td>0</td>\n",
       "      <td>lornoxicam</td>\n",
       "      <td>8.0</td>\n",
       "      <td>2</td>\n",
       "    </tr>\n",
       "    <tr>\n",
       "      <th>435</th>\n",
       "      <td>253</td>\n",
       "      <td>34.0</td>\n",
       "      <td>0</td>\n",
       "      <td>lornoxicam</td>\n",
       "      <td>8.0</td>\n",
       "      <td>2</td>\n",
       "    </tr>\n",
       "    <tr>\n",
       "      <th>438</th>\n",
       "      <td>382</td>\n",
       "      <td>20.0</td>\n",
       "      <td>0</td>\n",
       "      <td>dexamethasone</td>\n",
       "      <td>1.0</td>\n",
       "      <td>0</td>\n",
       "    </tr>\n",
       "    <tr>\n",
       "      <th>470</th>\n",
       "      <td>493</td>\n",
       "      <td>73.0</td>\n",
       "      <td>2</td>\n",
       "      <td>ibuprofen</td>\n",
       "      <td>10.0</td>\n",
       "      <td>2</td>\n",
       "    </tr>\n",
       "    <tr>\n",
       "      <th>472</th>\n",
       "      <td>493</td>\n",
       "      <td>73.0</td>\n",
       "      <td>1</td>\n",
       "      <td>ibuprofen</td>\n",
       "      <td>10.0</td>\n",
       "      <td>2</td>\n",
       "    </tr>\n",
       "  </tbody>\n",
       "</table>\n",
       "</div>"
      ],
      "text/plain": [
       "    REFID  Outcome sample size Outcome\\ncount           drug  dose_mg  \\\n",
       "432   253                 34.0              0     lornoxicam      8.0   \n",
       "435   253                 34.0              0     lornoxicam      8.0   \n",
       "438   382                 20.0              0  dexamethasone      1.0   \n",
       "470   493                 73.0              2      ibuprofen     10.0   \n",
       "472   493                 73.0              1      ibuprofen     10.0   \n",
       "\n",
       "     intervention  \n",
       "432             2  \n",
       "435             2  \n",
       "438             0  \n",
       "470             2  \n",
       "472             2  "
      ]
     },
     "execution_count": 148,
     "metadata": {},
     "output_type": "execute_result"
    }
   ],
   "source": [
    "pharm_analysis_subset.head()"
   ]
  },
  {
   "cell_type": "code",
   "execution_count": 165,
   "metadata": {
    "collapsed": false
   },
   "outputs": [],
   "source": [
    "refid_list = list(set(REFID))\n",
    "study_id = pharm_analysis_subset.REFID.apply(lambda i: refid_list.index(i)).values\n",
    "n_studies = len(refid_list)"
   ]
  },
  {
   "cell_type": "code",
   "execution_count": 214,
   "metadata": {
    "collapsed": false
   },
   "outputs": [],
   "source": [
    "from pymc3 import (NUTS, sample, Model, Deterministic, find_MAP,\n",
    "                  Binomial, Normal, HalfCauchy, advi,\n",
    "                  traceplot, summary, forestplot)\n",
    "import theano.tensor as tt"
   ]
  },
  {
   "cell_type": "code",
   "execution_count": 222,
   "metadata": {
    "collapsed": false
   },
   "outputs": [
    {
     "name": "stdout",
     "output_type": "stream",
     "text": [
      "Applied log-transform to σ and added transformed σ_log to model.\n"
     ]
    }
   ],
   "source": [
    "def tinvlogit(x):\n",
    "    return tt.exp(x) / (1 + tt.exp(x))\n",
    "\n",
    "with Model() as pharm_model:\n",
    "    \n",
    "    # Mean for each intervention type\n",
    "    θ = Normal('θ', 0, sd=5, shape=3, testval=np.ones(3)*-2)\n",
    "    \n",
    "    # Study random effect\n",
    "    σ = HalfCauchy('σ', 5, testval=1)\n",
    "    ϵ = Normal('ϵ', 0, sd=σ, shape=n_studies, testval=np.zeros(n_studies))\n",
    "    \n",
    "    π = tinvlogit(θ[intervention.astype(int)] + ϵ[study_id])\n",
    "    \n",
    "    π_pred = Deterministic('π_pred', tinvlogit(θ))\n",
    "    \n",
    "    obs = Binomial('obs', N.astype(int), π, observed=events)"
   ]
  },
  {
   "cell_type": "code",
   "execution_count": 223,
   "metadata": {
    "collapsed": false
   },
   "outputs": [
    {
     "name": "stdout",
     "output_type": "stream",
     "text": [
      "Iteration 0 [0%]: ELBO = -389.68\n",
      "Iteration 10000 [10%]: ELBO = -88.68\n",
      "Iteration 20000 [20%]: ELBO = -83.07\n",
      "Iteration 30000 [30%]: ELBO = -80.15\n",
      "Iteration 40000 [40%]: ELBO = -73.67\n",
      "Iteration 50000 [50%]: ELBO = -78.55\n",
      "Iteration 60000 [60%]: ELBO = -76.65\n",
      "Iteration 70000 [70%]: ELBO = -83.79\n",
      "Iteration 80000 [80%]: ELBO = -91.72\n",
      "Iteration 90000 [90%]: ELBO = -79.05\n",
      "Finished [100%]: ELBO = -76.74\n"
     ]
    }
   ],
   "source": [
    "with pharm_model:\n",
    "    \n",
    "    means, sds, elbos = advi(n=100000)"
   ]
  },
  {
   "cell_type": "code",
   "execution_count": 224,
   "metadata": {
    "collapsed": false
   },
   "outputs": [
    {
     "data": {
      "text/plain": [
       "array([ 0.006 ,  0.0001,  0.0041])"
      ]
     },
     "execution_count": 224,
     "metadata": {},
     "output_type": "execute_result"
    }
   ],
   "source": [
    "thetas = means['θ']\n",
    "(np.exp(thetas)/(1 + np.exp(thetas))).round(4)"
   ]
  },
  {
   "cell_type": "code",
   "execution_count": 225,
   "metadata": {
    "collapsed": false
   },
   "outputs": [
    {
     "data": {
      "text/plain": [
       "array([-5.11409896, -8.85512642, -5.49316599])"
      ]
     },
     "execution_count": 225,
     "metadata": {},
     "output_type": "execute_result"
    }
   ],
   "source": [
    "thetas"
   ]
  },
  {
   "cell_type": "code",
   "execution_count": 226,
   "metadata": {
    "collapsed": false
   },
   "outputs": [
    {
     "name": "stdout",
     "output_type": "stream",
     "text": [
      "Assigned NUTS to θ\n",
      "Assigned NUTS to σ_log\n",
      "Assigned NUTS to ϵ\n",
      " [-----------------100%-----------------] 1000 of 1000 complete in 312.1 sec"
     ]
    }
   ],
   "source": [
    "with pharm_model:\n",
    "    pharm_trace = sample(1000, njobs=2)"
   ]
  },
  {
   "cell_type": "code",
   "execution_count": 227,
   "metadata": {
    "collapsed": false
   },
   "outputs": [
    {
     "data": {
      "image/png": "[encoded data removed]",
      "text/plain": [
       "<matplotlib.figure.Figure at 0x11e063a58>"
      ]
     },
     "metadata": {},
     "output_type": "display_data"
    }
   ],
   "source": [
    "forestplot(pharm_trace, varnames=['π_pred']);"
   ]
  },
  {
   "cell_type": "code",
   "execution_count": 228,
   "metadata": {
    "collapsed": false
   },
   "outputs": [
    {
     "name": "stdout",
     "output_type": "stream",
     "text": [
      "\n",
      "π_pred:\n",
      "\n",
      "  Mean             SD               MC Error         95% HPD interval\n",
      "  -------------------------------------------------------------------\n",
      "  \n",
      "  0.009            0.013            0.001            [0.000, 0.027]\n",
      "  0.004            0.023            0.001            [0.000, 0.012]\n",
      "  0.013            0.025            0.001            [0.000, 0.035]\n",
      "\n",
      "  Posterior quantiles:\n",
      "  2.5            25             50             75             97.5\n",
      "  |--------------|==============|==============|--------------|\n",
      "  \n",
      "  0.000          0.003          0.006          0.012          0.035\n",
      "  0.000          0.000          0.000          0.001          0.031\n",
      "  0.000          0.003          0.007          0.014          0.051\n",
      "\n"
     ]
    },
    {
     "name": "stderr",
     "output_type": "stream",
     "text": [
      "/Users/fonnescj/anaconda3/lib/python3.5/site-packages/numpy/core/fromnumeric.py:225: VisibleDeprecationWarning: using a non-integer number instead of an integer will result in an error in the future\n",
      "  return reshape(newshape, order=order)\n"
     ]
    }
   ],
   "source": [
    "summary(pharm_trace, varnames=['π_pred']);"
   ]
  },
  {
   "cell_type": "code",
   "execution_count": 229,
   "metadata": {
    "collapsed": false
   },
   "outputs": [
    {
     "name": "stdout",
     "output_type": "stream",
     "text": [
      "\n",
      "θ:\n",
      "\n",
      "  Mean             SD               MC Error         95% HPD interval\n",
      "  -------------------------------------------------------------------\n",
      "  \n",
      "  -5.321           1.340            0.087            [-8.347, -3.179]\n",
      "  -8.481           2.809            0.146            [-14.315, -3.166]\n",
      "  -5.167           1.445            0.061            [-8.299, -2.654]\n",
      "\n",
      "  Posterior quantiles:\n",
      "  2.5            25             50             75             97.5\n",
      "  |--------------|==============|==============|--------------|\n",
      "  \n",
      "  -8.806         -5.978         -5.110         -4.405         -3.305\n",
      "  -14.902        -10.055        -8.295         -6.638         -3.454\n",
      "  -8.731         -5.857         -4.948         -4.237         -2.919\n",
      "\n",
      "\n",
      "σ_log:\n",
      "\n",
      "  Mean             SD               MC Error         95% HPD interval\n",
      "  -------------------------------------------------------------------\n",
      "  \n",
      "  0.781            0.499            0.033            [-0.187, 1.686]\n",
      "\n",
      "  Posterior quantiles:\n",
      "  2.5            25             50             75             97.5\n",
      "  |--------------|==============|==============|--------------|\n",
      "  \n",
      "  -0.179         0.515          0.776          1.077          1.701\n",
      "\n",
      "\n",
      "ϵ:\n",
      "\n",
      "  Mean             SD               MC Error         95% HPD interval\n",
      "  -------------------------------------------------------------------\n",
      "  \n",
      "  2.719            1.585            0.070            [-0.080, 6.076]\n",
      "  2.941            1.355            0.088            [0.660, 5.900]\n",
      "  -0.901           2.147            0.060            [-5.546, 3.140]\n",
      "  -1.116           2.213            0.070            [-5.887, 2.588]\n",
      "  -1.225           2.268            0.079            [-6.022, 2.630]\n",
      "  -1.309           2.048            0.062            [-5.448, 2.397]\n",
      "  1.052            1.490            0.060            [-1.760, 4.225]\n",
      "  -0.971           2.179            0.055            [-5.176, 3.291]\n",
      "  1.898            1.327            0.086            [-0.232, 4.851]\n",
      "  1.764            1.380            0.087            [-0.571, 4.757]\n",
      "  -0.822           2.310            0.092            [-5.657, 3.472]\n",
      "  -1.849           2.015            0.081            [-6.156, 1.687]\n",
      "  -1.224           2.248            0.078            [-5.159, 2.621]\n",
      "  -0.789           2.430            0.099            [-6.743, 3.414]\n",
      "  -1.104           2.161            0.065            [-6.265, 2.419]\n",
      "  -1.449           1.984            0.066            [-5.516, 1.849]\n",
      "  -0.628           2.454            0.087            [-5.731, 4.074]\n",
      "  -1.514           2.198            0.077            [-5.560, 2.230]\n",
      "  -0.875           2.170            0.063            [-5.428, 3.074]\n",
      "\n",
      "  Posterior quantiles:\n",
      "  2.5            25             50             75             97.5\n",
      "  |--------------|==============|==============|--------------|\n",
      "  \n",
      "  0.132          1.668          2.547          3.490          6.553\n",
      "  0.907          2.030          2.702          3.605          6.348\n",
      "  -6.228         -1.903         -0.611         0.405          2.666\n",
      "  -6.290         -2.228         -0.824         0.266          2.286\n",
      "  -6.588         -2.225         -0.863         0.180          2.359\n",
      "  -6.186         -2.245         -1.002         -0.013         2.088\n",
      "  -1.293         0.111          0.856          1.748          4.823\n",
      "  -6.067         -2.057         -0.657         0.319          2.634\n",
      "  -0.062         0.953          1.639          2.583          5.349\n",
      "  -0.307         0.816          1.541          2.479          5.257\n",
      "  -6.133         -2.072         -0.560         0.668          3.176\n",
      "  -6.855         -2.767         -1.527         -0.575         1.387\n",
      "  -6.138         -2.105         -0.895         0.045          2.074\n",
      "  -6.738         -1.908         -0.469         0.686          3.424\n",
      "  -6.448         -2.037         -0.767         0.162          2.341\n",
      "  -5.963         -2.454         -1.212         -0.172         1.680\n",
      "  -6.435         -1.848         -0.402         0.868          3.854\n",
      "  -6.773         -2.388         -1.207         -0.210         1.842\n",
      "  -6.012         -1.876         -0.617         0.471          2.806\n",
      "\n",
      "\n",
      "σ:\n",
      "\n",
      "  Mean             SD               MC Error         95% HPD interval\n",
      "  -------------------------------------------------------------------\n",
      "  \n",
      "  2.445            1.206            0.079            [0.712, 5.016]\n",
      "\n",
      "  Posterior quantiles:\n",
      "  2.5            25             50             75             97.5\n",
      "  |--------------|==============|==============|--------------|\n",
      "  \n",
      "  0.836          1.674          2.173          2.935          5.479\n",
      "\n",
      "\n",
      "π_pred:\n",
      "\n",
      "  Mean             SD               MC Error         95% HPD interval\n",
      "  -------------------------------------------------------------------\n",
      "  \n",
      "  0.009            0.013            0.001            [0.000, 0.027]\n",
      "  0.004            0.023            0.001            [0.000, 0.012]\n",
      "  0.013            0.025            0.001            [0.000, 0.035]\n",
      "\n",
      "  Posterior quantiles:\n",
      "  2.5            25             50             75             97.5\n",
      "  |--------------|==============|==============|--------------|\n",
      "  \n",
      "  0.000          0.003          0.006          0.012          0.035\n",
      "  0.000          0.000          0.000          0.001          0.031\n",
      "  0.000          0.003          0.007          0.014          0.051\n",
      "\n"
     ]
    },
    {
     "name": "stderr",
     "output_type": "stream",
     "text": [
      "/Users/fonnescj/anaconda3/lib/python3.5/site-packages/numpy/core/fromnumeric.py:225: VisibleDeprecationWarning: using a non-integer number instead of an integer will result in an error in the future\n",
      "  return reshape(newshape, order=order)\n"
     ]
    }
   ],
   "source": [
    "summary(pharm_trace)"
   ]
  },
  {
   "cell_type": "code",
   "execution_count": null,
   "metadata": {
    "collapsed": true
   },
   "outputs": [],
   "source": []
  }
 ],
 "metadata": {
  "kernelspec": {
   "display_name": "Python 3",
   "language": "python",
   "name": "python3"
  },
  "language_info": {
   "codemirror_mode": {
    "name": "ipython",
    "version": 3
   },
   "file_extension": ".py",
   "mimetype": "text/x-python",
   "name": "python",
   "nbconvert_exporter": "python",
   "pygments_lexer": "ipython3",
   "version": "3.5.1"
  }
 },
 "nbformat": 4,
 "nbformat_minor": 1
}
